{
 "cells": [
  {
   "cell_type": "code",
   "execution_count": null,
   "metadata": {},
   "outputs": [],
   "source": [
    "# imports\n",
    "import pandas as pd\n",
    "import matplotlib.pyplot as plt\n",
    "from sklearn.feature_extraction.text import TfidfVectorizer\n",
    "from wordcloud import WordCloud\n",
    "import re\n",
    "import seaborn as sns\n",
    "from nltk.corpus import stopwords\n",
    "from nltk.stem.porter import PorterStemmer\n",
    "from vaderSentiment.vaderSentiment import SentimentIntensityAnalyzer"
   ]
  },
  {
   "cell_type": "code",
   "execution_count": null,
   "metadata": {},
   "outputs": [],
   "source": [
    "# Load your dataset\n",
    "df = pd.read_csv('datasets/training_data.csv')\n",
    "\n",
    "# Mapping dictionary\n",
    "label_mapping = {0: 'World', 1: 'Sports', 2: 'Business', 3: 'Sci/Tech'}\n",
    "\n",
    "# Replace numerical labels with words\n",
    "df['label'] = df['label'].map(label_mapping)\n",
    "\n",
    "df.head(7)"
   ]
  },
  {
   "cell_type": "markdown",
   "metadata": {},
   "source": [
    "## Class Distribution\n",
    "\n",
    "The dataset is perfectly balanced, as each label has the same amount of samples, exacly 30000 news per type."
   ]
  },
  {
   "cell_type": "code",
   "execution_count": null,
   "metadata": {},
   "outputs": [],
   "source": [
    "# Class Distribution\n",
    "class_distribution = df['label'].value_counts()\n",
    "print(\"Class Distribution:\\n\", class_distribution)\n",
    "\n",
    "# Exploratory Data Visualization\n",
    "plt.figure(figsize=(8, 4))\n",
    "df['label'].value_counts().plot(kind='bar', color='skyblue')\n",
    "plt.title('Class Distribution')\n",
    "plt.xlabel('Class')\n",
    "plt.ylabel('Frequency')\n",
    "plt.show()"
   ]
  },
  {
   "cell_type": "markdown",
   "metadata": {},
   "source": [
    "## Top Words by Label\n",
    "Identify the top TF-IDF weighted words for each label. This can give us insights into the most distinctive words for each category."
   ]
  },
  {
   "cell_type": "code",
   "execution_count": null,
   "metadata": {},
   "outputs": [],
   "source": [
    "ps = PorterStemmer()\n",
    "sw = set(stopwords.words('english'))\n",
    "\n",
    "# TF-IDF Vectorization\n",
    "vectorizer = TfidfVectorizer(stop_words=\"english\")\n",
    "\n",
    "labels = df['label'].unique()\n",
    "\n",
    "# Create a dictionary to store the top 10 words for each label\n",
    "top_words_by_label = {label: [] for label in labels}\n",
    "\n",
    "for label in labels:\n",
    "\n",
    "    label_df = df[df['label'] == label]\n",
    "    other_df = df[df['label'] != label]\n",
    "\n",
    "    corpus = []\n",
    "    for row in label_df['text']:\n",
    "        # get review and remove non alpha chars\n",
    "        new = re.sub('[^a-zA-Z]', ' ', row)\n",
    "        new = new.lower()\n",
    "        # split into tokens, apply stemming and remove stop words\n",
    "        new = ' '.join([ps.stem(w) for w in new.split() if w not in sw])\n",
    "        corpus.append(new)#new)\n",
    "\n",
    "    # Join the sentences into a single text\n",
    "    text = ' '.join(corpus)\n",
    "\n",
    "    new_row = {'text': text, 'label': label}\n",
    "    new_df = pd.concat([other_df, pd.DataFrame([new_row])], ignore_index=True)\n",
    "\n",
    "\n",
    "    X = vectorizer.fit_transform(new_df['text'])\n",
    "    feature_names_list = vectorizer.get_feature_names_out()\n",
    "\n",
    "    feature_weights = zip(feature_names_list, X[90000].toarray()[0])\n",
    "    # Exclude the words from feature_weights\n",
    "    #feature_weights = [(feature, count) for feature, count in feature_weights if feature != 'ap']\n",
    "    top_10_features = sorted(feature_weights, key=lambda x: x[1], reverse=True)[:10]\n",
    "    \n",
    "    print(f'\\nWeights for label {label}')\n",
    "    print('--------------------------')\n",
    "\n",
    "    idx = 1\n",
    "    for feature, count in top_10_features:\n",
    "        print(f\"{idx} - {feature}: {count}\") \n",
    "        idx += 1\n",
    "    print()\n",
    "\n",
    "    # Visualize the top 10 TF-IDF words using a bar plot\n",
    "    plt.figure(figsize=(8, 4))\n",
    "    sns.barplot(x=[feature for feature, _ in top_10_features], y=[count for _, count in top_10_features])\n",
    "    plt.title(f'Top 10 TF-IDF Words for Label: {label}')\n",
    "    plt.ylabel('TF-IDF Weight')\n",
    "    plt.xticks(rotation=45, ha='right')\n",
    "    plt.show()"
   ]
  },
  {
   "cell_type": "markdown",
   "metadata": {},
   "source": [
    "### Let's clean the text.."
   ]
  },
  {
   "cell_type": "code",
   "execution_count": null,
   "metadata": {},
   "outputs": [],
   "source": [
    "corpus = []\n",
    "ps = PorterStemmer()\n",
    "sw = set(stopwords.words('english'))\n",
    "for i in range(0, df['text'].size):\n",
    "    # get review and remove non alpha chars\n",
    "    new = re.sub('[^a-zA-Z]', ' ', df['text'][i])\n",
    "    # to lower-case\n",
    "    new = new.lower()\n",
    "    # split into tokens, apply stemming and remove stop words\n",
    "    new = ' '.join([ps.stem(w) for w in new.split() if w not in sw])\n",
    "    corpus.append(new)\n",
    "  \n",
    "df['text'] = corpus\n",
    "df.head()"
   ]
  },
  {
   "cell_type": "markdown",
   "metadata": {},
   "source": [
    "## Text Length Distribution"
   ]
  },
  {
   "cell_type": "code",
   "execution_count": null,
   "metadata": {},
   "outputs": [],
   "source": [
    "# Text Length Distribution\n",
    "df['text_length'] = df['text'].apply(lambda x: len(x.split()))\n",
    "plt.hist(df['text_length'], bins=30, color='blue', edgecolor='black')\n",
    "plt.title('Text Length Distribution')\n",
    "plt.xlabel('Text Length')\n",
    "plt.ylabel('Frequency')\n",
    "\n",
    "# Limiting the x-axis to the maximum number of words in a given text\n",
    "max_text_length = df['text_length'].max()\n",
    "plt.xlim(0, max_text_length)\n",
    "\n",
    "plt.show()"
   ]
  },
  {
   "cell_type": "code",
   "execution_count": null,
   "metadata": {},
   "outputs": [],
   "source": [
    "# Text Length Distribution\n",
    "df['text_length'] = df['text'].apply(lambda x: len(x.split()))\n",
    "plt.hist(df['text_length'], bins=30, color='blue', edgecolor='black')\n",
    "plt.title('Text Length Distribution')\n",
    "plt.xlabel('Text Length')\n",
    "plt.ylabel('Frequency')\n",
    "\n",
    "# Limiting the x-axis to the maximum number of words in a given text\n",
    "max_text_length = df['text_length'].max()\n",
    "plt.xlim(0, max_text_length)\n",
    "\n",
    "# Zooming the y-axis\n",
    "plt.ylim(0, 250)  # Adjust the limits as needed\n",
    "\n",
    "plt.show()\n"
   ]
  },
  {
   "cell_type": "markdown",
   "metadata": {},
   "source": [
    "Through this analysis we can conclude that most of the news have text length between 10 and 60. Maybe it will be good if we **discard rows whose news have text-length smaller than 10 or higher than 60**."
   ]
  },
  {
   "cell_type": "markdown",
   "metadata": {},
   "source": [
    "## Word Clouds\n",
    "Word clouds can assist in summarizing the main content of a document or set of documents. The most prominent words in the cloud provide a snapshot of the key information."
   ]
  },
  {
   "cell_type": "code",
   "execution_count": null,
   "metadata": {},
   "outputs": [],
   "source": [
    "# Word Cloud\n",
    "wordcloud = WordCloud(width=800, height=400, background_color='white').generate(' '.join(df['text']))\n",
    "plt.figure(figsize=(10, 6))\n",
    "plt.imshow(wordcloud, interpolation='bilinear')\n",
    "plt.axis('off')\n",
    "plt.title('Word Cloud of all the dataset')\n",
    "plt.show()"
   ]
  },
  {
   "cell_type": "code",
   "execution_count": null,
   "metadata": {},
   "outputs": [],
   "source": [
    "# Correlation Analysis (Example: Word Frequency per Class)\n",
    "for label in df['label'].unique():\n",
    "    label_df = df[df['label'] == label]\n",
    "    label_wordcloud = WordCloud(width=800, height=400, background_color='white').generate(' '.join(label_df['text']))\n",
    "    plt.figure(figsize=(10, 6))\n",
    "    plt.imshow(label_wordcloud, interpolation='bilinear')\n",
    "    plt.axis('off')\n",
    "    plt.title(f'Word Cloud for Class: {label}')\n",
    "    plt.show()"
   ]
  },
  {
   "cell_type": "markdown",
   "metadata": {},
   "source": [
    "Word clouds provide an intuitive way to visualize the frequency of words in a given text or dataset. The word *\"AP AP\"* seems to be of little use, appearing many times in all kinds of news, so it **should be removed.**"
   ]
  },
  {
   "cell_type": "markdown",
   "metadata": {},
   "source": [
    "## Sentiment Analysis\n",
    "It helps to understand the sentiment trends in each news category, providing insights into the overall tone of the news content."
   ]
  },
  {
   "cell_type": "code",
   "execution_count": null,
   "metadata": {},
   "outputs": [],
   "source": [
    "analyzer = SentimentIntensityAnalyzer()\n",
    "\n",
    "# Categorize sentiment into positive, negative, and neutral\n",
    "df['sentiment_category'] = df['text'].apply(lambda x: 'Positive' if analyzer.polarity_scores(x)['compound'] > 0 else 'Negative')\n",
    "\n",
    "# Show sentiment analysis results\n",
    "print(\"Sentiment Analysis Results:\")\n",
    "#print(df[['text', 'label', 'sentiment_category']])\n",
    "# Explore the relationship between labels and sentiment categories\n",
    "plt.figure(figsize=(10, 5))\n",
    "sns.countplot(x='label', hue='sentiment_category', data=df)\n",
    "plt.title('Sentiment Analysis by News Category')\n",
    "plt.xlabel('News Category')\n",
    "plt.ylabel('Count')\n",
    "plt.show()"
   ]
  },
  {
   "cell_type": "markdown",
   "metadata": {},
   "source": [
    "*World* news category seems to **have more negative content** than the others."
   ]
  }
 ],
 "metadata": {
  "kernelspec": {
   "display_name": "Python 3",
   "language": "python",
   "name": "python3"
  },
  "language_info": {
   "codemirror_mode": {
    "name": "ipython",
    "version": 3
   },
   "file_extension": ".py",
   "mimetype": "text/x-python",
   "name": "python",
   "nbconvert_exporter": "python",
   "pygments_lexer": "ipython3",
   "version": "3.11.0"
  }
 },
 "nbformat": 4,
 "nbformat_minor": 2
}
