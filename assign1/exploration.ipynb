{
 "cells": [
  {
   "cell_type": "code",
   "execution_count": null,
   "metadata": {},
   "outputs": [],
   "source": [
    "# imports\n",
    "import pandas as pd\n",
    "import matplotlib.pyplot as plt\n",
    "from sklearn.feature_extraction.text import TfidfVectorizer\n",
    "from wordcloud import WordCloud"
   ]
  },
  {
   "cell_type": "code",
   "execution_count": null,
   "metadata": {},
   "outputs": [],
   "source": [
    "# Load your dataset\n",
    "df = pd.read_csv('datasets/training_data.csv')\n",
    "\n",
    "# Mapping dictionary\n",
    "label_mapping = {0: 'World', 1: 'Sports', 2: 'Business', 3: 'Sci/Tech'}\n",
    "\n",
    "# Replace numerical labels with words\n",
    "df['label'] = df['label'].map(label_mapping)\n",
    "\n",
    "df.head(7)"
   ]
  },
  {
   "cell_type": "code",
   "execution_count": null,
   "metadata": {},
   "outputs": [],
   "source": [
    "# Class Distribution\n",
    "class_distribution = df['label'].value_counts()\n",
    "print(\"Class Distribution:\\n\", class_distribution)"
   ]
  },
  {
   "cell_type": "code",
   "execution_count": null,
   "metadata": {},
   "outputs": [],
   "source": [
    "# Exploratory Data Visualization\n",
    "plt.figure(figsize=(8, 4))\n",
    "df['label'].value_counts().plot(kind='bar', color='skyblue')\n",
    "plt.title('Class Distribution')\n",
    "plt.xlabel('Class')\n",
    "plt.ylabel('Frequency')\n",
    "plt.show()"
   ]
  },
  {
   "cell_type": "code",
   "execution_count": null,
   "metadata": {},
   "outputs": [],
   "source": [
    "import re\n",
    "from nltk.corpus import stopwords\n",
    "from nltk.stem.porter import PorterStemmer\n",
    "\n",
    "corpus = []\n",
    "ps = PorterStemmer()\n",
    "sw = set(stopwords.words('english'))\n",
    "for i in range(0, df['text'].size):\n",
    "    # get review and remove non alpha chars\n",
    "    new = re.sub('[^a-zA-Z]', ' ', df['text'][i])\n",
    "    # to lower-case\n",
    "    new = new.lower()\n",
    "    # split into tokens, apply stemming and remove stop words\n",
    "    new = ' '.join([ps.stem(w) for w in new.split() if w not in sw])\n",
    "    corpus.append(new)\n",
    "  \n",
    "df['text'] = corpus\n",
    "df.head()"
   ]
  },
  {
   "cell_type": "code",
   "execution_count": null,
   "metadata": {},
   "outputs": [],
   "source": [
    "# Text Length Distribution\n",
    "df['text_length'] = df['text'].apply(lambda x: len(x.split()))\n",
    "plt.hist(df['text_length'], bins=30, color='blue', edgecolor='black')\n",
    "plt.title('Text Length Distribution')\n",
    "plt.xlabel('Text Length')\n",
    "plt.ylabel('Frequency')\n",
    "plt.show()"
   ]
  },
  {
   "cell_type": "code",
   "execution_count": null,
   "metadata": {},
   "outputs": [],
   "source": [
    "# Word Cloud\n",
    "wordcloud = WordCloud(width=800, height=400, background_color='white').generate(' '.join(df['text']))\n",
    "plt.figure(figsize=(10, 6))\n",
    "plt.imshow(wordcloud, interpolation='bilinear')\n",
    "plt.axis('off')\n",
    "plt.title('Word Cloud of all the dataset')\n",
    "plt.show()"
   ]
  },
  {
   "cell_type": "code",
   "execution_count": null,
   "metadata": {},
   "outputs": [],
   "source": [
    "# Correlation Analysis (Example: Word Frequency per Class)\n",
    "for label in df['label'].unique():\n",
    "    label_df = df[df['label'] == label]\n",
    "    label_wordcloud = WordCloud(width=800, height=400, background_color='white').generate(' '.join(label_df['text']))\n",
    "    plt.figure(figsize=(10, 6))\n",
    "    plt.imshow(label_wordcloud, interpolation='bilinear')\n",
    "    plt.axis('off')\n",
    "    plt.title(f'Word Cloud for Class: {label}')\n",
    "    plt.show()"
   ]
  },
  {
   "cell_type": "code",
   "execution_count": null,
   "metadata": {},
   "outputs": [],
   "source": [
    "from vaderSentiment.vaderSentiment import SentimentIntensityAnalyzer\n",
    "analyzer = SentimentIntensityAnalyzer()\n",
    "\n",
    "# Categorize sentiment into positive, negative, and neutral\n",
    "df['sentiment_category'] = df['text'].apply(lambda x: 'Positive' if analyzer.polarity_scores(x)['compound'] > 0 else 'Negative')\n",
    "\n",
    "# Print the sentiment analysis results\n",
    "print(\"Sentiment Analysis Results:\")\n",
    "print(df[['text', 'label', 'sentiment_category']])\n"
   ]
  },
  {
   "cell_type": "code",
   "execution_count": null,
   "metadata": {},
   "outputs": [],
   "source": [
    "import seaborn as sns\n",
    "\n",
    "# Explore the relationship between labels and sentiment categories\n",
    "plt.figure(figsize=(10, 5))\n",
    "sns.countplot(x='label', hue='sentiment_category', data=df)\n",
    "plt.title('Sentiment Analysis by News Category')\n",
    "plt.xlabel('News Category')\n",
    "plt.ylabel('Count')\n",
    "plt.show()"
   ]
  },
  {
   "cell_type": "markdown",
   "metadata": {},
   "source": [
    "### Some conclusions..\n",
    "- word 'AP AP' seems to be unuseful, appearing in all the type of news, so it must me removed\n",
    "- should we delete from the dataset rows with only a few caracters?"
   ]
  }
 ],
 "metadata": {
  "kernelspec": {
   "display_name": "Python 3",
   "language": "python",
   "name": "python3"
  },
  "language_info": {
   "codemirror_mode": {
    "name": "ipython",
    "version": 3
   },
   "file_extension": ".py",
   "mimetype": "text/x-python",
   "name": "python",
   "nbconvert_exporter": "python",
   "pygments_lexer": "ipython3",
   "version": "3.11.0"
  }
 },
 "nbformat": 4,
 "nbformat_minor": 2
}
