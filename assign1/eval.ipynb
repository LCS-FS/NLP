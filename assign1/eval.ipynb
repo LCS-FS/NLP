{
 "cells": [
  {
   "cell_type": "markdown",
   "metadata": {},
   "source": [
    "# Classification Notebook"
   ]
  },
  {
   "cell_type": "code",
   "execution_count": null,
   "metadata": {},
   "outputs": [],
   "source": [
    "# Imports\n",
    "import pandas as pd\n",
    "from sklearn.feature_extraction.text import TfidfVectorizer, CountVectorizer\n",
    "from sklearn.model_selection import train_test_split\n",
    "from sklearn.metrics import confusion_matrix\n",
    "from sklearn.metrics import accuracy_score\n",
    "from sklearn.metrics import precision_score\n",
    "from sklearn.metrics import recall_score\n",
    "from sklearn.metrics import f1_score\n",
    "import matplotlib.pyplot as plt\n",
    "import seaborn as sns\n",
    "from sklearn.naive_bayes import MultinomialNB\n",
    "from sklearn.linear_model import LogisticRegression\n",
    "from sklearn.ensemble import RandomForestClassifier\n",
    "from sklearn.svm import LinearSVC\n",
    "from sklearn.tree import DecisionTreeClassifier\n"
   ]
  },
  {
   "cell_type": "markdown",
   "metadata": {},
   "source": [
    "## Import Dataset"
   ]
  },
  {
   "cell_type": "code",
   "execution_count": null,
   "metadata": {},
   "outputs": [],
   "source": [
    "data = pd.read_csv('datasets/small_data_filtered.csv')\n",
    "\n",
    "#rename text_filtered to text\n",
    "data.rename(columns = {'text_filtered':'text'}, inplace = True)"
   ]
  },
  {
   "cell_type": "markdown",
   "metadata": {},
   "source": [
    "## Fit and eval model with input data"
   ]
  },
  {
   "cell_type": "code",
   "execution_count": null,
   "metadata": {},
   "outputs": [],
   "source": [
    "def train_test_model(model, X_train, Y_train, X_test, Y_test):\n",
    "    model.fit(X_train, Y_train)\n",
    "    y_pred = model.predict(X_test)\n",
    "    results = {}\n",
    "    results['accuracy'] = accuracy_score(Y_test, y_pred)\n",
    "    results['precision'] = precision_score(Y_test, y_pred, average='weighted')\n",
    "    results['recall'] = recall_score(Y_test, y_pred, average='weighted')\n",
    "    results['f1'] = f1_score(Y_test, y_pred, average='weighted')\n",
    "    results['confusion_matrix'] = confusion_matrix(Y_test, y_pred)\n",
    "    results['model'] = model\n",
    "    results['y_pred'] = y_pred\n",
    "    return results"
   ]
  },
  {
   "cell_type": "code",
   "execution_count": null,
   "metadata": {},
   "outputs": [],
   "source": [
    "def display_confusion_matrix(matrix):\n",
    "    # Display the confusion matrix as an image\n",
    "    fig, ax = plt.subplots(figsize=(10, 10))\n",
    "    sns.heatmap(matrix, annot=True, fmt='d', ax=ax)\n",
    "    \n",
    "    # Set the labels\n",
    "    ax.set_xlabel('Predicted', fontsize=20)\n",
    "    ax.set_ylabel('Actual', fontsize=20)\n",
    "    ax.set_title('Confusion Matrix', fontsize=20)\n",
    "    plt.show()\n"
   ]
  },
  {
   "cell_type": "markdown",
   "metadata": {},
   "source": [
    "## CountVectorizer"
   ]
  },
  {
   "cell_type": "code",
   "execution_count": null,
   "metadata": {},
   "outputs": [],
   "source": [
    "def countVectorizerAux(data, ngram_range_max):\n",
    "    vectorizer = CountVectorizer(analyzer='word', lowercase=False, stop_words='english', ngram_range=(1, ngram_range_max))\n",
    "    X = vectorizer.fit_transform(data['text']).toarray()\n",
    "    y = data['label']\n",
    "    X_train, X_test, y_train, y_test = train_test_split(X, y, test_size = 0.20)\n",
    "    results = {}\n",
    "    results['X_train'] = X_train\n",
    "    results['X_test'] = X_test\n",
    "    results['y_train'] = y_train\n",
    "    results['y_test'] = y_test\n",
    "    return results"
   ]
  },
  {
   "cell_type": "markdown",
   "metadata": {},
   "source": [
    "## TfidfVectorizer"
   ]
  },
  {
   "cell_type": "code",
   "execution_count": null,
   "metadata": {},
   "outputs": [],
   "source": [
    "def tfidfVectorizerAux(data, ngram_range_max):\n",
    "    vectorizer = TfidfVectorizer(analyzer='word', lowercase=True, stop_words='english', ngram_range=(1, ngram_range_max))\n",
    "    X = vectorizer.fit_transform(data['text']).toarray()\n",
    "    y = data['label']\n",
    "    X_train, X_test, y_train, y_test = train_test_split(X, y, test_size = 0.20)\n",
    "    results = {}\n",
    "    results['X_train'] = X_train\n",
    "    results['X_test'] = X_test\n",
    "    results['y_train'] = y_train\n",
    "    results['y_test'] = y_test\n",
    "    return results"
   ]
  },
  {
   "cell_type": "markdown",
   "metadata": {},
   "source": [
    "## Results"
   ]
  },
  {
   "cell_type": "markdown",
   "metadata": {},
   "source": [
    "### CountVectorized"
   ]
  },
  {
   "cell_type": "markdown",
   "metadata": {},
   "source": [
    "#### NB "
   ]
  },
  {
   "cell_type": "markdown",
   "metadata": {},
   "source": [
    "##### Unigram"
   ]
  },
  {
   "cell_type": "code",
   "execution_count": null,
   "metadata": {},
   "outputs": [],
   "source": [
    "countVectorizerResults = countVectorizerAux(data, 1)\n",
    "print(countVectorizerResults['X_train'])\n",
    "results_nb_simple = train_test_model(\n",
    "    MultinomialNB(), \n",
    "    countVectorizerResults['X_train'], \n",
    "    countVectorizerResults['y_train'], \n",
    "    countVectorizerResults['X_test'], \n",
    "    countVectorizerResults['y_test'],\n",
    "    )\n",
    "print(results_nb_simple['accuracy'], results_nb_simple['precision'], results_nb_simple['recall'], results_nb_simple['f1'])\n",
    "print(results_nb_simple['confusion_matrix'])\n",
    "display_confusion_matrix(results_nb_simple['confusion_matrix'])"
   ]
  },
  {
   "cell_type": "markdown",
   "metadata": {},
   "source": [
    "##### Bigram"
   ]
  },
  {
   "cell_type": "code",
   "execution_count": null,
   "metadata": {},
   "outputs": [],
   "source": [
    "countVectorizerResults = countVectorizerAux(data, 2)\n",
    "results_nb_simple = train_test_model(\n",
    "    MultinomialNB(), \n",
    "    countVectorizerResults['X_train'], \n",
    "    countVectorizerResults['y_train'], \n",
    "    countVectorizerResults['X_test'], \n",
    "    countVectorizerResults['y_test'],\n",
    "    )\n",
    "print(results_nb_simple['accuracy'], results_nb_simple['precision'], results_nb_simple['recall'], results_nb_simple['f1'])\n",
    "print(results_nb_simple['confusion_matrix'])\n",
    "display_confusion_matrix(results_nb_simple['confusion_matrix'])"
   ]
  },
  {
   "cell_type": "markdown",
   "metadata": {},
   "source": [
    "##### Trigram"
   ]
  },
  {
   "cell_type": "code",
   "execution_count": null,
   "metadata": {},
   "outputs": [],
   "source": [
    "countVectorizerResults = countVectorizerAux(data, 3)\n",
    "results_nb_simple = train_test_model(\n",
    "    MultinomialNB(), \n",
    "    countVectorizerResults['X_train'], \n",
    "    countVectorizerResults['y_train'], \n",
    "    countVectorizerResults['X_test'], \n",
    "    countVectorizerResults['y_test'],\n",
    "    )\n",
    "print(results_nb_simple['accuracy'], results_nb_simple['precision'], results_nb_simple['recall'], results_nb_simple['f1'])\n",
    "print(results_nb_simple['confusion_matrix'])\n",
    "display_confusion_matrix(results_nb_simple['confusion_matrix'])"
   ]
  },
  {
   "cell_type": "markdown",
   "metadata": {},
   "source": [
    "#### DTC"
   ]
  },
  {
   "cell_type": "markdown",
   "metadata": {},
   "source": [
    "##### Unigram"
   ]
  },
  {
   "cell_type": "code",
   "execution_count": null,
   "metadata": {},
   "outputs": [],
   "source": [
    "vectorizerResults = countVectorizerAux(data, 1)\n",
    "results_nb_simple = train_test_model(\n",
    "    DecisionTreeClassifier(), \n",
    "    vectorizerResults['X_train'], \n",
    "    vectorizerResults['y_train'], \n",
    "    vectorizerResults['X_test'], \n",
    "    vectorizerResults['y_test'],\n",
    "    )\n",
    "print(results_nb_simple['accuracy'], results_nb_simple['precision'], results_nb_simple['recall'], results_nb_simple['f1'])\n",
    "print(results_nb_simple['confusion_matrix'])\n",
    "display_confusion_matrix(results_nb_simple['confusion_matrix'])"
   ]
  },
  {
   "cell_type": "markdown",
   "metadata": {},
   "source": [
    "##### Bigram"
   ]
  },
  {
   "cell_type": "code",
   "execution_count": null,
   "metadata": {},
   "outputs": [],
   "source": [
    "vectorizerResults = countVectorizerAux(data, 2)\n",
    "results_nb_simple = train_test_model(\n",
    "    DecisionTreeClassifier(), \n",
    "    vectorizerResults['X_train'], \n",
    "    vectorizerResults['y_train'], \n",
    "    vectorizerResults['X_test'], \n",
    "    vectorizerResults['y_test'],\n",
    "    )\n",
    "print(results_nb_simple['accuracy'], results_nb_simple['precision'], results_nb_simple['recall'], results_nb_simple['f1'])\n",
    "print(results_nb_simple['confusion_matrix'])\n",
    "display_confusion_matrix(results_nb_simple['confusion_matrix'])"
   ]
  },
  {
   "cell_type": "markdown",
   "metadata": {},
   "source": [
    "##### Trigram"
   ]
  },
  {
   "cell_type": "code",
   "execution_count": null,
   "metadata": {},
   "outputs": [],
   "source": [
    "vectorizerResults = countVectorizerAux(data, 3)\n",
    "results_nb_simple = train_test_model(\n",
    "    DecisionTreeClassifier(), \n",
    "    vectorizerResults['X_train'], \n",
    "    vectorizerResults['y_train'], \n",
    "    vectorizerResults['X_test'], \n",
    "    vectorizerResults['y_test'],\n",
    "    )\n",
    "print(results_nb_simple['accuracy'], results_nb_simple['precision'], results_nb_simple['recall'], results_nb_simple['f1'])\n",
    "print(results_nb_simple['confusion_matrix'])\n",
    "display_confusion_matrix(results_nb_simple['confusion_matrix'])"
   ]
  },
  {
   "cell_type": "markdown",
   "metadata": {},
   "source": [
    "### TFIDF Vectorizerd"
   ]
  },
  {
   "cell_type": "markdown",
   "metadata": {},
   "source": [
    "#### NB"
   ]
  },
  {
   "cell_type": "markdown",
   "metadata": {},
   "source": [
    "##### Unigram"
   ]
  },
  {
   "cell_type": "code",
   "execution_count": null,
   "metadata": {},
   "outputs": [],
   "source": [
    "vectorizerResults = tfidfVectorizerAux(data, 1)\n",
    "results_nb_simple = train_test_model(\n",
    "    MultinomialNB(), \n",
    "    vectorizerResults['X_train'], \n",
    "    vectorizerResults['y_train'], \n",
    "    vectorizerResults['X_test'], \n",
    "    vectorizerResults['y_test'],\n",
    "    )\n",
    "print(results_nb_simple['accuracy'], results_nb_simple['precision'], results_nb_simple['recall'], results_nb_simple['f1'])\n",
    "print(results_nb_simple['confusion_matrix'])\n",
    "display_confusion_matrix(results_nb_simple['confusion_matrix'])"
   ]
  },
  {
   "cell_type": "markdown",
   "metadata": {},
   "source": [
    "##### Bigram"
   ]
  },
  {
   "cell_type": "code",
   "execution_count": null,
   "metadata": {},
   "outputs": [],
   "source": [
    "vectorizerResults = tfidfVectorizerAux(data, 2)\n",
    "results_nb_simple = train_test_model(\n",
    "    MultinomialNB(), \n",
    "    vectorizerResults['X_train'], \n",
    "    vectorizerResults['y_train'], \n",
    "    vectorizerResults['X_test'], \n",
    "    vectorizerResults['y_test'],\n",
    "    )\n",
    "print(results_nb_simple['accuracy'], results_nb_simple['precision'], results_nb_simple['recall'], results_nb_simple['f1'])\n",
    "print(results_nb_simple['confusion_matrix'])\n",
    "display_confusion_matrix(results_nb_simple['confusion_matrix'])"
   ]
  },
  {
   "cell_type": "markdown",
   "metadata": {},
   "source": [
    "##### Trigram"
   ]
  },
  {
   "cell_type": "code",
   "execution_count": null,
   "metadata": {},
   "outputs": [],
   "source": [
    "vectorizerResults = tfidfVectorizerAux(data, 3)\n",
    "results_nb_simple = train_test_model(\n",
    "    MultinomialNB(), \n",
    "    vectorizerResults['X_train'], \n",
    "    vectorizerResults['y_train'], \n",
    "    vectorizerResults['X_test'], \n",
    "    vectorizerResults['y_test'],\n",
    "    )\n",
    "print(results_nb_simple['accuracy'], results_nb_simple['precision'], results_nb_simple['recall'], results_nb_simple['f1'])\n",
    "print(results_nb_simple['confusion_matrix'])\n",
    "display_confusion_matrix(results_nb_simple['confusion_matrix'])"
   ]
  },
  {
   "cell_type": "markdown",
   "metadata": {},
   "source": [
    "### DTC"
   ]
  },
  {
   "cell_type": "markdown",
   "metadata": {},
   "source": [
    "#### Unigram"
   ]
  },
  {
   "cell_type": "code",
   "execution_count": null,
   "metadata": {},
   "outputs": [],
   "source": [
    "vectorizerResults = tfidfVectorizerAux(data, 1)\n",
    "results_nb_simple = train_test_model(\n",
    "    DecisionTreeClassifier(), \n",
    "    vectorizerResults['X_train'], \n",
    "    vectorizerResults['y_train'], \n",
    "    vectorizerResults['X_test'], \n",
    "    vectorizerResults['y_test'],\n",
    "    )\n",
    "print(results_nb_simple['accuracy'], results_nb_simple['precision'], results_nb_simple['recall'], results_nb_simple['f1'])\n",
    "print(results_nb_simple['confusion_matrix'])\n",
    "display_confusion_matrix(results_nb_simple['confusion_matrix'])"
   ]
  },
  {
   "cell_type": "markdown",
   "metadata": {},
   "source": [
    "#### Bigram"
   ]
  },
  {
   "cell_type": "code",
   "execution_count": null,
   "metadata": {},
   "outputs": [],
   "source": [
    "vectorizerResults = tfidfVectorizerAux(data, 2)\n",
    "results_nb_simple = train_test_model(\n",
    "    DecisionTreeClassifier(), \n",
    "    vectorizerResults['X_train'], \n",
    "    vectorizerResults['y_train'], \n",
    "    vectorizerResults['X_test'], \n",
    "    vectorizerResults['y_test'],\n",
    "    )\n",
    "print(results_nb_simple['accuracy'], results_nb_simple['precision'], results_nb_simple['recall'], results_nb_simple['f1'])\n",
    "print(results_nb_simple['confusion_matrix'])\n",
    "display_confusion_matrix(results_nb_simple['confusion_matrix'])"
   ]
  },
  {
   "cell_type": "markdown",
   "metadata": {},
   "source": [
    "#### Trigram"
   ]
  },
  {
   "cell_type": "code",
   "execution_count": null,
   "metadata": {},
   "outputs": [],
   "source": [
    "vectorizerResults = tfidfVectorizerAux(data, 3)\n",
    "results_nb_simple = train_test_model(\n",
    "    DecisionTreeClassifier(), \n",
    "    vectorizerResults['X_train'], \n",
    "    vectorizerResults['y_train'], \n",
    "    vectorizerResults['X_test'], \n",
    "    vectorizerResults['y_test'],\n",
    "    )\n",
    "print(results_nb_simple['accuracy'], results_nb_simple['precision'], results_nb_simple['recall'], results_nb_simple['f1'])\n",
    "print(results_nb_simple['confusion_matrix'])\n",
    "display_confusion_matrix(results_nb_simple['confusion_matrix'])"
   ]
  }
 ],
 "metadata": {
  "kernelspec": {
   "display_name": "Python 3",
   "language": "python",
   "name": "python3"
  },
  "language_info": {
   "codemirror_mode": {
    "name": "ipython",
    "version": 3
   },
   "file_extension": ".py",
   "mimetype": "text/x-python",
   "name": "python",
   "nbconvert_exporter": "python",
   "pygments_lexer": "ipython3",
   "version": "3.11.8"
  }
 },
 "nbformat": 4,
 "nbformat_minor": 2
}
