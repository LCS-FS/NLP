{
 "cells": [
  {
   "cell_type": "markdown",
   "metadata": {},
   "source": [
    "# Dependencies"
   ]
  },
  {
   "cell_type": "code",
   "execution_count": 1,
   "metadata": {},
   "outputs": [],
   "source": [
    "# !pip install pandas\n",
    "# !pip install transformers\n",
    "# !pip install --upgrade jupyter ipywidgets\n",
    "# !pip install torch torchvision torchaudio\n",
    "# !pip install tensorflow\n",
    "# !pip install flax\n",
    "# !pip install evaluate"
   ]
  },
  {
   "cell_type": "code",
   "execution_count": 2,
   "metadata": {},
   "outputs": [
    {
     "name": "stderr",
     "output_type": "stream",
     "text": [
      "2024-05-20 18:10:03.209187: W tensorflow/compiler/tf2tensorrt/utils/py_utils.cc:38] TF-TRT Warning: Could not find TensorRT\n"
     ]
    }
   ],
   "source": [
    "import pandas as pd\n",
    "from datasets import Dataset, DatasetDict\n",
    "from transformers import pipeline\n",
    "from sklearn.metrics import classification_report, confusion_matrix, confusion_matrix, accuracy_score, precision_score, recall_score, f1_score\n",
    "import matplotlib.pyplot as plt\n",
    "import seaborn as sns\n",
    "from transformers import AutoTokenizer, AutoModelForSequenceClassification, TrainingArguments, Trainer, DataCollatorWithPadding\n",
    "from evaluate import load\n",
    "import numpy as np"
   ]
  },
  {
   "cell_type": "markdown",
   "metadata": {},
   "source": [
    "# Import data"
   ]
  },
  {
   "cell_type": "code",
   "execution_count": 3,
   "metadata": {},
   "outputs": [
    {
     "data": {
      "text/html": [
       "<div>\n",
       "<style scoped>\n",
       "    .dataframe tbody tr th:only-of-type {\n",
       "        vertical-align: middle;\n",
       "    }\n",
       "\n",
       "    .dataframe tbody tr th {\n",
       "        vertical-align: top;\n",
       "    }\n",
       "\n",
       "    .dataframe thead th {\n",
       "        text-align: right;\n",
       "    }\n",
       "</style>\n",
       "<table border=\"1\" class=\"dataframe\">\n",
       "  <thead>\n",
       "    <tr style=\"text-align: right;\">\n",
       "      <th></th>\n",
       "      <th>text</th>\n",
       "      <th>label</th>\n",
       "    </tr>\n",
       "  </thead>\n",
       "  <tbody>\n",
       "    <tr>\n",
       "      <th>0</th>\n",
       "      <td>Explosion Rocks Baghdad Neighborhood BAGHDAD, ...</td>\n",
       "      <td>0</td>\n",
       "    </tr>\n",
       "    <tr>\n",
       "      <th>1</th>\n",
       "      <td>BBC reporters' log BBC correspondents record e...</td>\n",
       "      <td>0</td>\n",
       "    </tr>\n",
       "    <tr>\n",
       "      <th>2</th>\n",
       "      <td>Israel welcomes Rice nomination; Palestinians ...</td>\n",
       "      <td>0</td>\n",
       "    </tr>\n",
       "    <tr>\n",
       "      <th>3</th>\n",
       "      <td>Medical Journal Calls for a New Drug Watchdog ...</td>\n",
       "      <td>0</td>\n",
       "    </tr>\n",
       "    <tr>\n",
       "      <th>4</th>\n",
       "      <td>Militants Kidnap Relatives of Iraqi Minister-T...</td>\n",
       "      <td>0</td>\n",
       "    </tr>\n",
       "    <tr>\n",
       "      <th>...</th>\n",
       "      <td>...</td>\n",
       "      <td>...</td>\n",
       "    </tr>\n",
       "    <tr>\n",
       "      <th>39995</th>\n",
       "      <td>Microsoft Tests MSN Messenger 7.0 Updated chat...</td>\n",
       "      <td>3</td>\n",
       "    </tr>\n",
       "    <tr>\n",
       "      <th>39996</th>\n",
       "      <td>Vonage talks of 911 advancements In Rhode Isla...</td>\n",
       "      <td>3</td>\n",
       "    </tr>\n",
       "    <tr>\n",
       "      <th>39997</th>\n",
       "      <td>Exploring Venus: The Hothouse Planet Before sp...</td>\n",
       "      <td>3</td>\n",
       "    </tr>\n",
       "    <tr>\n",
       "      <th>39998</th>\n",
       "      <td>PayPal to Impose Fines for Breaking Bans  - On...</td>\n",
       "      <td>3</td>\n",
       "    </tr>\n",
       "    <tr>\n",
       "      <th>39999</th>\n",
       "      <td>Glaciers are flowing faster Ice is sliding off...</td>\n",
       "      <td>3</td>\n",
       "    </tr>\n",
       "  </tbody>\n",
       "</table>\n",
       "<p>40000 rows × 2 columns</p>\n",
       "</div>"
      ],
      "text/plain": [
       "                                                    text  label\n",
       "0      Explosion Rocks Baghdad Neighborhood BAGHDAD, ...      0\n",
       "1      BBC reporters' log BBC correspondents record e...      0\n",
       "2      Israel welcomes Rice nomination; Palestinians ...      0\n",
       "3      Medical Journal Calls for a New Drug Watchdog ...      0\n",
       "4      Militants Kidnap Relatives of Iraqi Minister-T...      0\n",
       "...                                                  ...    ...\n",
       "39995  Microsoft Tests MSN Messenger 7.0 Updated chat...      3\n",
       "39996  Vonage talks of 911 advancements In Rhode Isla...      3\n",
       "39997  Exploring Venus: The Hothouse Planet Before sp...      3\n",
       "39998  PayPal to Impose Fines for Breaking Bans  - On...      3\n",
       "39999  Glaciers are flowing faster Ice is sliding off...      3\n",
       "\n",
       "[40000 rows x 2 columns]"
      ]
     },
     "execution_count": 3,
     "metadata": {},
     "output_type": "execute_result"
    }
   ],
   "source": [
    "data = pd.read_csv(\"dataset/small_data_sample.csv\")\n",
    "data"
   ]
  },
  {
   "cell_type": "markdown",
   "metadata": {},
   "source": [
    "---"
   ]
  },
  {
   "cell_type": "code",
   "execution_count": 4,
   "metadata": {},
   "outputs": [
    {
     "data": {
      "text/html": [
       "<div>\n",
       "<style scoped>\n",
       "    .dataframe tbody tr th:only-of-type {\n",
       "        vertical-align: middle;\n",
       "    }\n",
       "\n",
       "    .dataframe tbody tr th {\n",
       "        vertical-align: top;\n",
       "    }\n",
       "\n",
       "    .dataframe thead th {\n",
       "        text-align: right;\n",
       "    }\n",
       "</style>\n",
       "<table border=\"1\" class=\"dataframe\">\n",
       "  <thead>\n",
       "    <tr style=\"text-align: right;\">\n",
       "      <th></th>\n",
       "      <th>text</th>\n",
       "      <th>label</th>\n",
       "    </tr>\n",
       "  </thead>\n",
       "  <tbody>\n",
       "    <tr>\n",
       "      <th>0</th>\n",
       "      <td>Wall St. Bears Claw Back Into the Black (Reute...</td>\n",
       "      <td>2</td>\n",
       "    </tr>\n",
       "    <tr>\n",
       "      <th>1</th>\n",
       "      <td>Carlyle Looks Toward Commercial Aerospace (Reu...</td>\n",
       "      <td>2</td>\n",
       "    </tr>\n",
       "    <tr>\n",
       "      <th>2</th>\n",
       "      <td>Oil and Economy Cloud Stocks' Outlook (Reuters...</td>\n",
       "      <td>2</td>\n",
       "    </tr>\n",
       "    <tr>\n",
       "      <th>3</th>\n",
       "      <td>Iraq Halts Oil Exports from Main Southern Pipe...</td>\n",
       "      <td>2</td>\n",
       "    </tr>\n",
       "    <tr>\n",
       "      <th>4</th>\n",
       "      <td>Oil prices soar to all-time record, posing new...</td>\n",
       "      <td>2</td>\n",
       "    </tr>\n",
       "    <tr>\n",
       "      <th>...</th>\n",
       "      <td>...</td>\n",
       "      <td>...</td>\n",
       "    </tr>\n",
       "    <tr>\n",
       "      <th>119995</th>\n",
       "      <td>Pakistan's Musharraf Says Won't Quit as Army C...</td>\n",
       "      <td>0</td>\n",
       "    </tr>\n",
       "    <tr>\n",
       "      <th>119996</th>\n",
       "      <td>Renteria signing a top-shelf deal Red Sox gene...</td>\n",
       "      <td>1</td>\n",
       "    </tr>\n",
       "    <tr>\n",
       "      <th>119997</th>\n",
       "      <td>Saban not going to Dolphins yet The Miami Dolp...</td>\n",
       "      <td>1</td>\n",
       "    </tr>\n",
       "    <tr>\n",
       "      <th>119998</th>\n",
       "      <td>Today's NFL games PITTSBURGH at NY GIANTS Time...</td>\n",
       "      <td>1</td>\n",
       "    </tr>\n",
       "    <tr>\n",
       "      <th>119999</th>\n",
       "      <td>Nets get Carter from Raptors INDIANAPOLIS -- A...</td>\n",
       "      <td>1</td>\n",
       "    </tr>\n",
       "  </tbody>\n",
       "</table>\n",
       "<p>120000 rows × 2 columns</p>\n",
       "</div>"
      ],
      "text/plain": [
       "                                                     text  label\n",
       "0       Wall St. Bears Claw Back Into the Black (Reute...      2\n",
       "1       Carlyle Looks Toward Commercial Aerospace (Reu...      2\n",
       "2       Oil and Economy Cloud Stocks' Outlook (Reuters...      2\n",
       "3       Iraq Halts Oil Exports from Main Southern Pipe...      2\n",
       "4       Oil prices soar to all-time record, posing new...      2\n",
       "...                                                   ...    ...\n",
       "119995  Pakistan's Musharraf Says Won't Quit as Army C...      0\n",
       "119996  Renteria signing a top-shelf deal Red Sox gene...      1\n",
       "119997  Saban not going to Dolphins yet The Miami Dolp...      1\n",
       "119998  Today's NFL games PITTSBURGH at NY GIANTS Time...      1\n",
       "119999  Nets get Carter from Raptors INDIANAPOLIS -- A...      1\n",
       "\n",
       "[120000 rows x 2 columns]"
      ]
     },
     "execution_count": 4,
     "metadata": {},
     "output_type": "execute_result"
    }
   ],
   "source": [
    "# full dataset\n",
    "data_full = pd.read_csv(\"dataset/training_data.csv\")\n",
    "data_full"
   ]
  },
  {
   "cell_type": "code",
   "execution_count": 5,
   "metadata": {},
   "outputs": [],
   "source": [
    "dataset_hf = Dataset.from_pandas(data)\n",
    "dataset_hf_full = Dataset.from_pandas(data_full)"
   ]
  },
  {
   "cell_type": "code",
   "execution_count": 6,
   "metadata": {},
   "outputs": [],
   "source": [
    "# 80% train + validation, 20% test\n",
    "train_test = dataset_hf.train_test_split(test_size=0.2, seed=42)\n",
    "# Split the 80% train+validation set in 90% train, 10% validation\n",
    "train_valid = train_test['train'].train_test_split(test_size=0.1)\n",
    "\n",
    "test_set = set([item['text'] for item in train_test['test']])\n",
    "# The remaining data will be the train and validation set\n",
    "train_valid_indices = list(set(range(len(dataset_hf_full))) - test_set)\n",
    "train_valid_set_full = dataset_hf_full.select(train_valid_indices)\n",
    "\n",
    "# Now you can split the train and validation set as before\n",
    "train_valid_full = train_valid_set_full.train_test_split(test_size=0.1)\n",
    "\n",
    "train_valid_test_dataset = DatasetDict({\n",
    "    'train': train_valid['train'],\n",
    "    'test': train_test['test'],\n",
    "    'validation': train_valid['test']\n",
    "})\n",
    "\n",
    "train_valid_test_dataset_full = DatasetDict({\n",
    "    'train': train_valid_full['train'],\n",
    "    'test': train_test['test'], # keep the same test set as the small dataset\n",
    "    'validation': train_valid_full['test']\n",
    "})\n"
   ]
  },
  {
   "cell_type": "code",
   "execution_count": 7,
   "metadata": {},
   "outputs": [
    {
     "data": {
      "text/plain": [
       "DatasetDict({\n",
       "    train: Dataset({\n",
       "        features: ['text', 'label'],\n",
       "        num_rows: 28800\n",
       "    })\n",
       "    test: Dataset({\n",
       "        features: ['text', 'label'],\n",
       "        num_rows: 8000\n",
       "    })\n",
       "    validation: Dataset({\n",
       "        features: ['text', 'label'],\n",
       "        num_rows: 3200\n",
       "    })\n",
       "})"
      ]
     },
     "execution_count": 7,
     "metadata": {},
     "output_type": "execute_result"
    }
   ],
   "source": [
    "train_valid_test_dataset"
   ]
  },
  {
   "cell_type": "code",
   "execution_count": 8,
   "metadata": {},
   "outputs": [
    {
     "data": {
      "text/plain": [
       "DatasetDict({\n",
       "    train: Dataset({\n",
       "        features: ['text', 'label'],\n",
       "        num_rows: 108000\n",
       "    })\n",
       "    test: Dataset({\n",
       "        features: ['text', 'label'],\n",
       "        num_rows: 8000\n",
       "    })\n",
       "    validation: Dataset({\n",
       "        features: ['text', 'label'],\n",
       "        num_rows: 12000\n",
       "    })\n",
       "})"
      ]
     },
     "execution_count": 8,
     "metadata": {},
     "output_type": "execute_result"
    }
   ],
   "source": [
    "train_valid_test_dataset_full"
   ]
  },
  {
   "cell_type": "markdown",
   "metadata": {},
   "source": [
    "---"
   ]
  },
  {
   "cell_type": "markdown",
   "metadata": {},
   "source": [
    "| Model Label | Model Label Value | -> | Data Label | Data Label Value |\n",
    "| -------- | -------- | -------- | -------- | -------- |\n",
    "| 0 | Sports | -> | 1 | Sports |\n",
    "| 1 | Arts, Culture, and Entertainment | -> | 0 | World |\n",
    "| 2 | Business and Finance | -> | 2 | Business |\n",
    "| 3 | Health and Wellness | -> | 0 | World |\n",
    "| 4 | Lifestyle and Fashion | -> | 0 | World |\n",
    "| 5 | Science and Technology | -> | 3 | Sci/Tech |\n",
    "| 6 | Politics | -> | 0 | World |\n",
    "| 7 | Crime | -> | 0 | World |"
   ]
  },
  {
   "cell_type": "code",
   "execution_count": 9,
   "metadata": {},
   "outputs": [],
   "source": [
    "label_converter = {\n",
    "    0: 1,\n",
    "    1: 0,\n",
    "    2: 2,\n",
    "    3: 0,\n",
    "    4: 0,\n",
    "    5: 3,\n",
    "    6: 0,\n",
    "    7: 0\n",
    "}"
   ]
  },
  {
   "cell_type": "code",
   "execution_count": 10,
   "metadata": {},
   "outputs": [],
   "source": [
    "label_dict = {\n",
    "    0: 'World', \n",
    "    1: 'Sports', \n",
    "    2: 'Business',\n",
    "    3: 'Sci/Tech'\n",
    "}"
   ]
  },
  {
   "cell_type": "code",
   "execution_count": 11,
   "metadata": {},
   "outputs": [],
   "source": [
    "model_name = \"dstefa/roberta-base_topic_classification_nyt_news\"\n",
    "\n",
    "predictions_dict = {\n",
    "    \"Sports\": 1,\n",
    "    \"Arts, Culture, and Entertainment\": 0,\n",
    "    \"Business and Finance\": 2,\n",
    "    \"Health and Wellness\": 0,\n",
    "    \"Lifestyle and Fashion\": 0,\n",
    "    \"Science and Technology\": 3,\n",
    "    \"Politics\": 0,\n",
    "    \"Crime\": 0\n",
    "}"
   ]
  },
  {
   "cell_type": "code",
   "execution_count": 12,
   "metadata": {},
   "outputs": [],
   "source": [
    "def print_metrics(y_test, y_pred):\n",
    "    print(confusion_matrix(y_test, y_pred))\n",
    "    print('Accuracy: ', accuracy_score(y_test, y_pred))\n",
    "    print('Precision: ', precision_score(y_test, y_pred, average='macro'))\n",
    "    print('Recall: ', recall_score(y_test, y_pred, average='macro'))\n",
    "    print('F1: ', f1_score(y_test, y_pred, average='macro'))"
   ]
  },
  {
   "cell_type": "markdown",
   "metadata": {},
   "source": [
    "# Transformer Pipeline"
   ]
  },
  {
   "cell_type": "code",
   "execution_count": 13,
   "metadata": {},
   "outputs": [],
   "source": [
    "classifier = pipeline(model=model_name)"
   ]
  },
  {
   "cell_type": "code",
   "execution_count": 14,
   "metadata": {},
   "outputs": [],
   "source": [
    "real_values = [int(actual_label) for actual_label in train_valid_test_dataset['test']['label']]"
   ]
  },
  {
   "cell_type": "markdown",
   "metadata": {},
   "source": [
    "## smaller data set"
   ]
  },
  {
   "cell_type": "code",
   "execution_count": 44,
   "metadata": {},
   "outputs": [
    {
     "name": "stdout",
     "output_type": "stream",
     "text": [
      "              precision    recall  f1-score   support\n",
      "\n",
      "           0       0.77      0.80      0.79      1943\n",
      "           1       0.93      0.97      0.95      1987\n",
      "           2       0.58      0.93      0.71      2049\n",
      "           3       0.94      0.30      0.45      2021\n",
      "\n",
      "    accuracy                           0.75      8000\n",
      "   macro avg       0.81      0.75      0.72      8000\n",
      "weighted avg       0.80      0.75      0.72      8000\n",
      "\n"
     ]
    }
   ],
   "source": [
    "predictions = [classifier(row)[0]['label'] for row in train_valid_test_dataset['test']['text']]\n",
    "converted_predictions = [predictions_dict[entry] for entry in predictions]\n",
    "\n",
    "print(classification_report(real_values, converted_predictions))"
   ]
  },
  {
   "cell_type": "code",
   "execution_count": 45,
   "metadata": {},
   "outputs": [
    {
     "data": {
      "image/png": "[encoded data removed]",
      "text/plain": [
       "<Figure size 1000x700 with 2 Axes>"
      ]
     },
     "metadata": {},
     "output_type": "display_data"
    }
   ],
   "source": [
    "# Generate the confusion matrix\n",
    "cm = confusion_matrix(real_values, converted_predictions)\n",
    "\n",
    "# Plot the heatmap\n",
    "plt.figure(figsize=(10,7))\n",
    "sns.heatmap(cm, annot=True, fmt='d')\n",
    "plt.title('Confusion Matrix')\n",
    "plt.ylabel('Actual label')\n",
    "plt.xlabel('Predicted label')\n",
    "plt.show()"
   ]
  },
  {
   "cell_type": "markdown",
   "metadata": {},
   "source": [
    "# Fine-tuning "
   ]
  },
  {
   "cell_type": "markdown",
   "metadata": {},
   "source": [
    "## Tokenize dataset"
   ]
  },
  {
   "cell_type": "code",
   "execution_count": 15,
   "metadata": {},
   "outputs": [],
   "source": [
    "# Load the model and tokenizer\n",
    "tokenizer = AutoTokenizer.from_pretrained(model_name)\n",
    "model = AutoModelForSequenceClassification.from_pretrained(model_name)\n",
    "\n",
    "model2 = AutoModelForSequenceClassification.from_pretrained(model_name)"
   ]
  },
  {
   "cell_type": "code",
   "execution_count": 16,
   "metadata": {},
   "outputs": [],
   "source": [
    "def preprocess_function(sample):\n",
    "    return tokenizer(sample[\"text\"], truncation=True)"
   ]
  },
  {
   "cell_type": "code",
   "execution_count": 17,
   "metadata": {},
   "outputs": [
    {
     "data": {
      "application/vnd.jupyter.widget-view+json": {
       "model_id": "a373769955df40ffbffde679cbb68779",
       "version_major": 2,
       "version_minor": 0
      },
      "text/plain": [
       "Map:   0%|          | 0/28800 [00:00<?, ? examples/s]"
      ]
     },
     "metadata": {},
     "output_type": "display_data"
    },
    {
     "data": {
      "application/vnd.jupyter.widget-view+json": {
       "model_id": "d1f64250e64e45e1ab634ff5a137978b",
       "version_major": 2,
       "version_minor": 0
      },
      "text/plain": [
       "Map:   0%|          | 0/8000 [00:00<?, ? examples/s]"
      ]
     },
     "metadata": {},
     "output_type": "display_data"
    },
    {
     "data": {
      "application/vnd.jupyter.widget-view+json": {
       "model_id": "5803eedd13fe4b1db7d406576385f759",
       "version_major": 2,
       "version_minor": 0
      },
      "text/plain": [
       "Map:   0%|          | 0/3200 [00:00<?, ? examples/s]"
      ]
     },
     "metadata": {},
     "output_type": "display_data"
    },
    {
     "data": {
      "application/vnd.jupyter.widget-view+json": {
       "model_id": "ca57bfe3d6b14b3583c308a7e784498d",
       "version_major": 2,
       "version_minor": 0
      },
      "text/plain": [
       "Map:   0%|          | 0/108000 [00:00<?, ? examples/s]"
      ]
     },
     "metadata": {},
     "output_type": "display_data"
    },
    {
     "data": {
      "application/vnd.jupyter.widget-view+json": {
       "model_id": "9e286210ef89484d887157b3ee131f7a",
       "version_major": 2,
       "version_minor": 0
      },
      "text/plain": [
       "Map:   0%|          | 0/8000 [00:00<?, ? examples/s]"
      ]
     },
     "metadata": {},
     "output_type": "display_data"
    },
    {
     "data": {
      "application/vnd.jupyter.widget-view+json": {
       "model_id": "3232800ac96a4c1ea8dc1b71a57e1afd",
       "version_major": 2,
       "version_minor": 0
      },
      "text/plain": [
       "Map:   0%|          | 0/12000 [00:00<?, ? examples/s]"
      ]
     },
     "metadata": {},
     "output_type": "display_data"
    },
    {
     "data": {
      "text/plain": [
       "DatasetDict({\n",
       "    train: Dataset({\n",
       "        features: ['text', 'label', 'input_ids', 'attention_mask'],\n",
       "        num_rows: 108000\n",
       "    })\n",
       "    test: Dataset({\n",
       "        features: ['text', 'label', 'input_ids', 'attention_mask'],\n",
       "        num_rows: 8000\n",
       "    })\n",
       "    validation: Dataset({\n",
       "        features: ['text', 'label', 'input_ids', 'attention_mask'],\n",
       "        num_rows: 12000\n",
       "    })\n",
       "})"
      ]
     },
     "execution_count": 17,
     "metadata": {},
     "output_type": "execute_result"
    }
   ],
   "source": [
    "tokenized_dataset = train_valid_test_dataset.map(preprocess_function, batched=True)\n",
    "tokenized_dataset\n",
    "\n",
    "tokenized_dataset_full = train_valid_test_dataset_full.map(preprocess_function, batched=True)\n",
    "tokenized_dataset_full"
   ]
  },
  {
   "cell_type": "markdown",
   "metadata": {},
   "source": [
    "### bert-base\n"
   ]
  },
  {
   "cell_type": "code",
   "execution_count": 18,
   "metadata": {},
   "outputs": [
    {
     "name": "stderr",
     "output_type": "stream",
     "text": [
      "Some weights of BertForSequenceClassification were not initialized from the model checkpoint at google-bert/bert-base-uncased and are newly initialized: ['classifier.bias', 'classifier.weight']\n",
      "You should probably TRAIN this model on a down-stream task to be able to use it for predictions and inference.\n",
      "Some weights of BertForSequenceClassification were not initialized from the model checkpoint at google-bert/bert-base-uncased and are newly initialized: ['classifier.bias', 'classifier.weight']\n",
      "You should probably TRAIN this model on a down-stream task to be able to use it for predictions and inference.\n"
     ]
    }
   ],
   "source": [
    "from transformers import BertTokenizer, BertForSequenceClassification\n",
    "base_model = \"google-bert/bert-base-uncased\"\n",
    "\n",
    "tokenizer2 = BertTokenizer.from_pretrained(base_model)\n",
    "model_base = BertForSequenceClassification.from_pretrained(base_model, num_labels=4)\n",
    "\n",
    "model_base2 = BertForSequenceClassification.from_pretrained(base_model, num_labels=4)"
   ]
  },
  {
   "cell_type": "code",
   "execution_count": 19,
   "metadata": {},
   "outputs": [],
   "source": [
    "def preprocess_function2(sample):\n",
    "    return tokenizer2(sample[\"text\"], truncation=True)"
   ]
  },
  {
   "cell_type": "code",
   "execution_count": 20,
   "metadata": {},
   "outputs": [
    {
     "data": {
      "application/vnd.jupyter.widget-view+json": {
       "model_id": "01c519d6ad0d4ea790445df4b3598134",
       "version_major": 2,
       "version_minor": 0
      },
      "text/plain": [
       "Map:   0%|          | 0/28800 [00:00<?, ? examples/s]"
      ]
     },
     "metadata": {},
     "output_type": "display_data"
    },
    {
     "data": {
      "application/vnd.jupyter.widget-view+json": {
       "model_id": "93349e67de5f4d10a63931c685202870",
       "version_major": 2,
       "version_minor": 0
      },
      "text/plain": [
       "Map:   0%|          | 0/8000 [00:00<?, ? examples/s]"
      ]
     },
     "metadata": {},
     "output_type": "display_data"
    },
    {
     "data": {
      "application/vnd.jupyter.widget-view+json": {
       "model_id": "df4d43cb6c1b42d4a601f835d8266320",
       "version_major": 2,
       "version_minor": 0
      },
      "text/plain": [
       "Map:   0%|          | 0/3200 [00:00<?, ? examples/s]"
      ]
     },
     "metadata": {},
     "output_type": "display_data"
    },
    {
     "data": {
      "application/vnd.jupyter.widget-view+json": {
       "model_id": "51b0b6df96844964a922d90b0e66e227",
       "version_major": 2,
       "version_minor": 0
      },
      "text/plain": [
       "Map:   0%|          | 0/108000 [00:00<?, ? examples/s]"
      ]
     },
     "metadata": {},
     "output_type": "display_data"
    },
    {
     "data": {
      "application/vnd.jupyter.widget-view+json": {
       "model_id": "f42f50753b3541ae99eb6fb4b4afbfc4",
       "version_major": 2,
       "version_minor": 0
      },
      "text/plain": [
       "Map:   0%|          | 0/8000 [00:00<?, ? examples/s]"
      ]
     },
     "metadata": {},
     "output_type": "display_data"
    },
    {
     "data": {
      "application/vnd.jupyter.widget-view+json": {
       "model_id": "f46fef1b02544a4386036d05259c1e18",
       "version_major": 2,
       "version_minor": 0
      },
      "text/plain": [
       "Map:   0%|          | 0/12000 [00:00<?, ? examples/s]"
      ]
     },
     "metadata": {},
     "output_type": "display_data"
    },
    {
     "data": {
      "text/plain": [
       "DatasetDict({\n",
       "    train: Dataset({\n",
       "        features: ['text', 'label', 'input_ids', 'token_type_ids', 'attention_mask'],\n",
       "        num_rows: 108000\n",
       "    })\n",
       "    test: Dataset({\n",
       "        features: ['text', 'label', 'input_ids', 'token_type_ids', 'attention_mask'],\n",
       "        num_rows: 8000\n",
       "    })\n",
       "    validation: Dataset({\n",
       "        features: ['text', 'label', 'input_ids', 'token_type_ids', 'attention_mask'],\n",
       "        num_rows: 12000\n",
       "    })\n",
       "})"
      ]
     },
     "execution_count": 20,
     "metadata": {},
     "output_type": "execute_result"
    }
   ],
   "source": [
    "tokenized_dataset2 = train_valid_test_dataset.map(preprocess_function2, batched=True)\n",
    "tokenized_dataset2\n",
    "\n",
    "tokenized_dataset_full2 = train_valid_test_dataset_full.map(preprocess_function2, batched=True)\n",
    "tokenized_dataset_full2"
   ]
  },
  {
   "cell_type": "markdown",
   "metadata": {},
   "source": [
    "## Finetune the model"
   ]
  },
  {
   "cell_type": "code",
   "execution_count": 21,
   "metadata": {},
   "outputs": [],
   "source": [
    "metric = load(\"accuracy\")\n",
    "\n",
    "def compute_metrics(eval_pred):\n",
    "    print(eval_pred)\n",
    "    logits, labels = eval_pred\n",
    "    predictions = np.argmax(logits, axis=-1)\n",
    "    print(predictions)\n",
    "    predictions_converted = [label_converter[entry] for entry in predictions]\n",
    "    # print(predictions_converted)\n",
    "    return metric.compute(predictions=predictions, references=labels)\n",
    "\n",
    "training_args = TrainingArguments(\n",
    "    output_dir=\"./results\",\n",
    "    learning_rate=2e-5,\n",
    "    per_device_train_batch_size=6,\n",
    "    per_device_eval_batch_size=6,\n",
    "    num_train_epochs=10,\n",
    "    weight_decay=0.01,\n",
    "    evaluation_strategy=\"epoch\", # run validation at the end of each epoch\n",
    "    save_strategy=\"epoch\",\n",
    "    load_best_model_at_end=True,\n",
    "    warmup_steps=500,\n",
    "    gradient_accumulation_steps=10\n",
    ")\n",
    "\n",
    "data_collator = DataCollatorWithPadding(tokenizer=tokenizer)\n",
    "\n",
    "trainer = Trainer( # small dataset news model\n",
    "    model=model,\n",
    "    args=training_args,\n",
    "    train_dataset=tokenized_dataset[\"train\"],\n",
    "    eval_dataset=tokenized_dataset[\"validation\"],\n",
    "    tokenizer=tokenizer,\n",
    "    data_collator=data_collator,\n",
    "    compute_metrics=compute_metrics\n",
    ")\n",
    "\n",
    "trainer2 = Trainer( # large dataset news model\n",
    "    model=model2,\n",
    "    args=training_args,\n",
    "    train_dataset=tokenized_dataset_full[\"train\"],\n",
    "    eval_dataset=tokenized_dataset_full[\"validation\"],\n",
    "    tokenizer=tokenizer,\n",
    "    data_collator=data_collator,\n",
    "    compute_metrics=compute_metrics\n",
    ")\n",
    "\n"
   ]
  },
  {
   "cell_type": "code",
   "execution_count": 22,
   "metadata": {},
   "outputs": [],
   "source": [
    "data_collator2 = DataCollatorWithPadding(tokenizer=tokenizer2)\n",
    "\n",
    "trainer_base = Trainer( # small dataset base model\n",
    "    model=model_base,\n",
    "    args=training_args,\n",
    "    train_dataset=tokenized_dataset2[\"train\"],\n",
    "    eval_dataset=tokenized_dataset2[\"validation\"],\n",
    "    tokenizer=tokenizer2,\n",
    "    data_collator=data_collator2,\n",
    "    compute_metrics=compute_metrics\n",
    ")\n",
    "\n",
    "trainer_base2 = Trainer( # large dataset base model\n",
    "    model=model_base2,\n",
    "    args=training_args,\n",
    "    train_dataset=tokenized_dataset_full2[\"train\"],\n",
    "    eval_dataset=tokenized_dataset_full2[\"validation\"],\n",
    "    tokenizer=tokenizer2,\n",
    "    data_collator=data_collator2,\n",
    "    compute_metrics=compute_metrics\n",
    ")"
   ]
  },
  {
   "cell_type": "markdown",
   "metadata": {},
   "source": [
    "### Smaller Dataset News Model"
   ]
  },
  {
   "cell_type": "code",
   "execution_count": 55,
   "metadata": {},
   "outputs": [
    {
     "data": {
      "application/vnd.jupyter.widget-view+json": {
       "model_id": "0ffb0e77618c415d8eaefbe6466d4ec3",
       "version_major": 2,
       "version_minor": 0
      },
      "text/plain": [
       "  0%|          | 0/4800 [00:00<?, ?it/s]"
      ]
     },
     "metadata": {},
     "output_type": "display_data"
    },
    {
     "data": {
      "application/vnd.jupyter.widget-view+json": {
       "model_id": "1e038710157a4f78afb555ddeced17c2",
       "version_major": 2,
       "version_minor": 0
      },
      "text/plain": [
       "  0%|          | 0/534 [00:00<?, ?it/s]"
      ]
     },
     "metadata": {},
     "output_type": "display_data"
    },
    {
     "name": "stdout",
     "output_type": "stream",
     "text": [
      "<transformers.trainer_utils.EvalPrediction object at 0x7fdca228bc50>\n",
      "[2 1 2 ... 1 3 3]\n",
      "{'eval_loss': 0.3463217616081238, 'eval_accuracy': 0.8859375, 'eval_runtime': 6.95, 'eval_samples_per_second': 460.434, 'eval_steps_per_second': 76.835, 'epoch': 1.0}\n",
      "{'loss': 1.3677, 'grad_norm': 2.4236066341400146, 'learning_rate': 2e-05, 'epoch': 1.04}\n"
     ]
    },
    {
     "data": {
      "application/vnd.jupyter.widget-view+json": {
       "model_id": "16f9557213c94849a2371950b23145b3",
       "version_major": 2,
       "version_minor": 0
      },
      "text/plain": [
       "  0%|          | 0/534 [00:00<?, ?it/s]"
      ]
     },
     "metadata": {},
     "output_type": "display_data"
    },
    {
     "name": "stdout",
     "output_type": "stream",
     "text": [
      "<transformers.trainer_utils.EvalPrediction object at 0x7fdcb7ffdc70>\n",
      "[2 1 2 ... 1 3 3]\n",
      "{'eval_loss': 0.2871808707714081, 'eval_accuracy': 0.900625, 'eval_runtime': 6.9269, 'eval_samples_per_second': 461.97, 'eval_steps_per_second': 77.091, 'epoch': 2.0}\n",
      "{'loss': 0.3037, 'grad_norm': 1.701825499534607, 'learning_rate': 1.7674418604651163e-05, 'epoch': 2.08}\n"
     ]
    },
    {
     "data": {
      "application/vnd.jupyter.widget-view+json": {
       "model_id": "c61ac36a91324228a9c05c238525d698",
       "version_major": 2,
       "version_minor": 0
      },
      "text/plain": [
       "  0%|          | 0/534 [00:00<?, ?it/s]"
      ]
     },
     "metadata": {},
     "output_type": "display_data"
    },
    {
     "name": "stdout",
     "output_type": "stream",
     "text": [
      "<transformers.trainer_utils.EvalPrediction object at 0x7fdca2297650>\n",
      "[2 1 2 ... 1 3 3]\n",
      "{'eval_loss': 0.27535489201545715, 'eval_accuracy': 0.9028125, 'eval_runtime': 6.9129, 'eval_samples_per_second': 462.904, 'eval_steps_per_second': 77.247, 'epoch': 3.0}\n",
      "{'loss': 0.2543, 'grad_norm': 2.2620112895965576, 'learning_rate': 1.5348837209302328e-05, 'epoch': 3.12}\n"
     ]
    },
    {
     "data": {
      "application/vnd.jupyter.widget-view+json": {
       "model_id": "928c6c5a35a74814bcf826ace238cdc3",
       "version_major": 2,
       "version_minor": 0
      },
      "text/plain": [
       "  0%|          | 0/534 [00:00<?, ?it/s]"
      ]
     },
     "metadata": {},
     "output_type": "display_data"
    },
    {
     "name": "stdout",
     "output_type": "stream",
     "text": [
      "<transformers.trainer_utils.EvalPrediction object at 0x7fdca227c5c0>\n",
      "[2 1 0 ... 1 3 2]\n",
      "{'eval_loss': 0.2796832025051117, 'eval_accuracy': 0.9071875, 'eval_runtime': 6.968, 'eval_samples_per_second': 459.243, 'eval_steps_per_second': 76.636, 'epoch': 4.0}\n",
      "{'loss': 0.2161, 'grad_norm': 2.7808775901794434, 'learning_rate': 1.302325581395349e-05, 'epoch': 4.17}\n"
     ]
    },
    {
     "data": {
      "application/vnd.jupyter.widget-view+json": {
       "model_id": "a3213bb8fb4d4dd489f4469bfd815003",
       "version_major": 2,
       "version_minor": 0
      },
      "text/plain": [
       "  0%|          | 0/534 [00:00<?, ?it/s]"
      ]
     },
     "metadata": {},
     "output_type": "display_data"
    },
    {
     "name": "stdout",
     "output_type": "stream",
     "text": [
      "<transformers.trainer_utils.EvalPrediction object at 0x7fdcb6112c90>\n",
      "[2 1 0 ... 1 3 2]\n",
      "{'eval_loss': 0.2755873203277588, 'eval_accuracy': 0.910625, 'eval_runtime': 6.9241, 'eval_samples_per_second': 462.151, 'eval_steps_per_second': 77.121, 'epoch': 5.0}\n",
      "{'loss': 0.1859, 'grad_norm': 4.35768461227417, 'learning_rate': 1.0697674418604651e-05, 'epoch': 5.21}\n"
     ]
    },
    {
     "data": {
      "application/vnd.jupyter.widget-view+json": {
       "model_id": "927e4492e351453b973549a074cb028b",
       "version_major": 2,
       "version_minor": 0
      },
      "text/plain": [
       "  0%|          | 0/534 [00:00<?, ?it/s]"
      ]
     },
     "metadata": {},
     "output_type": "display_data"
    },
    {
     "name": "stdout",
     "output_type": "stream",
     "text": [
      "<transformers.trainer_utils.EvalPrediction object at 0x7fdca2280b60>\n",
      "[2 1 0 ... 1 3 2]\n",
      "{'eval_loss': 0.2756147086620331, 'eval_accuracy': 0.9140625, 'eval_runtime': 6.9167, 'eval_samples_per_second': 462.648, 'eval_steps_per_second': 77.204, 'epoch': 6.0}\n",
      "{'loss': 0.1613, 'grad_norm': 2.075671911239624, 'learning_rate': 8.372093023255815e-06, 'epoch': 6.25}\n"
     ]
    },
    {
     "data": {
      "application/vnd.jupyter.widget-view+json": {
       "model_id": "4f024df2f526460cac9b26148221b932",
       "version_major": 2,
       "version_minor": 0
      },
      "text/plain": [
       "  0%|          | 0/534 [00:00<?, ?it/s]"
      ]
     },
     "metadata": {},
     "output_type": "display_data"
    },
    {
     "name": "stdout",
     "output_type": "stream",
     "text": [
      "<transformers.trainer_utils.EvalPrediction object at 0x7fdca2288890>\n",
      "[2 1 0 ... 1 3 2]\n",
      "{'eval_loss': 0.28563931584358215, 'eval_accuracy': 0.9134375, 'eval_runtime': 6.8994, 'eval_samples_per_second': 463.808, 'eval_steps_per_second': 77.398, 'epoch': 7.0}\n",
      "{'loss': 0.1412, 'grad_norm': 6.662415981292725, 'learning_rate': 6.046511627906977e-06, 'epoch': 7.29}\n"
     ]
    },
    {
     "data": {
      "application/vnd.jupyter.widget-view+json": {
       "model_id": "614cae6203a6451c8dde48b46472ec2f",
       "version_major": 2,
       "version_minor": 0
      },
      "text/plain": [
       "  0%|          | 0/534 [00:00<?, ?it/s]"
      ]
     },
     "metadata": {},
     "output_type": "display_data"
    },
    {
     "name": "stdout",
     "output_type": "stream",
     "text": [
      "<transformers.trainer_utils.EvalPrediction object at 0x7fdcbc0c8950>\n",
      "[2 1 0 ... 1 3 2]\n",
      "{'eval_loss': 0.28450530767440796, 'eval_accuracy': 0.9165625, 'eval_runtime': 6.9282, 'eval_samples_per_second': 461.883, 'eval_steps_per_second': 77.077, 'epoch': 8.0}\n",
      "{'loss': 0.1257, 'grad_norm': 3.8451642990112305, 'learning_rate': 3.72093023255814e-06, 'epoch': 8.33}\n"
     ]
    },
    {
     "data": {
      "application/vnd.jupyter.widget-view+json": {
       "model_id": "f7241c57614d420b97de2dbd8682d97e",
       "version_major": 2,
       "version_minor": 0
      },
      "text/plain": [
       "  0%|          | 0/534 [00:00<?, ?it/s]"
      ]
     },
     "metadata": {},
     "output_type": "display_data"
    },
    {
     "name": "stdout",
     "output_type": "stream",
     "text": [
      "<transformers.trainer_utils.EvalPrediction object at 0x7fdcbc484860>\n",
      "[2 1 0 ... 1 3 2]\n",
      "{'eval_loss': 0.29344889521598816, 'eval_accuracy': 0.91625, 'eval_runtime': 6.9145, 'eval_samples_per_second': 462.793, 'eval_steps_per_second': 77.229, 'epoch': 9.0}\n",
      "{'loss': 0.1187, 'grad_norm': 1.8181843757629395, 'learning_rate': 1.3953488372093025e-06, 'epoch': 9.38}\n"
     ]
    },
    {
     "data": {
      "application/vnd.jupyter.widget-view+json": {
       "model_id": "f6560f49354e43e7b1ba0ffe94e83bc4",
       "version_major": 2,
       "version_minor": 0
      },
      "text/plain": [
       "  0%|          | 0/534 [00:00<?, ?it/s]"
      ]
     },
     "metadata": {},
     "output_type": "display_data"
    },
    {
     "name": "stdout",
     "output_type": "stream",
     "text": [
      "<transformers.trainer_utils.EvalPrediction object at 0x7fdcbc1e7ef0>\n",
      "[2 1 0 ... 1 3 2]\n",
      "{'eval_loss': 0.3009512424468994, 'eval_accuracy': 0.9175, 'eval_runtime': 6.9106, 'eval_samples_per_second': 463.06, 'eval_steps_per_second': 77.273, 'epoch': 10.0}\n",
      "{'train_runtime': 2276.3316, 'train_samples_per_second': 126.519, 'train_steps_per_second': 2.109, 'train_loss': 0.3063185938199361, 'epoch': 10.0}\n"
     ]
    },
    {
     "data": {
      "text/plain": [
       "TrainOutput(global_step=4800, training_loss=0.3063185938199361, metrics={'train_runtime': 2276.3316, 'train_samples_per_second': 126.519, 'train_steps_per_second': 2.109, 'total_flos': 1.0452434927506848e+16, 'train_loss': 0.3063185938199361, 'epoch': 10.0})"
      ]
     },
     "execution_count": 55,
     "metadata": {},
     "output_type": "execute_result"
    }
   ],
   "source": [
    "trainer.train()"
   ]
  },
  {
   "cell_type": "code",
   "execution_count": 56,
   "metadata": {},
   "outputs": [
    {
     "data": {
      "application/vnd.jupyter.widget-view+json": {
       "model_id": "0c6c5ee3b8204463a83b26f6cf6047a9",
       "version_major": 2,
       "version_minor": 0
      },
      "text/plain": [
       "  0%|          | 0/534 [00:00<?, ?it/s]"
      ]
     },
     "metadata": {},
     "output_type": "display_data"
    },
    {
     "name": "stdout",
     "output_type": "stream",
     "text": [
      "<transformers.trainer_utils.EvalPrediction object at 0x7fdce860b500>\n",
      "[2 1 2 ... 1 3 3]\n"
     ]
    },
    {
     "data": {
      "text/plain": [
       "{'eval_loss': 0.27535489201545715,\n",
       " 'eval_accuracy': 0.9028125,\n",
       " 'eval_runtime': 6.8932,\n",
       " 'eval_samples_per_second': 464.223,\n",
       " 'eval_steps_per_second': 77.467,\n",
       " 'epoch': 10.0}"
      ]
     },
     "execution_count": 56,
     "metadata": {},
     "output_type": "execute_result"
    }
   ],
   "source": [
    "trainer.evaluate()"
   ]
  },
  {
   "cell_type": "code",
   "execution_count": 57,
   "metadata": {},
   "outputs": [
    {
     "data": {
      "application/vnd.jupyter.widget-view+json": {
       "model_id": "572b5f0984ea4306abc0632fb5b577e9",
       "version_major": 2,
       "version_minor": 0
      },
      "text/plain": [
       "  0%|          | 0/1334 [00:00<?, ?it/s]"
      ]
     },
     "metadata": {},
     "output_type": "display_data"
    },
    {
     "name": "stdout",
     "output_type": "stream",
     "text": [
      "<transformers.trainer_utils.EvalPrediction object at 0x7fdca2302de0>\n",
      "[3 1 0 ... 3 3 3]\n"
     ]
    },
    {
     "data": {
      "text/plain": [
       "PredictionOutput(predictions=array([[-0.2126517 , -1.9787579 ,  3.8537872 , ..., -2.1176226 ,\n",
       "        -2.6835234 , -2.899751  ],\n",
       "       [ 1.1945609 ,  7.471545  , -0.68317795, ..., -2.0568056 ,\n",
       "        -2.4818716 , -1.3917484 ],\n",
       "       [ 3.091491  ,  2.0971553 ,  2.851138  , ..., -3.7549884 ,\n",
       "        -4.4192    , -3.7090976 ],\n",
       "       ...,\n",
       "       [ 0.1569958 , -1.673185  ,  4.131759  , ..., -2.4333477 ,\n",
       "        -2.8185155 , -3.0127194 ],\n",
       "       [ 0.06315665, -1.5443054 ,  4.2709675 , ..., -2.53384   ,\n",
       "        -2.7514877 , -3.0179107 ],\n",
       "       [-0.1412674 , -2.0413537 ,  3.2093515 , ..., -1.73808   ,\n",
       "        -2.8976247 , -2.9879644 ]], dtype=float32), label_ids=array([2, 1, 0, ..., 2, 2, 3]), metrics={'test_loss': 0.280180424451828, 'test_accuracy': 0.906625, 'test_runtime': 17.3831, 'test_samples_per_second': 460.218, 'test_steps_per_second': 76.741})"
      ]
     },
     "execution_count": 57,
     "metadata": {},
     "output_type": "execute_result"
    }
   ],
   "source": [
    "predictions = trainer.predict(test_dataset=tokenized_dataset[\"test\"])\n",
    "predictions"
   ]
  },
  {
   "cell_type": "code",
   "execution_count": 58,
   "metadata": {},
   "outputs": [
    {
     "name": "stdout",
     "output_type": "stream",
     "text": [
      "              precision    recall  f1-score   support\n",
      "\n",
      "           0       0.94      0.88      0.91      1943\n",
      "           1       0.96      0.99      0.97      1987\n",
      "           2       0.89      0.83      0.86      2049\n",
      "           3       0.85      0.93      0.89      2021\n",
      "\n",
      "    accuracy                           0.91      8000\n",
      "   macro avg       0.91      0.91      0.91      8000\n",
      "weighted avg       0.91      0.91      0.91      8000\n",
      "\n"
     ]
    }
   ],
   "source": [
    "print(classification_report(real_values, predictions.predictions.argmax(-1)))"
   ]
  },
  {
   "cell_type": "code",
   "execution_count": 59,
   "metadata": {},
   "outputs": [
    {
     "data": {
      "image/png": "[encoded data removed]",
      "text/plain": [
       "<Figure size 1000x700 with 2 Axes>"
      ]
     },
     "metadata": {},
     "output_type": "display_data"
    }
   ],
   "source": [
    "# The predictions are in a tuple, with the first element being the actual predictions\n",
    "predicted_labels = np.argmax(predictions[0], axis=1)\n",
    "\n",
    "# Assuming the labels in your dataset are stored in a 'label' column\n",
    "true_labels = [entry['label'] for entry in tokenized_dataset['test']]\n",
    "\n",
    "cm = confusion_matrix(true_labels, predicted_labels)\n",
    "\n",
    "# Plot the heatmap\n",
    "plt.figure(figsize=(10,7))\n",
    "sns.heatmap(cm, annot=True, fmt='d')\n",
    "plt.title('Confusion Matrix')\n",
    "plt.ylabel('Actual label')\n",
    "plt.xlabel('Predicted label')\n",
    "plt.show()"
   ]
  },
  {
   "cell_type": "markdown",
   "metadata": {},
   "source": [
    "### Full dataset News Model"
   ]
  },
  {
   "cell_type": "code",
   "execution_count": 60,
   "metadata": {},
   "outputs": [
    {
     "data": {
      "application/vnd.jupyter.widget-view+json": {
       "model_id": "cbef1e0584a4404d8543780d4f10cc3a",
       "version_major": 2,
       "version_minor": 0
      },
      "text/plain": [
       "  0%|          | 0/18000 [00:00<?, ?it/s]"
      ]
     },
     "metadata": {},
     "output_type": "display_data"
    },
    {
     "name": "stdout",
     "output_type": "stream",
     "text": [
      "{'loss': 1.3486, 'grad_norm': 4.0543341636657715, 'learning_rate': 2e-05, 'epoch': 0.28}\n",
      "{'loss': 0.3078, 'grad_norm': 2.769406318664551, 'learning_rate': 1.942857142857143e-05, 'epoch': 0.56}\n",
      "{'loss': 0.2668, 'grad_norm': 2.7219443321228027, 'learning_rate': 1.885714285714286e-05, 'epoch': 0.83}\n"
     ]
    },
    {
     "data": {
      "application/vnd.jupyter.widget-view+json": {
       "model_id": "12be1fb436f346388918cc890ba11755",
       "version_major": 2,
       "version_minor": 0
      },
      "text/plain": [
       "  0%|          | 0/2000 [00:00<?, ?it/s]"
      ]
     },
     "metadata": {},
     "output_type": "display_data"
    },
    {
     "name": "stdout",
     "output_type": "stream",
     "text": [
      "<transformers.trainer_utils.EvalPrediction object at 0x7fdca22919a0>\n",
      "[3 1 2 ... 0 3 0]\n",
      "{'eval_loss': 0.23026783764362335, 'eval_accuracy': 0.9213333333333333, 'eval_runtime': 27.7287, 'eval_samples_per_second': 432.765, 'eval_steps_per_second': 72.127, 'epoch': 1.0}\n",
      "{'loss': 0.236, 'grad_norm': 1.9959479570388794, 'learning_rate': 1.8285714285714288e-05, 'epoch': 1.11}\n",
      "{'loss': 0.2119, 'grad_norm': 5.409958362579346, 'learning_rate': 1.7714285714285717e-05, 'epoch': 1.39}\n",
      "{'loss': 0.1964, 'grad_norm': 1.8975847959518433, 'learning_rate': 1.7142857142857142e-05, 'epoch': 1.67}\n",
      "{'loss': 0.1947, 'grad_norm': 1.186200737953186, 'learning_rate': 1.6571428571428574e-05, 'epoch': 1.94}\n"
     ]
    },
    {
     "data": {
      "application/vnd.jupyter.widget-view+json": {
       "model_id": "7c7f34c4d0014e3d9baa90e269f6747f",
       "version_major": 2,
       "version_minor": 0
      },
      "text/plain": [
       "  0%|          | 0/2000 [00:00<?, ?it/s]"
      ]
     },
     "metadata": {},
     "output_type": "display_data"
    },
    {
     "name": "stdout",
     "output_type": "stream",
     "text": [
      "<transformers.trainer_utils.EvalPrediction object at 0x7fdca2296a80>\n",
      "[3 1 2 ... 0 3 0]\n",
      "{'eval_loss': 0.1947726309299469, 'eval_accuracy': 0.9341666666666667, 'eval_runtime': 27.7941, 'eval_samples_per_second': 431.746, 'eval_steps_per_second': 71.958, 'epoch': 2.0}\n",
      "{'loss': 0.1685, 'grad_norm': 3.067483901977539, 'learning_rate': 1.6000000000000003e-05, 'epoch': 2.22}\n",
      "{'loss': 0.1606, 'grad_norm': 2.0790045261383057, 'learning_rate': 1.542857142857143e-05, 'epoch': 2.5}\n",
      "{'loss': 0.1597, 'grad_norm': 1.5051677227020264, 'learning_rate': 1.4857142857142858e-05, 'epoch': 2.78}\n"
     ]
    },
    {
     "data": {
      "application/vnd.jupyter.widget-view+json": {
       "model_id": "aaf2c37cc18b4ab8b994c8bdaf76317b",
       "version_major": 2,
       "version_minor": 0
      },
      "text/plain": [
       "  0%|          | 0/2000 [00:00<?, ?it/s]"
      ]
     },
     "metadata": {},
     "output_type": "display_data"
    },
    {
     "name": "stdout",
     "output_type": "stream",
     "text": [
      "<transformers.trainer_utils.EvalPrediction object at 0x7fdca228ea20>\n",
      "[3 1 2 ... 0 3 0]\n",
      "{'eval_loss': 0.19185025990009308, 'eval_accuracy': 0.9378333333333333, 'eval_runtime': 27.7089, 'eval_samples_per_second': 433.074, 'eval_steps_per_second': 72.179, 'epoch': 3.0}\n",
      "{'loss': 0.1597, 'grad_norm': 2.8102164268493652, 'learning_rate': 1.4285714285714287e-05, 'epoch': 3.06}\n",
      "{'loss': 0.133, 'grad_norm': 0.965049684047699, 'learning_rate': 1.3714285714285716e-05, 'epoch': 3.33}\n",
      "{'loss': 0.1392, 'grad_norm': 4.215358734130859, 'learning_rate': 1.3142857142857145e-05, 'epoch': 3.61}\n",
      "{'loss': 0.1401, 'grad_norm': 2.5242369174957275, 'learning_rate': 1.2571428571428572e-05, 'epoch': 3.89}\n"
     ]
    },
    {
     "data": {
      "application/vnd.jupyter.widget-view+json": {
       "model_id": "1e347099952244eeaadd58595367a020",
       "version_major": 2,
       "version_minor": 0
      },
      "text/plain": [
       "  0%|          | 0/2000 [00:00<?, ?it/s]"
      ]
     },
     "metadata": {},
     "output_type": "display_data"
    },
    {
     "name": "stdout",
     "output_type": "stream",
     "text": [
      "<transformers.trainer_utils.EvalPrediction object at 0x7fdcbc6043b0>\n",
      "[3 1 2 ... 0 0 0]\n",
      "{'eval_loss': 0.1885594129562378, 'eval_accuracy': 0.9414166666666667, 'eval_runtime': 27.6807, 'eval_samples_per_second': 433.514, 'eval_steps_per_second': 72.252, 'epoch': 4.0}\n",
      "{'loss': 0.1256, 'grad_norm': 4.650853633880615, 'learning_rate': 1.2e-05, 'epoch': 4.17}\n",
      "{'loss': 0.1211, 'grad_norm': 1.0002690553665161, 'learning_rate': 1.1428571428571429e-05, 'epoch': 4.44}\n",
      "{'loss': 0.1184, 'grad_norm': 3.0167453289031982, 'learning_rate': 1.0857142857142858e-05, 'epoch': 4.72}\n",
      "{'loss': 0.1188, 'grad_norm': 4.487560272216797, 'learning_rate': 1.0285714285714285e-05, 'epoch': 5.0}\n"
     ]
    },
    {
     "data": {
      "application/vnd.jupyter.widget-view+json": {
       "model_id": "3dd5c75f18894803b869f10b1e7c2aa3",
       "version_major": 2,
       "version_minor": 0
      },
      "text/plain": [
       "  0%|          | 0/2000 [00:00<?, ?it/s]"
      ]
     },
     "metadata": {},
     "output_type": "display_data"
    },
    {
     "name": "stdout",
     "output_type": "stream",
     "text": [
      "<transformers.trainer_utils.EvalPrediction object at 0x7fdca2283050>\n",
      "[3 1 2 ... 0 0 0]\n",
      "{'eval_loss': 0.19318842887878418, 'eval_accuracy': 0.9393333333333334, 'eval_runtime': 27.7451, 'eval_samples_per_second': 432.509, 'eval_steps_per_second': 72.085, 'epoch': 5.0}\n",
      "{'loss': 0.1021, 'grad_norm': 6.594148635864258, 'learning_rate': 9.714285714285715e-06, 'epoch': 5.28}\n",
      "{'loss': 0.0976, 'grad_norm': 3.7710447311401367, 'learning_rate': 9.142857142857144e-06, 'epoch': 5.56}\n",
      "{'loss': 0.1025, 'grad_norm': 3.796311378479004, 'learning_rate': 8.571428571428571e-06, 'epoch': 5.83}\n"
     ]
    },
    {
     "data": {
      "application/vnd.jupyter.widget-view+json": {
       "model_id": "55922fc79e13480088f95e0ee1cde7b7",
       "version_major": 2,
       "version_minor": 0
      },
      "text/plain": [
       "  0%|          | 0/2000 [00:00<?, ?it/s]"
      ]
     },
     "metadata": {},
     "output_type": "display_data"
    },
    {
     "name": "stdout",
     "output_type": "stream",
     "text": [
      "<transformers.trainer_utils.EvalPrediction object at 0x7fdca2288e90>\n",
      "[3 1 2 ... 0 0 0]\n",
      "{'eval_loss': 0.19774378836154938, 'eval_accuracy': 0.9405833333333333, 'eval_runtime': 27.6841, 'eval_samples_per_second': 433.461, 'eval_steps_per_second': 72.244, 'epoch': 6.0}\n",
      "{'loss': 0.0977, 'grad_norm': 1.913049578666687, 'learning_rate': 8.000000000000001e-06, 'epoch': 6.11}\n",
      "{'loss': 0.0837, 'grad_norm': 6.017049312591553, 'learning_rate': 7.428571428571429e-06, 'epoch': 6.39}\n",
      "{'loss': 0.0885, 'grad_norm': 3.7752323150634766, 'learning_rate': 6.857142857142858e-06, 'epoch': 6.67}\n",
      "{'loss': 0.0873, 'grad_norm': 6.090293884277344, 'learning_rate': 6.285714285714286e-06, 'epoch': 6.94}\n"
     ]
    },
    {
     "data": {
      "application/vnd.jupyter.widget-view+json": {
       "model_id": "c4b80675d9e643e29c58daa88686b80d",
       "version_major": 2,
       "version_minor": 0
      },
      "text/plain": [
       "  0%|          | 0/2000 [00:00<?, ?it/s]"
      ]
     },
     "metadata": {},
     "output_type": "display_data"
    },
    {
     "name": "stdout",
     "output_type": "stream",
     "text": [
      "<transformers.trainer_utils.EvalPrediction object at 0x7fdca2288f80>\n",
      "[3 1 2 ... 0 3 0]\n",
      "{'eval_loss': 0.21088649332523346, 'eval_accuracy': 0.9406666666666667, 'eval_runtime': 27.7513, 'eval_samples_per_second': 432.413, 'eval_steps_per_second': 72.069, 'epoch': 7.0}\n",
      "{'loss': 0.0812, 'grad_norm': 3.6515941619873047, 'learning_rate': 5.7142857142857145e-06, 'epoch': 7.22}\n",
      "{'loss': 0.0796, 'grad_norm': 4.357108116149902, 'learning_rate': 5.142857142857142e-06, 'epoch': 7.5}\n",
      "{'loss': 0.0765, 'grad_norm': 3.269476890563965, 'learning_rate': 4.571428571428572e-06, 'epoch': 7.78}\n"
     ]
    },
    {
     "data": {
      "application/vnd.jupyter.widget-view+json": {
       "model_id": "686aa35b37f84fa99e9913f9a3bb5343",
       "version_major": 2,
       "version_minor": 0
      },
      "text/plain": [
       "  0%|          | 0/2000 [00:00<?, ?it/s]"
      ]
     },
     "metadata": {},
     "output_type": "display_data"
    },
    {
     "name": "stdout",
     "output_type": "stream",
     "text": [
      "<transformers.trainer_utils.EvalPrediction object at 0x7fdcbc6065d0>\n",
      "[3 1 2 ... 0 3 0]\n",
      "{'eval_loss': 0.22709618508815765, 'eval_accuracy': 0.9390833333333334, 'eval_runtime': 27.7106, 'eval_samples_per_second': 433.047, 'eval_steps_per_second': 72.175, 'epoch': 8.0}\n",
      "{'loss': 0.0789, 'grad_norm': 4.681549549102783, 'learning_rate': 4.000000000000001e-06, 'epoch': 8.06}\n",
      "{'loss': 0.0706, 'grad_norm': 7.761592864990234, 'learning_rate': 3.428571428571429e-06, 'epoch': 8.33}\n",
      "{'loss': 0.0699, 'grad_norm': 6.398200511932373, 'learning_rate': 2.8571428571428573e-06, 'epoch': 8.61}\n",
      "{'loss': 0.0703, 'grad_norm': 1.6681561470031738, 'learning_rate': 2.285714285714286e-06, 'epoch': 8.89}\n"
     ]
    },
    {
     "data": {
      "application/vnd.jupyter.widget-view+json": {
       "model_id": "88c4406551404577b86eb53fcc851924",
       "version_major": 2,
       "version_minor": 0
      },
      "text/plain": [
       "  0%|          | 0/2000 [00:00<?, ?it/s]"
      ]
     },
     "metadata": {},
     "output_type": "display_data"
    },
    {
     "name": "stdout",
     "output_type": "stream",
     "text": [
      "<transformers.trainer_utils.EvalPrediction object at 0x7fdcbc0cb140>\n",
      "[3 1 2 ... 0 0 0]\n",
      "{'eval_loss': 0.23520177602767944, 'eval_accuracy': 0.9410833333333334, 'eval_runtime': 27.6845, 'eval_samples_per_second': 433.455, 'eval_steps_per_second': 72.242, 'epoch': 9.0}\n",
      "{'loss': 0.0698, 'grad_norm': 1.1667768955230713, 'learning_rate': 1.7142857142857145e-06, 'epoch': 9.17}\n",
      "{'loss': 0.0659, 'grad_norm': 0.1548551470041275, 'learning_rate': 1.142857142857143e-06, 'epoch': 9.44}\n",
      "{'loss': 0.0617, 'grad_norm': 0.5195709466934204, 'learning_rate': 5.714285714285715e-07, 'epoch': 9.72}\n",
      "{'loss': 0.0663, 'grad_norm': 0.2926121652126312, 'learning_rate': 0.0, 'epoch': 10.0}\n"
     ]
    },
    {
     "data": {
      "application/vnd.jupyter.widget-view+json": {
       "model_id": "53c21763b0064fceab84a779a8688a26",
       "version_major": 2,
       "version_minor": 0
      },
      "text/plain": [
       "  0%|          | 0/2000 [00:00<?, ?it/s]"
      ]
     },
     "metadata": {},
     "output_type": "display_data"
    },
    {
     "name": "stdout",
     "output_type": "stream",
     "text": [
      "<transformers.trainer_utils.EvalPrediction object at 0x7fdca22880b0>\n",
      "[3 1 2 ... 0 0 0]\n",
      "{'eval_loss': 0.24124787747859955, 'eval_accuracy': 0.9401666666666667, 'eval_runtime': 27.7273, 'eval_samples_per_second': 432.786, 'eval_steps_per_second': 72.131, 'epoch': 10.0}\n",
      "{'train_runtime': 9037.214, 'train_samples_per_second': 119.506, 'train_steps_per_second': 1.992, 'train_loss': 0.159911922454834, 'epoch': 10.0}\n"
     ]
    },
    {
     "data": {
      "text/plain": [
       "TrainOutput(global_step=18000, training_loss=0.159911922454834, metrics={'train_runtime': 9037.214, 'train_samples_per_second': 119.506, 'train_steps_per_second': 1.992, 'total_flos': 4.355998295580634e+16, 'train_loss': 0.159911922454834, 'epoch': 10.0})"
      ]
     },
     "execution_count": 60,
     "metadata": {},
     "output_type": "execute_result"
    }
   ],
   "source": [
    "trainer2.train()"
   ]
  },
  {
   "cell_type": "code",
   "execution_count": 61,
   "metadata": {},
   "outputs": [
    {
     "data": {
      "application/vnd.jupyter.widget-view+json": {
       "model_id": "a3fa64411be14323bed056a99e6f73b4",
       "version_major": 2,
       "version_minor": 0
      },
      "text/plain": [
       "  0%|          | 0/2000 [00:00<?, ?it/s]"
      ]
     },
     "metadata": {},
     "output_type": "display_data"
    },
    {
     "name": "stdout",
     "output_type": "stream",
     "text": [
      "<transformers.trainer_utils.EvalPrediction object at 0x7fdca228a5d0>\n",
      "[3 1 2 ... 0 0 0]\n"
     ]
    },
    {
     "data": {
      "text/plain": [
       "{'eval_loss': 0.1885594129562378,\n",
       " 'eval_accuracy': 0.9414166666666667,\n",
       " 'eval_runtime': 27.9712,\n",
       " 'eval_samples_per_second': 429.013,\n",
       " 'eval_steps_per_second': 71.502,\n",
       " 'epoch': 10.0}"
      ]
     },
     "execution_count": 61,
     "metadata": {},
     "output_type": "execute_result"
    }
   ],
   "source": [
    "trainer2.evaluate()"
   ]
  },
  {
   "cell_type": "code",
   "execution_count": 62,
   "metadata": {},
   "outputs": [
    {
     "data": {
      "application/vnd.jupyter.widget-view+json": {
       "model_id": "ae75127538d940928ee68829c2a5d6e0",
       "version_major": 2,
       "version_minor": 0
      },
      "text/plain": [
       "  0%|          | 0/1334 [00:00<?, ?it/s]"
      ]
     },
     "metadata": {},
     "output_type": "display_data"
    },
    {
     "name": "stdout",
     "output_type": "stream",
     "text": [
      "<transformers.trainer_utils.EvalPrediction object at 0x7fdcb71b9ca0>\n",
      "[2 1 0 ... 2 2 3]\n"
     ]
    },
    {
     "data": {
      "text/plain": [
       "PredictionOutput(predictions=array([[-1.3077205 , -2.488156  ,  5.632537  , ..., -5.5920386 ,\n",
       "        -5.926387  , -5.2232747 ],\n",
       "       [-0.83510643,  8.362249  , -1.0488099 , ..., -2.5486825 ,\n",
       "        -2.4558644 , -2.302037  ],\n",
       "       [ 8.440915  , -0.61925155, -0.3011011 , ..., -3.426317  ,\n",
       "        -2.986429  , -2.8495562 ],\n",
       "       ...,\n",
       "       [-1.5143442 , -2.4725685 ,  5.8904667 , ..., -4.774564  ,\n",
       "        -5.6198525 , -4.801662  ],\n",
       "       [-1.085486  , -2.293069  ,  5.6437597 , ..., -5.557938  ,\n",
       "        -6.1752324 , -5.356084  ],\n",
       "       [-0.31360173, -2.8119004 ,  3.2106338 , ..., -5.625933  ,\n",
       "        -5.699813  , -5.1639075 ]], dtype=float32), label_ids=array([2, 1, 0, ..., 2, 2, 3]), metrics={'test_loss': 0.16803228855133057, 'test_accuracy': 0.95025, 'test_runtime': 17.29, 'test_samples_per_second': 462.696, 'test_steps_per_second': 77.155})"
      ]
     },
     "execution_count": 62,
     "metadata": {},
     "output_type": "execute_result"
    }
   ],
   "source": [
    "predictions = trainer2.predict(test_dataset=tokenized_dataset_full[\"test\"]) \n",
    "predictions"
   ]
  },
  {
   "cell_type": "code",
   "execution_count": 63,
   "metadata": {},
   "outputs": [
    {
     "name": "stdout",
     "output_type": "stream",
     "text": [
      "              precision    recall  f1-score   support\n",
      "\n",
      "           0       0.98      0.91      0.95      1943\n",
      "           1       0.98      0.99      0.99      1987\n",
      "           2       0.90      0.95      0.92      2049\n",
      "           3       0.94      0.95      0.94      2021\n",
      "\n",
      "    accuracy                           0.95      8000\n",
      "   macro avg       0.95      0.95      0.95      8000\n",
      "weighted avg       0.95      0.95      0.95      8000\n",
      "\n"
     ]
    }
   ],
   "source": [
    "print(classification_report(real_values, predictions.predictions.argmax(-1)))"
   ]
  },
  {
   "cell_type": "code",
   "execution_count": 64,
   "metadata": {},
   "outputs": [
    {
     "data": {
      "image/png": "[encoded data removed]",
      "text/plain": [
       "<Figure size 1000x700 with 2 Axes>"
      ]
     },
     "metadata": {},
     "output_type": "display_data"
    }
   ],
   "source": [
    "# The predictions are in a tuple, with the first element being the actual predictions\n",
    "predicted_labels = np.argmax(predictions[0], axis=1)\n",
    "\n",
    "# Assuming the labels in your dataset are stored in a 'label' column\n",
    "true_labels = [entry['label'] for entry in tokenized_dataset_full['test']]\n",
    "\n",
    "cm = confusion_matrix(true_labels, predicted_labels)\n",
    "\n",
    "# Plot the heatmap\n",
    "plt.figure(figsize=(10,7))\n",
    "sns.heatmap(cm, annot=True, fmt='d')\n",
    "plt.title('Confusion Matrix')\n",
    "plt.ylabel('Actual label')\n",
    "plt.xlabel('Predicted label')\n",
    "plt.show()"
   ]
  },
  {
   "cell_type": "markdown",
   "metadata": {},
   "source": [
    "### Smaller Dataset Base Model"
   ]
  },
  {
   "cell_type": "code",
   "execution_count": 23,
   "metadata": {},
   "outputs": [
    {
     "data": {
      "application/vnd.jupyter.widget-view+json": {
       "model_id": "89a76e691ca94da78989dbc99e078a99",
       "version_major": 2,
       "version_minor": 0
      },
      "text/plain": [
       "  0%|          | 0/4800 [00:00<?, ?it/s]"
      ]
     },
     "metadata": {},
     "output_type": "display_data"
    },
    {
     "data": {
      "application/vnd.jupyter.widget-view+json": {
       "model_id": "cfc7efdf8fea4357958d4d55e677ec4f",
       "version_major": 2,
       "version_minor": 0
      },
      "text/plain": [
       "  0%|          | 0/534 [00:00<?, ?it/s]"
      ]
     },
     "metadata": {},
     "output_type": "display_data"
    },
    {
     "name": "stdout",
     "output_type": "stream",
     "text": [
      "<transformers.trainer_utils.EvalPrediction object at 0x7fe350316ed0>\n",
      "[1 2 2 ... 0 3 2]\n",
      "{'eval_loss': 0.24625921249389648, 'eval_accuracy': 0.915625, 'eval_runtime': 6.9631, 'eval_samples_per_second': 459.568, 'eval_steps_per_second': 76.69, 'epoch': 1.0}\n",
      "{'loss': 0.5909, 'grad_norm': 4.414299011230469, 'learning_rate': 2e-05, 'epoch': 1.04}\n"
     ]
    },
    {
     "data": {
      "application/vnd.jupyter.widget-view+json": {
       "model_id": "daa2ad3c182e459cb500ed88ea7317b2",
       "version_major": 2,
       "version_minor": 0
      },
      "text/plain": [
       "  0%|          | 0/534 [00:00<?, ?it/s]"
      ]
     },
     "metadata": {},
     "output_type": "display_data"
    },
    {
     "name": "stdout",
     "output_type": "stream",
     "text": [
      "<transformers.trainer_utils.EvalPrediction object at 0x7fe3544cb1d0>\n",
      "[1 2 0 ... 0 3 2]\n",
      "{'eval_loss': 0.21620780229568481, 'eval_accuracy': 0.9275, 'eval_runtime': 6.9794, 'eval_samples_per_second': 458.492, 'eval_steps_per_second': 76.511, 'epoch': 2.0}\n",
      "{'loss': 0.207, 'grad_norm': 3.61602520942688, 'learning_rate': 1.7674418604651163e-05, 'epoch': 2.08}\n"
     ]
    },
    {
     "data": {
      "application/vnd.jupyter.widget-view+json": {
       "model_id": "abcfb00bdecd40b687ac64699625aefd",
       "version_major": 2,
       "version_minor": 0
      },
      "text/plain": [
       "  0%|          | 0/534 [00:00<?, ?it/s]"
      ]
     },
     "metadata": {},
     "output_type": "display_data"
    },
    {
     "name": "stdout",
     "output_type": "stream",
     "text": [
      "<transformers.trainer_utils.EvalPrediction object at 0x7fe35026d970>\n",
      "[1 2 0 ... 0 3 2]\n",
      "{'eval_loss': 0.21218152344226837, 'eval_accuracy': 0.9303125, 'eval_runtime': 6.9844, 'eval_samples_per_second': 458.166, 'eval_steps_per_second': 76.457, 'epoch': 3.0}\n",
      "{'loss': 0.1322, 'grad_norm': 3.137737512588501, 'learning_rate': 1.5348837209302328e-05, 'epoch': 3.12}\n"
     ]
    },
    {
     "data": {
      "application/vnd.jupyter.widget-view+json": {
       "model_id": "9165d66216c24419b5c12665a554cfa9",
       "version_major": 2,
       "version_minor": 0
      },
      "text/plain": [
       "  0%|          | 0/534 [00:00<?, ?it/s]"
      ]
     },
     "metadata": {},
     "output_type": "display_data"
    },
    {
     "name": "stdout",
     "output_type": "stream",
     "text": [
      "<transformers.trainer_utils.EvalPrediction object at 0x7fe3502c3260>\n",
      "[1 2 0 ... 0 3 2]\n",
      "{'eval_loss': 0.2426385134458542, 'eval_accuracy': 0.9284375, 'eval_runtime': 7.3542, 'eval_samples_per_second': 435.127, 'eval_steps_per_second': 72.612, 'epoch': 4.0}\n",
      "{'loss': 0.0838, 'grad_norm': 0.8672248721122742, 'learning_rate': 1.302325581395349e-05, 'epoch': 4.17}\n"
     ]
    },
    {
     "data": {
      "application/vnd.jupyter.widget-view+json": {
       "model_id": "06eba75b47204215bac0fc938d5c7a9f",
       "version_major": 2,
       "version_minor": 0
      },
      "text/plain": [
       "  0%|          | 0/534 [00:00<?, ?it/s]"
      ]
     },
     "metadata": {},
     "output_type": "display_data"
    },
    {
     "name": "stdout",
     "output_type": "stream",
     "text": [
      "<transformers.trainer_utils.EvalPrediction object at 0x7fe348270c80>\n",
      "[1 2 0 ... 0 3 2]\n",
      "{'eval_loss': 0.28978127241134644, 'eval_accuracy': 0.9303125, 'eval_runtime': 6.9676, 'eval_samples_per_second': 459.268, 'eval_steps_per_second': 76.64, 'epoch': 5.0}\n",
      "{'loss': 0.0485, 'grad_norm': 0.49633026123046875, 'learning_rate': 1.0697674418604651e-05, 'epoch': 5.21}\n"
     ]
    },
    {
     "data": {
      "application/vnd.jupyter.widget-view+json": {
       "model_id": "3f4f05b6c0da44bab2ad561a893f8756",
       "version_major": 2,
       "version_minor": 0
      },
      "text/plain": [
       "  0%|          | 0/534 [00:00<?, ?it/s]"
      ]
     },
     "metadata": {},
     "output_type": "display_data"
    },
    {
     "name": "stdout",
     "output_type": "stream",
     "text": [
      "<transformers.trainer_utils.EvalPrediction object at 0x7fe343fc3ec0>\n",
      "[1 2 0 ... 0 3 2]\n",
      "{'eval_loss': 0.32130539417266846, 'eval_accuracy': 0.926875, 'eval_runtime': 6.9238, 'eval_samples_per_second': 462.175, 'eval_steps_per_second': 77.125, 'epoch': 6.0}\n",
      "{'loss': 0.0283, 'grad_norm': 0.18165044486522675, 'learning_rate': 8.372093023255815e-06, 'epoch': 6.25}\n"
     ]
    },
    {
     "data": {
      "application/vnd.jupyter.widget-view+json": {
       "model_id": "536739ad00d6471f976e1432682678a5",
       "version_major": 2,
       "version_minor": 0
      },
      "text/plain": [
       "  0%|          | 0/534 [00:00<?, ?it/s]"
      ]
     },
     "metadata": {},
     "output_type": "display_data"
    },
    {
     "name": "stdout",
     "output_type": "stream",
     "text": [
      "<transformers.trainer_utils.EvalPrediction object at 0x7fe34350c980>\n",
      "[1 2 0 ... 0 3 2]\n",
      "{'eval_loss': 0.3739451467990875, 'eval_accuracy': 0.931875, 'eval_runtime': 7.0136, 'eval_samples_per_second': 456.254, 'eval_steps_per_second': 76.137, 'epoch': 7.0}\n",
      "{'loss': 0.0158, 'grad_norm': 0.3700321912765503, 'learning_rate': 6.046511627906977e-06, 'epoch': 7.29}\n"
     ]
    },
    {
     "data": {
      "application/vnd.jupyter.widget-view+json": {
       "model_id": "e635f742f5584962a23c62e73ea80e1f",
       "version_major": 2,
       "version_minor": 0
      },
      "text/plain": [
       "  0%|          | 0/534 [00:00<?, ?it/s]"
      ]
     },
     "metadata": {},
     "output_type": "display_data"
    },
    {
     "name": "stdout",
     "output_type": "stream",
     "text": [
      "<transformers.trainer_utils.EvalPrediction object at 0x7fe343fd3f50>\n",
      "[1 2 0 ... 0 3 2]\n",
      "{'eval_loss': 0.3963286578655243, 'eval_accuracy': 0.9321875, 'eval_runtime': 7.0028, 'eval_samples_per_second': 456.96, 'eval_steps_per_second': 76.255, 'epoch': 8.0}\n",
      "{'loss': 0.0094, 'grad_norm': 0.04757335036993027, 'learning_rate': 3.72093023255814e-06, 'epoch': 8.33}\n"
     ]
    },
    {
     "data": {
      "application/vnd.jupyter.widget-view+json": {
       "model_id": "81e63cbdd42c4e4d82d17060582444c9",
       "version_major": 2,
       "version_minor": 0
      },
      "text/plain": [
       "  0%|          | 0/534 [00:00<?, ?it/s]"
      ]
     },
     "metadata": {},
     "output_type": "display_data"
    },
    {
     "name": "stdout",
     "output_type": "stream",
     "text": [
      "<transformers.trainer_utils.EvalPrediction object at 0x7fe34350e9f0>\n",
      "[1 2 0 ... 0 3 2]\n",
      "{'eval_loss': 0.41409242153167725, 'eval_accuracy': 0.933125, 'eval_runtime': 6.9762, 'eval_samples_per_second': 458.703, 'eval_steps_per_second': 76.546, 'epoch': 9.0}\n",
      "{'loss': 0.0053, 'grad_norm': 0.43811535835266113, 'learning_rate': 1.3953488372093025e-06, 'epoch': 9.38}\n"
     ]
    },
    {
     "data": {
      "application/vnd.jupyter.widget-view+json": {
       "model_id": "3c5e2a5b21e94ccfbdd479e4292ff223",
       "version_major": 2,
       "version_minor": 0
      },
      "text/plain": [
       "  0%|          | 0/534 [00:00<?, ?it/s]"
      ]
     },
     "metadata": {},
     "output_type": "display_data"
    },
    {
     "name": "stdout",
     "output_type": "stream",
     "text": [
      "<transformers.trainer_utils.EvalPrediction object at 0x7fe3544e8da0>\n",
      "[1 2 0 ... 0 3 2]\n",
      "{'eval_loss': 0.42439568042755127, 'eval_accuracy': 0.930625, 'eval_runtime': 6.9697, 'eval_samples_per_second': 459.131, 'eval_steps_per_second': 76.617, 'epoch': 10.0}\n",
      "{'train_runtime': 2188.8052, 'train_samples_per_second': 131.579, 'train_steps_per_second': 2.193, 'train_loss': 0.11711986951529979, 'epoch': 10.0}\n"
     ]
    },
    {
     "data": {
      "text/plain": [
       "TrainOutput(global_step=4800, training_loss=0.11711986951529979, metrics={'train_runtime': 2188.8052, 'train_samples_per_second': 131.579, 'train_steps_per_second': 2.193, 'total_flos': 1.0180693656229824e+16, 'train_loss': 0.11711986951529979, 'epoch': 10.0})"
      ]
     },
     "execution_count": 23,
     "metadata": {},
     "output_type": "execute_result"
    }
   ],
   "source": [
    "trainer_base.train()"
   ]
  },
  {
   "cell_type": "code",
   "execution_count": 24,
   "metadata": {},
   "outputs": [
    {
     "data": {
      "application/vnd.jupyter.widget-view+json": {
       "model_id": "209f3055a51940088107406f4d455775",
       "version_major": 2,
       "version_minor": 0
      },
      "text/plain": [
       "  0%|          | 0/534 [00:00<?, ?it/s]"
      ]
     },
     "metadata": {},
     "output_type": "display_data"
    },
    {
     "name": "stdout",
     "output_type": "stream",
     "text": [
      "<transformers.trainer_utils.EvalPrediction object at 0x7fe35026d5e0>\n",
      "[1 2 0 ... 0 3 2]\n"
     ]
    },
    {
     "data": {
      "text/plain": [
       "{'eval_loss': 0.21218152344226837,\n",
       " 'eval_accuracy': 0.9303125,\n",
       " 'eval_runtime': 6.9918,\n",
       " 'eval_samples_per_second': 457.676,\n",
       " 'eval_steps_per_second': 76.375,\n",
       " 'epoch': 10.0}"
      ]
     },
     "execution_count": 24,
     "metadata": {},
     "output_type": "execute_result"
    }
   ],
   "source": [
    "trainer_base.evaluate()"
   ]
  },
  {
   "cell_type": "code",
   "execution_count": 25,
   "metadata": {},
   "outputs": [
    {
     "data": {
      "application/vnd.jupyter.widget-view+json": {
       "model_id": "1f098eb0b096496a9de62ec095105ab7",
       "version_major": 2,
       "version_minor": 0
      },
      "text/plain": [
       "  0%|          | 0/1334 [00:00<?, ?it/s]"
      ]
     },
     "metadata": {},
     "output_type": "display_data"
    },
    {
     "name": "stdout",
     "output_type": "stream",
     "text": [
      "<transformers.trainer_utils.EvalPrediction object at 0x7fe348373dd0>\n",
      "[2 1 0 ... 2 2 3]\n"
     ]
    },
    {
     "data": {
      "text/plain": [
       "PredictionOutput(predictions=array([[-2.2851095 , -4.191293  ,  3.4161284 ,  2.337224  ],\n",
       "       [-1.4670528 ,  5.8472714 , -1.6657337 , -2.5639844 ],\n",
       "       [ 5.336409  , -1.7878407 , -1.6124113 , -1.1047304 ],\n",
       "       ...,\n",
       "       [-2.094648  , -3.6452894 ,  3.8828843 ,  1.3159493 ],\n",
       "       [-1.8826246 , -4.19586   ,  3.4947524 ,  1.8860195 ],\n",
       "       [-1.5807675 , -3.356244  , -0.53441423,  4.845016  ]],\n",
       "      dtype=float32), label_ids=array([2, 1, 0, ..., 2, 2, 3]), metrics={'test_loss': 0.21936379373073578, 'test_accuracy': 0.929125, 'test_runtime': 17.1708, 'test_samples_per_second': 465.907, 'test_steps_per_second': 77.69})"
      ]
     },
     "execution_count": 25,
     "metadata": {},
     "output_type": "execute_result"
    }
   ],
   "source": [
    "predictions = trainer_base.predict(test_dataset=tokenized_dataset2[\"test\"]) \n",
    "predictions"
   ]
  },
  {
   "cell_type": "code",
   "execution_count": 26,
   "metadata": {},
   "outputs": [
    {
     "name": "stdout",
     "output_type": "stream",
     "text": [
      "              precision    recall  f1-score   support\n",
      "\n",
      "           0       0.93      0.94      0.93      1943\n",
      "           1       0.98      0.99      0.98      1987\n",
      "           2       0.92      0.86      0.89      2049\n",
      "           3       0.89      0.93      0.91      2021\n",
      "\n",
      "    accuracy                           0.93      8000\n",
      "   macro avg       0.93      0.93      0.93      8000\n",
      "weighted avg       0.93      0.93      0.93      8000\n",
      "\n"
     ]
    }
   ],
   "source": [
    "print(classification_report(real_values, predictions.predictions.argmax(-1)))"
   ]
  },
  {
   "cell_type": "code",
   "execution_count": 27,
   "metadata": {},
   "outputs": [
    {
     "data": {
      "image/png": "[encoded data removed]",
      "text/plain": [
       "<Figure size 1000x700 with 2 Axes>"
      ]
     },
     "metadata": {},
     "output_type": "display_data"
    }
   ],
   "source": [
    "# The predictions are in a tuple, with the first element being the actual predictions\n",
    "predicted_labels = np.argmax(predictions[0], axis=1)\n",
    "\n",
    "# Assuming the labels in your dataset are stored in a 'label' column\n",
    "true_labels = [entry['label'] for entry in tokenized_dataset_full['test']]\n",
    "\n",
    "cm = confusion_matrix(true_labels, predicted_labels)\n",
    "\n",
    "# Plot the heatmap\n",
    "plt.figure(figsize=(10,7))\n",
    "sns.heatmap(cm, annot=True, fmt='d')\n",
    "plt.title('Confusion Matrix')\n",
    "plt.ylabel('Actual label')\n",
    "plt.xlabel('Predicted label')\n",
    "plt.show()"
   ]
  },
  {
   "cell_type": "markdown",
   "metadata": {},
   "source": [
    "### Full Dataset Base Model"
   ]
  },
  {
   "cell_type": "code",
   "execution_count": 28,
   "metadata": {},
   "outputs": [
    {
     "data": {
      "application/vnd.jupyter.widget-view+json": {
       "model_id": "b10954ef5e444eee855086a4fb0d2432",
       "version_major": 2,
       "version_minor": 0
      },
      "text/plain": [
       "  0%|          | 0/18000 [00:00<?, ?it/s]"
      ]
     },
     "metadata": {},
     "output_type": "display_data"
    },
    {
     "name": "stdout",
     "output_type": "stream",
     "text": [
      "{'loss': 0.6078, 'grad_norm': 5.150796890258789, 'learning_rate': 2e-05, 'epoch': 0.28}\n",
      "{'loss': 0.2255, 'grad_norm': 2.7863829135894775, 'learning_rate': 1.942857142857143e-05, 'epoch': 0.56}\n",
      "{'loss': 0.1943, 'grad_norm': 4.195194721221924, 'learning_rate': 1.885714285714286e-05, 'epoch': 0.83}\n"
     ]
    },
    {
     "data": {
      "application/vnd.jupyter.widget-view+json": {
       "model_id": "7f20ab38bd22449097088be0f5ba8633",
       "version_major": 2,
       "version_minor": 0
      },
      "text/plain": [
       "  0%|          | 0/2000 [00:00<?, ?it/s]"
      ]
     },
     "metadata": {},
     "output_type": "display_data"
    },
    {
     "name": "stdout",
     "output_type": "stream",
     "text": [
      "<transformers.trainer_utils.EvalPrediction object at 0x7fe343521400>\n",
      "[0 1 0 ... 0 3 1]\n",
      "{'eval_loss': 0.16386942565441132, 'eval_accuracy': 0.9465833333333333, 'eval_runtime': 27.1557, 'eval_samples_per_second': 441.896, 'eval_steps_per_second': 73.649, 'epoch': 1.0}\n",
      "{'loss': 0.1689, 'grad_norm': 3.0805060863494873, 'learning_rate': 1.8285714285714288e-05, 'epoch': 1.11}\n",
      "{'loss': 0.1431, 'grad_norm': 5.694614410400391, 'learning_rate': 1.7714285714285717e-05, 'epoch': 1.39}\n",
      "{'loss': 0.1391, 'grad_norm': 6.494790077209473, 'learning_rate': 1.7142857142857142e-05, 'epoch': 1.67}\n",
      "{'loss': 0.1343, 'grad_norm': 1.6032133102416992, 'learning_rate': 1.6571428571428574e-05, 'epoch': 1.94}\n"
     ]
    },
    {
     "data": {
      "application/vnd.jupyter.widget-view+json": {
       "model_id": "3a4bfd51c0714e95be628d17f6e0c2ba",
       "version_major": 2,
       "version_minor": 0
      },
      "text/plain": [
       "  0%|          | 0/2000 [00:00<?, ?it/s]"
      ]
     },
     "metadata": {},
     "output_type": "display_data"
    },
    {
     "name": "stdout",
     "output_type": "stream",
     "text": [
      "<transformers.trainer_utils.EvalPrediction object at 0x7fe3483733e0>\n",
      "[0 1 0 ... 0 3 1]\n",
      "{'eval_loss': 0.15320275723934174, 'eval_accuracy': 0.9488333333333333, 'eval_runtime': 27.1386, 'eval_samples_per_second': 442.174, 'eval_steps_per_second': 73.696, 'epoch': 2.0}\n",
      "{'loss': 0.1076, 'grad_norm': 2.3550024032592773, 'learning_rate': 1.6000000000000003e-05, 'epoch': 2.22}\n",
      "{'loss': 0.0994, 'grad_norm': 4.868354797363281, 'learning_rate': 1.542857142857143e-05, 'epoch': 2.5}\n",
      "{'loss': 0.0897, 'grad_norm': 1.2645851373672485, 'learning_rate': 1.4857142857142858e-05, 'epoch': 2.78}\n"
     ]
    },
    {
     "data": {
      "application/vnd.jupyter.widget-view+json": {
       "model_id": "35d2bc12a6c841ca8b5dae4c2dbfd333",
       "version_major": 2,
       "version_minor": 0
      },
      "text/plain": [
       "  0%|          | 0/2000 [00:00<?, ?it/s]"
      ]
     },
     "metadata": {},
     "output_type": "display_data"
    },
    {
     "name": "stdout",
     "output_type": "stream",
     "text": [
      "<transformers.trainer_utils.EvalPrediction object at 0x7fe343fd0e90>\n",
      "[0 1 0 ... 0 3 1]\n",
      "{'eval_loss': 0.17746122181415558, 'eval_accuracy': 0.9491666666666667, 'eval_runtime': 28.5696, 'eval_samples_per_second': 420.027, 'eval_steps_per_second': 70.004, 'epoch': 3.0}\n",
      "{'loss': 0.0856, 'grad_norm': 2.8638391494750977, 'learning_rate': 1.4285714285714287e-05, 'epoch': 3.06}\n",
      "{'loss': 0.0618, 'grad_norm': 5.021137237548828, 'learning_rate': 1.3714285714285716e-05, 'epoch': 3.33}\n",
      "{'loss': 0.067, 'grad_norm': 2.7675583362579346, 'learning_rate': 1.3142857142857145e-05, 'epoch': 3.61}\n",
      "{'loss': 0.0643, 'grad_norm': 0.04598624259233475, 'learning_rate': 1.2571428571428572e-05, 'epoch': 3.89}\n"
     ]
    },
    {
     "data": {
      "application/vnd.jupyter.widget-view+json": {
       "model_id": "5f4336e4dbbd411da4a4f15f5d6057c6",
       "version_major": 2,
       "version_minor": 0
      },
      "text/plain": [
       "  0%|          | 0/2000 [00:00<?, ?it/s]"
      ]
     },
     "metadata": {},
     "output_type": "display_data"
    },
    {
     "name": "stdout",
     "output_type": "stream",
     "text": [
      "<transformers.trainer_utils.EvalPrediction object at 0x7fe343521eb0>\n",
      "[0 1 0 ... 0 3 1]\n",
      "{'eval_loss': 0.20513391494750977, 'eval_accuracy': 0.9459166666666666, 'eval_runtime': 28.4511, 'eval_samples_per_second': 421.776, 'eval_steps_per_second': 70.296, 'epoch': 4.0}\n",
      "{'loss': 0.0471, 'grad_norm': 2.159874677658081, 'learning_rate': 1.2e-05, 'epoch': 4.17}\n",
      "{'loss': 0.0376, 'grad_norm': 1.5393471717834473, 'learning_rate': 1.1428571428571429e-05, 'epoch': 4.44}\n",
      "{'loss': 0.04, 'grad_norm': 6.443142890930176, 'learning_rate': 1.0857142857142858e-05, 'epoch': 4.72}\n",
      "{'loss': 0.0455, 'grad_norm': 0.3200826942920685, 'learning_rate': 1.0285714285714285e-05, 'epoch': 5.0}\n"
     ]
    },
    {
     "data": {
      "application/vnd.jupyter.widget-view+json": {
       "model_id": "9296fc38f07d4ac196e7d18287a93f17",
       "version_major": 2,
       "version_minor": 0
      },
      "text/plain": [
       "  0%|          | 0/2000 [00:00<?, ?it/s]"
      ]
     },
     "metadata": {},
     "output_type": "display_data"
    },
    {
     "name": "stdout",
     "output_type": "stream",
     "text": [
      "<transformers.trainer_utils.EvalPrediction object at 0x7fe4ad5f2c30>\n",
      "[0 1 0 ... 0 3 1]\n",
      "{'eval_loss': 0.24554142355918884, 'eval_accuracy': 0.9475, 'eval_runtime': 28.4627, 'eval_samples_per_second': 421.604, 'eval_steps_per_second': 70.267, 'epoch': 5.0}\n",
      "{'loss': 0.023, 'grad_norm': 2.2293102741241455, 'learning_rate': 9.714285714285715e-06, 'epoch': 5.28}\n",
      "{'loss': 0.0275, 'grad_norm': 0.9552038311958313, 'learning_rate': 9.142857142857144e-06, 'epoch': 5.56}\n",
      "{'loss': 0.0289, 'grad_norm': 0.01760118640959263, 'learning_rate': 8.571428571428571e-06, 'epoch': 5.83}\n"
     ]
    },
    {
     "data": {
      "application/vnd.jupyter.widget-view+json": {
       "model_id": "5648036bf0744d739f19d300f0eaef26",
       "version_major": 2,
       "version_minor": 0
      },
      "text/plain": [
       "  0%|          | 0/2000 [00:00<?, ?it/s]"
      ]
     },
     "metadata": {},
     "output_type": "display_data"
    },
    {
     "name": "stdout",
     "output_type": "stream",
     "text": [
      "<transformers.trainer_utils.EvalPrediction object at 0x7fe3435c4620>\n",
      "[0 1 0 ... 0 3 1]\n",
      "{'eval_loss': 0.2865809202194214, 'eval_accuracy': 0.94675, 'eval_runtime': 28.4832, 'eval_samples_per_second': 421.301, 'eval_steps_per_second': 70.217, 'epoch': 6.0}\n",
      "{'loss': 0.0232, 'grad_norm': 0.9904390573501587, 'learning_rate': 8.000000000000001e-06, 'epoch': 6.11}\n",
      "{'loss': 0.0139, 'grad_norm': 14.774932861328125, 'learning_rate': 7.428571428571429e-06, 'epoch': 6.39}\n",
      "{'loss': 0.0184, 'grad_norm': 0.16236329078674316, 'learning_rate': 6.857142857142858e-06, 'epoch': 6.67}\n",
      "{'loss': 0.019, 'grad_norm': 3.843973159790039, 'learning_rate': 6.285714285714286e-06, 'epoch': 6.94}\n"
     ]
    },
    {
     "data": {
      "application/vnd.jupyter.widget-view+json": {
       "model_id": "4e2e4ba1957a45f68fe8ff62e9df30b0",
       "version_major": 2,
       "version_minor": 0
      },
      "text/plain": [
       "  0%|          | 0/2000 [00:00<?, ?it/s]"
      ]
     },
     "metadata": {},
     "output_type": "display_data"
    },
    {
     "name": "stdout",
     "output_type": "stream",
     "text": [
      "<transformers.trainer_utils.EvalPrediction object at 0x7fe3544c9340>\n",
      "[0 1 0 ... 0 3 1]\n",
      "{'eval_loss': 0.29700055718421936, 'eval_accuracy': 0.9454166666666667, 'eval_runtime': 28.4238, 'eval_samples_per_second': 422.182, 'eval_steps_per_second': 70.364, 'epoch': 7.0}\n",
      "{'loss': 0.0128, 'grad_norm': 0.015182258561253548, 'learning_rate': 5.7142857142857145e-06, 'epoch': 7.22}\n",
      "{'loss': 0.0128, 'grad_norm': 3.083203077316284, 'learning_rate': 5.142857142857142e-06, 'epoch': 7.5}\n",
      "{'loss': 0.0123, 'grad_norm': 2.5126218795776367, 'learning_rate': 4.571428571428572e-06, 'epoch': 7.78}\n"
     ]
    },
    {
     "data": {
      "application/vnd.jupyter.widget-view+json": {
       "model_id": "bd2022d5fa644c8ab7e7e7ebd9e8e8f1",
       "version_major": 2,
       "version_minor": 0
      },
      "text/plain": [
       "  0%|          | 0/2000 [00:00<?, ?it/s]"
      ]
     },
     "metadata": {},
     "output_type": "display_data"
    },
    {
     "name": "stdout",
     "output_type": "stream",
     "text": [
      "<transformers.trainer_utils.EvalPrediction object at 0x7fe35024b500>\n",
      "[0 1 0 ... 0 3 1]\n",
      "{'eval_loss': 0.3413599729537964, 'eval_accuracy': 0.94475, 'eval_runtime': 28.4661, 'eval_samples_per_second': 421.554, 'eval_steps_per_second': 70.259, 'epoch': 8.0}\n",
      "{'loss': 0.0108, 'grad_norm': 9.858368873596191, 'learning_rate': 4.000000000000001e-06, 'epoch': 8.06}\n",
      "{'loss': 0.0071, 'grad_norm': 0.007261401042342186, 'learning_rate': 3.428571428571429e-06, 'epoch': 8.33}\n",
      "{'loss': 0.0098, 'grad_norm': 13.920758247375488, 'learning_rate': 2.8571428571428573e-06, 'epoch': 8.61}\n",
      "{'loss': 0.0071, 'grad_norm': 0.015554862096905708, 'learning_rate': 2.285714285714286e-06, 'epoch': 8.89}\n"
     ]
    },
    {
     "data": {
      "application/vnd.jupyter.widget-view+json": {
       "model_id": "298347ddfabd4866a96d82b7000f0621",
       "version_major": 2,
       "version_minor": 0
      },
      "text/plain": [
       "  0%|          | 0/2000 [00:00<?, ?it/s]"
      ]
     },
     "metadata": {},
     "output_type": "display_data"
    },
    {
     "name": "stdout",
     "output_type": "stream",
     "text": [
      "<transformers.trainer_utils.EvalPrediction object at 0x7fe343520d40>\n",
      "[0 1 0 ... 0 3 1]\n",
      "{'eval_loss': 0.35324856638908386, 'eval_accuracy': 0.9445833333333333, 'eval_runtime': 30.6898, 'eval_samples_per_second': 391.009, 'eval_steps_per_second': 65.168, 'epoch': 9.0}\n",
      "{'loss': 0.0073, 'grad_norm': 0.025177249684929848, 'learning_rate': 1.7142857142857145e-06, 'epoch': 9.17}\n",
      "{'loss': 0.0055, 'grad_norm': 0.00795388501137495, 'learning_rate': 1.142857142857143e-06, 'epoch': 9.44}\n",
      "{'loss': 0.0043, 'grad_norm': 0.03480492904782295, 'learning_rate': 5.714285714285715e-07, 'epoch': 9.72}\n",
      "{'loss': 0.0047, 'grad_norm': 0.08840975165367126, 'learning_rate': 0.0, 'epoch': 10.0}\n"
     ]
    },
    {
     "data": {
      "application/vnd.jupyter.widget-view+json": {
       "model_id": "010d6aa6c3c54d24b45a16fcf7e2e883",
       "version_major": 2,
       "version_minor": 0
      },
      "text/plain": [
       "  0%|          | 0/2000 [00:00<?, ?it/s]"
      ]
     },
     "metadata": {},
     "output_type": "display_data"
    },
    {
     "name": "stdout",
     "output_type": "stream",
     "text": [
      "<transformers.trainer_utils.EvalPrediction object at 0x7fe343fc30b0>\n",
      "[0 1 0 ... 0 3 1]\n",
      "{'eval_loss': 0.36816588044166565, 'eval_accuracy': 0.9456666666666667, 'eval_runtime': 29.6945, 'eval_samples_per_second': 404.115, 'eval_steps_per_second': 67.353, 'epoch': 10.0}\n",
      "{'train_runtime': 8761.3935, 'train_samples_per_second': 123.268, 'train_steps_per_second': 2.054, 'train_loss': 0.07241007512145572, 'epoch': 10.0}\n"
     ]
    },
    {
     "data": {
      "text/plain": [
       "TrainOutput(global_step=18000, training_loss=0.07241007512145572, metrics={'train_runtime': 8761.3935, 'train_samples_per_second': 123.268, 'train_steps_per_second': 2.054, 'total_flos': 4.310505264840091e+16, 'train_loss': 0.07241007512145572, 'epoch': 10.0})"
      ]
     },
     "execution_count": 28,
     "metadata": {},
     "output_type": "execute_result"
    }
   ],
   "source": [
    "trainer_base2.train()"
   ]
  },
  {
   "cell_type": "code",
   "execution_count": 29,
   "metadata": {},
   "outputs": [
    {
     "data": {
      "application/vnd.jupyter.widget-view+json": {
       "model_id": "479d493d299a4307ac76c83e5ecab62c",
       "version_major": 2,
       "version_minor": 0
      },
      "text/plain": [
       "  0%|          | 0/2000 [00:00<?, ?it/s]"
      ]
     },
     "metadata": {},
     "output_type": "display_data"
    },
    {
     "name": "stdout",
     "output_type": "stream",
     "text": [
      "<transformers.trainer_utils.EvalPrediction object at 0x7fe4ad5f1e20>\n",
      "[0 1 0 ... 0 3 1]\n"
     ]
    },
    {
     "data": {
      "text/plain": [
       "{'eval_loss': 0.15320275723934174,\n",
       " 'eval_accuracy': 0.9488333333333333,\n",
       " 'eval_runtime': 29.5592,\n",
       " 'eval_samples_per_second': 405.965,\n",
       " 'eval_steps_per_second': 67.661,\n",
       " 'epoch': 10.0}"
      ]
     },
     "execution_count": 29,
     "metadata": {},
     "output_type": "execute_result"
    }
   ],
   "source": [
    "trainer_base2.evaluate()"
   ]
  },
  {
   "cell_type": "code",
   "execution_count": 30,
   "metadata": {},
   "outputs": [
    {
     "data": {
      "application/vnd.jupyter.widget-view+json": {
       "model_id": "66e7b19f175e4effa7cb1f8d168b1b09",
       "version_major": 2,
       "version_minor": 0
      },
      "text/plain": [
       "  0%|          | 0/1334 [00:00<?, ?it/s]"
      ]
     },
     "metadata": {},
     "output_type": "display_data"
    },
    {
     "name": "stdout",
     "output_type": "stream",
     "text": [
      "<transformers.trainer_utils.EvalPrediction object at 0x7fe35026d580>\n",
      "[2 1 0 ... 2 2 3]\n"
     ]
    },
    {
     "data": {
      "text/plain": [
       "PredictionOutput(predictions=array([[-2.5423956 , -3.0884962 ,  4.3865175 ,  1.6100146 ],\n",
       "       [-0.8968657 ,  6.9950275 , -2.1679425 , -2.5087392 ],\n",
       "       [ 4.901221  , -2.3245776 , -1.9817361 , -1.9158008 ],\n",
       "       ...,\n",
       "       [-2.4485288 , -2.607163  ,  4.793782  ,  0.74461323],\n",
       "       [-2.3475943 , -3.2123978 ,  4.4204826 ,  1.3702734 ],\n",
       "       [-1.1570982 , -4.186769  ,  0.43497297,  4.3110857 ]],\n",
       "      dtype=float32), label_ids=array([2, 1, 0, ..., 2, 2, 3]), metrics={'test_loss': 0.12433288246393204, 'test_accuracy': 0.95825, 'test_runtime': 17.9659, 'test_samples_per_second': 445.288, 'test_steps_per_second': 74.252})"
      ]
     },
     "execution_count": 30,
     "metadata": {},
     "output_type": "execute_result"
    }
   ],
   "source": [
    "predictions = trainer_base2.predict(test_dataset=tokenized_dataset_full2[\"test\"]) \n",
    "predictions"
   ]
  },
  {
   "cell_type": "code",
   "execution_count": 33,
   "metadata": {},
   "outputs": [
    {
     "name": "stdout",
     "output_type": "stream",
     "text": [
      "              precision    recall  f1-score   support\n",
      "\n",
      "           0       0.98      0.93      0.96      1943\n",
      "           1       0.99      0.99      0.99      1987\n",
      "           2       0.93      0.95      0.94      2049\n",
      "           3       0.94      0.96      0.95      2021\n",
      "\n",
      "    accuracy                           0.96      8000\n",
      "   macro avg       0.96      0.96      0.96      8000\n",
      "weighted avg       0.96      0.96      0.96      8000\n",
      "\n"
     ]
    }
   ],
   "source": [
    "print(classification_report(real_values, predictions.predictions.argmax(-1)))"
   ]
  },
  {
   "cell_type": "code",
   "execution_count": 31,
   "metadata": {},
   "outputs": [
    {
     "data": {
      "image/png": "[encoded data removed]",
      "text/plain": [
       "<Figure size 1000x700 with 2 Axes>"
      ]
     },
     "metadata": {},
     "output_type": "display_data"
    }
   ],
   "source": [
    "# The predictions are in a tuple, with the first element being the actual predictions\n",
    "predicted_labels = np.argmax(predictions[0], axis=1)\n",
    "\n",
    "# Assuming the labels in your dataset are stored in a 'label' column\n",
    "true_labels = [entry['label'] for entry in tokenized_dataset_full['test']]\n",
    "\n",
    "cm = confusion_matrix(true_labels, predicted_labels)\n",
    "\n",
    "# Plot the heatmap\n",
    "plt.figure(figsize=(10,7))\n",
    "sns.heatmap(cm, annot=True, fmt='d')\n",
    "plt.title('Confusion Matrix')\n",
    "plt.ylabel('Actual label')\n",
    "plt.xlabel('Predicted label')\n",
    "plt.show()"
   ]
  },
  {
   "cell_type": "markdown",
   "metadata": {},
   "source": [
    "## Domain Adaptation\n",
    "fabriceyhc/bert-base-uncased-yahoo_answers_topics"
   ]
  },
  {
   "cell_type": "code",
   "execution_count": 32,
   "metadata": {},
   "outputs": [
    {
     "ename": "KeyboardInterrupt",
     "evalue": "",
     "output_type": "error",
     "traceback": [
      "\u001b[0;31m---------------------------------------------------------------------------\u001b[0m",
      "\u001b[0;31mKeyboardInterrupt\u001b[0m                         Traceback (most recent call last)",
      "Cell \u001b[0;32mIn[32], line 4\u001b[0m\n\u001b[1;32m      2\u001b[0m \u001b[38;5;66;03m# Load the model and tokenizer\u001b[39;00m\n\u001b[1;32m      3\u001b[0m tokenizer \u001b[38;5;241m=\u001b[39m AutoTokenizer\u001b[38;5;241m.\u001b[39mfrom_pretrained(model_name)\n\u001b[0;32m----> 4\u001b[0m model \u001b[38;5;241m=\u001b[39m \u001b[43mAutoModelForSequenceClassification\u001b[49m\u001b[38;5;241;43m.\u001b[39;49m\u001b[43mfrom_pretrained\u001b[49m\u001b[43m(\u001b[49m\u001b[43mmodel_name\u001b[49m\u001b[43m)\u001b[49m\n\u001b[1;32m      6\u001b[0m model2 \u001b[38;5;241m=\u001b[39m AutoModelForSequenceClassification\u001b[38;5;241m.\u001b[39mfrom_pretrained(model_name)\n",
      "File \u001b[0;32m~/.local/lib/python3.12/site-packages/transformers/models/auto/auto_factory.py:563\u001b[0m, in \u001b[0;36m_BaseAutoModelClass.from_pretrained\u001b[0;34m(cls, pretrained_model_name_or_path, *model_args, **kwargs)\u001b[0m\n\u001b[1;32m    561\u001b[0m \u001b[38;5;28;01melif\u001b[39;00m \u001b[38;5;28mtype\u001b[39m(config) \u001b[38;5;129;01min\u001b[39;00m \u001b[38;5;28mcls\u001b[39m\u001b[38;5;241m.\u001b[39m_model_mapping\u001b[38;5;241m.\u001b[39mkeys():\n\u001b[1;32m    562\u001b[0m     model_class \u001b[38;5;241m=\u001b[39m _get_model_class(config, \u001b[38;5;28mcls\u001b[39m\u001b[38;5;241m.\u001b[39m_model_mapping)\n\u001b[0;32m--> 563\u001b[0m     \u001b[38;5;28;01mreturn\u001b[39;00m \u001b[43mmodel_class\u001b[49m\u001b[38;5;241;43m.\u001b[39;49m\u001b[43mfrom_pretrained\u001b[49m\u001b[43m(\u001b[49m\n\u001b[1;32m    564\u001b[0m \u001b[43m        \u001b[49m\u001b[43mpretrained_model_name_or_path\u001b[49m\u001b[43m,\u001b[49m\u001b[43m \u001b[49m\u001b[38;5;241;43m*\u001b[39;49m\u001b[43mmodel_args\u001b[49m\u001b[43m,\u001b[49m\u001b[43m \u001b[49m\u001b[43mconfig\u001b[49m\u001b[38;5;241;43m=\u001b[39;49m\u001b[43mconfig\u001b[49m\u001b[43m,\u001b[49m\u001b[43m \u001b[49m\u001b[38;5;241;43m*\u001b[39;49m\u001b[38;5;241;43m*\u001b[39;49m\u001b[43mhub_kwargs\u001b[49m\u001b[43m,\u001b[49m\u001b[43m \u001b[49m\u001b[38;5;241;43m*\u001b[39;49m\u001b[38;5;241;43m*\u001b[39;49m\u001b[43mkwargs\u001b[49m\n\u001b[1;32m    565\u001b[0m \u001b[43m    \u001b[49m\u001b[43m)\u001b[49m\n\u001b[1;32m    566\u001b[0m \u001b[38;5;28;01mraise\u001b[39;00m \u001b[38;5;167;01mValueError\u001b[39;00m(\n\u001b[1;32m    567\u001b[0m     \u001b[38;5;124mf\u001b[39m\u001b[38;5;124m\"\u001b[39m\u001b[38;5;124mUnrecognized configuration class \u001b[39m\u001b[38;5;132;01m{\u001b[39;00mconfig\u001b[38;5;241m.\u001b[39m\u001b[38;5;18m__class__\u001b[39m\u001b[38;5;132;01m}\u001b[39;00m\u001b[38;5;124m for this kind of AutoModel: \u001b[39m\u001b[38;5;132;01m{\u001b[39;00m\u001b[38;5;28mcls\u001b[39m\u001b[38;5;241m.\u001b[39m\u001b[38;5;18m__name__\u001b[39m\u001b[38;5;132;01m}\u001b[39;00m\u001b[38;5;124m.\u001b[39m\u001b[38;5;130;01m\\n\u001b[39;00m\u001b[38;5;124m\"\u001b[39m\n\u001b[1;32m    568\u001b[0m     \u001b[38;5;124mf\u001b[39m\u001b[38;5;124m\"\u001b[39m\u001b[38;5;124mModel type should be one of \u001b[39m\u001b[38;5;132;01m{\u001b[39;00m\u001b[38;5;124m'\u001b[39m\u001b[38;5;124m, \u001b[39m\u001b[38;5;124m'\u001b[39m\u001b[38;5;241m.\u001b[39mjoin(c\u001b[38;5;241m.\u001b[39m\u001b[38;5;18m__name__\u001b[39m\u001b[38;5;250m \u001b[39m\u001b[38;5;28;01mfor\u001b[39;00m\u001b[38;5;250m \u001b[39mc\u001b[38;5;250m \u001b[39m\u001b[38;5;129;01min\u001b[39;00m\u001b[38;5;250m \u001b[39m\u001b[38;5;28mcls\u001b[39m\u001b[38;5;241m.\u001b[39m_model_mapping\u001b[38;5;241m.\u001b[39mkeys())\u001b[38;5;132;01m}\u001b[39;00m\u001b[38;5;124m.\u001b[39m\u001b[38;5;124m\"\u001b[39m\n\u001b[1;32m    569\u001b[0m )\n",
      "File \u001b[0;32m~/.local/lib/python3.12/site-packages/transformers/modeling_utils.py:3677\u001b[0m, in \u001b[0;36mPreTrainedModel.from_pretrained\u001b[0;34m(cls, pretrained_model_name_or_path, config, cache_dir, ignore_mismatched_sizes, force_download, local_files_only, token, revision, use_safetensors, *model_args, **kwargs)\u001b[0m\n\u001b[1;32m   3668\u001b[0m     \u001b[38;5;28;01mif\u001b[39;00m dtype_orig \u001b[38;5;129;01mis\u001b[39;00m \u001b[38;5;129;01mnot\u001b[39;00m \u001b[38;5;28;01mNone\u001b[39;00m:\n\u001b[1;32m   3669\u001b[0m         torch\u001b[38;5;241m.\u001b[39mset_default_dtype(dtype_orig)\n\u001b[1;32m   3670\u001b[0m     (\n\u001b[1;32m   3671\u001b[0m         model,\n\u001b[1;32m   3672\u001b[0m         missing_keys,\n\u001b[1;32m   3673\u001b[0m         unexpected_keys,\n\u001b[1;32m   3674\u001b[0m         mismatched_keys,\n\u001b[1;32m   3675\u001b[0m         offload_index,\n\u001b[1;32m   3676\u001b[0m         error_msgs,\n\u001b[0;32m-> 3677\u001b[0m     ) \u001b[38;5;241m=\u001b[39m \u001b[38;5;28;43mcls\u001b[39;49m\u001b[38;5;241;43m.\u001b[39;49m\u001b[43m_load_pretrained_model\u001b[49m\u001b[43m(\u001b[49m\n\u001b[1;32m   3678\u001b[0m \u001b[43m        \u001b[49m\u001b[43mmodel\u001b[49m\u001b[43m,\u001b[49m\n\u001b[1;32m   3679\u001b[0m \u001b[43m        \u001b[49m\u001b[43mstate_dict\u001b[49m\u001b[43m,\u001b[49m\n\u001b[1;32m   3680\u001b[0m \u001b[43m        \u001b[49m\u001b[43mloaded_state_dict_keys\u001b[49m\u001b[43m,\u001b[49m\u001b[43m  \u001b[49m\u001b[38;5;66;43;03m# XXX: rename?\u001b[39;49;00m\n\u001b[1;32m   3681\u001b[0m \u001b[43m        \u001b[49m\u001b[43mresolved_archive_file\u001b[49m\u001b[43m,\u001b[49m\n\u001b[1;32m   3682\u001b[0m \u001b[43m        \u001b[49m\u001b[43mpretrained_model_name_or_path\u001b[49m\u001b[43m,\u001b[49m\n\u001b[1;32m   3683\u001b[0m \u001b[43m        \u001b[49m\u001b[43mignore_mismatched_sizes\u001b[49m\u001b[38;5;241;43m=\u001b[39;49m\u001b[43mignore_mismatched_sizes\u001b[49m\u001b[43m,\u001b[49m\n\u001b[1;32m   3684\u001b[0m \u001b[43m        \u001b[49m\u001b[43msharded_metadata\u001b[49m\u001b[38;5;241;43m=\u001b[39;49m\u001b[43msharded_metadata\u001b[49m\u001b[43m,\u001b[49m\n\u001b[1;32m   3685\u001b[0m \u001b[43m        \u001b[49m\u001b[43m_fast_init\u001b[49m\u001b[38;5;241;43m=\u001b[39;49m\u001b[43m_fast_init\u001b[49m\u001b[43m,\u001b[49m\n\u001b[1;32m   3686\u001b[0m \u001b[43m        \u001b[49m\u001b[43mlow_cpu_mem_usage\u001b[49m\u001b[38;5;241;43m=\u001b[39;49m\u001b[43mlow_cpu_mem_usage\u001b[49m\u001b[43m,\u001b[49m\n\u001b[1;32m   3687\u001b[0m \u001b[43m        \u001b[49m\u001b[43mdevice_map\u001b[49m\u001b[38;5;241;43m=\u001b[39;49m\u001b[43mdevice_map\u001b[49m\u001b[43m,\u001b[49m\n\u001b[1;32m   3688\u001b[0m \u001b[43m        \u001b[49m\u001b[43moffload_folder\u001b[49m\u001b[38;5;241;43m=\u001b[39;49m\u001b[43moffload_folder\u001b[49m\u001b[43m,\u001b[49m\n\u001b[1;32m   3689\u001b[0m \u001b[43m        \u001b[49m\u001b[43moffload_state_dict\u001b[49m\u001b[38;5;241;43m=\u001b[39;49m\u001b[43moffload_state_dict\u001b[49m\u001b[43m,\u001b[49m\n\u001b[1;32m   3690\u001b[0m \u001b[43m        \u001b[49m\u001b[43mdtype\u001b[49m\u001b[38;5;241;43m=\u001b[39;49m\u001b[43mtorch_dtype\u001b[49m\u001b[43m,\u001b[49m\n\u001b[1;32m   3691\u001b[0m \u001b[43m        \u001b[49m\u001b[43mhf_quantizer\u001b[49m\u001b[38;5;241;43m=\u001b[39;49m\u001b[43mhf_quantizer\u001b[49m\u001b[43m,\u001b[49m\n\u001b[1;32m   3692\u001b[0m \u001b[43m        \u001b[49m\u001b[43mkeep_in_fp32_modules\u001b[49m\u001b[38;5;241;43m=\u001b[39;49m\u001b[43mkeep_in_fp32_modules\u001b[49m\u001b[43m,\u001b[49m\n\u001b[1;32m   3693\u001b[0m \u001b[43m    \u001b[49m\u001b[43m)\u001b[49m\n\u001b[1;32m   3695\u001b[0m \u001b[38;5;66;03m# make sure token embedding weights are still tied if needed\u001b[39;00m\n\u001b[1;32m   3696\u001b[0m model\u001b[38;5;241m.\u001b[39mtie_weights()\n",
      "File \u001b[0;32m~/.local/lib/python3.12/site-packages/transformers/modeling_utils.py:4050\u001b[0m, in \u001b[0;36mPreTrainedModel._load_pretrained_model\u001b[0;34m(cls, model, state_dict, loaded_keys, resolved_archive_file, pretrained_model_name_or_path, ignore_mismatched_sizes, sharded_metadata, _fast_init, low_cpu_mem_usage, device_map, offload_folder, offload_state_dict, dtype, hf_quantizer, keep_in_fp32_modules)\u001b[0m\n\u001b[1;32m   4040\u001b[0m \u001b[38;5;28;01mif\u001b[39;00m state_dict \u001b[38;5;129;01mis\u001b[39;00m \u001b[38;5;129;01mnot\u001b[39;00m \u001b[38;5;28;01mNone\u001b[39;00m:\n\u001b[1;32m   4041\u001b[0m     \u001b[38;5;66;03m# Whole checkpoint\u001b[39;00m\n\u001b[1;32m   4042\u001b[0m     mismatched_keys \u001b[38;5;241m=\u001b[39m _find_mismatched_keys(\n\u001b[1;32m   4043\u001b[0m         state_dict,\n\u001b[1;32m   4044\u001b[0m         model_state_dict,\n\u001b[0;32m   (...)\u001b[0m\n\u001b[1;32m   4048\u001b[0m         ignore_mismatched_sizes,\n\u001b[1;32m   4049\u001b[0m     )\n\u001b[0;32m-> 4050\u001b[0m     error_msgs \u001b[38;5;241m=\u001b[39m \u001b[43m_load_state_dict_into_model\u001b[49m\u001b[43m(\u001b[49m\u001b[43mmodel_to_load\u001b[49m\u001b[43m,\u001b[49m\u001b[43m \u001b[49m\u001b[43mstate_dict\u001b[49m\u001b[43m,\u001b[49m\u001b[43m \u001b[49m\u001b[43mstart_prefix\u001b[49m\u001b[43m)\u001b[49m\n\u001b[1;32m   4051\u001b[0m     offload_index \u001b[38;5;241m=\u001b[39m \u001b[38;5;28;01mNone\u001b[39;00m\n\u001b[1;32m   4052\u001b[0m \u001b[38;5;28;01melse\u001b[39;00m:\n\u001b[1;32m   4053\u001b[0m     \u001b[38;5;66;03m# Sharded checkpoint or whole but low_cpu_mem_usage==True\u001b[39;00m\n\u001b[1;32m   4054\u001b[0m \n\u001b[1;32m   4055\u001b[0m     \u001b[38;5;66;03m# This should always be a list but, just to be sure.\u001b[39;00m\n",
      "File \u001b[0;32m~/.local/lib/python3.12/site-packages/transformers/modeling_utils.py:702\u001b[0m, in \u001b[0;36m_load_state_dict_into_model\u001b[0;34m(model_to_load, state_dict, start_prefix)\u001b[0m\n\u001b[1;32m    699\u001b[0m         \u001b[38;5;28;01mif\u001b[39;00m child \u001b[38;5;129;01mis\u001b[39;00m \u001b[38;5;129;01mnot\u001b[39;00m \u001b[38;5;28;01mNone\u001b[39;00m:\n\u001b[1;32m    700\u001b[0m             load(child, state_dict, prefix \u001b[38;5;241m+\u001b[39m name \u001b[38;5;241m+\u001b[39m \u001b[38;5;124m\"\u001b[39m\u001b[38;5;124m.\u001b[39m\u001b[38;5;124m\"\u001b[39m)\n\u001b[0;32m--> 702\u001b[0m \u001b[43mload\u001b[49m\u001b[43m(\u001b[49m\u001b[43mmodel_to_load\u001b[49m\u001b[43m,\u001b[49m\u001b[43m \u001b[49m\u001b[43mstate_dict\u001b[49m\u001b[43m,\u001b[49m\u001b[43m \u001b[49m\u001b[43mprefix\u001b[49m\u001b[38;5;241;43m=\u001b[39;49m\u001b[43mstart_prefix\u001b[49m\u001b[43m)\u001b[49m\n\u001b[1;32m    703\u001b[0m \u001b[38;5;66;03m# Delete `state_dict` so it could be collected by GC earlier. Note that `state_dict` is a copy of the argument, so\u001b[39;00m\n\u001b[1;32m    704\u001b[0m \u001b[38;5;66;03m# it's safe to delete it.\u001b[39;00m\n\u001b[1;32m    705\u001b[0m \u001b[38;5;28;01mdel\u001b[39;00m state_dict\n",
      "File \u001b[0;32m~/.local/lib/python3.12/site-packages/transformers/modeling_utils.py:700\u001b[0m, in \u001b[0;36m_load_state_dict_into_model.<locals>.load\u001b[0;34m(module, state_dict, prefix)\u001b[0m\n\u001b[1;32m    698\u001b[0m \u001b[38;5;28;01mfor\u001b[39;00m name, child \u001b[38;5;129;01min\u001b[39;00m module\u001b[38;5;241m.\u001b[39m_modules\u001b[38;5;241m.\u001b[39mitems():\n\u001b[1;32m    699\u001b[0m     \u001b[38;5;28;01mif\u001b[39;00m child \u001b[38;5;129;01mis\u001b[39;00m \u001b[38;5;129;01mnot\u001b[39;00m \u001b[38;5;28;01mNone\u001b[39;00m:\n\u001b[0;32m--> 700\u001b[0m         \u001b[43mload\u001b[49m\u001b[43m(\u001b[49m\u001b[43mchild\u001b[49m\u001b[43m,\u001b[49m\u001b[43m \u001b[49m\u001b[43mstate_dict\u001b[49m\u001b[43m,\u001b[49m\u001b[43m \u001b[49m\u001b[43mprefix\u001b[49m\u001b[43m \u001b[49m\u001b[38;5;241;43m+\u001b[39;49m\u001b[43m \u001b[49m\u001b[43mname\u001b[49m\u001b[43m \u001b[49m\u001b[38;5;241;43m+\u001b[39;49m\u001b[43m \u001b[49m\u001b[38;5;124;43m\"\u001b[39;49m\u001b[38;5;124;43m.\u001b[39;49m\u001b[38;5;124;43m\"\u001b[39;49m\u001b[43m)\u001b[49m\n",
      "File \u001b[0;32m~/.local/lib/python3.12/site-packages/transformers/modeling_utils.py:700\u001b[0m, in \u001b[0;36m_load_state_dict_into_model.<locals>.load\u001b[0;34m(module, state_dict, prefix)\u001b[0m\n\u001b[1;32m    698\u001b[0m \u001b[38;5;28;01mfor\u001b[39;00m name, child \u001b[38;5;129;01min\u001b[39;00m module\u001b[38;5;241m.\u001b[39m_modules\u001b[38;5;241m.\u001b[39mitems():\n\u001b[1;32m    699\u001b[0m     \u001b[38;5;28;01mif\u001b[39;00m child \u001b[38;5;129;01mis\u001b[39;00m \u001b[38;5;129;01mnot\u001b[39;00m \u001b[38;5;28;01mNone\u001b[39;00m:\n\u001b[0;32m--> 700\u001b[0m         \u001b[43mload\u001b[49m\u001b[43m(\u001b[49m\u001b[43mchild\u001b[49m\u001b[43m,\u001b[49m\u001b[43m \u001b[49m\u001b[43mstate_dict\u001b[49m\u001b[43m,\u001b[49m\u001b[43m \u001b[49m\u001b[43mprefix\u001b[49m\u001b[43m \u001b[49m\u001b[38;5;241;43m+\u001b[39;49m\u001b[43m \u001b[49m\u001b[43mname\u001b[49m\u001b[43m \u001b[49m\u001b[38;5;241;43m+\u001b[39;49m\u001b[43m \u001b[49m\u001b[38;5;124;43m\"\u001b[39;49m\u001b[38;5;124;43m.\u001b[39;49m\u001b[38;5;124;43m\"\u001b[39;49m\u001b[43m)\u001b[49m\n",
      "File \u001b[0;32m~/.local/lib/python3.12/site-packages/transformers/modeling_utils.py:700\u001b[0m, in \u001b[0;36m_load_state_dict_into_model.<locals>.load\u001b[0;34m(module, state_dict, prefix)\u001b[0m\n\u001b[1;32m    698\u001b[0m \u001b[38;5;28;01mfor\u001b[39;00m name, child \u001b[38;5;129;01min\u001b[39;00m module\u001b[38;5;241m.\u001b[39m_modules\u001b[38;5;241m.\u001b[39mitems():\n\u001b[1;32m    699\u001b[0m     \u001b[38;5;28;01mif\u001b[39;00m child \u001b[38;5;129;01mis\u001b[39;00m \u001b[38;5;129;01mnot\u001b[39;00m \u001b[38;5;28;01mNone\u001b[39;00m:\n\u001b[0;32m--> 700\u001b[0m         \u001b[43mload\u001b[49m\u001b[43m(\u001b[49m\u001b[43mchild\u001b[49m\u001b[43m,\u001b[49m\u001b[43m \u001b[49m\u001b[43mstate_dict\u001b[49m\u001b[43m,\u001b[49m\u001b[43m \u001b[49m\u001b[43mprefix\u001b[49m\u001b[43m \u001b[49m\u001b[38;5;241;43m+\u001b[39;49m\u001b[43m \u001b[49m\u001b[43mname\u001b[49m\u001b[43m \u001b[49m\u001b[38;5;241;43m+\u001b[39;49m\u001b[43m \u001b[49m\u001b[38;5;124;43m\"\u001b[39;49m\u001b[38;5;124;43m.\u001b[39;49m\u001b[38;5;124;43m\"\u001b[39;49m\u001b[43m)\u001b[49m\n",
      "File \u001b[0;32m~/.local/lib/python3.12/site-packages/transformers/modeling_utils.py:696\u001b[0m, in \u001b[0;36m_load_state_dict_into_model.<locals>.load\u001b[0;34m(module, state_dict, prefix)\u001b[0m\n\u001b[1;32m    694\u001b[0m                     module\u001b[38;5;241m.\u001b[39m_load_from_state_dict(\u001b[38;5;241m*\u001b[39margs)\n\u001b[1;32m    695\u001b[0m     \u001b[38;5;28;01melse\u001b[39;00m:\n\u001b[0;32m--> 696\u001b[0m         \u001b[43mmodule\u001b[49m\u001b[38;5;241;43m.\u001b[39;49m\u001b[43m_load_from_state_dict\u001b[49m\u001b[43m(\u001b[49m\u001b[38;5;241;43m*\u001b[39;49m\u001b[43margs\u001b[49m\u001b[43m)\u001b[49m\n\u001b[1;32m    698\u001b[0m \u001b[38;5;28;01mfor\u001b[39;00m name, child \u001b[38;5;129;01min\u001b[39;00m module\u001b[38;5;241m.\u001b[39m_modules\u001b[38;5;241m.\u001b[39mitems():\n\u001b[1;32m    699\u001b[0m     \u001b[38;5;28;01mif\u001b[39;00m child \u001b[38;5;129;01mis\u001b[39;00m \u001b[38;5;129;01mnot\u001b[39;00m \u001b[38;5;28;01mNone\u001b[39;00m:\n",
      "File \u001b[0;32m~/.local/lib/python3.12/site-packages/torch/nn/modules/module.py:2075\u001b[0m, in \u001b[0;36mModule._load_from_state_dict\u001b[0;34m(self, state_dict, prefix, local_metadata, strict, missing_keys, unexpected_keys, error_msgs)\u001b[0m\n\u001b[1;32m   2073\u001b[0m             \u001b[38;5;28msetattr\u001b[39m(\u001b[38;5;28mself\u001b[39m, name, input_param)\n\u001b[1;32m   2074\u001b[0m         \u001b[38;5;28;01melse\u001b[39;00m:\n\u001b[0;32m-> 2075\u001b[0m             \u001b[43mparam\u001b[49m\u001b[38;5;241;43m.\u001b[39;49m\u001b[43mcopy_\u001b[49m\u001b[43m(\u001b[49m\u001b[43minput_param\u001b[49m\u001b[43m)\u001b[49m\n\u001b[1;32m   2076\u001b[0m \u001b[38;5;28;01mexcept\u001b[39;00m \u001b[38;5;167;01mException\u001b[39;00m \u001b[38;5;28;01mas\u001b[39;00m ex:\n\u001b[1;32m   2077\u001b[0m     action \u001b[38;5;241m=\u001b[39m \u001b[38;5;124m\"\u001b[39m\u001b[38;5;124mswapping\u001b[39m\u001b[38;5;124m\"\u001b[39m \u001b[38;5;28;01mif\u001b[39;00m use_swap_tensors \u001b[38;5;28;01melse\u001b[39;00m \u001b[38;5;124m\"\u001b[39m\u001b[38;5;124mcopying\u001b[39m\u001b[38;5;124m\"\u001b[39m\n",
      "\u001b[0;31mKeyboardInterrupt\u001b[0m: "
     ]
    }
   ],
   "source": [
    "model_name = \"fabriceyhc/bert-base-uncased-yahoo_answers_topics\"\n",
    "# Load the model and tokenizer\n",
    "tokenizer = AutoTokenizer.from_pretrained(model_name)\n",
    "model = AutoModelForSequenceClassification.from_pretrained(model_name)\n",
    "\n",
    "model2 = AutoModelForSequenceClassification.from_pretrained(model_name)"
   ]
  },
  {
   "cell_type": "code",
   "execution_count": null,
   "metadata": {},
   "outputs": [],
   "source": [
    "def preprocess_function(sample):\n",
    "    return tokenizer(sample[\"text\"], truncation=True)"
   ]
  },
  {
   "cell_type": "code",
   "execution_count": null,
   "metadata": {},
   "outputs": [
    {
     "data": {
      "application/vnd.jupyter.widget-view+json": {
       "model_id": "803be32003ba40b3b371e14bb2f3ddf9",
       "version_major": 2,
       "version_minor": 0
      },
      "text/plain": [
       "Map:   0%|          | 0/28800 [00:00<?, ? examples/s]"
      ]
     },
     "metadata": {},
     "output_type": "display_data"
    },
    {
     "data": {
      "application/vnd.jupyter.widget-view+json": {
       "model_id": "1610e90545d34ff49e81978e7f0f6eab",
       "version_major": 2,
       "version_minor": 0
      },
      "text/plain": [
       "Map:   0%|          | 0/8000 [00:00<?, ? examples/s]"
      ]
     },
     "metadata": {},
     "output_type": "display_data"
    },
    {
     "data": {
      "application/vnd.jupyter.widget-view+json": {
       "model_id": "0af60c39ad804e05b44fe1a23fbda3cd",
       "version_major": 2,
       "version_minor": 0
      },
      "text/plain": [
       "Map:   0%|          | 0/3200 [00:00<?, ? examples/s]"
      ]
     },
     "metadata": {},
     "output_type": "display_data"
    },
    {
     "data": {
      "text/plain": [
       "DatasetDict({\n",
       "    train: Dataset({\n",
       "        features: ['text', 'label', 'input_ids', 'token_type_ids', 'attention_mask'],\n",
       "        num_rows: 28800\n",
       "    })\n",
       "    test: Dataset({\n",
       "        features: ['text', 'label', 'input_ids', 'token_type_ids', 'attention_mask'],\n",
       "        num_rows: 8000\n",
       "    })\n",
       "    validation: Dataset({\n",
       "        features: ['text', 'label', 'input_ids', 'token_type_ids', 'attention_mask'],\n",
       "        num_rows: 3200\n",
       "    })\n",
       "})"
      ]
     },
     "execution_count": 16,
     "metadata": {},
     "output_type": "execute_result"
    }
   ],
   "source": [
    "tokenized_dataset = train_valid_test_dataset.map(preprocess_function, batched=True)\n",
    "tokenized_dataset"
   ]
  },
  {
   "cell_type": "code",
   "execution_count": null,
   "metadata": {},
   "outputs": [],
   "source": [
    "metric = load(\"accuracy\")\n",
    "\n",
    "def compute_metrics(eval_pred):\n",
    "    print(eval_pred)\n",
    "    logits, labels = eval_pred\n",
    "    predictions = np.argmax(logits, axis=-1)\n",
    "    print(predictions)\n",
    "    predictions_converted = [label_converter[entry] for entry in predictions]\n",
    "    # print(predictions_converted)\n",
    "    return metric.compute(predictions=predictions, references=labels)\n",
    "\n",
    "training_args = TrainingArguments(\n",
    "    output_dir=\"./results-domain\",\n",
    "    learning_rate=2e-5,\n",
    "    per_device_train_batch_size=6,\n",
    "    per_device_eval_batch_size=6,\n",
    "    num_train_epochs=10,\n",
    "    weight_decay=0.01,\n",
    "    evaluation_strategy=\"epoch\", # run validation at the end of each epoch\n",
    "    save_strategy=\"epoch\",\n",
    "    load_best_model_at_end=True,\n",
    "    gradient_accumulation_steps=10\n",
    ")\n",
    "\n",
    "data_collator = DataCollatorWithPadding(tokenizer=tokenizer)\n",
    "\n",
    "trainer3 = Trainer(\n",
    "    model=model,\n",
    "    args=training_args,\n",
    "    train_dataset=tokenized_dataset[\"train\"],\n",
    "    eval_dataset=tokenized_dataset[\"validation\"],\n",
    "    tokenizer=tokenizer,\n",
    "    data_collator=data_collator,\n",
    "    compute_metrics=compute_metrics\n",
    ")"
   ]
  },
  {
   "cell_type": "code",
   "execution_count": null,
   "metadata": {},
   "outputs": [
    {
     "data": {
      "application/vnd.jupyter.widget-view+json": {
       "model_id": "4f4b34fd737846c5b69e7e19a01fdbae",
       "version_major": 2,
       "version_minor": 0
      },
      "text/plain": [
       "  0%|          | 0/4800 [00:00<?, ?it/s]"
      ]
     },
     "metadata": {},
     "output_type": "display_data"
    },
    {
     "data": {
      "application/vnd.jupyter.widget-view+json": {
       "model_id": "3fa81cf45608458ca4cd6b7a7e97c9cc",
       "version_major": 2,
       "version_minor": 0
      },
      "text/plain": [
       "  0%|          | 0/534 [00:00<?, ?it/s]"
      ]
     },
     "metadata": {},
     "output_type": "display_data"
    },
    {
     "name": "stdout",
     "output_type": "stream",
     "text": [
      "<transformers.trainer_utils.EvalPrediction object at 0x7ff34e2a8800>\n",
      "[0 1 3 ... 3 1 3]\n",
      "{'eval_loss': 0.21742577850818634, 'eval_accuracy': 0.923125, 'eval_runtime': 6.9209, 'eval_samples_per_second': 462.37, 'eval_steps_per_second': 77.158, 'epoch': 1.0}\n",
      "{'loss': 0.36, 'grad_norm': 5.903355598449707, 'learning_rate': 1.7916666666666667e-05, 'epoch': 1.04}\n"
     ]
    },
    {
     "data": {
      "application/vnd.jupyter.widget-view+json": {
       "model_id": "4d9cb1a230ca42f38a2fb8a9af7edb63",
       "version_major": 2,
       "version_minor": 0
      },
      "text/plain": [
       "  0%|          | 0/534 [00:00<?, ?it/s]"
      ]
     },
     "metadata": {},
     "output_type": "display_data"
    },
    {
     "name": "stdout",
     "output_type": "stream",
     "text": [
      "<transformers.trainer_utils.EvalPrediction object at 0x7ff34e29a660>\n",
      "[0 1 3 ... 3 1 2]\n",
      "{'eval_loss': 0.2065533995628357, 'eval_accuracy': 0.929375, 'eval_runtime': 6.9233, 'eval_samples_per_second': 462.208, 'eval_steps_per_second': 77.131, 'epoch': 2.0}\n",
      "{'loss': 0.17, 'grad_norm': 2.675908088684082, 'learning_rate': 1.5833333333333333e-05, 'epoch': 2.08}\n"
     ]
    },
    {
     "data": {
      "application/vnd.jupyter.widget-view+json": {
       "model_id": "7cf57560bd384a499167205157f0c0ea",
       "version_major": 2,
       "version_minor": 0
      },
      "text/plain": [
       "  0%|          | 0/534 [00:00<?, ?it/s]"
      ]
     },
     "metadata": {},
     "output_type": "display_data"
    },
    {
     "name": "stdout",
     "output_type": "stream",
     "text": [
      "<transformers.trainer_utils.EvalPrediction object at 0x7ff34e2a8800>\n",
      "[0 1 3 ... 3 1 2]\n",
      "{'eval_loss': 0.24816586077213287, 'eval_accuracy': 0.928125, 'eval_runtime': 6.8756, 'eval_samples_per_second': 465.414, 'eval_steps_per_second': 77.666, 'epoch': 3.0}\n",
      "{'loss': 0.1092, 'grad_norm': 1.5544408559799194, 'learning_rate': 1.375e-05, 'epoch': 3.12}\n"
     ]
    },
    {
     "data": {
      "application/vnd.jupyter.widget-view+json": {
       "model_id": "e470521af9494a59a2525c53137308da",
       "version_major": 2,
       "version_minor": 0
      },
      "text/plain": [
       "  0%|          | 0/534 [00:00<?, ?it/s]"
      ]
     },
     "metadata": {},
     "output_type": "display_data"
    },
    {
     "name": "stdout",
     "output_type": "stream",
     "text": [
      "<transformers.trainer_utils.EvalPrediction object at 0x7ff34e2a8800>\n",
      "[0 1 3 ... 3 1 3]\n",
      "{'eval_loss': 0.28295090794563293, 'eval_accuracy': 0.9259375, 'eval_runtime': 6.94, 'eval_samples_per_second': 461.092, 'eval_steps_per_second': 76.945, 'epoch': 4.0}\n",
      "{'loss': 0.0621, 'grad_norm': 0.2844797372817993, 'learning_rate': 1.1666666666666668e-05, 'epoch': 4.17}\n"
     ]
    },
    {
     "data": {
      "application/vnd.jupyter.widget-view+json": {
       "model_id": "9954594ba80f4629bab089ce371686cc",
       "version_major": 2,
       "version_minor": 0
      },
      "text/plain": [
       "  0%|          | 0/534 [00:00<?, ?it/s]"
      ]
     },
     "metadata": {},
     "output_type": "display_data"
    },
    {
     "name": "stdout",
     "output_type": "stream",
     "text": [
      "<transformers.trainer_utils.EvalPrediction object at 0x7ff34e2a8800>\n",
      "[0 1 3 ... 3 1 2]\n",
      "{'eval_loss': 0.3400699198246002, 'eval_accuracy': 0.9259375, 'eval_runtime': 6.8888, 'eval_samples_per_second': 464.525, 'eval_steps_per_second': 77.518, 'epoch': 5.0}\n",
      "{'loss': 0.0361, 'grad_norm': 0.4728167653083801, 'learning_rate': 9.583333333333335e-06, 'epoch': 5.21}\n"
     ]
    },
    {
     "data": {
      "application/vnd.jupyter.widget-view+json": {
       "model_id": "6ba838371ec04207885e1823e94b79b4",
       "version_major": 2,
       "version_minor": 0
      },
      "text/plain": [
       "  0%|          | 0/534 [00:00<?, ?it/s]"
      ]
     },
     "metadata": {},
     "output_type": "display_data"
    },
    {
     "name": "stdout",
     "output_type": "stream",
     "text": [
      "<transformers.trainer_utils.EvalPrediction object at 0x7ff35b54e990>\n",
      "[0 1 3 ... 3 1 2]\n",
      "{'eval_loss': 0.39228150248527527, 'eval_accuracy': 0.929375, 'eval_runtime': 6.9213, 'eval_samples_per_second': 462.338, 'eval_steps_per_second': 77.153, 'epoch': 6.0}\n",
      "{'loss': 0.0201, 'grad_norm': 7.8845415115356445, 'learning_rate': 7.500000000000001e-06, 'epoch': 6.25}\n"
     ]
    },
    {
     "data": {
      "application/vnd.jupyter.widget-view+json": {
       "model_id": "6f4b0e09b289445881edaf734c79fb0e",
       "version_major": 2,
       "version_minor": 0
      },
      "text/plain": [
       "  0%|          | 0/534 [00:00<?, ?it/s]"
      ]
     },
     "metadata": {},
     "output_type": "display_data"
    },
    {
     "name": "stdout",
     "output_type": "stream",
     "text": [
      "<transformers.trainer_utils.EvalPrediction object at 0x7ff34e2a8800>\n",
      "[0 1 3 ... 3 1 2]\n",
      "{'eval_loss': 0.473702609539032, 'eval_accuracy': 0.920625, 'eval_runtime': 6.8935, 'eval_samples_per_second': 464.209, 'eval_steps_per_second': 77.465, 'epoch': 7.0}\n",
      "{'loss': 0.0118, 'grad_norm': 5.136019229888916, 'learning_rate': 5.416666666666667e-06, 'epoch': 7.29}\n"
     ]
    },
    {
     "data": {
      "application/vnd.jupyter.widget-view+json": {
       "model_id": "2f3d5a0789ec40d9802d2104725422b0",
       "version_major": 2,
       "version_minor": 0
      },
      "text/plain": [
       "  0%|          | 0/534 [00:00<?, ?it/s]"
      ]
     },
     "metadata": {},
     "output_type": "display_data"
    },
    {
     "name": "stdout",
     "output_type": "stream",
     "text": [
      "<transformers.trainer_utils.EvalPrediction object at 0x7ff34e2a8800>\n",
      "[0 1 3 ... 3 1 2]\n",
      "{'eval_loss': 0.47052618861198425, 'eval_accuracy': 0.924375, 'eval_runtime': 6.9428, 'eval_samples_per_second': 460.912, 'eval_steps_per_second': 76.915, 'epoch': 8.0}\n",
      "{'loss': 0.0053, 'grad_norm': 0.007930993102490902, 'learning_rate': 3.3333333333333333e-06, 'epoch': 8.33}\n"
     ]
    },
    {
     "data": {
      "application/vnd.jupyter.widget-view+json": {
       "model_id": "9954b604c7604ba49d3891d17571d282",
       "version_major": 2,
       "version_minor": 0
      },
      "text/plain": [
       "  0%|          | 0/534 [00:00<?, ?it/s]"
      ]
     },
     "metadata": {},
     "output_type": "display_data"
    },
    {
     "name": "stdout",
     "output_type": "stream",
     "text": [
      "<transformers.trainer_utils.EvalPrediction object at 0x7ff35b5b5700>\n",
      "[0 1 3 ... 3 1 2]\n",
      "{'eval_loss': 0.48669007420539856, 'eval_accuracy': 0.92625, 'eval_runtime': 6.8873, 'eval_samples_per_second': 464.624, 'eval_steps_per_second': 77.534, 'epoch': 9.0}\n",
      "{'loss': 0.0045, 'grad_norm': 0.05511951446533203, 'learning_rate': 1.25e-06, 'epoch': 9.38}\n"
     ]
    },
    {
     "data": {
      "application/vnd.jupyter.widget-view+json": {
       "model_id": "6d2c7bd1c6624510882061bd146bf2a2",
       "version_major": 2,
       "version_minor": 0
      },
      "text/plain": [
       "  0%|          | 0/534 [00:00<?, ?it/s]"
      ]
     },
     "metadata": {},
     "output_type": "display_data"
    },
    {
     "name": "stdout",
     "output_type": "stream",
     "text": [
      "<transformers.trainer_utils.EvalPrediction object at 0x7ff35fe7c1a0>\n",
      "[0 1 3 ... 3 1 2]\n",
      "{'eval_loss': 0.49571990966796875, 'eval_accuracy': 0.9253125, 'eval_runtime': 6.912, 'eval_samples_per_second': 462.964, 'eval_steps_per_second': 77.257, 'epoch': 10.0}\n",
      "{'train_runtime': 2187.6544, 'train_samples_per_second': 131.648, 'train_steps_per_second': 2.194, 'train_loss': 0.08137987608710925, 'epoch': 10.0}\n"
     ]
    },
    {
     "data": {
      "text/plain": [
       "TrainOutput(global_step=4800, training_loss=0.08137987608710925, metrics={'train_runtime': 2187.6544, 'train_samples_per_second': 131.648, 'train_steps_per_second': 2.194, 'total_flos': 1.0202728301754912e+16, 'train_loss': 0.08137987608710925, 'epoch': 10.0})"
      ]
     },
     "execution_count": 18,
     "metadata": {},
     "output_type": "execute_result"
    }
   ],
   "source": [
    "trainer3.train()"
   ]
  },
  {
   "cell_type": "code",
   "execution_count": null,
   "metadata": {},
   "outputs": [
    {
     "data": {
      "application/vnd.jupyter.widget-view+json": {
       "model_id": "3d1c619477c04b8d918fb4e54ac07c68",
       "version_major": 2,
       "version_minor": 0
      },
      "text/plain": [
       "  0%|          | 0/534 [00:00<?, ?it/s]"
      ]
     },
     "metadata": {},
     "output_type": "display_data"
    },
    {
     "name": "stdout",
     "output_type": "stream",
     "text": [
      "<transformers.trainer_utils.EvalPrediction object at 0x7ff36951f470>\n",
      "[0 1 3 ... 3 1 2]\n"
     ]
    },
    {
     "data": {
      "text/plain": [
       "{'eval_loss': 0.2065533995628357,\n",
       " 'eval_accuracy': 0.929375,\n",
       " 'eval_runtime': 6.9064,\n",
       " 'eval_samples_per_second': 463.337,\n",
       " 'eval_steps_per_second': 77.319,\n",
       " 'epoch': 10.0}"
      ]
     },
     "execution_count": 19,
     "metadata": {},
     "output_type": "execute_result"
    }
   ],
   "source": [
    "trainer3.evaluate()"
   ]
  },
  {
   "cell_type": "code",
   "execution_count": null,
   "metadata": {},
   "outputs": [
    {
     "data": {
      "application/vnd.jupyter.widget-view+json": {
       "model_id": "004e893d69e34a00852593b019261592",
       "version_major": 2,
       "version_minor": 0
      },
      "text/plain": [
       "  0%|          | 0/1334 [00:00<?, ?it/s]"
      ]
     },
     "metadata": {},
     "output_type": "display_data"
    },
    {
     "name": "stdout",
     "output_type": "stream",
     "text": [
      "<transformers.trainer_utils.EvalPrediction object at 0x7ff33d5d99a0>\n",
      "[2 1 0 ... 2 2 3]\n"
     ]
    },
    {
     "data": {
      "text/plain": [
       "PredictionOutput(predictions=array([[ 0.25328532, -1.0758101 ,  5.8665304 , ..., -2.739812  ,\n",
       "        -2.7687647 , -2.3524551 ],\n",
       "       [ 0.63322246,  7.781567  , -0.2877586 , ..., -1.529082  ,\n",
       "        -2.095355  , -1.1481286 ],\n",
       "       [ 7.2837725 , -0.76884305, -0.02042841, ..., -1.6331748 ,\n",
       "        -1.7183628 , -0.6097688 ],\n",
       "       ...,\n",
       "       [ 0.21842286, -1.0997226 ,  5.7400165 , ..., -2.7615316 ,\n",
       "        -2.7218728 , -2.3803773 ],\n",
       "       [ 0.7957248 , -1.0080624 ,  6.4979997 , ..., -2.9433818 ,\n",
       "        -2.791173  , -2.187606  ],\n",
       "       [ 0.29826576, -1.5790974 ,  3.1420786 , ..., -1.6780468 ,\n",
       "        -2.8136857 , -2.33598   ]], dtype=float32), label_ids=array([2, 1, 0, ..., 2, 2, 3]), metrics={'test_loss': 0.21210025250911713, 'test_accuracy': 0.928, 'test_runtime': 17.0949, 'test_samples_per_second': 467.976, 'test_steps_per_second': 78.035})"
      ]
     },
     "execution_count": 25,
     "metadata": {},
     "output_type": "execute_result"
    }
   ],
   "source": [
    "predictions = trainer3.predict(test_dataset=tokenized_dataset[\"test\"])\n",
    "predictions"
   ]
  },
  {
   "cell_type": "code",
   "execution_count": null,
   "metadata": {},
   "outputs": [
    {
     "ename": "NameError",
     "evalue": "name 'real_values' is not defined",
     "output_type": "error",
     "traceback": [
      "\u001b[0;31m---------------------------------------------------------------------------\u001b[0m",
      "\u001b[0;31mNameError\u001b[0m                                 Traceback (most recent call last)",
      "Cell \u001b[0;32mIn[28], line 1\u001b[0m\n\u001b[0;32m----> 1\u001b[0m \u001b[38;5;28mprint\u001b[39m(classification_report(\u001b[43mreal_values\u001b[49m, predictions\u001b[38;5;241m.\u001b[39mpredictions\u001b[38;5;241m.\u001b[39margmax(\u001b[38;5;241m-\u001b[39m\u001b[38;5;241m1\u001b[39m)))\n",
      "\u001b[0;31mNameError\u001b[0m: name 'real_values' is not defined"
     ]
    }
   ],
   "source": [
    "print(classification_report(real_values, predictions.predictions.argmax(-1)))"
   ]
  },
  {
   "cell_type": "code",
   "execution_count": null,
   "metadata": {},
   "outputs": [],
   "source": [
    "# The predictions are in a tuple, with the first element being the actual predictions\n",
    "predicted_labels = np.argmax(predictions[0], axis=1)\n",
    "\n",
    "# Assuming the labels in your dataset are stored in a 'label' column\n",
    "true_labels = [entry['label'] for entry in tokenized_dataset['test']]\n",
    "\n",
    "cm = confusion_matrix(true_labels, predicted_labels)\n",
    "\n",
    "# Plot the heatmap\n",
    "plt.figure(figsize=(10,7))\n",
    "sns.heatmap(cm, annot=True, fmt='d')\n",
    "plt.title('Confusion Matrix')\n",
    "plt.ylabel('Actual label')\n",
    "plt.xlabel('Predicted label')\n",
    "plt.show()"
   ]
  },
  {
   "cell_type": "markdown",
   "metadata": {},
   "source": [
    "## Save the models"
   ]
  },
  {
   "cell_type": "code",
   "execution_count": null,
   "metadata": {},
   "outputs": [],
   "source": [
    "trainer.save_model()\n",
    "trainer3.save_model()"
   ]
  }
 ],
 "metadata": {
  "kernelspec": {
   "display_name": "myenv",
   "language": "python",
   "name": "python3"
  },
  "language_info": {
   "codemirror_mode": {
    "name": "ipython",
    "version": 3
   },
   "file_extension": ".py",
   "mimetype": "text/x-python",
   "name": "python",
   "nbconvert_exporter": "python",
   "pygments_lexer": "ipython3",
   "version": "3.12.3"
  }
 },
 "nbformat": 4,
 "nbformat_minor": 2
}
