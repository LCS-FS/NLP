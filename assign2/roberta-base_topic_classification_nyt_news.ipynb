{
 "cells": [
  {
   "cell_type": "markdown",
   "metadata": {},
   "source": [
    "# Dependencies"
   ]
  },
  {
   "cell_type": "code",
   "execution_count": 2,
   "metadata": {},
   "outputs": [],
   "source": [
    "# !pip install pandas\n",
    "# !pip install transformers\n",
    "# !pip install --upgrade jupyter ipywidgets\n",
    "# !pip install torch torchvision torchaudio\n",
    "# !pip install tensorflow\n",
    "# !pip install flax\n",
    "# !pip install evaluate"
   ]
  },
  {
   "cell_type": "code",
   "execution_count": 3,
   "metadata": {},
   "outputs": [],
   "source": [
    "import pandas as pd\n",
    "from datasets import Dataset, DatasetDict\n",
    "from transformers import pipeline\n",
    "from sklearn.metrics import classification_report, confusion_matrix, confusion_matrix, accuracy_score, precision_score, recall_score, f1_score\n",
    "import matplotlib.pyplot as plt\n",
    "import seaborn as sns\n",
    "from transformers import AutoTokenizer, AutoModelForSequenceClassification, TrainingArguments, Trainer, DataCollatorWithPadding\n",
    "from evaluate import load\n",
    "import numpy as np"
   ]
  },
  {
   "cell_type": "markdown",
   "metadata": {},
   "source": [
    "# Import data"
   ]
  },
  {
   "cell_type": "code",
   "execution_count": 4,
   "metadata": {},
   "outputs": [
    {
     "data": {
      "text/html": [
       "<div>\n",
       "<style scoped>\n",
       "    .dataframe tbody tr th:only-of-type {\n",
       "        vertical-align: middle;\n",
       "    }\n",
       "\n",
       "    .dataframe tbody tr th {\n",
       "        vertical-align: top;\n",
       "    }\n",
       "\n",
       "    .dataframe thead th {\n",
       "        text-align: right;\n",
       "    }\n",
       "</style>\n",
       "<table border=\"1\" class=\"dataframe\">\n",
       "  <thead>\n",
       "    <tr style=\"text-align: right;\">\n",
       "      <th></th>\n",
       "      <th>text</th>\n",
       "      <th>label</th>\n",
       "    </tr>\n",
       "  </thead>\n",
       "  <tbody>\n",
       "    <tr>\n",
       "      <th>0</th>\n",
       "      <td>Explosion Rocks Baghdad Neighborhood BAGHDAD, ...</td>\n",
       "      <td>0</td>\n",
       "    </tr>\n",
       "    <tr>\n",
       "      <th>1</th>\n",
       "      <td>BBC reporters' log BBC correspondents record e...</td>\n",
       "      <td>0</td>\n",
       "    </tr>\n",
       "    <tr>\n",
       "      <th>2</th>\n",
       "      <td>Israel welcomes Rice nomination; Palestinians ...</td>\n",
       "      <td>0</td>\n",
       "    </tr>\n",
       "    <tr>\n",
       "      <th>3</th>\n",
       "      <td>Medical Journal Calls for a New Drug Watchdog ...</td>\n",
       "      <td>0</td>\n",
       "    </tr>\n",
       "    <tr>\n",
       "      <th>4</th>\n",
       "      <td>Militants Kidnap Relatives of Iraqi Minister-T...</td>\n",
       "      <td>0</td>\n",
       "    </tr>\n",
       "    <tr>\n",
       "      <th>...</th>\n",
       "      <td>...</td>\n",
       "      <td>...</td>\n",
       "    </tr>\n",
       "    <tr>\n",
       "      <th>39995</th>\n",
       "      <td>Microsoft Tests MSN Messenger 7.0 Updated chat...</td>\n",
       "      <td>3</td>\n",
       "    </tr>\n",
       "    <tr>\n",
       "      <th>39996</th>\n",
       "      <td>Vonage talks of 911 advancements In Rhode Isla...</td>\n",
       "      <td>3</td>\n",
       "    </tr>\n",
       "    <tr>\n",
       "      <th>39997</th>\n",
       "      <td>Exploring Venus: The Hothouse Planet Before sp...</td>\n",
       "      <td>3</td>\n",
       "    </tr>\n",
       "    <tr>\n",
       "      <th>39998</th>\n",
       "      <td>PayPal to Impose Fines for Breaking Bans  - On...</td>\n",
       "      <td>3</td>\n",
       "    </tr>\n",
       "    <tr>\n",
       "      <th>39999</th>\n",
       "      <td>Glaciers are flowing faster Ice is sliding off...</td>\n",
       "      <td>3</td>\n",
       "    </tr>\n",
       "  </tbody>\n",
       "</table>\n",
       "<p>40000 rows × 2 columns</p>\n",
       "</div>"
      ],
      "text/plain": [
       "                                                    text  label\n",
       "0      Explosion Rocks Baghdad Neighborhood BAGHDAD, ...      0\n",
       "1      BBC reporters' log BBC correspondents record e...      0\n",
       "2      Israel welcomes Rice nomination; Palestinians ...      0\n",
       "3      Medical Journal Calls for a New Drug Watchdog ...      0\n",
       "4      Militants Kidnap Relatives of Iraqi Minister-T...      0\n",
       "...                                                  ...    ...\n",
       "39995  Microsoft Tests MSN Messenger 7.0 Updated chat...      3\n",
       "39996  Vonage talks of 911 advancements In Rhode Isla...      3\n",
       "39997  Exploring Venus: The Hothouse Planet Before sp...      3\n",
       "39998  PayPal to Impose Fines for Breaking Bans  - On...      3\n",
       "39999  Glaciers are flowing faster Ice is sliding off...      3\n",
       "\n",
       "[40000 rows x 2 columns]"
      ]
     },
     "execution_count": 4,
     "metadata": {},
     "output_type": "execute_result"
    }
   ],
   "source": [
    "data = pd.read_csv(\"dataset/small_data_sample.csv\")\n",
    "data"
   ]
  },
  {
   "cell_type": "markdown",
   "metadata": {},
   "source": [
    "---"
   ]
  },
  {
   "cell_type": "code",
   "execution_count": 5,
   "metadata": {},
   "outputs": [
    {
     "data": {
      "text/html": [
       "<div>\n",
       "<style scoped>\n",
       "    .dataframe tbody tr th:only-of-type {\n",
       "        vertical-align: middle;\n",
       "    }\n",
       "\n",
       "    .dataframe tbody tr th {\n",
       "        vertical-align: top;\n",
       "    }\n",
       "\n",
       "    .dataframe thead th {\n",
       "        text-align: right;\n",
       "    }\n",
       "</style>\n",
       "<table border=\"1\" class=\"dataframe\">\n",
       "  <thead>\n",
       "    <tr style=\"text-align: right;\">\n",
       "      <th></th>\n",
       "      <th>text</th>\n",
       "      <th>label</th>\n",
       "    </tr>\n",
       "  </thead>\n",
       "  <tbody>\n",
       "    <tr>\n",
       "      <th>0</th>\n",
       "      <td>Wall St. Bears Claw Back Into the Black (Reute...</td>\n",
       "      <td>2</td>\n",
       "    </tr>\n",
       "    <tr>\n",
       "      <th>1</th>\n",
       "      <td>Carlyle Looks Toward Commercial Aerospace (Reu...</td>\n",
       "      <td>2</td>\n",
       "    </tr>\n",
       "    <tr>\n",
       "      <th>2</th>\n",
       "      <td>Oil and Economy Cloud Stocks' Outlook (Reuters...</td>\n",
       "      <td>2</td>\n",
       "    </tr>\n",
       "    <tr>\n",
       "      <th>3</th>\n",
       "      <td>Iraq Halts Oil Exports from Main Southern Pipe...</td>\n",
       "      <td>2</td>\n",
       "    </tr>\n",
       "    <tr>\n",
       "      <th>4</th>\n",
       "      <td>Oil prices soar to all-time record, posing new...</td>\n",
       "      <td>2</td>\n",
       "    </tr>\n",
       "    <tr>\n",
       "      <th>...</th>\n",
       "      <td>...</td>\n",
       "      <td>...</td>\n",
       "    </tr>\n",
       "    <tr>\n",
       "      <th>119995</th>\n",
       "      <td>Pakistan's Musharraf Says Won't Quit as Army C...</td>\n",
       "      <td>0</td>\n",
       "    </tr>\n",
       "    <tr>\n",
       "      <th>119996</th>\n",
       "      <td>Renteria signing a top-shelf deal Red Sox gene...</td>\n",
       "      <td>1</td>\n",
       "    </tr>\n",
       "    <tr>\n",
       "      <th>119997</th>\n",
       "      <td>Saban not going to Dolphins yet The Miami Dolp...</td>\n",
       "      <td>1</td>\n",
       "    </tr>\n",
       "    <tr>\n",
       "      <th>119998</th>\n",
       "      <td>Today's NFL games PITTSBURGH at NY GIANTS Time...</td>\n",
       "      <td>1</td>\n",
       "    </tr>\n",
       "    <tr>\n",
       "      <th>119999</th>\n",
       "      <td>Nets get Carter from Raptors INDIANAPOLIS -- A...</td>\n",
       "      <td>1</td>\n",
       "    </tr>\n",
       "  </tbody>\n",
       "</table>\n",
       "<p>120000 rows × 2 columns</p>\n",
       "</div>"
      ],
      "text/plain": [
       "                                                     text  label\n",
       "0       Wall St. Bears Claw Back Into the Black (Reute...      2\n",
       "1       Carlyle Looks Toward Commercial Aerospace (Reu...      2\n",
       "2       Oil and Economy Cloud Stocks' Outlook (Reuters...      2\n",
       "3       Iraq Halts Oil Exports from Main Southern Pipe...      2\n",
       "4       Oil prices soar to all-time record, posing new...      2\n",
       "...                                                   ...    ...\n",
       "119995  Pakistan's Musharraf Says Won't Quit as Army C...      0\n",
       "119996  Renteria signing a top-shelf deal Red Sox gene...      1\n",
       "119997  Saban not going to Dolphins yet The Miami Dolp...      1\n",
       "119998  Today's NFL games PITTSBURGH at NY GIANTS Time...      1\n",
       "119999  Nets get Carter from Raptors INDIANAPOLIS -- A...      1\n",
       "\n",
       "[120000 rows x 2 columns]"
      ]
     },
     "execution_count": 5,
     "metadata": {},
     "output_type": "execute_result"
    }
   ],
   "source": [
    "# full dataset\n",
    "data_full = pd.read_csv(\"dataset/training_data.csv\")\n",
    "data_full"
   ]
  },
  {
   "cell_type": "code",
   "execution_count": 6,
   "metadata": {},
   "outputs": [],
   "source": [
    "dataset_hf = Dataset.from_pandas(data)\n",
    "dataset_hf_full = Dataset.from_pandas(data_full)"
   ]
  },
  {
   "cell_type": "code",
   "execution_count": 7,
   "metadata": {},
   "outputs": [],
   "source": [
    "# 80% train + validation, 20% test\n",
    "train_test = dataset_hf.train_test_split(test_size=0.2, seed=42)\n",
    "# Split the 80% train+validation set in 90% train, 10% validation\n",
    "train_valid = train_test['train'].train_test_split(test_size=0.1)\n",
    "\n",
    "test_set = set([item['text'] for item in train_test['test']])\n",
    "# The remaining data will be the train and validation set\n",
    "train_valid_indices = list(set(range(len(dataset_hf_full))) - test_set)\n",
    "train_valid_set_full = dataset_hf_full.select(train_valid_indices)\n",
    "\n",
    "# Now you can split the train and validation set as before\n",
    "train_valid_full = train_valid_set_full.train_test_split(test_size=0.1)\n",
    "\n",
    "train_valid_test_dataset = DatasetDict({\n",
    "    'train': train_valid['train'],\n",
    "    'test': train_test['test'],\n",
    "    'validation': train_valid['test']\n",
    "})\n",
    "\n",
    "train_valid_test_dataset_full = DatasetDict({\n",
    "    'train': train_valid_full['train'],\n",
    "    'test': train_test['test'], # keep the same test set as the small dataset\n",
    "    'validation': train_valid_full['test']\n",
    "})\n"
   ]
  },
  {
   "cell_type": "code",
   "execution_count": 8,
   "metadata": {},
   "outputs": [
    {
     "data": {
      "text/plain": [
       "DatasetDict({\n",
       "    train: Dataset({\n",
       "        features: ['text', 'label'],\n",
       "        num_rows: 28800\n",
       "    })\n",
       "    test: Dataset({\n",
       "        features: ['text', 'label'],\n",
       "        num_rows: 8000\n",
       "    })\n",
       "    validation: Dataset({\n",
       "        features: ['text', 'label'],\n",
       "        num_rows: 3200\n",
       "    })\n",
       "})"
      ]
     },
     "execution_count": 8,
     "metadata": {},
     "output_type": "execute_result"
    }
   ],
   "source": [
    "train_valid_test_dataset"
   ]
  },
  {
   "cell_type": "code",
   "execution_count": 9,
   "metadata": {},
   "outputs": [
    {
     "data": {
      "text/plain": [
       "DatasetDict({\n",
       "    train: Dataset({\n",
       "        features: ['text', 'label'],\n",
       "        num_rows: 108000\n",
       "    })\n",
       "    test: Dataset({\n",
       "        features: ['text', 'label'],\n",
       "        num_rows: 8000\n",
       "    })\n",
       "    validation: Dataset({\n",
       "        features: ['text', 'label'],\n",
       "        num_rows: 12000\n",
       "    })\n",
       "})"
      ]
     },
     "execution_count": 9,
     "metadata": {},
     "output_type": "execute_result"
    }
   ],
   "source": [
    "train_valid_test_dataset_full"
   ]
  },
  {
   "cell_type": "markdown",
   "metadata": {},
   "source": [
    "---"
   ]
  },
  {
   "cell_type": "markdown",
   "metadata": {},
   "source": [
    "| Model Label | Model Label Value | -> | Data Label | Data Label Value |\n",
    "| -------- | -------- | -------- | -------- | -------- |\n",
    "| 0 | Sports | -> | 1 | Sports |\n",
    "| 1 | Arts, Culture, and Entertainment | -> | 0 | World |\n",
    "| 2 | Business and Finance | -> | 2 | Business |\n",
    "| 3 | Health and Wellness | -> | 0 | World |\n",
    "| 4 | Lifestyle and Fashion | -> | 0 | World |\n",
    "| 5 | Science and Technology | -> | 3 | Sci/Tech |\n",
    "| 6 | Politics | -> | 0 | World |\n",
    "| 7 | Crime | -> | 0 | World |"
   ]
  },
  {
   "cell_type": "code",
   "execution_count": 10,
   "metadata": {},
   "outputs": [],
   "source": [
    "label_converter = {\n",
    "    0: 1,\n",
    "    1: 0,\n",
    "    2: 2,\n",
    "    3: 0,\n",
    "    4: 0,\n",
    "    5: 3,\n",
    "    6: 0,\n",
    "    7: 0\n",
    "}"
   ]
  },
  {
   "cell_type": "code",
   "execution_count": 11,
   "metadata": {},
   "outputs": [],
   "source": [
    "label_dict = {\n",
    "    0: 'World', \n",
    "    1: 'Sports', \n",
    "    2: 'Business',\n",
    "    3: 'Sci/Tech'\n",
    "}"
   ]
  },
  {
   "cell_type": "code",
   "execution_count": 12,
   "metadata": {},
   "outputs": [],
   "source": [
    "model_name = \"dstefa/roberta-base_topic_classification_nyt_news\"\n",
    "\n",
    "predictions_dict = {\n",
    "    \"Sports\": 1,\n",
    "    \"Arts, Culture, and Entertainment\": 0,\n",
    "    \"Business and Finance\": 2,\n",
    "    \"Health and Wellness\": 0,\n",
    "    \"Lifestyle and Fashion\": 0,\n",
    "    \"Science and Technology\": 3,\n",
    "    \"Politics\": 0,\n",
    "    \"Crime\": 0\n",
    "}"
   ]
  },
  {
   "cell_type": "code",
   "execution_count": 13,
   "metadata": {},
   "outputs": [],
   "source": [
    "def print_metrics(y_test, y_pred):\n",
    "    print(confusion_matrix(y_test, y_pred))\n",
    "    print('Accuracy: ', accuracy_score(y_test, y_pred))\n",
    "    print('Precision: ', precision_score(y_test, y_pred, average='macro'))\n",
    "    print('Recall: ', recall_score(y_test, y_pred, average='macro'))\n",
    "    print('F1: ', f1_score(y_test, y_pred, average='macro'))"
   ]
  },
  {
   "cell_type": "markdown",
   "metadata": {},
   "source": [
    "# Transformer Pipeline"
   ]
  },
  {
   "cell_type": "code",
   "execution_count": 23,
   "metadata": {},
   "outputs": [],
   "source": [
    "classifier = pipeline(model=model_name)\n",
    "classifier2 = pipeline(model=model_name)"
   ]
  },
  {
   "cell_type": "markdown",
   "metadata": {},
   "source": [
    "## smaller data set"
   ]
  },
  {
   "cell_type": "code",
   "execution_count": 24,
   "metadata": {},
   "outputs": [
    {
     "ename": "KeyError",
     "evalue": "'LABEL_6'",
     "output_type": "error",
     "traceback": [
      "\u001b[0;31m---------------------------------------------------------------------------\u001b[0m",
      "\u001b[0;31mKeyError\u001b[0m                                  Traceback (most recent call last)",
      "Cell \u001b[0;32mIn[24], line 2\u001b[0m\n\u001b[1;32m      1\u001b[0m predictions \u001b[38;5;241m=\u001b[39m [classifier(row)[\u001b[38;5;241m0\u001b[39m][\u001b[38;5;124m'\u001b[39m\u001b[38;5;124mlabel\u001b[39m\u001b[38;5;124m'\u001b[39m] \u001b[38;5;28;01mfor\u001b[39;00m row \u001b[38;5;129;01min\u001b[39;00m train_valid_test_dataset[\u001b[38;5;124m'\u001b[39m\u001b[38;5;124mtest\u001b[39m\u001b[38;5;124m'\u001b[39m][\u001b[38;5;124m'\u001b[39m\u001b[38;5;124mtext\u001b[39m\u001b[38;5;124m'\u001b[39m]]\n\u001b[0;32m----> 2\u001b[0m converted_predictions \u001b[38;5;241m=\u001b[39m [\u001b[43mpredictions_dict\u001b[49m\u001b[43m[\u001b[49m\u001b[43mentry\u001b[49m\u001b[43m]\u001b[49m \u001b[38;5;28;01mfor\u001b[39;00m entry \u001b[38;5;129;01min\u001b[39;00m predictions]\n\u001b[1;32m      3\u001b[0m real_values \u001b[38;5;241m=\u001b[39m [\u001b[38;5;28mint\u001b[39m(actual_label) \u001b[38;5;28;01mfor\u001b[39;00m actual_label \u001b[38;5;129;01min\u001b[39;00m train_valid_test_dataset[\u001b[38;5;124m'\u001b[39m\u001b[38;5;124mtest\u001b[39m\u001b[38;5;124m'\u001b[39m][\u001b[38;5;124m'\u001b[39m\u001b[38;5;124mlabel\u001b[39m\u001b[38;5;124m'\u001b[39m]]\n\u001b[1;32m      4\u001b[0m \u001b[38;5;28mprint\u001b[39m(classification_report(real_values, converted_predictions))\n",
      "\u001b[0;31mKeyError\u001b[0m: 'LABEL_6'"
     ]
    }
   ],
   "source": [
    "predictions = [classifier(row)[0]['label'] for row in train_valid_test_dataset['test']['text']]\n",
    "converted_predictions = [predictions_dict[entry] for entry in predictions]\n",
    "real_values = [int(actual_label) for actual_label in train_valid_test_dataset['test']['label']]\n",
    "print(classification_report(real_values, converted_predictions))"
   ]
  },
  {
   "cell_type": "code",
   "execution_count": null,
   "metadata": {},
   "outputs": [
    {
     "data": {
      "image/png": "[encoded data removed]",
      "text/plain": [
       "<Figure size 1000x700 with 2 Axes>"
      ]
     },
     "metadata": {},
     "output_type": "display_data"
    }
   ],
   "source": [
    "# Generate the confusion matrix\n",
    "cm = confusion_matrix(real_values, converted_predictions)\n",
    "\n",
    "# Plot the heatmap\n",
    "plt.figure(figsize=(10,7))\n",
    "sns.heatmap(cm, annot=True, fmt='d')\n",
    "plt.title('Confusion Matrix')\n",
    "plt.ylabel('Actual label')\n",
    "plt.xlabel('Predicted label')\n",
    "plt.show()"
   ]
  },
  {
   "cell_type": "markdown",
   "metadata": {},
   "source": [
    "# Fine-tuning "
   ]
  },
  {
   "cell_type": "markdown",
   "metadata": {},
   "source": [
    "## Tokenize dataset"
   ]
  },
  {
   "cell_type": "code",
   "execution_count": 62,
   "metadata": {},
   "outputs": [],
   "source": [
    "# Load the model and tokenizer\n",
    "tokenizer = AutoTokenizer.from_pretrained(model_name)\n",
    "model = AutoModelForSequenceClassification.from_pretrained(model_name)\n",
    "\n",
    "model2 = AutoModelForSequenceClassification.from_pretrained(model_name)"
   ]
  },
  {
   "cell_type": "code",
   "execution_count": 63,
   "metadata": {},
   "outputs": [],
   "source": [
    "def preprocess_function(sample):\n",
    "    return tokenizer(sample[\"text\"], truncation=True)"
   ]
  },
  {
   "cell_type": "code",
   "execution_count": 64,
   "metadata": {},
   "outputs": [
    {
     "data": {
      "application/vnd.jupyter.widget-view+json": {
       "model_id": "6d2a09fbe38b4d97b6c825bf4daa411e",
       "version_major": 2,
       "version_minor": 0
      },
      "text/plain": [
       "Map:   0%|          | 0/28800 [00:00<?, ? examples/s]"
      ]
     },
     "metadata": {},
     "output_type": "display_data"
    },
    {
     "data": {
      "application/vnd.jupyter.widget-view+json": {
       "model_id": "1944531147434ad3bc755aacfdca2538",
       "version_major": 2,
       "version_minor": 0
      },
      "text/plain": [
       "Map:   0%|          | 0/8000 [00:00<?, ? examples/s]"
      ]
     },
     "metadata": {},
     "output_type": "display_data"
    },
    {
     "data": {
      "application/vnd.jupyter.widget-view+json": {
       "model_id": "cb327ed2fae54374bcf03a7c69649b1b",
       "version_major": 2,
       "version_minor": 0
      },
      "text/plain": [
       "Map:   0%|          | 0/3200 [00:00<?, ? examples/s]"
      ]
     },
     "metadata": {},
     "output_type": "display_data"
    },
    {
     "data": {
      "application/vnd.jupyter.widget-view+json": {
       "model_id": "cf2e7ce3462d4c17bb12b98d6ddd1e18",
       "version_major": 2,
       "version_minor": 0
      },
      "text/plain": [
       "Map:   0%|          | 0/108000 [00:00<?, ? examples/s]"
      ]
     },
     "metadata": {},
     "output_type": "display_data"
    },
    {
     "data": {
      "application/vnd.jupyter.widget-view+json": {
       "model_id": "ac64272dba7e415c9e57a052c6120366",
       "version_major": 2,
       "version_minor": 0
      },
      "text/plain": [
       "Map:   0%|          | 0/8000 [00:00<?, ? examples/s]"
      ]
     },
     "metadata": {},
     "output_type": "display_data"
    },
    {
     "data": {
      "application/vnd.jupyter.widget-view+json": {
       "model_id": "ec6f8581d36a40d5a18dc93f465f48fd",
       "version_major": 2,
       "version_minor": 0
      },
      "text/plain": [
       "Map:   0%|          | 0/12000 [00:00<?, ? examples/s]"
      ]
     },
     "metadata": {},
     "output_type": "display_data"
    },
    {
     "data": {
      "text/plain": [
       "DatasetDict({\n",
       "    train: Dataset({\n",
       "        features: ['text', 'label', 'input_ids', 'attention_mask'],\n",
       "        num_rows: 108000\n",
       "    })\n",
       "    test: Dataset({\n",
       "        features: ['text', 'label', 'input_ids', 'attention_mask'],\n",
       "        num_rows: 8000\n",
       "    })\n",
       "    validation: Dataset({\n",
       "        features: ['text', 'label', 'input_ids', 'attention_mask'],\n",
       "        num_rows: 12000\n",
       "    })\n",
       "})"
      ]
     },
     "execution_count": 64,
     "metadata": {},
     "output_type": "execute_result"
    }
   ],
   "source": [
    "tokenized_dataset = train_valid_test_dataset.map(preprocess_function, batched=True)\n",
    "tokenized_dataset\n",
    "\n",
    "tokenized_dataset_full = train_valid_test_dataset_full.map(preprocess_function, batched=True)\n",
    "tokenized_dataset_full"
   ]
  },
  {
   "cell_type": "markdown",
   "metadata": {},
   "source": [
    "## Finetune the model"
   ]
  },
  {
   "cell_type": "code",
   "execution_count": 65,
   "metadata": {},
   "outputs": [
    {
     "ename": "RuntimeError",
     "evalue": "CUDA error: device-side assert triggered\nCUDA kernel errors might be asynchronously reported at some other API call, so the stacktrace below might be incorrect.\nFor debugging consider passing CUDA_LAUNCH_BLOCKING=1.\nCompile with `TORCH_USE_CUDA_DSA` to enable device-side assertions.\n",
     "output_type": "error",
     "traceback": [
      "\u001b[0;31m---------------------------------------------------------------------------\u001b[0m",
      "\u001b[0;31mRuntimeError\u001b[0m                              Traceback (most recent call last)",
      "Cell \u001b[0;32mIn[65], line 27\u001b[0m\n\u001b[1;32m     12\u001b[0m training_args \u001b[38;5;241m=\u001b[39m TrainingArguments(\n\u001b[1;32m     13\u001b[0m     output_dir\u001b[38;5;241m=\u001b[39m\u001b[38;5;124m\"\u001b[39m\u001b[38;5;124m./results\u001b[39m\u001b[38;5;124m\"\u001b[39m,\n\u001b[1;32m     14\u001b[0m     learning_rate\u001b[38;5;241m=\u001b[39m\u001b[38;5;241m2e-5\u001b[39m,\n\u001b[0;32m   (...)\u001b[0m\n\u001b[1;32m     22\u001b[0m     gradient_accumulation_steps\u001b[38;5;241m=\u001b[39m\u001b[38;5;241m10\u001b[39m\n\u001b[1;32m     23\u001b[0m )\n\u001b[1;32m     25\u001b[0m data_collator \u001b[38;5;241m=\u001b[39m DataCollatorWithPadding(tokenizer\u001b[38;5;241m=\u001b[39mtokenizer)\n\u001b[0;32m---> 27\u001b[0m trainer \u001b[38;5;241m=\u001b[39m \u001b[43mTrainer\u001b[49m\u001b[43m(\u001b[49m\n\u001b[1;32m     28\u001b[0m \u001b[43m    \u001b[49m\u001b[43mmodel\u001b[49m\u001b[38;5;241;43m=\u001b[39;49m\u001b[43mmodel\u001b[49m\u001b[43m,\u001b[49m\n\u001b[1;32m     29\u001b[0m \u001b[43m    \u001b[49m\u001b[43margs\u001b[49m\u001b[38;5;241;43m=\u001b[39;49m\u001b[43mtraining_args\u001b[49m\u001b[43m,\u001b[49m\n\u001b[1;32m     30\u001b[0m \u001b[43m    \u001b[49m\u001b[43mtrain_dataset\u001b[49m\u001b[38;5;241;43m=\u001b[39;49m\u001b[43mtokenized_dataset\u001b[49m\u001b[43m[\u001b[49m\u001b[38;5;124;43m\"\u001b[39;49m\u001b[38;5;124;43mtrain\u001b[39;49m\u001b[38;5;124;43m\"\u001b[39;49m\u001b[43m]\u001b[49m\u001b[43m,\u001b[49m\n\u001b[1;32m     31\u001b[0m \u001b[43m    \u001b[49m\u001b[43meval_dataset\u001b[49m\u001b[38;5;241;43m=\u001b[39;49m\u001b[43mtokenized_dataset\u001b[49m\u001b[43m[\u001b[49m\u001b[38;5;124;43m\"\u001b[39;49m\u001b[38;5;124;43mvalidation\u001b[39;49m\u001b[38;5;124;43m\"\u001b[39;49m\u001b[43m]\u001b[49m\u001b[43m,\u001b[49m\n\u001b[1;32m     32\u001b[0m \u001b[43m    \u001b[49m\u001b[43mtokenizer\u001b[49m\u001b[38;5;241;43m=\u001b[39;49m\u001b[43mtokenizer\u001b[49m\u001b[43m,\u001b[49m\n\u001b[1;32m     33\u001b[0m \u001b[43m    \u001b[49m\u001b[43mdata_collator\u001b[49m\u001b[38;5;241;43m=\u001b[39;49m\u001b[43mdata_collator\u001b[49m\u001b[43m,\u001b[49m\n\u001b[1;32m     34\u001b[0m \u001b[43m    \u001b[49m\u001b[43mcompute_metrics\u001b[49m\u001b[38;5;241;43m=\u001b[39;49m\u001b[43mcompute_metrics\u001b[49m\n\u001b[1;32m     35\u001b[0m \u001b[43m)\u001b[49m\n\u001b[1;32m     37\u001b[0m trainer2 \u001b[38;5;241m=\u001b[39m Trainer(\n\u001b[1;32m     38\u001b[0m     model\u001b[38;5;241m=\u001b[39mmodel2,\n\u001b[1;32m     39\u001b[0m     args\u001b[38;5;241m=\u001b[39mtraining_args,\n\u001b[0;32m   (...)\u001b[0m\n\u001b[1;32m     44\u001b[0m     compute_metrics\u001b[38;5;241m=\u001b[39mcompute_metrics\n\u001b[1;32m     45\u001b[0m )\n",
      "File \u001b[0;32m~/.local/lib/python3.12/site-packages/transformers/trainer.py:383\u001b[0m, in \u001b[0;36mTrainer.__init__\u001b[0;34m(self, model, args, data_collator, train_dataset, eval_dataset, tokenizer, model_init, compute_metrics, callbacks, optimizers, preprocess_logits_for_metrics)\u001b[0m\n\u001b[1;32m    381\u001b[0m \u001b[38;5;28mself\u001b[39m\u001b[38;5;241m.\u001b[39margs \u001b[38;5;241m=\u001b[39m args\n\u001b[1;32m    382\u001b[0m \u001b[38;5;66;03m# Seed must be set before instantiating the model when using model\u001b[39;00m\n\u001b[0;32m--> 383\u001b[0m enable_full_determinism(\u001b[38;5;28mself\u001b[39m\u001b[38;5;241m.\u001b[39margs\u001b[38;5;241m.\u001b[39mseed) \u001b[38;5;28;01mif\u001b[39;00m \u001b[38;5;28mself\u001b[39m\u001b[38;5;241m.\u001b[39margs\u001b[38;5;241m.\u001b[39mfull_determinism \u001b[38;5;28;01melse\u001b[39;00m \u001b[43mset_seed\u001b[49m\u001b[43m(\u001b[49m\u001b[38;5;28;43mself\u001b[39;49m\u001b[38;5;241;43m.\u001b[39;49m\u001b[43margs\u001b[49m\u001b[38;5;241;43m.\u001b[39;49m\u001b[43mseed\u001b[49m\u001b[43m)\u001b[49m\n\u001b[1;32m    384\u001b[0m \u001b[38;5;28mself\u001b[39m\u001b[38;5;241m.\u001b[39mhp_name \u001b[38;5;241m=\u001b[39m \u001b[38;5;28;01mNone\u001b[39;00m\n\u001b[1;32m    385\u001b[0m \u001b[38;5;28mself\u001b[39m\u001b[38;5;241m.\u001b[39mdeepspeed \u001b[38;5;241m=\u001b[39m \u001b[38;5;28;01mNone\u001b[39;00m\n",
      "File \u001b[0;32m~/.local/lib/python3.12/site-packages/transformers/trainer_utils.py:99\u001b[0m, in \u001b[0;36mset_seed\u001b[0;34m(seed, deterministic)\u001b[0m\n\u001b[1;32m     97\u001b[0m np\u001b[38;5;241m.\u001b[39mrandom\u001b[38;5;241m.\u001b[39mseed(seed)\n\u001b[1;32m     98\u001b[0m \u001b[38;5;28;01mif\u001b[39;00m is_torch_available():\n\u001b[0;32m---> 99\u001b[0m     \u001b[43mtorch\u001b[49m\u001b[38;5;241;43m.\u001b[39;49m\u001b[43mmanual_seed\u001b[49m\u001b[43m(\u001b[49m\u001b[43mseed\u001b[49m\u001b[43m)\u001b[49m\n\u001b[1;32m    100\u001b[0m     torch\u001b[38;5;241m.\u001b[39mcuda\u001b[38;5;241m.\u001b[39mmanual_seed_all(seed)\n\u001b[1;32m    101\u001b[0m     \u001b[38;5;66;03m# ^^ safe to call this function even if cuda is not available\u001b[39;00m\n",
      "File \u001b[0;32m~/.local/lib/python3.12/site-packages/torch/_dynamo/eval_frame.py:451\u001b[0m, in \u001b[0;36m_TorchDynamoContext.__call__.<locals>._fn\u001b[0;34m(*args, **kwargs)\u001b[0m\n\u001b[1;32m    449\u001b[0m prior \u001b[38;5;241m=\u001b[39m set_eval_frame(callback)\n\u001b[1;32m    450\u001b[0m \u001b[38;5;28;01mtry\u001b[39;00m:\n\u001b[0;32m--> 451\u001b[0m     \u001b[38;5;28;01mreturn\u001b[39;00m \u001b[43mfn\u001b[49m\u001b[43m(\u001b[49m\u001b[38;5;241;43m*\u001b[39;49m\u001b[43margs\u001b[49m\u001b[43m,\u001b[49m\u001b[43m \u001b[49m\u001b[38;5;241;43m*\u001b[39;49m\u001b[38;5;241;43m*\u001b[39;49m\u001b[43mkwargs\u001b[49m\u001b[43m)\u001b[49m\n\u001b[1;32m    452\u001b[0m \u001b[38;5;28;01mfinally\u001b[39;00m:\n\u001b[1;32m    453\u001b[0m     set_eval_frame(prior)\n",
      "File \u001b[0;32m~/.local/lib/python3.12/site-packages/torch/_dynamo/external_utils.py:36\u001b[0m, in \u001b[0;36mwrap_inline.<locals>.inner\u001b[0;34m(*args, **kwargs)\u001b[0m\n\u001b[1;32m     34\u001b[0m \u001b[38;5;129m@functools\u001b[39m\u001b[38;5;241m.\u001b[39mwraps(fn)\n\u001b[1;32m     35\u001b[0m \u001b[38;5;28;01mdef\u001b[39;00m \u001b[38;5;21minner\u001b[39m(\u001b[38;5;241m*\u001b[39margs, \u001b[38;5;241m*\u001b[39m\u001b[38;5;241m*\u001b[39mkwargs):\n\u001b[0;32m---> 36\u001b[0m     \u001b[38;5;28;01mreturn\u001b[39;00m \u001b[43mfn\u001b[49m\u001b[43m(\u001b[49m\u001b[38;5;241;43m*\u001b[39;49m\u001b[43margs\u001b[49m\u001b[43m,\u001b[49m\u001b[43m \u001b[49m\u001b[38;5;241;43m*\u001b[39;49m\u001b[38;5;241;43m*\u001b[39;49m\u001b[43mkwargs\u001b[49m\u001b[43m)\u001b[49m\n",
      "File \u001b[0;32m~/.local/lib/python3.12/site-packages/torch/random.py:40\u001b[0m, in \u001b[0;36mmanual_seed\u001b[0;34m(seed)\u001b[0m\n\u001b[1;32m     37\u001b[0m \u001b[38;5;28;01mimport\u001b[39;00m \u001b[38;5;21;01mtorch\u001b[39;00m\u001b[38;5;21;01m.\u001b[39;00m\u001b[38;5;21;01mcuda\u001b[39;00m\n\u001b[1;32m     39\u001b[0m \u001b[38;5;28;01mif\u001b[39;00m \u001b[38;5;129;01mnot\u001b[39;00m torch\u001b[38;5;241m.\u001b[39mcuda\u001b[38;5;241m.\u001b[39m_is_in_bad_fork():\n\u001b[0;32m---> 40\u001b[0m     \u001b[43mtorch\u001b[49m\u001b[38;5;241;43m.\u001b[39;49m\u001b[43mcuda\u001b[49m\u001b[38;5;241;43m.\u001b[39;49m\u001b[43mmanual_seed_all\u001b[49m\u001b[43m(\u001b[49m\u001b[43mseed\u001b[49m\u001b[43m)\u001b[49m\n\u001b[1;32m     42\u001b[0m \u001b[38;5;28;01mimport\u001b[39;00m \u001b[38;5;21;01mtorch\u001b[39;00m\u001b[38;5;21;01m.\u001b[39;00m\u001b[38;5;21;01mmps\u001b[39;00m\n\u001b[1;32m     43\u001b[0m \u001b[38;5;28;01mif\u001b[39;00m \u001b[38;5;129;01mnot\u001b[39;00m torch\u001b[38;5;241m.\u001b[39mmps\u001b[38;5;241m.\u001b[39m_is_in_bad_fork():\n",
      "File \u001b[0;32m~/.local/lib/python3.12/site-packages/torch/cuda/random.py:126\u001b[0m, in \u001b[0;36mmanual_seed_all\u001b[0;34m(seed)\u001b[0m\n\u001b[1;32m    123\u001b[0m         default_generator \u001b[38;5;241m=\u001b[39m torch\u001b[38;5;241m.\u001b[39mcuda\u001b[38;5;241m.\u001b[39mdefault_generators[i]\n\u001b[1;32m    124\u001b[0m         default_generator\u001b[38;5;241m.\u001b[39mmanual_seed(seed)\n\u001b[0;32m--> 126\u001b[0m \u001b[43m_lazy_call\u001b[49m\u001b[43m(\u001b[49m\u001b[43mcb\u001b[49m\u001b[43m,\u001b[49m\u001b[43m \u001b[49m\u001b[43mseed_all\u001b[49m\u001b[38;5;241;43m=\u001b[39;49m\u001b[38;5;28;43;01mTrue\u001b[39;49;00m\u001b[43m)\u001b[49m\n",
      "File \u001b[0;32m~/.local/lib/python3.12/site-packages/torch/cuda/__init__.py:223\u001b[0m, in \u001b[0;36m_lazy_call\u001b[0;34m(callable, **kwargs)\u001b[0m\n\u001b[1;32m    221\u001b[0m \u001b[38;5;28;01mdef\u001b[39;00m \u001b[38;5;21m_lazy_call\u001b[39m(\u001b[38;5;28mcallable\u001b[39m, \u001b[38;5;241m*\u001b[39m\u001b[38;5;241m*\u001b[39mkwargs):\n\u001b[1;32m    222\u001b[0m     \u001b[38;5;28;01mif\u001b[39;00m is_initialized():\n\u001b[0;32m--> 223\u001b[0m         \u001b[38;5;28;43mcallable\u001b[39;49m\u001b[43m(\u001b[49m\u001b[43m)\u001b[49m\n\u001b[1;32m    224\u001b[0m     \u001b[38;5;28;01melse\u001b[39;00m:\n\u001b[1;32m    225\u001b[0m         \u001b[38;5;66;03m# TODO(torch_deploy): this accesses linecache, which attempts to read the\u001b[39;00m\n\u001b[1;32m    226\u001b[0m         \u001b[38;5;66;03m# file system to get traceback info. Patch linecache or do something\u001b[39;00m\n\u001b[1;32m    227\u001b[0m         \u001b[38;5;66;03m# else here if this ends up being important.\u001b[39;00m\n\u001b[1;32m    228\u001b[0m         \u001b[38;5;28;01mglobal\u001b[39;00m _lazy_seed_tracker\n",
      "File \u001b[0;32m~/.local/lib/python3.12/site-packages/torch/cuda/random.py:124\u001b[0m, in \u001b[0;36mmanual_seed_all.<locals>.cb\u001b[0;34m()\u001b[0m\n\u001b[1;32m    122\u001b[0m \u001b[38;5;28;01mfor\u001b[39;00m i \u001b[38;5;129;01min\u001b[39;00m \u001b[38;5;28mrange\u001b[39m(device_count()):\n\u001b[1;32m    123\u001b[0m     default_generator \u001b[38;5;241m=\u001b[39m torch\u001b[38;5;241m.\u001b[39mcuda\u001b[38;5;241m.\u001b[39mdefault_generators[i]\n\u001b[0;32m--> 124\u001b[0m     \u001b[43mdefault_generator\u001b[49m\u001b[38;5;241;43m.\u001b[39;49m\u001b[43mmanual_seed\u001b[49m\u001b[43m(\u001b[49m\u001b[43mseed\u001b[49m\u001b[43m)\u001b[49m\n",
      "\u001b[0;31mRuntimeError\u001b[0m: CUDA error: device-side assert triggered\nCUDA kernel errors might be asynchronously reported at some other API call, so the stacktrace below might be incorrect.\nFor debugging consider passing CUDA_LAUNCH_BLOCKING=1.\nCompile with `TORCH_USE_CUDA_DSA` to enable device-side assertions.\n"
     ]
    }
   ],
   "source": [
    "metric = load(\"accuracy\")\n",
    "\n",
    "def compute_metrics(eval_pred):\n",
    "    print(eval_pred)\n",
    "    logits, labels = eval_pred\n",
    "    predictions = np.argmax(logits, axis=-1)\n",
    "    print(predictions)\n",
    "    predictions_converted = [label_converter[entry] for entry in predictions]\n",
    "    # print(predictions_converted)\n",
    "    return metric.compute(predictions=predictions, references=labels)\n",
    "\n",
    "training_args = TrainingArguments(\n",
    "    output_dir=\"./results\",\n",
    "    learning_rate=2e-5,\n",
    "    per_device_train_batch_size=6,\n",
    "    per_device_eval_batch_size=6,\n",
    "    num_train_epochs=10,\n",
    "    weight_decay=0.01,\n",
    "    evaluation_strategy=\"epoch\", # run validation at the end of each epoch\n",
    "    save_strategy=\"epoch\",\n",
    "    load_best_model_at_end=True,\n",
    "    gradient_accumulation_steps=10\n",
    ")\n",
    "\n",
    "data_collator = DataCollatorWithPadding(tokenizer=tokenizer)\n",
    "\n",
    "trainer = Trainer(\n",
    "    model=model,\n",
    "    args=training_args,\n",
    "    train_dataset=tokenized_dataset[\"train\"],\n",
    "    eval_dataset=tokenized_dataset[\"validation\"],\n",
    "    tokenizer=tokenizer,\n",
    "    data_collator=data_collator,\n",
    "    compute_metrics=compute_metrics\n",
    ")\n",
    "\n",
    "trainer2 = Trainer(\n",
    "    model=model2,\n",
    "    args=training_args,\n",
    "    train_dataset=tokenized_dataset_full[\"train\"],\n",
    "    eval_dataset=tokenized_dataset_full[\"validation\"],\n",
    "    tokenizer=tokenizer,\n",
    "    data_collator=data_collator,\n",
    "    compute_metrics=compute_metrics\n",
    ")"
   ]
  },
  {
   "cell_type": "markdown",
   "metadata": {},
   "source": [
    "## Smaller Dataset"
   ]
  },
  {
   "cell_type": "code",
   "execution_count": null,
   "metadata": {},
   "outputs": [
    {
     "data": {
      "application/vnd.jupyter.widget-view+json": {
       "model_id": "f2f9654fdc7b4312857805e782bb531e",
       "version_major": 2,
       "version_minor": 0
      },
      "text/plain": [
       "  0%|          | 0/9000 [00:00<?, ?it/s]"
      ]
     },
     "metadata": {},
     "output_type": "display_data"
    },
    {
     "name": "stdout",
     "output_type": "stream",
     "text": [
      "{'loss': 0.5097, 'grad_norm': 3.158621311187744, 'learning_rate': 1.888888888888889e-05, 'epoch': 0.56}\n"
     ]
    },
    {
     "data": {
      "application/vnd.jupyter.widget-view+json": {
       "model_id": "88944cc2defd4d49a37cd1d63bf53f38",
       "version_major": 2,
       "version_minor": 0
      },
      "text/plain": [
       "  0%|          | 0/400 [00:00<?, ?it/s]"
      ]
     },
     "metadata": {},
     "output_type": "display_data"
    },
    {
     "name": "stdout",
     "output_type": "stream",
     "text": [
      "<transformers.trainer_utils.EvalPrediction object at 0x7f3a21ffbd40>\n",
      "[0 3 1 ... 2 0 1]\n",
      "{'eval_loss': 0.29943379759788513, 'eval_accuracy': 0.9015625, 'eval_runtime': 5.9797, 'eval_samples_per_second': 535.144, 'eval_steps_per_second': 66.893, 'epoch': 1.0}\n",
      "{'loss': 0.3216, 'grad_norm': 5.1029510498046875, 'learning_rate': 1.7777777777777777e-05, 'epoch': 1.11}\n",
      "{'loss': 0.2711, 'grad_norm': 3.4577839374542236, 'learning_rate': 1.6666666666666667e-05, 'epoch': 1.67}\n"
     ]
    },
    {
     "data": {
      "application/vnd.jupyter.widget-view+json": {
       "model_id": "78e5a1e9e5814ad9ae82e15f4d4d4ad3",
       "version_major": 2,
       "version_minor": 0
      },
      "text/plain": [
       "  0%|          | 0/400 [00:00<?, ?it/s]"
      ]
     },
     "metadata": {},
     "output_type": "display_data"
    },
    {
     "name": "stdout",
     "output_type": "stream",
     "text": [
      "<transformers.trainer_utils.EvalPrediction object at 0x7f3a21fdf170>\n",
      "[0 3 1 ... 2 0 1]\n",
      "{'eval_loss': 0.2649351954460144, 'eval_accuracy': 0.91, 'eval_runtime': 5.9807, 'eval_samples_per_second': 535.05, 'eval_steps_per_second': 66.881, 'epoch': 2.0}\n",
      "{'loss': 0.2545, 'grad_norm': 5.542512893676758, 'learning_rate': 1.555555555555556e-05, 'epoch': 2.22}\n",
      "{'loss': 0.2158, 'grad_norm': 3.402980089187622, 'learning_rate': 1.4444444444444446e-05, 'epoch': 2.78}\n"
     ]
    },
    {
     "data": {
      "application/vnd.jupyter.widget-view+json": {
       "model_id": "2f85f3c98dd944c6bfd47e12996b3e63",
       "version_major": 2,
       "version_minor": 0
      },
      "text/plain": [
       "  0%|          | 0/400 [00:00<?, ?it/s]"
      ]
     },
     "metadata": {},
     "output_type": "display_data"
    },
    {
     "name": "stdout",
     "output_type": "stream",
     "text": [
      "<transformers.trainer_utils.EvalPrediction object at 0x7f3a21ffa120>\n",
      "[0 3 1 ... 2 0 1]\n",
      "{'eval_loss': 0.2596868872642517, 'eval_accuracy': 0.9184375, 'eval_runtime': 5.9652, 'eval_samples_per_second': 536.445, 'eval_steps_per_second': 67.056, 'epoch': 3.0}\n",
      "{'loss': 0.1856, 'grad_norm': 2.9661788940429688, 'learning_rate': 1.3333333333333333e-05, 'epoch': 3.33}\n",
      "{'loss': 0.1713, 'grad_norm': 1.7006691694259644, 'learning_rate': 1.2222222222222224e-05, 'epoch': 3.89}\n"
     ]
    },
    {
     "data": {
      "application/vnd.jupyter.widget-view+json": {
       "model_id": "0c98dd72d4224e45a68b4b0c591ef86d",
       "version_major": 2,
       "version_minor": 0
      },
      "text/plain": [
       "  0%|          | 0/400 [00:00<?, ?it/s]"
      ]
     },
     "metadata": {},
     "output_type": "display_data"
    },
    {
     "name": "stdout",
     "output_type": "stream",
     "text": [
      "<transformers.trainer_utils.EvalPrediction object at 0x7f3a21ff9f70>\n",
      "[0 3 1 ... 2 0 1]\n",
      "{'eval_loss': 0.25538426637649536, 'eval_accuracy': 0.9165625, 'eval_runtime': 5.9633, 'eval_samples_per_second': 536.613, 'eval_steps_per_second': 67.077, 'epoch': 4.0}\n",
      "{'loss': 0.1518, 'grad_norm': 5.240676403045654, 'learning_rate': 1.1111111111111113e-05, 'epoch': 4.44}\n",
      "{'loss': 0.1478, 'grad_norm': 4.495659351348877, 'learning_rate': 1e-05, 'epoch': 5.0}\n"
     ]
    },
    {
     "data": {
      "application/vnd.jupyter.widget-view+json": {
       "model_id": "bd843fb849d64027b5e4bce45de6e0a4",
       "version_major": 2,
       "version_minor": 0
      },
      "text/plain": [
       "  0%|          | 0/400 [00:00<?, ?it/s]"
      ]
     },
     "metadata": {},
     "output_type": "display_data"
    },
    {
     "name": "stdout",
     "output_type": "stream",
     "text": [
      "<transformers.trainer_utils.EvalPrediction object at 0x7f3a3260c260>\n",
      "[0 3 1 ... 2 0 1]\n",
      "{'eval_loss': 0.26122453808784485, 'eval_accuracy': 0.9240625, 'eval_runtime': 6.027, 'eval_samples_per_second': 530.947, 'eval_steps_per_second': 66.368, 'epoch': 5.0}\n",
      "{'loss': 0.1198, 'grad_norm': 8.862997055053711, 'learning_rate': 8.888888888888888e-06, 'epoch': 5.56}\n"
     ]
    },
    {
     "data": {
      "application/vnd.jupyter.widget-view+json": {
       "model_id": "15733d8de5f547279108750e90c79caf",
       "version_major": 2,
       "version_minor": 0
      },
      "text/plain": [
       "  0%|          | 0/400 [00:00<?, ?it/s]"
      ]
     },
     "metadata": {},
     "output_type": "display_data"
    },
    {
     "name": "stdout",
     "output_type": "stream",
     "text": [
      "<transformers.trainer_utils.EvalPrediction object at 0x7f3a285525d0>\n",
      "[0 3 1 ... 2 0 1]\n",
      "{'eval_loss': 0.3058397173881531, 'eval_accuracy': 0.9203125, 'eval_runtime': 6.026, 'eval_samples_per_second': 531.033, 'eval_steps_per_second': 66.379, 'epoch': 6.0}\n",
      "{'loss': 0.1213, 'grad_norm': 1.590108036994934, 'learning_rate': 7.77777777777778e-06, 'epoch': 6.11}\n",
      "{'loss': 0.1085, 'grad_norm': 3.7012486457824707, 'learning_rate': 6.666666666666667e-06, 'epoch': 6.67}\n"
     ]
    },
    {
     "data": {
      "application/vnd.jupyter.widget-view+json": {
       "model_id": "1eaf29a912e64470ae33e10268f380c9",
       "version_major": 2,
       "version_minor": 0
      },
      "text/plain": [
       "  0%|          | 0/400 [00:00<?, ?it/s]"
      ]
     },
     "metadata": {},
     "output_type": "display_data"
    },
    {
     "name": "stdout",
     "output_type": "stream",
     "text": [
      "<transformers.trainer_utils.EvalPrediction object at 0x7f3a21ff8da0>\n",
      "[0 3 1 ... 2 0 1]\n",
      "{'eval_loss': 0.32439178228378296, 'eval_accuracy': 0.92125, 'eval_runtime': 6.0634, 'eval_samples_per_second': 527.756, 'eval_steps_per_second': 65.969, 'epoch': 7.0}\n",
      "{'loss': 0.1049, 'grad_norm': 1.5782136917114258, 'learning_rate': 5.555555555555557e-06, 'epoch': 7.22}\n",
      "{'loss': 0.0947, 'grad_norm': 7.924581527709961, 'learning_rate': 4.444444444444444e-06, 'epoch': 7.78}\n"
     ]
    },
    {
     "data": {
      "application/vnd.jupyter.widget-view+json": {
       "model_id": "5a322c21ede947eeaa4ca05264ba2d07",
       "version_major": 2,
       "version_minor": 0
      },
      "text/plain": [
       "  0%|          | 0/400 [00:00<?, ?it/s]"
      ]
     },
     "metadata": {},
     "output_type": "display_data"
    },
    {
     "name": "stdout",
     "output_type": "stream",
     "text": [
      "<transformers.trainer_utils.EvalPrediction object at 0x7f3a32419970>\n",
      "[0 3 1 ... 2 0 1]\n",
      "{'eval_loss': 0.3440263867378235, 'eval_accuracy': 0.918125, 'eval_runtime': 6.054, 'eval_samples_per_second': 528.578, 'eval_steps_per_second': 66.072, 'epoch': 8.0}\n",
      "{'loss': 0.0886, 'grad_norm': 0.2083427906036377, 'learning_rate': 3.3333333333333333e-06, 'epoch': 8.33}\n",
      "{'loss': 0.0845, 'grad_norm': 0.5862038135528564, 'learning_rate': 2.222222222222222e-06, 'epoch': 8.89}\n"
     ]
    },
    {
     "data": {
      "application/vnd.jupyter.widget-view+json": {
       "model_id": "ee22f63e426d40cca651224d3ffdc193",
       "version_major": 2,
       "version_minor": 0
      },
      "text/plain": [
       "  0%|          | 0/400 [00:00<?, ?it/s]"
      ]
     },
     "metadata": {},
     "output_type": "display_data"
    },
    {
     "name": "stdout",
     "output_type": "stream",
     "text": [
      "<transformers.trainer_utils.EvalPrediction object at 0x7f3a326e0290>\n",
      "[0 3 1 ... 2 0 1]\n",
      "{'eval_loss': 0.3631764352321625, 'eval_accuracy': 0.9221875, 'eval_runtime': 6.0521, 'eval_samples_per_second': 528.74, 'eval_steps_per_second': 66.092, 'epoch': 9.0}\n",
      "{'loss': 0.084, 'grad_norm': 0.7837159633636475, 'learning_rate': 1.111111111111111e-06, 'epoch': 9.44}\n",
      "{'loss': 0.0754, 'grad_norm': 0.481453537940979, 'learning_rate': 0.0, 'epoch': 10.0}\n"
     ]
    },
    {
     "data": {
      "application/vnd.jupyter.widget-view+json": {
       "model_id": "61a4f085c2be4d2fae8e251dc7396f86",
       "version_major": 2,
       "version_minor": 0
      },
      "text/plain": [
       "  0%|          | 0/400 [00:00<?, ?it/s]"
      ]
     },
     "metadata": {},
     "output_type": "display_data"
    },
    {
     "name": "stdout",
     "output_type": "stream",
     "text": [
      "<transformers.trainer_utils.EvalPrediction object at 0x7f3a28525fd0>\n",
      "[0 3 1 ... 2 0 1]\n",
      "{'eval_loss': 0.3702654242515564, 'eval_accuracy': 0.9184375, 'eval_runtime': 6.0774, 'eval_samples_per_second': 526.539, 'eval_steps_per_second': 65.817, 'epoch': 10.0}\n",
      "{'train_runtime': 2078.3995, 'train_samples_per_second': 138.568, 'train_steps_per_second': 4.33, 'train_loss': 0.17283049392700195, 'epoch': 10.0}\n"
     ]
    },
    {
     "data": {
      "text/plain": [
       "TrainOutput(global_step=9000, training_loss=0.17283049392700195, metrics={'train_runtime': 2078.3995, 'train_samples_per_second': 138.568, 'train_steps_per_second': 4.33, 'total_flos': 1.0887406627805952e+16, 'train_loss': 0.17283049392700195, 'epoch': 10.0})"
      ]
     },
     "execution_count": 20,
     "metadata": {},
     "output_type": "execute_result"
    }
   ],
   "source": [
    "trainer.train()"
   ]
  },
  {
   "cell_type": "code",
   "execution_count": null,
   "metadata": {},
   "outputs": [
    {
     "data": {
      "application/vnd.jupyter.widget-view+json": {
       "model_id": "6de594c1a12a468bb164cd10dc8b83b0",
       "version_major": 2,
       "version_minor": 0
      },
      "text/plain": [
       "  0%|          | 0/400 [00:00<?, ?it/s]"
      ]
     },
     "metadata": {},
     "output_type": "display_data"
    },
    {
     "name": "stdout",
     "output_type": "stream",
     "text": [
      "<transformers.trainer_utils.EvalPrediction object at 0x7f3a28524200>\n",
      "[0 3 1 ... 2 0 1]\n"
     ]
    },
    {
     "data": {
      "text/plain": [
       "{'eval_loss': 0.25538426637649536,\n",
       " 'eval_accuracy': 0.9165625,\n",
       " 'eval_runtime': 6.0614,\n",
       " 'eval_samples_per_second': 527.931,\n",
       " 'eval_steps_per_second': 65.991,\n",
       " 'epoch': 10.0}"
      ]
     },
     "execution_count": 21,
     "metadata": {},
     "output_type": "execute_result"
    }
   ],
   "source": [
    "trainer.evaluate()"
   ]
  },
  {
   "cell_type": "code",
   "execution_count": null,
   "metadata": {},
   "outputs": [
    {
     "data": {
      "application/vnd.jupyter.widget-view+json": {
       "model_id": "557e35452a694cfc96484cf5d97652ac",
       "version_major": 2,
       "version_minor": 0
      },
      "text/plain": [
       "  0%|          | 0/1000 [00:00<?, ?it/s]"
      ]
     },
     "metadata": {},
     "output_type": "display_data"
    },
    {
     "name": "stdout",
     "output_type": "stream",
     "text": [
      "<transformers.trainer_utils.EvalPrediction object at 0x7f3b831fc8c0>\n",
      "[2 1 0 ... 2 2 3]\n"
     ]
    },
    {
     "data": {
      "text/plain": [
       "PredictionOutput(predictions=array([[-0.7001952 , -2.1618118 ,  4.678524  , ..., -4.386993  ,\n",
       "        -4.432705  , -4.175274  ],\n",
       "       [ 1.0522486 ,  8.036155  , -0.95591044, ..., -2.2691548 ,\n",
       "        -2.6665576 , -1.9754965 ],\n",
       "       [ 6.9893274 , -0.3052392 ,  0.8762437 , ..., -4.499372  ,\n",
       "        -5.104708  , -4.1534667 ],\n",
       "       ...,\n",
       "       [-0.09942523, -1.4501009 ,  4.937138  , ..., -4.669787  ,\n",
       "        -4.995803  , -4.584789  ],\n",
       "       [ 0.84878635, -1.4881812 ,  4.338275  , ..., -5.071393  ,\n",
       "        -5.495934  , -4.913757  ],\n",
       "       [-0.6047723 , -2.5864086 ,  3.180657  , ..., -4.0910864 ,\n",
       "        -4.4901967 , -4.011511  ]], dtype=float32), label_ids=array([2, 1, 0, ..., 2, 2, 3]), metrics={'test_loss': 0.2547852396965027, 'test_accuracy': 0.92125, 'test_runtime': 14.9711, 'test_samples_per_second': 534.363, 'test_steps_per_second': 66.795})"
      ]
     },
     "execution_count": 22,
     "metadata": {},
     "output_type": "execute_result"
    }
   ],
   "source": [
    "predictions = trainer.predict(test_dataset=tokenized_dataset[\"test\"])\n",
    "predictions"
   ]
  },
  {
   "cell_type": "code",
   "execution_count": null,
   "metadata": {},
   "outputs": [
    {
     "name": "stdout",
     "output_type": "stream",
     "text": [
      "              precision    recall  f1-score   support\n",
      "\n",
      "           0       0.92      0.93      0.92      1943\n",
      "           1       0.97      0.98      0.98      1987\n",
      "           2       0.89      0.89      0.89      2049\n",
      "           3       0.90      0.88      0.89      2021\n",
      "           4       0.00      0.00      0.00         0\n",
      "\n",
      "    accuracy                           0.92      8000\n",
      "   macro avg       0.74      0.74      0.74      8000\n",
      "weighted avg       0.92      0.92      0.92      8000\n",
      "\n"
     ]
    },
    {
     "name": "stderr",
     "output_type": "stream",
     "text": [
      "/home/lucas/.local/lib/python3.12/site-packages/sklearn/metrics/_classification.py:1509: UndefinedMetricWarning: Recall is ill-defined and being set to 0.0 in labels with no true samples. Use `zero_division` parameter to control this behavior.\n",
      "  _warn_prf(average, modifier, f\"{metric.capitalize()} is\", len(result))\n",
      "/home/lucas/.local/lib/python3.12/site-packages/sklearn/metrics/_classification.py:1509: UndefinedMetricWarning: Recall is ill-defined and being set to 0.0 in labels with no true samples. Use `zero_division` parameter to control this behavior.\n",
      "  _warn_prf(average, modifier, f\"{metric.capitalize()} is\", len(result))\n",
      "/home/lucas/.local/lib/python3.12/site-packages/sklearn/metrics/_classification.py:1509: UndefinedMetricWarning: Recall is ill-defined and being set to 0.0 in labels with no true samples. Use `zero_division` parameter to control this behavior.\n",
      "  _warn_prf(average, modifier, f\"{metric.capitalize()} is\", len(result))\n"
     ]
    }
   ],
   "source": [
    "print(classification_report(real_values, predictions.predictions.argmax(-1)))"
   ]
  },
  {
   "cell_type": "code",
   "execution_count": null,
   "metadata": {},
   "outputs": [
    {
     "data": {
      "image/png": "[encoded data removed]",
      "text/plain": [
       "<Figure size 1000x700 with 2 Axes>"
      ]
     },
     "metadata": {},
     "output_type": "display_data"
    }
   ],
   "source": [
    "# The predictions are in a tuple, with the first element being the actual predictions\n",
    "predicted_labels = np.argmax(predictions[0], axis=1)\n",
    "\n",
    "# Assuming the labels in your dataset are stored in a 'label' column\n",
    "true_labels = [entry['label'] for entry in tokenized_dataset['test']]\n",
    "\n",
    "cm = confusion_matrix(true_labels, predicted_labels)\n",
    "\n",
    "# Plot the heatmap\n",
    "plt.figure(figsize=(10,7))\n",
    "sns.heatmap(cm, annot=True, fmt='d')\n",
    "plt.title('Confusion Matrix')\n",
    "plt.ylabel('Actual label')\n",
    "plt.xlabel('Predicted label')\n",
    "plt.show()"
   ]
  },
  {
   "cell_type": "markdown",
   "metadata": {},
   "source": [
    "## Full dataset"
   ]
  },
  {
   "cell_type": "code",
   "execution_count": null,
   "metadata": {},
   "outputs": [
    {
     "data": {
      "application/vnd.jupyter.widget-view+json": {
       "model_id": "ea53c8bb068f43fb8140faecfca967bd",
       "version_major": 2,
       "version_minor": 0
      },
      "text/plain": [
       "  0%|          | 0/18000 [00:00<?, ?it/s]"
      ]
     },
     "metadata": {},
     "output_type": "display_data"
    },
    {
     "name": "stdout",
     "output_type": "stream",
     "text": [
      "{'loss': 0.2213, 'grad_norm': 3.4001216888427734, 'learning_rate': 1.9444444444444445e-05, 'epoch': 0.28}\n",
      "{'loss': 0.2079, 'grad_norm': 1.8074145317077637, 'learning_rate': 1.888888888888889e-05, 'epoch': 0.56}\n",
      "{'loss': 0.2162, 'grad_norm': 3.0191943645477295, 'learning_rate': 1.8333333333333333e-05, 'epoch': 0.83}\n"
     ]
    },
    {
     "data": {
      "application/vnd.jupyter.widget-view+json": {
       "model_id": "5dbd34dda5ec483fba67d3f76c3e314a",
       "version_major": 2,
       "version_minor": 0
      },
      "text/plain": [
       "  0%|          | 0/2000 [00:00<?, ?it/s]"
      ]
     },
     "metadata": {},
     "output_type": "display_data"
    },
    {
     "name": "stdout",
     "output_type": "stream",
     "text": [
      "<transformers.trainer_utils.EvalPrediction object at 0x7f3a406cc530>\n",
      "[3 1 0 ... 1 1 3]\n",
      "{'eval_loss': 0.19860383868217468, 'eval_accuracy': 0.9306666666666666, 'eval_runtime': 45.1744, 'eval_samples_per_second': 265.637, 'eval_steps_per_second': 44.273, 'epoch': 1.0}\n",
      "{'loss': 0.1919, 'grad_norm': 1.711289644241333, 'learning_rate': 1.7777777777777777e-05, 'epoch': 1.11}\n",
      "{'loss': 0.1725, 'grad_norm': 2.040499448776245, 'learning_rate': 1.7222222222222224e-05, 'epoch': 1.39}\n",
      "{'loss': 0.1697, 'grad_norm': 1.5807770490646362, 'learning_rate': 1.6666666666666667e-05, 'epoch': 1.67}\n",
      "{'loss': 0.1658, 'grad_norm': 1.7037802934646606, 'learning_rate': 1.6111111111111115e-05, 'epoch': 1.94}\n"
     ]
    },
    {
     "data": {
      "application/vnd.jupyter.widget-view+json": {
       "model_id": "e8c86977890f4f58ab33fce16cdf5acd",
       "version_major": 2,
       "version_minor": 0
      },
      "text/plain": [
       "  0%|          | 0/2000 [00:00<?, ?it/s]"
      ]
     },
     "metadata": {},
     "output_type": "display_data"
    },
    {
     "name": "stdout",
     "output_type": "stream",
     "text": [
      "<transformers.trainer_utils.EvalPrediction object at 0x7f3a106ef350>\n",
      "[3 1 0 ... 1 1 3]\n",
      "{'eval_loss': 0.18317969143390656, 'eval_accuracy': 0.9393333333333334, 'eval_runtime': 45.4666, 'eval_samples_per_second': 263.93, 'eval_steps_per_second': 43.988, 'epoch': 2.0}\n",
      "{'loss': 0.1537, 'grad_norm': 1.689065933227539, 'learning_rate': 1.555555555555556e-05, 'epoch': 2.22}\n",
      "{'loss': 0.1373, 'grad_norm': 1.412721872329712, 'learning_rate': 1.5000000000000002e-05, 'epoch': 2.5}\n",
      "{'loss': 0.1402, 'grad_norm': 3.1930525302886963, 'learning_rate': 1.4444444444444446e-05, 'epoch': 2.78}\n"
     ]
    },
    {
     "data": {
      "application/vnd.jupyter.widget-view+json": {
       "model_id": "d708a756d77949f1b28648b43ca23028",
       "version_major": 2,
       "version_minor": 0
      },
      "text/plain": [
       "  0%|          | 0/2000 [00:00<?, ?it/s]"
      ]
     },
     "metadata": {},
     "output_type": "display_data"
    },
    {
     "name": "stdout",
     "output_type": "stream",
     "text": [
      "<transformers.trainer_utils.EvalPrediction object at 0x7f3a34147ce0>\n",
      "[3 1 0 ... 1 1 3]\n",
      "{'eval_loss': 0.18970811367034912, 'eval_accuracy': 0.9385, 'eval_runtime': 45.3892, 'eval_samples_per_second': 264.38, 'eval_steps_per_second': 44.063, 'epoch': 3.0}\n",
      "{'loss': 0.1372, 'grad_norm': 3.0341577529907227, 'learning_rate': 1.388888888888889e-05, 'epoch': 3.06}\n",
      "{'loss': 0.1245, 'grad_norm': 2.053802490234375, 'learning_rate': 1.3333333333333333e-05, 'epoch': 3.33}\n",
      "{'loss': 0.1199, 'grad_norm': 1.832314372062683, 'learning_rate': 1.2777777777777777e-05, 'epoch': 3.61}\n",
      "{'loss': 0.1197, 'grad_norm': 0.7008350491523743, 'learning_rate': 1.2222222222222224e-05, 'epoch': 3.89}\n"
     ]
    },
    {
     "data": {
      "application/vnd.jupyter.widget-view+json": {
       "model_id": "dc00261614c549f693ddea4cd116aa7a",
       "version_major": 2,
       "version_minor": 0
      },
      "text/plain": [
       "  0%|          | 0/2000 [00:00<?, ?it/s]"
      ]
     },
     "metadata": {},
     "output_type": "display_data"
    },
    {
     "name": "stdout",
     "output_type": "stream",
     "text": [
      "<transformers.trainer_utils.EvalPrediction object at 0x7f3a106ef350>\n",
      "[3 1 0 ... 1 1 3]\n",
      "{'eval_loss': 0.18332035839557648, 'eval_accuracy': 0.9426666666666667, 'eval_runtime': 45.3117, 'eval_samples_per_second': 264.833, 'eval_steps_per_second': 44.139, 'epoch': 4.0}\n",
      "{'loss': 0.1075, 'grad_norm': 3.9613454341888428, 'learning_rate': 1.1666666666666668e-05, 'epoch': 4.17}\n",
      "{'loss': 0.1058, 'grad_norm': 0.4605647325515747, 'learning_rate': 1.1111111111111113e-05, 'epoch': 4.44}\n",
      "{'loss': 0.1055, 'grad_norm': 2.0978193283081055, 'learning_rate': 1.0555555555555557e-05, 'epoch': 4.72}\n",
      "{'loss': 0.105, 'grad_norm': 6.950146198272705, 'learning_rate': 1e-05, 'epoch': 5.0}\n"
     ]
    },
    {
     "data": {
      "application/vnd.jupyter.widget-view+json": {
       "model_id": "effbce5afa1b47d5b12e75e7a91f5718",
       "version_major": 2,
       "version_minor": 0
      },
      "text/plain": [
       "  0%|          | 0/2000 [00:00<?, ?it/s]"
      ]
     },
     "metadata": {},
     "output_type": "display_data"
    },
    {
     "name": "stdout",
     "output_type": "stream",
     "text": [
      "<transformers.trainer_utils.EvalPrediction object at 0x7f3a1026f980>\n",
      "[3 1 0 ... 1 1 3]\n",
      "{'eval_loss': 0.20086419582366943, 'eval_accuracy': 0.94175, 'eval_runtime': 45.3429, 'eval_samples_per_second': 264.65, 'eval_steps_per_second': 44.108, 'epoch': 5.0}\n",
      "{'loss': 0.091, 'grad_norm': 6.275755405426025, 'learning_rate': 9.444444444444445e-06, 'epoch': 5.28}\n",
      "{'loss': 0.0917, 'grad_norm': 0.2278701812028885, 'learning_rate': 8.888888888888888e-06, 'epoch': 5.56}\n",
      "{'loss': 0.0944, 'grad_norm': 5.3187384605407715, 'learning_rate': 8.333333333333334e-06, 'epoch': 5.83}\n"
     ]
    },
    {
     "data": {
      "application/vnd.jupyter.widget-view+json": {
       "model_id": "b923ed230ea040ae99bdd24d7d6011cf",
       "version_major": 2,
       "version_minor": 0
      },
      "text/plain": [
       "  0%|          | 0/2000 [00:00<?, ?it/s]"
      ]
     },
     "metadata": {},
     "output_type": "display_data"
    },
    {
     "name": "stdout",
     "output_type": "stream",
     "text": [
      "<transformers.trainer_utils.EvalPrediction object at 0x7f3a21fdf560>\n",
      "[3 1 0 ... 1 1 3]\n",
      "{'eval_loss': 0.2086334228515625, 'eval_accuracy': 0.9393333333333334, 'eval_runtime': 45.308, 'eval_samples_per_second': 264.854, 'eval_steps_per_second': 44.142, 'epoch': 6.0}\n",
      "{'loss': 0.0861, 'grad_norm': 2.6440482139587402, 'learning_rate': 7.77777777777778e-06, 'epoch': 6.11}\n",
      "{'loss': 0.0779, 'grad_norm': 0.9092006087303162, 'learning_rate': 7.222222222222223e-06, 'epoch': 6.39}\n",
      "{'loss': 0.0856, 'grad_norm': 0.7364639043807983, 'learning_rate': 6.666666666666667e-06, 'epoch': 6.67}\n",
      "{'loss': 0.0793, 'grad_norm': 2.7355732917785645, 'learning_rate': 6.111111111111112e-06, 'epoch': 6.94}\n"
     ]
    },
    {
     "data": {
      "application/vnd.jupyter.widget-view+json": {
       "model_id": "1d8da287cac74d2bb13f58c5756c8b3e",
       "version_major": 2,
       "version_minor": 0
      },
      "text/plain": [
       "  0%|          | 0/2000 [00:00<?, ?it/s]"
      ]
     },
     "metadata": {},
     "output_type": "display_data"
    },
    {
     "name": "stdout",
     "output_type": "stream",
     "text": [
      "<transformers.trainer_utils.EvalPrediction object at 0x7f3a106f4bf0>\n",
      "[3 1 0 ... 1 1 3]\n",
      "{'eval_loss': 0.22343432903289795, 'eval_accuracy': 0.9386666666666666, 'eval_runtime': 45.3457, 'eval_samples_per_second': 264.634, 'eval_steps_per_second': 44.106, 'epoch': 7.0}\n",
      "{'loss': 0.0729, 'grad_norm': 10.371068000793457, 'learning_rate': 5.555555555555557e-06, 'epoch': 7.22}\n",
      "{'loss': 0.0728, 'grad_norm': 3.1588339805603027, 'learning_rate': 5e-06, 'epoch': 7.5}\n",
      "{'loss': 0.0721, 'grad_norm': 4.284185409545898, 'learning_rate': 4.444444444444444e-06, 'epoch': 7.78}\n"
     ]
    },
    {
     "data": {
      "application/vnd.jupyter.widget-view+json": {
       "model_id": "a89a850de8884331865df8ceab37b5e6",
       "version_major": 2,
       "version_minor": 0
      },
      "text/plain": [
       "  0%|          | 0/2000 [00:00<?, ?it/s]"
      ]
     },
     "metadata": {},
     "output_type": "display_data"
    },
    {
     "name": "stdout",
     "output_type": "stream",
     "text": [
      "<transformers.trainer_utils.EvalPrediction object at 0x7f3a11b5fb30>\n",
      "[3 1 0 ... 1 1 3]\n",
      "{'eval_loss': 0.22436650097370148, 'eval_accuracy': 0.9414166666666667, 'eval_runtime': 45.3165, 'eval_samples_per_second': 264.804, 'eval_steps_per_second': 44.134, 'epoch': 8.0}\n",
      "{'loss': 0.0749, 'grad_norm': 1.0376790761947632, 'learning_rate': 3.88888888888889e-06, 'epoch': 8.06}\n",
      "{'loss': 0.0633, 'grad_norm': 4.614222049713135, 'learning_rate': 3.3333333333333333e-06, 'epoch': 8.33}\n",
      "{'loss': 0.0647, 'grad_norm': 1.0870569944381714, 'learning_rate': 2.7777777777777783e-06, 'epoch': 8.61}\n",
      "{'loss': 0.0652, 'grad_norm': 2.765401840209961, 'learning_rate': 2.222222222222222e-06, 'epoch': 8.89}\n"
     ]
    },
    {
     "data": {
      "application/vnd.jupyter.widget-view+json": {
       "model_id": "3f2967f07db74b739eb0876d08bc99d7",
       "version_major": 2,
       "version_minor": 0
      },
      "text/plain": [
       "  0%|          | 0/2000 [00:00<?, ?it/s]"
      ]
     },
     "metadata": {},
     "output_type": "display_data"
    },
    {
     "name": "stdout",
     "output_type": "stream",
     "text": [
      "<transformers.trainer_utils.EvalPrediction object at 0x7f3a324ccc50>\n",
      "[3 1 0 ... 1 1 3]\n",
      "{'eval_loss': 0.23214882612228394, 'eval_accuracy': 0.9420833333333334, 'eval_runtime': 45.2482, 'eval_samples_per_second': 265.204, 'eval_steps_per_second': 44.201, 'epoch': 9.0}\n",
      "{'loss': 0.0633, 'grad_norm': 4.706274509429932, 'learning_rate': 1.6666666666666667e-06, 'epoch': 9.17}\n",
      "{'loss': 0.0571, 'grad_norm': 0.9352400302886963, 'learning_rate': 1.111111111111111e-06, 'epoch': 9.44}\n",
      "{'loss': 0.0593, 'grad_norm': 4.667337894439697, 'learning_rate': 5.555555555555555e-07, 'epoch': 9.72}\n",
      "{'loss': 0.061, 'grad_norm': 5.618276119232178, 'learning_rate': 0.0, 'epoch': 10.0}\n"
     ]
    },
    {
     "data": {
      "application/vnd.jupyter.widget-view+json": {
       "model_id": "e513f4e6d1ac4f7794e836769496d99c",
       "version_major": 2,
       "version_minor": 0
      },
      "text/plain": [
       "  0%|          | 0/2000 [00:00<?, ?it/s]"
      ]
     },
     "metadata": {},
     "output_type": "display_data"
    },
    {
     "name": "stdout",
     "output_type": "stream",
     "text": [
      "<transformers.trainer_utils.EvalPrediction object at 0x7f3a21fdf2f0>\n",
      "[3 1 0 ... 1 1 3]\n",
      "{'eval_loss': 0.24512776732444763, 'eval_accuracy': 0.9410833333333334, 'eval_runtime': 45.1852, 'eval_samples_per_second': 265.574, 'eval_steps_per_second': 44.262, 'epoch': 10.0}\n",
      "{'train_runtime': 14689.2857, 'train_samples_per_second': 73.523, 'train_steps_per_second': 1.225, 'train_loss': 0.11206198830074734, 'epoch': 10.0}\n"
     ]
    },
    {
     "data": {
      "text/plain": [
       "TrainOutput(global_step=18000, training_loss=0.11206198830074734, metrics={'train_runtime': 14689.2857, 'train_samples_per_second': 73.523, 'train_steps_per_second': 1.225, 'total_flos': 4.354347698681558e+16, 'train_loss': 0.11206198830074734, 'epoch': 10.0})"
      ]
     },
     "execution_count": 34,
     "metadata": {},
     "output_type": "execute_result"
    }
   ],
   "source": [
    "trainer2.train()"
   ]
  },
  {
   "cell_type": "code",
   "execution_count": null,
   "metadata": {},
   "outputs": [
    {
     "data": {
      "application/vnd.jupyter.widget-view+json": {
       "model_id": "797db19e127d460d8d9e2a017a1bc96a",
       "version_major": 2,
       "version_minor": 0
      },
      "text/plain": [
       "  0%|          | 0/2000 [00:00<?, ?it/s]"
      ]
     },
     "metadata": {},
     "output_type": "display_data"
    },
    {
     "name": "stdout",
     "output_type": "stream",
     "text": [
      "<transformers.trainer_utils.EvalPrediction object at 0x7f3a106effe0>\n",
      "[3 1 0 ... 1 1 3]\n"
     ]
    },
    {
     "data": {
      "text/plain": [
       "{'eval_loss': 0.18317969143390656,\n",
       " 'eval_accuracy': 0.9393333333333334,\n",
       " 'eval_runtime': 45.8928,\n",
       " 'eval_samples_per_second': 261.479,\n",
       " 'eval_steps_per_second': 43.58,\n",
       " 'epoch': 10.0}"
      ]
     },
     "execution_count": 35,
     "metadata": {},
     "output_type": "execute_result"
    }
   ],
   "source": [
    "trainer2.evaluate()"
   ]
  },
  {
   "cell_type": "code",
   "execution_count": null,
   "metadata": {},
   "outputs": [
    {
     "data": {
      "application/vnd.jupyter.widget-view+json": {
       "model_id": "f3db494ce7c44cf2825446b724d04739",
       "version_major": 2,
       "version_minor": 0
      },
      "text/plain": [
       "  0%|          | 0/1334 [00:00<?, ?it/s]"
      ]
     },
     "metadata": {},
     "output_type": "display_data"
    },
    {
     "name": "stdout",
     "output_type": "stream",
     "text": [
      "<transformers.trainer_utils.EvalPrediction object at 0x7f3b831c76b0>\n",
      "[2 1 0 ... 2 2 3]\n"
     ]
    },
    {
     "data": {
      "text/plain": [
       "PredictionOutput(predictions=array([[-1.4418185 , -2.868835  ,  5.0576043 , ..., -8.783552  ,\n",
       "        -6.88263   , -8.62441   ],\n",
       "       [ 0.8042683 ,  7.911054  , -1.2493342 , ..., -4.5543995 ,\n",
       "        -3.6886575 , -5.011022  ],\n",
       "       [ 7.2164955 , -2.0715566 ,  0.39175817, ..., -7.1878276 ,\n",
       "        -6.5386705 , -7.800001  ],\n",
       "       ...,\n",
       "       [-1.2938447 , -2.857262  ,  5.458595  , ..., -7.9826593 ,\n",
       "        -6.9349794 , -8.314866  ],\n",
       "       [-0.91815007, -2.8546586 ,  5.306662  , ..., -8.598117  ,\n",
       "        -7.5075545 , -8.875849  ],\n",
       "       [-0.36727896, -3.0443377 ,  2.745096  , ..., -9.196663  ,\n",
       "        -6.8637195 , -8.9014845 ]], dtype=float32), label_ids=array([2, 1, 0, ..., 2, 2, 3]), metrics={'test_loss': 0.18028827011585236, 'test_accuracy': 0.943625, 'test_runtime': 28.1965, 'test_samples_per_second': 283.723, 'test_steps_per_second': 47.311})"
      ]
     },
     "execution_count": 36,
     "metadata": {},
     "output_type": "execute_result"
    }
   ],
   "source": [
    "predictions = trainer2.predict(test_dataset=tokenized_dataset_full[\"test\"]) \n",
    "predictions"
   ]
  },
  {
   "cell_type": "code",
   "execution_count": null,
   "metadata": {},
   "outputs": [
    {
     "name": "stdout",
     "output_type": "stream",
     "text": [
      "              precision    recall  f1-score   support\n",
      "\n",
      "           0       0.97      0.92      0.95      1943\n",
      "           1       0.98      0.99      0.99      1987\n",
      "           2       0.90      0.93      0.92      2049\n",
      "           3       0.92      0.93      0.93      2021\n",
      "           6       0.00      0.00      0.00         0\n",
      "\n",
      "    accuracy                           0.94      8000\n",
      "   macro avg       0.76      0.75      0.76      8000\n",
      "weighted avg       0.94      0.94      0.94      8000\n",
      "\n"
     ]
    },
    {
     "name": "stderr",
     "output_type": "stream",
     "text": [
      "/home/lucas/.local/lib/python3.12/site-packages/sklearn/metrics/_classification.py:1509: UndefinedMetricWarning: Recall is ill-defined and being set to 0.0 in labels with no true samples. Use `zero_division` parameter to control this behavior.\n",
      "  _warn_prf(average, modifier, f\"{metric.capitalize()} is\", len(result))\n",
      "/home/lucas/.local/lib/python3.12/site-packages/sklearn/metrics/_classification.py:1509: UndefinedMetricWarning: Recall is ill-defined and being set to 0.0 in labels with no true samples. Use `zero_division` parameter to control this behavior.\n",
      "  _warn_prf(average, modifier, f\"{metric.capitalize()} is\", len(result))\n",
      "/home/lucas/.local/lib/python3.12/site-packages/sklearn/metrics/_classification.py:1509: UndefinedMetricWarning: Recall is ill-defined and being set to 0.0 in labels with no true samples. Use `zero_division` parameter to control this behavior.\n",
      "  _warn_prf(average, modifier, f\"{metric.capitalize()} is\", len(result))\n"
     ]
    }
   ],
   "source": [
    "print(classification_report(real_values, predictions.predictions.argmax(-1)))"
   ]
  },
  {
   "cell_type": "code",
   "execution_count": null,
   "metadata": {},
   "outputs": [
    {
     "data": {
      "image/png": "[encoded data removed]",
      "text/plain": [
       "<Figure size 1000x700 with 2 Axes>"
      ]
     },
     "metadata": {},
     "output_type": "display_data"
    }
   ],
   "source": [
    "# The predictions are in a tuple, with the first element being the actual predictions\n",
    "predicted_labels = np.argmax(predictions[0], axis=1)\n",
    "\n",
    "# Assuming the labels in your dataset are stored in a 'label' column\n",
    "true_labels = [entry['label'] for entry in tokenized_dataset_full['test']]\n",
    "\n",
    "cm = confusion_matrix(true_labels, predicted_labels)\n",
    "\n",
    "# Plot the heatmap\n",
    "plt.figure(figsize=(10,7))\n",
    "sns.heatmap(cm, annot=True, fmt='d')\n",
    "plt.title('Confusion Matrix')\n",
    "plt.ylabel('Actual label')\n",
    "plt.xlabel('Predicted label')\n",
    "plt.show()"
   ]
  },
  {
   "cell_type": "markdown",
   "metadata": {},
   "source": [
    "## Domain Adaptation\n",
    "distilbert/distilbert-base-uncased-finetuned-sst-2-english"
   ]
  },
  {
   "cell_type": "code",
   "execution_count": 14,
   "metadata": {},
   "outputs": [],
   "source": [
    "model_name = \"fabriceyhc/bert-base-uncased-yahoo_answers_topics\"\n",
    "# Load the model and tokenizer\n",
    "tokenizer = AutoTokenizer.from_pretrained(model_name)\n",
    "model = AutoModelForSequenceClassification.from_pretrained(model_name)\n",
    "\n",
    "model2 = AutoModelForSequenceClassification.from_pretrained(model_name)"
   ]
  },
  {
   "cell_type": "code",
   "execution_count": 15,
   "metadata": {},
   "outputs": [],
   "source": [
    "def preprocess_function(sample):\n",
    "    return tokenizer(sample[\"text\"], truncation=True)"
   ]
  },
  {
   "cell_type": "code",
   "execution_count": 16,
   "metadata": {},
   "outputs": [
    {
     "data": {
      "application/vnd.jupyter.widget-view+json": {
       "model_id": "803be32003ba40b3b371e14bb2f3ddf9",
       "version_major": 2,
       "version_minor": 0
      },
      "text/plain": [
       "Map:   0%|          | 0/28800 [00:00<?, ? examples/s]"
      ]
     },
     "metadata": {},
     "output_type": "display_data"
    },
    {
     "data": {
      "application/vnd.jupyter.widget-view+json": {
       "model_id": "1610e90545d34ff49e81978e7f0f6eab",
       "version_major": 2,
       "version_minor": 0
      },
      "text/plain": [
       "Map:   0%|          | 0/8000 [00:00<?, ? examples/s]"
      ]
     },
     "metadata": {},
     "output_type": "display_data"
    },
    {
     "data": {
      "application/vnd.jupyter.widget-view+json": {
       "model_id": "0af60c39ad804e05b44fe1a23fbda3cd",
       "version_major": 2,
       "version_minor": 0
      },
      "text/plain": [
       "Map:   0%|          | 0/3200 [00:00<?, ? examples/s]"
      ]
     },
     "metadata": {},
     "output_type": "display_data"
    },
    {
     "data": {
      "text/plain": [
       "DatasetDict({\n",
       "    train: Dataset({\n",
       "        features: ['text', 'label', 'input_ids', 'token_type_ids', 'attention_mask'],\n",
       "        num_rows: 28800\n",
       "    })\n",
       "    test: Dataset({\n",
       "        features: ['text', 'label', 'input_ids', 'token_type_ids', 'attention_mask'],\n",
       "        num_rows: 8000\n",
       "    })\n",
       "    validation: Dataset({\n",
       "        features: ['text', 'label', 'input_ids', 'token_type_ids', 'attention_mask'],\n",
       "        num_rows: 3200\n",
       "    })\n",
       "})"
      ]
     },
     "execution_count": 16,
     "metadata": {},
     "output_type": "execute_result"
    }
   ],
   "source": [
    "tokenized_dataset = train_valid_test_dataset.map(preprocess_function, batched=True)\n",
    "tokenized_dataset"
   ]
  },
  {
   "cell_type": "code",
   "execution_count": 17,
   "metadata": {},
   "outputs": [],
   "source": [
    "metric = load(\"accuracy\")\n",
    "\n",
    "def compute_metrics(eval_pred):\n",
    "    print(eval_pred)\n",
    "    logits, labels = eval_pred\n",
    "    predictions = np.argmax(logits, axis=-1)\n",
    "    print(predictions)\n",
    "    predictions_converted = [label_converter[entry] for entry in predictions]\n",
    "    # print(predictions_converted)\n",
    "    return metric.compute(predictions=predictions, references=labels)\n",
    "\n",
    "training_args = TrainingArguments(\n",
    "    output_dir=\"./results-domain\",\n",
    "    learning_rate=2e-5,\n",
    "    per_device_train_batch_size=6,\n",
    "    per_device_eval_batch_size=6,\n",
    "    num_train_epochs=10,\n",
    "    weight_decay=0.01,\n",
    "    evaluation_strategy=\"epoch\", # run validation at the end of each epoch\n",
    "    save_strategy=\"epoch\",\n",
    "    load_best_model_at_end=True,\n",
    "    gradient_accumulation_steps=10\n",
    ")\n",
    "\n",
    "data_collator = DataCollatorWithPadding(tokenizer=tokenizer)\n",
    "\n",
    "trainer3 = Trainer(\n",
    "    model=model,\n",
    "    args=training_args,\n",
    "    train_dataset=tokenized_dataset[\"train\"],\n",
    "    eval_dataset=tokenized_dataset[\"validation\"],\n",
    "    tokenizer=tokenizer,\n",
    "    data_collator=data_collator,\n",
    "    compute_metrics=compute_metrics\n",
    ")"
   ]
  },
  {
   "cell_type": "code",
   "execution_count": 18,
   "metadata": {},
   "outputs": [
    {
     "data": {
      "application/vnd.jupyter.widget-view+json": {
       "model_id": "4f4b34fd737846c5b69e7e19a01fdbae",
       "version_major": 2,
       "version_minor": 0
      },
      "text/plain": [
       "  0%|          | 0/4800 [00:00<?, ?it/s]"
      ]
     },
     "metadata": {},
     "output_type": "display_data"
    },
    {
     "data": {
      "application/vnd.jupyter.widget-view+json": {
       "model_id": "3fa81cf45608458ca4cd6b7a7e97c9cc",
       "version_major": 2,
       "version_minor": 0
      },
      "text/plain": [
       "  0%|          | 0/534 [00:00<?, ?it/s]"
      ]
     },
     "metadata": {},
     "output_type": "display_data"
    },
    {
     "name": "stdout",
     "output_type": "stream",
     "text": [
      "<transformers.trainer_utils.EvalPrediction object at 0x7ff34e2a8800>\n",
      "[0 1 3 ... 3 1 3]\n",
      "{'eval_loss': 0.21742577850818634, 'eval_accuracy': 0.923125, 'eval_runtime': 6.9209, 'eval_samples_per_second': 462.37, 'eval_steps_per_second': 77.158, 'epoch': 1.0}\n",
      "{'loss': 0.36, 'grad_norm': 5.903355598449707, 'learning_rate': 1.7916666666666667e-05, 'epoch': 1.04}\n"
     ]
    },
    {
     "data": {
      "application/vnd.jupyter.widget-view+json": {
       "model_id": "4d9cb1a230ca42f38a2fb8a9af7edb63",
       "version_major": 2,
       "version_minor": 0
      },
      "text/plain": [
       "  0%|          | 0/534 [00:00<?, ?it/s]"
      ]
     },
     "metadata": {},
     "output_type": "display_data"
    },
    {
     "name": "stdout",
     "output_type": "stream",
     "text": [
      "<transformers.trainer_utils.EvalPrediction object at 0x7ff34e29a660>\n",
      "[0 1 3 ... 3 1 2]\n",
      "{'eval_loss': 0.2065533995628357, 'eval_accuracy': 0.929375, 'eval_runtime': 6.9233, 'eval_samples_per_second': 462.208, 'eval_steps_per_second': 77.131, 'epoch': 2.0}\n",
      "{'loss': 0.17, 'grad_norm': 2.675908088684082, 'learning_rate': 1.5833333333333333e-05, 'epoch': 2.08}\n"
     ]
    },
    {
     "data": {
      "application/vnd.jupyter.widget-view+json": {
       "model_id": "7cf57560bd384a499167205157f0c0ea",
       "version_major": 2,
       "version_minor": 0
      },
      "text/plain": [
       "  0%|          | 0/534 [00:00<?, ?it/s]"
      ]
     },
     "metadata": {},
     "output_type": "display_data"
    },
    {
     "name": "stdout",
     "output_type": "stream",
     "text": [
      "<transformers.trainer_utils.EvalPrediction object at 0x7ff34e2a8800>\n",
      "[0 1 3 ... 3 1 2]\n",
      "{'eval_loss': 0.24816586077213287, 'eval_accuracy': 0.928125, 'eval_runtime': 6.8756, 'eval_samples_per_second': 465.414, 'eval_steps_per_second': 77.666, 'epoch': 3.0}\n",
      "{'loss': 0.1092, 'grad_norm': 1.5544408559799194, 'learning_rate': 1.375e-05, 'epoch': 3.12}\n"
     ]
    },
    {
     "data": {
      "application/vnd.jupyter.widget-view+json": {
       "model_id": "e470521af9494a59a2525c53137308da",
       "version_major": 2,
       "version_minor": 0
      },
      "text/plain": [
       "  0%|          | 0/534 [00:00<?, ?it/s]"
      ]
     },
     "metadata": {},
     "output_type": "display_data"
    },
    {
     "name": "stdout",
     "output_type": "stream",
     "text": [
      "<transformers.trainer_utils.EvalPrediction object at 0x7ff34e2a8800>\n",
      "[0 1 3 ... 3 1 3]\n",
      "{'eval_loss': 0.28295090794563293, 'eval_accuracy': 0.9259375, 'eval_runtime': 6.94, 'eval_samples_per_second': 461.092, 'eval_steps_per_second': 76.945, 'epoch': 4.0}\n",
      "{'loss': 0.0621, 'grad_norm': 0.2844797372817993, 'learning_rate': 1.1666666666666668e-05, 'epoch': 4.17}\n"
     ]
    },
    {
     "data": {
      "application/vnd.jupyter.widget-view+json": {
       "model_id": "9954594ba80f4629bab089ce371686cc",
       "version_major": 2,
       "version_minor": 0
      },
      "text/plain": [
       "  0%|          | 0/534 [00:00<?, ?it/s]"
      ]
     },
     "metadata": {},
     "output_type": "display_data"
    },
    {
     "name": "stdout",
     "output_type": "stream",
     "text": [
      "<transformers.trainer_utils.EvalPrediction object at 0x7ff34e2a8800>\n",
      "[0 1 3 ... 3 1 2]\n",
      "{'eval_loss': 0.3400699198246002, 'eval_accuracy': 0.9259375, 'eval_runtime': 6.8888, 'eval_samples_per_second': 464.525, 'eval_steps_per_second': 77.518, 'epoch': 5.0}\n",
      "{'loss': 0.0361, 'grad_norm': 0.4728167653083801, 'learning_rate': 9.583333333333335e-06, 'epoch': 5.21}\n"
     ]
    },
    {
     "data": {
      "application/vnd.jupyter.widget-view+json": {
       "model_id": "6ba838371ec04207885e1823e94b79b4",
       "version_major": 2,
       "version_minor": 0
      },
      "text/plain": [
       "  0%|          | 0/534 [00:00<?, ?it/s]"
      ]
     },
     "metadata": {},
     "output_type": "display_data"
    },
    {
     "name": "stdout",
     "output_type": "stream",
     "text": [
      "<transformers.trainer_utils.EvalPrediction object at 0x7ff35b54e990>\n",
      "[0 1 3 ... 3 1 2]\n",
      "{'eval_loss': 0.39228150248527527, 'eval_accuracy': 0.929375, 'eval_runtime': 6.9213, 'eval_samples_per_second': 462.338, 'eval_steps_per_second': 77.153, 'epoch': 6.0}\n",
      "{'loss': 0.0201, 'grad_norm': 7.8845415115356445, 'learning_rate': 7.500000000000001e-06, 'epoch': 6.25}\n"
     ]
    },
    {
     "data": {
      "application/vnd.jupyter.widget-view+json": {
       "model_id": "6f4b0e09b289445881edaf734c79fb0e",
       "version_major": 2,
       "version_minor": 0
      },
      "text/plain": [
       "  0%|          | 0/534 [00:00<?, ?it/s]"
      ]
     },
     "metadata": {},
     "output_type": "display_data"
    },
    {
     "name": "stdout",
     "output_type": "stream",
     "text": [
      "<transformers.trainer_utils.EvalPrediction object at 0x7ff34e2a8800>\n",
      "[0 1 3 ... 3 1 2]\n",
      "{'eval_loss': 0.473702609539032, 'eval_accuracy': 0.920625, 'eval_runtime': 6.8935, 'eval_samples_per_second': 464.209, 'eval_steps_per_second': 77.465, 'epoch': 7.0}\n",
      "{'loss': 0.0118, 'grad_norm': 5.136019229888916, 'learning_rate': 5.416666666666667e-06, 'epoch': 7.29}\n"
     ]
    },
    {
     "data": {
      "application/vnd.jupyter.widget-view+json": {
       "model_id": "2f3d5a0789ec40d9802d2104725422b0",
       "version_major": 2,
       "version_minor": 0
      },
      "text/plain": [
       "  0%|          | 0/534 [00:00<?, ?it/s]"
      ]
     },
     "metadata": {},
     "output_type": "display_data"
    },
    {
     "name": "stdout",
     "output_type": "stream",
     "text": [
      "<transformers.trainer_utils.EvalPrediction object at 0x7ff34e2a8800>\n",
      "[0 1 3 ... 3 1 2]\n",
      "{'eval_loss': 0.47052618861198425, 'eval_accuracy': 0.924375, 'eval_runtime': 6.9428, 'eval_samples_per_second': 460.912, 'eval_steps_per_second': 76.915, 'epoch': 8.0}\n",
      "{'loss': 0.0053, 'grad_norm': 0.007930993102490902, 'learning_rate': 3.3333333333333333e-06, 'epoch': 8.33}\n"
     ]
    },
    {
     "data": {
      "application/vnd.jupyter.widget-view+json": {
       "model_id": "9954b604c7604ba49d3891d17571d282",
       "version_major": 2,
       "version_minor": 0
      },
      "text/plain": [
       "  0%|          | 0/534 [00:00<?, ?it/s]"
      ]
     },
     "metadata": {},
     "output_type": "display_data"
    },
    {
     "name": "stdout",
     "output_type": "stream",
     "text": [
      "<transformers.trainer_utils.EvalPrediction object at 0x7ff35b5b5700>\n",
      "[0 1 3 ... 3 1 2]\n",
      "{'eval_loss': 0.48669007420539856, 'eval_accuracy': 0.92625, 'eval_runtime': 6.8873, 'eval_samples_per_second': 464.624, 'eval_steps_per_second': 77.534, 'epoch': 9.0}\n",
      "{'loss': 0.0045, 'grad_norm': 0.05511951446533203, 'learning_rate': 1.25e-06, 'epoch': 9.38}\n"
     ]
    },
    {
     "data": {
      "application/vnd.jupyter.widget-view+json": {
       "model_id": "6d2c7bd1c6624510882061bd146bf2a2",
       "version_major": 2,
       "version_minor": 0
      },
      "text/plain": [
       "  0%|          | 0/534 [00:00<?, ?it/s]"
      ]
     },
     "metadata": {},
     "output_type": "display_data"
    },
    {
     "name": "stdout",
     "output_type": "stream",
     "text": [
      "<transformers.trainer_utils.EvalPrediction object at 0x7ff35fe7c1a0>\n",
      "[0 1 3 ... 3 1 2]\n",
      "{'eval_loss': 0.49571990966796875, 'eval_accuracy': 0.9253125, 'eval_runtime': 6.912, 'eval_samples_per_second': 462.964, 'eval_steps_per_second': 77.257, 'epoch': 10.0}\n",
      "{'train_runtime': 2187.6544, 'train_samples_per_second': 131.648, 'train_steps_per_second': 2.194, 'train_loss': 0.08137987608710925, 'epoch': 10.0}\n"
     ]
    },
    {
     "data": {
      "text/plain": [
       "TrainOutput(global_step=4800, training_loss=0.08137987608710925, metrics={'train_runtime': 2187.6544, 'train_samples_per_second': 131.648, 'train_steps_per_second': 2.194, 'total_flos': 1.0202728301754912e+16, 'train_loss': 0.08137987608710925, 'epoch': 10.0})"
      ]
     },
     "execution_count": 18,
     "metadata": {},
     "output_type": "execute_result"
    }
   ],
   "source": [
    "trainer3.train()"
   ]
  },
  {
   "cell_type": "code",
   "execution_count": 19,
   "metadata": {},
   "outputs": [
    {
     "data": {
      "application/vnd.jupyter.widget-view+json": {
       "model_id": "3d1c619477c04b8d918fb4e54ac07c68",
       "version_major": 2,
       "version_minor": 0
      },
      "text/plain": [
       "  0%|          | 0/534 [00:00<?, ?it/s]"
      ]
     },
     "metadata": {},
     "output_type": "display_data"
    },
    {
     "name": "stdout",
     "output_type": "stream",
     "text": [
      "<transformers.trainer_utils.EvalPrediction object at 0x7ff36951f470>\n",
      "[0 1 3 ... 3 1 2]\n"
     ]
    },
    {
     "data": {
      "text/plain": [
       "{'eval_loss': 0.2065533995628357,\n",
       " 'eval_accuracy': 0.929375,\n",
       " 'eval_runtime': 6.9064,\n",
       " 'eval_samples_per_second': 463.337,\n",
       " 'eval_steps_per_second': 77.319,\n",
       " 'epoch': 10.0}"
      ]
     },
     "execution_count": 19,
     "metadata": {},
     "output_type": "execute_result"
    }
   ],
   "source": [
    "trainer3.evaluate()"
   ]
  },
  {
   "cell_type": "code",
   "execution_count": 25,
   "metadata": {},
   "outputs": [
    {
     "data": {
      "application/vnd.jupyter.widget-view+json": {
       "model_id": "004e893d69e34a00852593b019261592",
       "version_major": 2,
       "version_minor": 0
      },
      "text/plain": [
       "  0%|          | 0/1334 [00:00<?, ?it/s]"
      ]
     },
     "metadata": {},
     "output_type": "display_data"
    },
    {
     "name": "stdout",
     "output_type": "stream",
     "text": [
      "<transformers.trainer_utils.EvalPrediction object at 0x7ff33d5d99a0>\n",
      "[2 1 0 ... 2 2 3]\n"
     ]
    },
    {
     "data": {
      "text/plain": [
       "PredictionOutput(predictions=array([[ 0.25328532, -1.0758101 ,  5.8665304 , ..., -2.739812  ,\n",
       "        -2.7687647 , -2.3524551 ],\n",
       "       [ 0.63322246,  7.781567  , -0.2877586 , ..., -1.529082  ,\n",
       "        -2.095355  , -1.1481286 ],\n",
       "       [ 7.2837725 , -0.76884305, -0.02042841, ..., -1.6331748 ,\n",
       "        -1.7183628 , -0.6097688 ],\n",
       "       ...,\n",
       "       [ 0.21842286, -1.0997226 ,  5.7400165 , ..., -2.7615316 ,\n",
       "        -2.7218728 , -2.3803773 ],\n",
       "       [ 0.7957248 , -1.0080624 ,  6.4979997 , ..., -2.9433818 ,\n",
       "        -2.791173  , -2.187606  ],\n",
       "       [ 0.29826576, -1.5790974 ,  3.1420786 , ..., -1.6780468 ,\n",
       "        -2.8136857 , -2.33598   ]], dtype=float32), label_ids=array([2, 1, 0, ..., 2, 2, 3]), metrics={'test_loss': 0.21210025250911713, 'test_accuracy': 0.928, 'test_runtime': 17.0949, 'test_samples_per_second': 467.976, 'test_steps_per_second': 78.035})"
      ]
     },
     "execution_count": 25,
     "metadata": {},
     "output_type": "execute_result"
    }
   ],
   "source": [
    "predictions = trainer3.predict(test_dataset=tokenized_dataset[\"test\"])\n",
    "predictions"
   ]
  },
  {
   "cell_type": "code",
   "execution_count": 28,
   "metadata": {},
   "outputs": [
    {
     "ename": "NameError",
     "evalue": "name 'real_values' is not defined",
     "output_type": "error",
     "traceback": [
      "\u001b[0;31m---------------------------------------------------------------------------\u001b[0m",
      "\u001b[0;31mNameError\u001b[0m                                 Traceback (most recent call last)",
      "Cell \u001b[0;32mIn[28], line 1\u001b[0m\n\u001b[0;32m----> 1\u001b[0m \u001b[38;5;28mprint\u001b[39m(classification_report(\u001b[43mreal_values\u001b[49m, predictions\u001b[38;5;241m.\u001b[39mpredictions\u001b[38;5;241m.\u001b[39margmax(\u001b[38;5;241m-\u001b[39m\u001b[38;5;241m1\u001b[39m)))\n",
      "\u001b[0;31mNameError\u001b[0m: name 'real_values' is not defined"
     ]
    }
   ],
   "source": [
    "print(classification_report(real_values, predictions.predictions.argmax(-1)))"
   ]
  },
  {
   "cell_type": "code",
   "execution_count": null,
   "metadata": {},
   "outputs": [],
   "source": [
    "# The predictions are in a tuple, with the first element being the actual predictions\n",
    "predicted_labels = np.argmax(predictions[0], axis=1)\n",
    "\n",
    "# Assuming the labels in your dataset are stored in a 'label' column\n",
    "true_labels = [entry['label'] for entry in tokenized_dataset['test']]\n",
    "\n",
    "cm = confusion_matrix(true_labels, predicted_labels)\n",
    "\n",
    "# Plot the heatmap\n",
    "plt.figure(figsize=(10,7))\n",
    "sns.heatmap(cm, annot=True, fmt='d')\n",
    "plt.title('Confusion Matrix')\n",
    "plt.ylabel('Actual label')\n",
    "plt.xlabel('Predicted label')\n",
    "plt.show()"
   ]
  },
  {
   "cell_type": "markdown",
   "metadata": {},
   "source": [
    "## Save the models"
   ]
  },
  {
   "cell_type": "code",
   "execution_count": null,
   "metadata": {},
   "outputs": [],
   "source": [
    "trainer.save_model()\n",
    "trainer3.save_model()"
   ]
  }
 ],
 "metadata": {
  "kernelspec": {
   "display_name": "myenv",
   "language": "python",
   "name": "python3"
  },
  "language_info": {
   "codemirror_mode": {
    "name": "ipython",
    "version": 3
   },
   "file_extension": ".py",
   "mimetype": "text/x-python",
   "name": "python",
   "nbconvert_exporter": "python",
   "pygments_lexer": "ipython3",
   "version": "3.12.3"
  }
 },
 "nbformat": 4,
 "nbformat_minor": 2
}
