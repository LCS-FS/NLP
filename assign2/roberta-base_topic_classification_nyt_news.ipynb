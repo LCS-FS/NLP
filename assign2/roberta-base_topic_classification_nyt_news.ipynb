{
 "cells": [
  {
   "cell_type": "markdown",
   "metadata": {},
   "source": [
    "# Dependencies"
   ]
  },
  {
   "cell_type": "code",
   "execution_count": 1,
   "metadata": {},
   "outputs": [],
   "source": [
    "# !pip install pandas\n",
    "# !pip install transformers\n",
    "# !pip install --upgrade jupyter ipywidgets\n",
    "# !pip install torch torchvision torchaudio\n",
    "# !pip install tensorflow\n",
    "# !pip install flax\n",
    "# !pip install evaluate"
   ]
  },
  {
   "cell_type": "markdown",
   "metadata": {},
   "source": [
    "# Import data"
   ]
  },
  {
   "cell_type": "code",
   "execution_count": 2,
   "metadata": {},
   "outputs": [
    {
     "data": {
      "text/html": [
       "<div>\n",
       "<style scoped>\n",
       "    .dataframe tbody tr th:only-of-type {\n",
       "        vertical-align: middle;\n",
       "    }\n",
       "\n",
       "    .dataframe tbody tr th {\n",
       "        vertical-align: top;\n",
       "    }\n",
       "\n",
       "    .dataframe thead th {\n",
       "        text-align: right;\n",
       "    }\n",
       "</style>\n",
       "<table border=\"1\" class=\"dataframe\">\n",
       "  <thead>\n",
       "    <tr style=\"text-align: right;\">\n",
       "      <th></th>\n",
       "      <th>text</th>\n",
       "      <th>label</th>\n",
       "    </tr>\n",
       "  </thead>\n",
       "  <tbody>\n",
       "    <tr>\n",
       "      <th>0</th>\n",
       "      <td>Explosion Rocks Baghdad Neighborhood BAGHDAD, ...</td>\n",
       "      <td>0</td>\n",
       "    </tr>\n",
       "    <tr>\n",
       "      <th>1</th>\n",
       "      <td>BBC reporters' log BBC correspondents record e...</td>\n",
       "      <td>0</td>\n",
       "    </tr>\n",
       "    <tr>\n",
       "      <th>2</th>\n",
       "      <td>Israel welcomes Rice nomination; Palestinians ...</td>\n",
       "      <td>0</td>\n",
       "    </tr>\n",
       "    <tr>\n",
       "      <th>3</th>\n",
       "      <td>Medical Journal Calls for a New Drug Watchdog ...</td>\n",
       "      <td>0</td>\n",
       "    </tr>\n",
       "    <tr>\n",
       "      <th>4</th>\n",
       "      <td>Militants Kidnap Relatives of Iraqi Minister-T...</td>\n",
       "      <td>0</td>\n",
       "    </tr>\n",
       "    <tr>\n",
       "      <th>...</th>\n",
       "      <td>...</td>\n",
       "      <td>...</td>\n",
       "    </tr>\n",
       "    <tr>\n",
       "      <th>39995</th>\n",
       "      <td>Microsoft Tests MSN Messenger 7.0 Updated chat...</td>\n",
       "      <td>3</td>\n",
       "    </tr>\n",
       "    <tr>\n",
       "      <th>39996</th>\n",
       "      <td>Vonage talks of 911 advancements In Rhode Isla...</td>\n",
       "      <td>3</td>\n",
       "    </tr>\n",
       "    <tr>\n",
       "      <th>39997</th>\n",
       "      <td>Exploring Venus: The Hothouse Planet Before sp...</td>\n",
       "      <td>3</td>\n",
       "    </tr>\n",
       "    <tr>\n",
       "      <th>39998</th>\n",
       "      <td>PayPal to Impose Fines for Breaking Bans  - On...</td>\n",
       "      <td>3</td>\n",
       "    </tr>\n",
       "    <tr>\n",
       "      <th>39999</th>\n",
       "      <td>Glaciers are flowing faster Ice is sliding off...</td>\n",
       "      <td>3</td>\n",
       "    </tr>\n",
       "  </tbody>\n",
       "</table>\n",
       "<p>40000 rows × 2 columns</p>\n",
       "</div>"
      ],
      "text/plain": [
       "                                                    text  label\n",
       "0      Explosion Rocks Baghdad Neighborhood BAGHDAD, ...      0\n",
       "1      BBC reporters' log BBC correspondents record e...      0\n",
       "2      Israel welcomes Rice nomination; Palestinians ...      0\n",
       "3      Medical Journal Calls for a New Drug Watchdog ...      0\n",
       "4      Militants Kidnap Relatives of Iraqi Minister-T...      0\n",
       "...                                                  ...    ...\n",
       "39995  Microsoft Tests MSN Messenger 7.0 Updated chat...      3\n",
       "39996  Vonage talks of 911 advancements In Rhode Isla...      3\n",
       "39997  Exploring Venus: The Hothouse Planet Before sp...      3\n",
       "39998  PayPal to Impose Fines for Breaking Bans  - On...      3\n",
       "39999  Glaciers are flowing faster Ice is sliding off...      3\n",
       "\n",
       "[40000 rows x 2 columns]"
      ]
     },
     "execution_count": 2,
     "metadata": {},
     "output_type": "execute_result"
    }
   ],
   "source": [
    "import pandas as pd\n",
    "\n",
    "data = pd.read_csv(\"dataset/small_data_sample.csv\")\n",
    "data"
   ]
  },
  {
   "cell_type": "markdown",
   "metadata": {},
   "source": [
    "---"
   ]
  },
  {
   "cell_type": "code",
   "execution_count": 3,
   "metadata": {},
   "outputs": [],
   "source": [
    "from datasets import Dataset\n",
    "\n",
    "dataset_hf = Dataset.from_pandas(data)"
   ]
  },
  {
   "cell_type": "code",
   "execution_count": 4,
   "metadata": {},
   "outputs": [],
   "source": [
    "from datasets import DatasetDict\n",
    "\n",
    "# 80% train + validation, 20% test\n",
    "train_test = dataset_hf.train_test_split(test_size=0.2, seed=42)\n",
    "\n",
    "# Split the 80% train+validation set in 90% train, 10% validation\n",
    "train_valid = train_test['train'].train_test_split(test_size=0.1)\n",
    "\n",
    "train_valid_test_dataset = DatasetDict({\n",
    "    'train': train_valid['train'],\n",
    "    'test': train_test['test'],\n",
    "    'validation': train_valid['test']\n",
    "})"
   ]
  },
  {
   "cell_type": "markdown",
   "metadata": {},
   "source": [
    "---"
   ]
  },
  {
   "cell_type": "markdown",
   "metadata": {},
   "source": [
    "| Model Label | Model Label Value | -> | Data Label | Data Label Value |\n",
    "| -------- | -------- | -------- | -------- | -------- |\n",
    "| 0 | Sports | -> | 1 | Sports |\n",
    "| 1 | Arts, Culture, and Entertainment | -> | 0 | World |\n",
    "| 2 | Business and Finance | -> | 2 | Business |\n",
    "| 3 | Health and Wellness | -> | 0 | World |\n",
    "| 4 | Lifestyle and Fashion | -> | 0 | World |\n",
    "| 5 | Science and Technology | -> | 3 | Sci/Tech |\n",
    "| 6 | Politics | -> | 0 | World |\n",
    "| 7 | Crime | -> | 0 | World |"
   ]
  },
  {
   "cell_type": "code",
   "execution_count": 5,
   "metadata": {},
   "outputs": [],
   "source": [
    "label_converter = {\n",
    "    0: 1,\n",
    "    1: 0,\n",
    "    2: 2,\n",
    "    3: 0,\n",
    "    4: 0,\n",
    "    5: 3,\n",
    "    6: 0,\n",
    "    7: 0\n",
    "}"
   ]
  },
  {
   "cell_type": "code",
   "execution_count": 6,
   "metadata": {},
   "outputs": [],
   "source": [
    "label_dict = {\n",
    "    0: 'World', \n",
    "    1: 'Sports', \n",
    "    2: 'Business',\n",
    "    3: 'Sci/Tech'\n",
    "}"
   ]
  },
  {
   "cell_type": "code",
   "execution_count": 7,
   "metadata": {},
   "outputs": [],
   "source": [
    "model_name = \"dstefa/roberta-base_topic_classification_nyt_news\"\n",
    "\n",
    "predictions_dict = {\n",
    "    \"Sports\": 1,\n",
    "    \"Arts, Culture, and Entertainment\": 0,\n",
    "    \"Business and Finance\": 2,\n",
    "    \"Health and Wellness\": 0,\n",
    "    \"Lifestyle and Fashion\": 0,\n",
    "    \"Science and Technology\": 3,\n",
    "    \"Politics\": 0,\n",
    "    \"Crime\": 0\n",
    "}"
   ]
  },
  {
   "cell_type": "code",
   "execution_count": 8,
   "metadata": {},
   "outputs": [],
   "source": [
    "from sklearn.metrics import confusion_matrix\n",
    "from sklearn.metrics import accuracy_score\n",
    "from sklearn.metrics import precision_score\n",
    "from sklearn.metrics import recall_score\n",
    "from sklearn.metrics import f1_score\n",
    "\n",
    "def print_metrics(y_test, y_pred):\n",
    "    print(confusion_matrix(y_test, y_pred))\n",
    "    print('Accuracy: ', accuracy_score(y_test, y_pred))\n",
    "    print('Precision: ', precision_score(y_test, y_pred, average='macro'))\n",
    "    print('Recall: ', recall_score(y_test, y_pred, average='macro'))\n",
    "    print('F1: ', f1_score(y_test, y_pred, average='macro'))"
   ]
  },
  {
   "cell_type": "markdown",
   "metadata": {},
   "source": [
    "# Transformer"
   ]
  },
  {
   "cell_type": "code",
   "execution_count": 9,
   "metadata": {},
   "outputs": [
    {
     "name": "stderr",
     "output_type": "stream",
     "text": [
      "2024-05-01 16:05:23.183095: W tensorflow/compiler/tf2tensorrt/utils/py_utils.cc:38] TF-TRT Warning: Could not find TensorRT\n"
     ]
    }
   ],
   "source": [
    "from transformers import pipeline\n",
    "\n",
    "classifier = pipeline(model=model_name)"
   ]
  },
  {
   "cell_type": "code",
   "execution_count": 10,
   "metadata": {},
   "outputs": [
    {
     "name": "stdout",
     "output_type": "stream",
     "text": [
      "              precision    recall  f1-score   support\n",
      "\n",
      "           0       0.74      0.81      0.77       209\n",
      "           1       0.94      0.95      0.94       277\n",
      "           2       0.56      0.93      0.70       241\n",
      "           3       0.90      0.29      0.44       273\n",
      "\n",
      "    accuracy                           0.74      1000\n",
      "   macro avg       0.78      0.75      0.71      1000\n",
      "weighted avg       0.80      0.74      0.71      1000\n",
      "\n"
     ]
    }
   ],
   "source": [
    "from sklearn.metrics import classification_report\n",
    "\n",
    "sample = train_valid_test_dataset['test'][:1000] #TODO: Use all data\n",
    "predictions = [classifier(sample_row)[0]['label'] for sample_row in sample['text']]\n",
    "converted_predictions = [predictions_dict[entry] for entry in predictions]\n",
    "real_values = [int(actual_label) for actual_label in sample['label']]\n",
    "print(classification_report(real_values, converted_predictions))"
   ]
  },
  {
   "cell_type": "code",
   "execution_count": 11,
   "metadata": {},
   "outputs": [
    {
     "data": {
      "image/png": "[encoded data removed]",
      "text/plain": [
       "<Figure size 1000x700 with 2 Axes>"
      ]
     },
     "metadata": {},
     "output_type": "display_data"
    }
   ],
   "source": [
    "import matplotlib.pyplot as plt\n",
    "import seaborn as sns\n",
    "from sklearn.metrics import confusion_matrix\n",
    "\n",
    "# Generate the confusion matrix\n",
    "cm = confusion_matrix(real_values, converted_predictions)\n",
    "\n",
    "# Plot the heatmap\n",
    "plt.figure(figsize=(10,7))\n",
    "sns.heatmap(cm, annot=True, fmt='d')\n",
    "plt.title('Confusion Matrix')\n",
    "plt.ylabel('Actual label')\n",
    "plt.xlabel('Predicted label')\n",
    "plt.show()"
   ]
  },
  {
   "cell_type": "markdown",
   "metadata": {},
   "source": [
    "# Fine-tuning "
   ]
  },
  {
   "cell_type": "markdown",
   "metadata": {},
   "source": [
    "## Tokenize dataset"
   ]
  },
  {
   "cell_type": "code",
   "execution_count": 47,
   "metadata": {},
   "outputs": [],
   "source": [
    "from transformers import AutoTokenizer, AutoModelForSequenceClassification\n",
    "\n",
    "# Load the model and tokenizer\n",
    "tokenizer = AutoTokenizer.from_pretrained(model_name)\n",
    "model = AutoModelForSequenceClassification.from_pretrained(model_name)"
   ]
  },
  {
   "cell_type": "code",
   "execution_count": 48,
   "metadata": {},
   "outputs": [],
   "source": [
    "def preprocess_function(sample):\n",
    "    return tokenizer(sample[\"text\"], truncation=True)"
   ]
  },
  {
   "cell_type": "code",
   "execution_count": 49,
   "metadata": {},
   "outputs": [
    {
     "data": {
      "application/vnd.jupyter.widget-view+json": {
       "model_id": "f3e421c905324ee4ad3915ba8eab972d",
       "version_major": 2,
       "version_minor": 0
      },
      "text/plain": [
       "Map:   0%|          | 0/28800 [00:00<?, ? examples/s]"
      ]
     },
     "metadata": {},
     "output_type": "display_data"
    },
    {
     "data": {
      "application/vnd.jupyter.widget-view+json": {
       "model_id": "9e0db86021074b1ea0c8140791e3804f",
       "version_major": 2,
       "version_minor": 0
      },
      "text/plain": [
       "Map:   0%|          | 0/8000 [00:00<?, ? examples/s]"
      ]
     },
     "metadata": {},
     "output_type": "display_data"
    },
    {
     "data": {
      "application/vnd.jupyter.widget-view+json": {
       "model_id": "6f217cfffb82463cae3a800fb42be890",
       "version_major": 2,
       "version_minor": 0
      },
      "text/plain": [
       "Map:   0%|          | 0/3200 [00:00<?, ? examples/s]"
      ]
     },
     "metadata": {},
     "output_type": "display_data"
    },
    {
     "data": {
      "text/plain": [
       "DatasetDict({\n",
       "    train: Dataset({\n",
       "        features: ['text', 'label', 'input_ids', 'attention_mask'],\n",
       "        num_rows: 28800\n",
       "    })\n",
       "    test: Dataset({\n",
       "        features: ['text', 'label', 'input_ids', 'attention_mask'],\n",
       "        num_rows: 8000\n",
       "    })\n",
       "    validation: Dataset({\n",
       "        features: ['text', 'label', 'input_ids', 'attention_mask'],\n",
       "        num_rows: 3200\n",
       "    })\n",
       "})"
      ]
     },
     "execution_count": 49,
     "metadata": {},
     "output_type": "execute_result"
    }
   ],
   "source": [
    "tokenized_dataset = train_valid_test_dataset.map(preprocess_function, batched=True)\n",
    "tokenized_dataset"
   ]
  },
  {
   "cell_type": "markdown",
   "metadata": {},
   "source": [
    "## Finetune the model"
   ]
  },
  {
   "cell_type": "code",
   "execution_count": 50,
   "metadata": {},
   "outputs": [],
   "source": [
    "from transformers import TrainingArguments, Trainer\n",
    "from transformers import DataCollatorWithPadding\n",
    "from evaluate import load\n",
    "import numpy as np\n",
    "\n",
    "metric = load(\"accuracy\")\n",
    "\n",
    "def compute_metrics(eval_pred):\n",
    "    print(eval_pred)\n",
    "    logits, labels = eval_pred\n",
    "    predictions = np.argmax(logits, axis=-1)\n",
    "    print(predictions)\n",
    "    predictions_converted = [label_converter[entry] for entry in predictions]\n",
    "    # print(predictions_converted)\n",
    "    return metric.compute(predictions=predictions, references=labels)\n",
    "\n",
    "training_args = TrainingArguments(\n",
    "    output_dir=\"./results\",\n",
    "    learning_rate=2e-5,\n",
    "    per_device_train_batch_size=16,\n",
    "    per_device_eval_batch_size=16,\n",
    "    num_train_epochs=3,\n",
    "    weight_decay=0.01,\n",
    "    evaluation_strategy=\"epoch\", # run validation at the end of each epoch\n",
    "    save_strategy=\"epoch\",\n",
    "    load_best_model_at_end=True,\n",
    ")\n",
    "\n",
    "data_collator = DataCollatorWithPadding(tokenizer=tokenizer)\n",
    "\n",
    "trainer = Trainer(\n",
    "    model=model,\n",
    "    args=training_args,\n",
    "    train_dataset=tokenized_dataset[\"train\"],\n",
    "    eval_dataset=tokenized_dataset[\"validation\"],\n",
    "    tokenizer=tokenizer,\n",
    "    data_collator=data_collator,\n",
    "    compute_metrics=compute_metrics\n",
    ")"
   ]
  },
  {
   "cell_type": "code",
   "execution_count": 51,
   "metadata": {},
   "outputs": [
    {
     "data": {
      "application/vnd.jupyter.widget-view+json": {
       "model_id": "baaee573e4c54454aa9cffd60ff0dc30",
       "version_major": 2,
       "version_minor": 0
      },
      "text/plain": [
       "  0%|          | 0/5400 [00:00<?, ?it/s]"
      ]
     },
     "metadata": {},
     "output_type": "display_data"
    },
    {
     "name": "stdout",
     "output_type": "stream",
     "text": [
      "{'loss': 0.5728, 'grad_norm': 5.399385452270508, 'learning_rate': 1.814814814814815e-05, 'epoch': 0.28}\n",
      "{'loss': 0.3616, 'grad_norm': 11.400710105895996, 'learning_rate': 1.6296296296296297e-05, 'epoch': 0.56}\n",
      "{'loss': 0.3228, 'grad_norm': 3.186119556427002, 'learning_rate': 1.4444444444444446e-05, 'epoch': 0.83}\n"
     ]
    },
    {
     "data": {
      "application/vnd.jupyter.widget-view+json": {
       "model_id": "fece349d4ca44e6a999fa28085cdb2b1",
       "version_major": 2,
       "version_minor": 0
      },
      "text/plain": [
       "  0%|          | 0/200 [00:00<?, ?it/s]"
      ]
     },
     "metadata": {},
     "output_type": "display_data"
    },
    {
     "name": "stdout",
     "output_type": "stream",
     "text": [
      "[3 3 2 ... 0 2 0]\n",
      "{'eval_loss': 0.29950451850891113, 'eval_accuracy': 0.90375, 'eval_runtime': 6.1046, 'eval_samples_per_second': 524.191, 'eval_steps_per_second': 32.762, 'epoch': 1.0}\n",
      "{'loss': 0.2907, 'grad_norm': 2.831228494644165, 'learning_rate': 1.2592592592592593e-05, 'epoch': 1.11}\n",
      "{'loss': 0.277, 'grad_norm': 7.143630504608154, 'learning_rate': 1.0740740740740742e-05, 'epoch': 1.39}\n",
      "{'loss': 0.2632, 'grad_norm': 3.630972385406494, 'learning_rate': 8.888888888888888e-06, 'epoch': 1.67}\n",
      "{'loss': 0.2701, 'grad_norm': 9.039741516113281, 'learning_rate': 7.0370370370370375e-06, 'epoch': 1.94}\n"
     ]
    },
    {
     "data": {
      "application/vnd.jupyter.widget-view+json": {
       "model_id": "8967ded33eb44909958d0225cb7d282b",
       "version_major": 2,
       "version_minor": 0
      },
      "text/plain": [
       "  0%|          | 0/200 [00:00<?, ?it/s]"
      ]
     },
     "metadata": {},
     "output_type": "display_data"
    },
    {
     "name": "stdout",
     "output_type": "stream",
     "text": [
      "[3 3 2 ... 0 2 0]\n",
      "{'eval_loss': 0.30397310853004456, 'eval_accuracy': 0.915625, 'eval_runtime': 6.071, 'eval_samples_per_second': 527.092, 'eval_steps_per_second': 32.943, 'epoch': 2.0}\n",
      "{'loss': 0.2222, 'grad_norm': 3.504011869430542, 'learning_rate': 5.185185185185185e-06, 'epoch': 2.22}\n",
      "{'loss': 0.226, 'grad_norm': 4.562679767608643, 'learning_rate': 3.3333333333333333e-06, 'epoch': 2.5}\n",
      "{'loss': 0.2251, 'grad_norm': 1.231864094734192, 'learning_rate': 1.4814814814814815e-06, 'epoch': 2.78}\n"
     ]
    },
    {
     "data": {
      "application/vnd.jupyter.widget-view+json": {
       "model_id": "b023829ba7c1405d95be6007091dc20b",
       "version_major": 2,
       "version_minor": 0
      },
      "text/plain": [
       "  0%|          | 0/200 [00:00<?, ?it/s]"
      ]
     },
     "metadata": {},
     "output_type": "display_data"
    },
    {
     "name": "stdout",
     "output_type": "stream",
     "text": [
      "[3 3 2 ... 0 2 0]\n",
      "{'eval_loss': 0.2931508719921112, 'eval_accuracy': 0.9165625, 'eval_runtime': 6.091, 'eval_samples_per_second': 525.369, 'eval_steps_per_second': 32.836, 'epoch': 3.0}\n",
      "{'train_runtime': 650.9782, 'train_samples_per_second': 132.723, 'train_steps_per_second': 8.295, 'train_loss': 0.2987599210385923, 'epoch': 3.0}\n"
     ]
    },
    {
     "data": {
      "text/plain": [
       "TrainOutput(global_step=5400, training_loss=0.2987599210385923, metrics={'train_runtime': 650.9782, 'train_samples_per_second': 132.723, 'train_steps_per_second': 8.295, 'total_flos': 3629187619470336.0, 'train_loss': 0.2987599210385923, 'epoch': 3.0})"
      ]
     },
     "execution_count": 51,
     "metadata": {},
     "output_type": "execute_result"
    }
   ],
   "source": [
    "trainer.train()"
   ]
  },
  {
   "cell_type": "code",
   "execution_count": 52,
   "metadata": {},
   "outputs": [
    {
     "data": {
      "application/vnd.jupyter.widget-view+json": {
       "model_id": "e2524a8b474744cbb322b01e2da62b59",
       "version_major": 2,
       "version_minor": 0
      },
      "text/plain": [
       "  0%|          | 0/200 [00:00<?, ?it/s]"
      ]
     },
     "metadata": {},
     "output_type": "display_data"
    },
    {
     "name": "stdout",
     "output_type": "stream",
     "text": [
      "[3 3 2 ... 0 2 0]\n"
     ]
    },
    {
     "data": {
      "text/plain": [
       "{'eval_loss': 0.2931508719921112,\n",
       " 'eval_accuracy': 0.9165625,\n",
       " 'eval_runtime': 6.138,\n",
       " 'eval_samples_per_second': 521.341,\n",
       " 'eval_steps_per_second': 32.584,\n",
       " 'epoch': 3.0}"
      ]
     },
     "execution_count": 52,
     "metadata": {},
     "output_type": "execute_result"
    }
   ],
   "source": [
    "trainer.evaluate()"
   ]
  },
  {
   "cell_type": "code",
   "execution_count": 56,
   "metadata": {},
   "outputs": [
    {
     "data": {
      "application/vnd.jupyter.widget-view+json": {
       "model_id": "2a32254ed2fb4665bbb3814cbf7dc674",
       "version_major": 2,
       "version_minor": 0
      },
      "text/plain": [
       "  0%|          | 0/500 [00:00<?, ?it/s]"
      ]
     },
     "metadata": {},
     "output_type": "display_data"
    },
    {
     "name": "stdout",
     "output_type": "stream",
     "text": [
      "[3 1 1 ... 2 2 3]\n"
     ]
    }
   ],
   "source": [
    "predictions = trainer.predict(test_dataset=tokenized_dataset[\"test\"]) "
   ]
  },
  {
   "cell_type": "code",
   "execution_count": 58,
   "metadata": {},
   "outputs": [
    {
     "data": {
      "image/png": "[encoded data removed]",
      "text/plain": [
       "<Figure size 1000x700 with 2 Axes>"
      ]
     },
     "metadata": {},
     "output_type": "display_data"
    }
   ],
   "source": [
    "import numpy as np\n",
    "\n",
    "\n",
    "# The predictions are in a tuple, with the first element being the actual predictions\n",
    "predicted_labels = np.argmax(predictions[0], axis=1)\n",
    "\n",
    "# Assuming the labels in your dataset are stored in a 'label' column\n",
    "true_labels = [entry['label'] for entry in tokenized_dataset['test']]\n",
    "\n",
    "cm = confusion_matrix(true_labels, predicted_labels)\n",
    "\n",
    "# Plot the heatmap\n",
    "plt.figure(figsize=(10,7))\n",
    "sns.heatmap(cm, annot=True, fmt='d')\n",
    "plt.title('Confusion Matrix')\n",
    "plt.ylabel('Actual label')\n",
    "plt.xlabel('Predicted label')\n",
    "plt.show()"
   ]
  },
  {
   "cell_type": "markdown",
   "metadata": {},
   "source": [
    "## Save the model"
   ]
  },
  {
   "cell_type": "code",
   "execution_count": 54,
   "metadata": {},
   "outputs": [],
   "source": [
    "trainer.save_model()"
   ]
  },
  {
   "cell_type": "code",
   "execution_count": null,
   "metadata": {},
   "outputs": [],
   "source": []
  }
 ],
 "metadata": {
  "kernelspec": {
   "display_name": "myenv",
   "language": "python",
   "name": "python3"
  },
  "language_info": {
   "codemirror_mode": {
    "name": "ipython",
    "version": 3
   },
   "file_extension": ".py",
   "mimetype": "text/x-python",
   "name": "python",
   "nbconvert_exporter": "python",
   "pygments_lexer": "ipython3",
   "version": "3.12.2"
  }
 },
 "nbformat": 4,
 "nbformat_minor": 2
}
