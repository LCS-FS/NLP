{
 "cells": [
  {
   "cell_type": "markdown",
   "metadata": {},
   "source": [
    "# Dependencies"
   ]
  },
  {
   "cell_type": "code",
   "execution_count": 1,
   "metadata": {},
   "outputs": [],
   "source": [
    "# !pip install pandas\n",
    "# !pip install transformers\n",
    "# !pip install --upgrade jupyter ipywidgets\n",
    "# !pip install torch torchvision torchaudio\n",
    "# !pip install tensorflow\n",
    "# !pip install flax\n",
    "# !pip install evaluate"
   ]
  },
  {
   "cell_type": "code",
   "execution_count": 2,
   "metadata": {},
   "outputs": [
    {
     "name": "stderr",
     "output_type": "stream",
     "text": [
      "2024-05-18 10:40:59.356343: W tensorflow/compiler/tf2tensorrt/utils/py_utils.cc:38] TF-TRT Warning: Could not find TensorRT\n"
     ]
    }
   ],
   "source": [
    "import pandas as pd\n",
    "from datasets import Dataset, DatasetDict\n",
    "from transformers import pipeline\n",
    "from sklearn.metrics import classification_report, confusion_matrix, confusion_matrix, accuracy_score, precision_score, recall_score, f1_score\n",
    "import matplotlib.pyplot as plt\n",
    "import seaborn as sns\n",
    "from transformers import AutoTokenizer, AutoModelForSequenceClassification, TrainingArguments, Trainer, DataCollatorWithPadding\n",
    "from evaluate import load\n",
    "import numpy as np"
   ]
  },
  {
   "cell_type": "markdown",
   "metadata": {},
   "source": [
    "# Import data"
   ]
  },
  {
   "cell_type": "code",
   "execution_count": 3,
   "metadata": {},
   "outputs": [
    {
     "data": {
      "text/html": [
       "<div>\n",
       "<style scoped>\n",
       "    .dataframe tbody tr th:only-of-type {\n",
       "        vertical-align: middle;\n",
       "    }\n",
       "\n",
       "    .dataframe tbody tr th {\n",
       "        vertical-align: top;\n",
       "    }\n",
       "\n",
       "    .dataframe thead th {\n",
       "        text-align: right;\n",
       "    }\n",
       "</style>\n",
       "<table border=\"1\" class=\"dataframe\">\n",
       "  <thead>\n",
       "    <tr style=\"text-align: right;\">\n",
       "      <th></th>\n",
       "      <th>text</th>\n",
       "      <th>label</th>\n",
       "    </tr>\n",
       "  </thead>\n",
       "  <tbody>\n",
       "    <tr>\n",
       "      <th>0</th>\n",
       "      <td>Explosion Rocks Baghdad Neighborhood BAGHDAD, ...</td>\n",
       "      <td>0</td>\n",
       "    </tr>\n",
       "    <tr>\n",
       "      <th>1</th>\n",
       "      <td>BBC reporters' log BBC correspondents record e...</td>\n",
       "      <td>0</td>\n",
       "    </tr>\n",
       "    <tr>\n",
       "      <th>2</th>\n",
       "      <td>Israel welcomes Rice nomination; Palestinians ...</td>\n",
       "      <td>0</td>\n",
       "    </tr>\n",
       "    <tr>\n",
       "      <th>3</th>\n",
       "      <td>Medical Journal Calls for a New Drug Watchdog ...</td>\n",
       "      <td>0</td>\n",
       "    </tr>\n",
       "    <tr>\n",
       "      <th>4</th>\n",
       "      <td>Militants Kidnap Relatives of Iraqi Minister-T...</td>\n",
       "      <td>0</td>\n",
       "    </tr>\n",
       "    <tr>\n",
       "      <th>...</th>\n",
       "      <td>...</td>\n",
       "      <td>...</td>\n",
       "    </tr>\n",
       "    <tr>\n",
       "      <th>39995</th>\n",
       "      <td>Microsoft Tests MSN Messenger 7.0 Updated chat...</td>\n",
       "      <td>3</td>\n",
       "    </tr>\n",
       "    <tr>\n",
       "      <th>39996</th>\n",
       "      <td>Vonage talks of 911 advancements In Rhode Isla...</td>\n",
       "      <td>3</td>\n",
       "    </tr>\n",
       "    <tr>\n",
       "      <th>39997</th>\n",
       "      <td>Exploring Venus: The Hothouse Planet Before sp...</td>\n",
       "      <td>3</td>\n",
       "    </tr>\n",
       "    <tr>\n",
       "      <th>39998</th>\n",
       "      <td>PayPal to Impose Fines for Breaking Bans  - On...</td>\n",
       "      <td>3</td>\n",
       "    </tr>\n",
       "    <tr>\n",
       "      <th>39999</th>\n",
       "      <td>Glaciers are flowing faster Ice is sliding off...</td>\n",
       "      <td>3</td>\n",
       "    </tr>\n",
       "  </tbody>\n",
       "</table>\n",
       "<p>40000 rows × 2 columns</p>\n",
       "</div>"
      ],
      "text/plain": [
       "                                                    text  label\n",
       "0      Explosion Rocks Baghdad Neighborhood BAGHDAD, ...      0\n",
       "1      BBC reporters' log BBC correspondents record e...      0\n",
       "2      Israel welcomes Rice nomination; Palestinians ...      0\n",
       "3      Medical Journal Calls for a New Drug Watchdog ...      0\n",
       "4      Militants Kidnap Relatives of Iraqi Minister-T...      0\n",
       "...                                                  ...    ...\n",
       "39995  Microsoft Tests MSN Messenger 7.0 Updated chat...      3\n",
       "39996  Vonage talks of 911 advancements In Rhode Isla...      3\n",
       "39997  Exploring Venus: The Hothouse Planet Before sp...      3\n",
       "39998  PayPal to Impose Fines for Breaking Bans  - On...      3\n",
       "39999  Glaciers are flowing faster Ice is sliding off...      3\n",
       "\n",
       "[40000 rows x 2 columns]"
      ]
     },
     "execution_count": 3,
     "metadata": {},
     "output_type": "execute_result"
    }
   ],
   "source": [
    "data = pd.read_csv(\"dataset/small_data_sample.csv\")\n",
    "data"
   ]
  },
  {
   "cell_type": "markdown",
   "metadata": {},
   "source": [
    "---"
   ]
  },
  {
   "cell_type": "code",
   "execution_count": 4,
   "metadata": {},
   "outputs": [
    {
     "data": {
      "text/html": [
       "<div>\n",
       "<style scoped>\n",
       "    .dataframe tbody tr th:only-of-type {\n",
       "        vertical-align: middle;\n",
       "    }\n",
       "\n",
       "    .dataframe tbody tr th {\n",
       "        vertical-align: top;\n",
       "    }\n",
       "\n",
       "    .dataframe thead th {\n",
       "        text-align: right;\n",
       "    }\n",
       "</style>\n",
       "<table border=\"1\" class=\"dataframe\">\n",
       "  <thead>\n",
       "    <tr style=\"text-align: right;\">\n",
       "      <th></th>\n",
       "      <th>text</th>\n",
       "      <th>label</th>\n",
       "    </tr>\n",
       "  </thead>\n",
       "  <tbody>\n",
       "    <tr>\n",
       "      <th>0</th>\n",
       "      <td>Wall St. Bears Claw Back Into the Black (Reute...</td>\n",
       "      <td>2</td>\n",
       "    </tr>\n",
       "    <tr>\n",
       "      <th>1</th>\n",
       "      <td>Carlyle Looks Toward Commercial Aerospace (Reu...</td>\n",
       "      <td>2</td>\n",
       "    </tr>\n",
       "    <tr>\n",
       "      <th>2</th>\n",
       "      <td>Oil and Economy Cloud Stocks' Outlook (Reuters...</td>\n",
       "      <td>2</td>\n",
       "    </tr>\n",
       "    <tr>\n",
       "      <th>3</th>\n",
       "      <td>Iraq Halts Oil Exports from Main Southern Pipe...</td>\n",
       "      <td>2</td>\n",
       "    </tr>\n",
       "    <tr>\n",
       "      <th>4</th>\n",
       "      <td>Oil prices soar to all-time record, posing new...</td>\n",
       "      <td>2</td>\n",
       "    </tr>\n",
       "    <tr>\n",
       "      <th>...</th>\n",
       "      <td>...</td>\n",
       "      <td>...</td>\n",
       "    </tr>\n",
       "    <tr>\n",
       "      <th>119995</th>\n",
       "      <td>Pakistan's Musharraf Says Won't Quit as Army C...</td>\n",
       "      <td>0</td>\n",
       "    </tr>\n",
       "    <tr>\n",
       "      <th>119996</th>\n",
       "      <td>Renteria signing a top-shelf deal Red Sox gene...</td>\n",
       "      <td>1</td>\n",
       "    </tr>\n",
       "    <tr>\n",
       "      <th>119997</th>\n",
       "      <td>Saban not going to Dolphins yet The Miami Dolp...</td>\n",
       "      <td>1</td>\n",
       "    </tr>\n",
       "    <tr>\n",
       "      <th>119998</th>\n",
       "      <td>Today's NFL games PITTSBURGH at NY GIANTS Time...</td>\n",
       "      <td>1</td>\n",
       "    </tr>\n",
       "    <tr>\n",
       "      <th>119999</th>\n",
       "      <td>Nets get Carter from Raptors INDIANAPOLIS -- A...</td>\n",
       "      <td>1</td>\n",
       "    </tr>\n",
       "  </tbody>\n",
       "</table>\n",
       "<p>120000 rows × 2 columns</p>\n",
       "</div>"
      ],
      "text/plain": [
       "                                                     text  label\n",
       "0       Wall St. Bears Claw Back Into the Black (Reute...      2\n",
       "1       Carlyle Looks Toward Commercial Aerospace (Reu...      2\n",
       "2       Oil and Economy Cloud Stocks' Outlook (Reuters...      2\n",
       "3       Iraq Halts Oil Exports from Main Southern Pipe...      2\n",
       "4       Oil prices soar to all-time record, posing new...      2\n",
       "...                                                   ...    ...\n",
       "119995  Pakistan's Musharraf Says Won't Quit as Army C...      0\n",
       "119996  Renteria signing a top-shelf deal Red Sox gene...      1\n",
       "119997  Saban not going to Dolphins yet The Miami Dolp...      1\n",
       "119998  Today's NFL games PITTSBURGH at NY GIANTS Time...      1\n",
       "119999  Nets get Carter from Raptors INDIANAPOLIS -- A...      1\n",
       "\n",
       "[120000 rows x 2 columns]"
      ]
     },
     "execution_count": 4,
     "metadata": {},
     "output_type": "execute_result"
    }
   ],
   "source": [
    "# full dataset\n",
    "data_full = pd.read_csv(\"dataset/training_data.csv\")\n",
    "data_full"
   ]
  },
  {
   "cell_type": "code",
   "execution_count": 5,
   "metadata": {},
   "outputs": [],
   "source": [
    "dataset_hf = Dataset.from_pandas(data)\n",
    "dataset_hf_full = Dataset.from_pandas(data_full)"
   ]
  },
  {
   "cell_type": "code",
   "execution_count": 6,
   "metadata": {},
   "outputs": [],
   "source": [
    "# 80% train + validation, 20% test\n",
    "train_test = dataset_hf.train_test_split(test_size=0.2, seed=42)\n",
    "# Split the 80% train+validation set in 90% train, 10% validation\n",
    "train_valid = train_test['train'].train_test_split(test_size=0.1)\n",
    "\n",
    "test_set = set([item['text'] for item in train_test['test']])\n",
    "# The remaining data will be the train and validation set\n",
    "train_valid_indices = list(set(range(len(dataset_hf_full))) - test_set)\n",
    "train_valid_set_full = dataset_hf_full.select(train_valid_indices)\n",
    "\n",
    "# Now you can split the train and validation set as before\n",
    "train_valid_full = train_valid_set_full.train_test_split(test_size=0.1)\n",
    "\n",
    "train_valid_test_dataset = DatasetDict({\n",
    "    'train': train_valid['train'],\n",
    "    'test': train_test['test'],\n",
    "    'validation': train_valid['test']\n",
    "})\n",
    "\n",
    "train_valid_test_dataset_full = DatasetDict({\n",
    "    'train': train_valid_full['train'],\n",
    "    'test': train_test['test'], # keep the same test set as the small dataset\n",
    "    'validation': train_valid_full['test']\n",
    "})\n"
   ]
  },
  {
   "cell_type": "code",
   "execution_count": 7,
   "metadata": {},
   "outputs": [
    {
     "data": {
      "text/plain": [
       "DatasetDict({\n",
       "    train: Dataset({\n",
       "        features: ['text', 'label'],\n",
       "        num_rows: 28800\n",
       "    })\n",
       "    test: Dataset({\n",
       "        features: ['text', 'label'],\n",
       "        num_rows: 8000\n",
       "    })\n",
       "    validation: Dataset({\n",
       "        features: ['text', 'label'],\n",
       "        num_rows: 3200\n",
       "    })\n",
       "})"
      ]
     },
     "execution_count": 7,
     "metadata": {},
     "output_type": "execute_result"
    }
   ],
   "source": [
    "train_valid_test_dataset"
   ]
  },
  {
   "cell_type": "code",
   "execution_count": 8,
   "metadata": {},
   "outputs": [
    {
     "data": {
      "text/plain": [
       "DatasetDict({\n",
       "    train: Dataset({\n",
       "        features: ['text', 'label'],\n",
       "        num_rows: 108000\n",
       "    })\n",
       "    test: Dataset({\n",
       "        features: ['text', 'label'],\n",
       "        num_rows: 8000\n",
       "    })\n",
       "    validation: Dataset({\n",
       "        features: ['text', 'label'],\n",
       "        num_rows: 12000\n",
       "    })\n",
       "})"
      ]
     },
     "execution_count": 8,
     "metadata": {},
     "output_type": "execute_result"
    }
   ],
   "source": [
    "train_valid_test_dataset_full"
   ]
  },
  {
   "cell_type": "markdown",
   "metadata": {},
   "source": [
    "---"
   ]
  },
  {
   "cell_type": "markdown",
   "metadata": {},
   "source": [
    "| Model Label | Model Label Value | -> | Data Label | Data Label Value |\n",
    "| -------- | -------- | -------- | -------- | -------- |\n",
    "| 0 | Sports | -> | 1 | Sports |\n",
    "| 1 | Arts, Culture, and Entertainment | -> | 0 | World |\n",
    "| 2 | Business and Finance | -> | 2 | Business |\n",
    "| 3 | Health and Wellness | -> | 0 | World |\n",
    "| 4 | Lifestyle and Fashion | -> | 0 | World |\n",
    "| 5 | Science and Technology | -> | 3 | Sci/Tech |\n",
    "| 6 | Politics | -> | 0 | World |\n",
    "| 7 | Crime | -> | 0 | World |"
   ]
  },
  {
   "cell_type": "code",
   "execution_count": 9,
   "metadata": {},
   "outputs": [],
   "source": [
    "label_converter = {\n",
    "    0: 1,\n",
    "    1: 0,\n",
    "    2: 2,\n",
    "    3: 0,\n",
    "    4: 0,\n",
    "    5: 3,\n",
    "    6: 0,\n",
    "    7: 0\n",
    "}"
   ]
  },
  {
   "cell_type": "code",
   "execution_count": 10,
   "metadata": {},
   "outputs": [],
   "source": [
    "label_dict = {\n",
    "    0: 'World', \n",
    "    1: 'Sports', \n",
    "    2: 'Business',\n",
    "    3: 'Sci/Tech'\n",
    "}"
   ]
  },
  {
   "cell_type": "code",
   "execution_count": 11,
   "metadata": {},
   "outputs": [],
   "source": [
    "model_name = \"dstefa/roberta-base_topic_classification_nyt_news\"\n",
    "\n",
    "predictions_dict = {\n",
    "    \"Sports\": 1,\n",
    "    \"Arts, Culture, and Entertainment\": 0,\n",
    "    \"Business and Finance\": 2,\n",
    "    \"Health and Wellness\": 0,\n",
    "    \"Lifestyle and Fashion\": 0,\n",
    "    \"Science and Technology\": 3,\n",
    "    \"Politics\": 0,\n",
    "    \"Crime\": 0\n",
    "}"
   ]
  },
  {
   "cell_type": "code",
   "execution_count": 12,
   "metadata": {},
   "outputs": [],
   "source": [
    "def print_metrics(y_test, y_pred):\n",
    "    print(confusion_matrix(y_test, y_pred))\n",
    "    print('Accuracy: ', accuracy_score(y_test, y_pred))\n",
    "    print('Precision: ', precision_score(y_test, y_pred, average='macro'))\n",
    "    print('Recall: ', recall_score(y_test, y_pred, average='macro'))\n",
    "    print('F1: ', f1_score(y_test, y_pred, average='macro'))"
   ]
  },
  {
   "cell_type": "markdown",
   "metadata": {},
   "source": [
    "# Transformer Pipeline"
   ]
  },
  {
   "cell_type": "code",
   "execution_count": 13,
   "metadata": {},
   "outputs": [],
   "source": [
    "classifier = pipeline(model=model_name)"
   ]
  },
  {
   "cell_type": "code",
   "execution_count": 14,
   "metadata": {},
   "outputs": [],
   "source": [
    "real_values = [int(actual_label) for actual_label in train_valid_test_dataset['test']['label']]"
   ]
  },
  {
   "cell_type": "markdown",
   "metadata": {},
   "source": [
    "## smaller data set"
   ]
  },
  {
   "cell_type": "code",
   "execution_count": 15,
   "metadata": {},
   "outputs": [
    {
     "name": "stdout",
     "output_type": "stream",
     "text": [
      "              precision    recall  f1-score   support\n",
      "\n",
      "           0       0.77      0.80      0.79      1943\n",
      "           1       0.93      0.97      0.95      1987\n",
      "           2       0.58      0.93      0.71      2049\n",
      "           3       0.94      0.30      0.45      2021\n",
      "\n",
      "    accuracy                           0.75      8000\n",
      "   macro avg       0.81      0.75      0.72      8000\n",
      "weighted avg       0.80      0.75      0.72      8000\n",
      "\n"
     ]
    }
   ],
   "source": [
    "predictions = [classifier(row)[0]['label'] for row in train_valid_test_dataset['test']['text']]\n",
    "converted_predictions = [predictions_dict[entry] for entry in predictions]\n",
    "\n",
    "print(classification_report(real_values, converted_predictions))"
   ]
  },
  {
   "cell_type": "code",
   "execution_count": 16,
   "metadata": {},
   "outputs": [
    {
     "data": {
      "image/png": "[encoded data removed]",
      "text/plain": [
       "<Figure size 1000x700 with 2 Axes>"
      ]
     },
     "metadata": {},
     "output_type": "display_data"
    }
   ],
   "source": [
    "# Generate the confusion matrix\n",
    "cm = confusion_matrix(real_values, converted_predictions)\n",
    "\n",
    "# Plot the heatmap\n",
    "plt.figure(figsize=(10,7))\n",
    "sns.heatmap(cm, annot=True, fmt='d')\n",
    "plt.title('Confusion Matrix')\n",
    "plt.ylabel('Actual label')\n",
    "plt.xlabel('Predicted label')\n",
    "plt.show()"
   ]
  },
  {
   "cell_type": "markdown",
   "metadata": {},
   "source": [
    "# Fine-tuning "
   ]
  },
  {
   "cell_type": "markdown",
   "metadata": {},
   "source": [
    "## Tokenize dataset"
   ]
  },
  {
   "cell_type": "code",
   "execution_count": 15,
   "metadata": {},
   "outputs": [],
   "source": [
    "# Load the model and tokenizer\n",
    "tokenizer = AutoTokenizer.from_pretrained(model_name)\n",
    "model = AutoModelForSequenceClassification.from_pretrained(model_name)\n",
    "\n",
    "model2 = AutoModelForSequenceClassification.from_pretrained(model_name)"
   ]
  },
  {
   "cell_type": "code",
   "execution_count": 16,
   "metadata": {},
   "outputs": [],
   "source": [
    "def preprocess_function(sample):\n",
    "    return tokenizer(sample[\"text\"], truncation=True)"
   ]
  },
  {
   "cell_type": "code",
   "execution_count": 17,
   "metadata": {},
   "outputs": [
    {
     "data": {
      "application/vnd.jupyter.widget-view+json": {
       "model_id": "d1457ac849c6495db931c83694b61542",
       "version_major": 2,
       "version_minor": 0
      },
      "text/plain": [
       "Map:   0%|          | 0/28800 [00:00<?, ? examples/s]"
      ]
     },
     "metadata": {},
     "output_type": "display_data"
    },
    {
     "data": {
      "application/vnd.jupyter.widget-view+json": {
       "model_id": "0135048a79c44f92b7144e6619e2d001",
       "version_major": 2,
       "version_minor": 0
      },
      "text/plain": [
       "Map:   0%|          | 0/8000 [00:00<?, ? examples/s]"
      ]
     },
     "metadata": {},
     "output_type": "display_data"
    },
    {
     "data": {
      "application/vnd.jupyter.widget-view+json": {
       "model_id": "6378c70170c942b78b742d41e0b71dee",
       "version_major": 2,
       "version_minor": 0
      },
      "text/plain": [
       "Map:   0%|          | 0/3200 [00:00<?, ? examples/s]"
      ]
     },
     "metadata": {},
     "output_type": "display_data"
    },
    {
     "data": {
      "application/vnd.jupyter.widget-view+json": {
       "model_id": "21ca4df2a9574bcb87fe1f3f19ac49b5",
       "version_major": 2,
       "version_minor": 0
      },
      "text/plain": [
       "Map:   0%|          | 0/108000 [00:00<?, ? examples/s]"
      ]
     },
     "metadata": {},
     "output_type": "display_data"
    },
    {
     "data": {
      "application/vnd.jupyter.widget-view+json": {
       "model_id": "5b8a634580d04bff8477851140595825",
       "version_major": 2,
       "version_minor": 0
      },
      "text/plain": [
       "Map:   0%|          | 0/8000 [00:00<?, ? examples/s]"
      ]
     },
     "metadata": {},
     "output_type": "display_data"
    },
    {
     "data": {
      "application/vnd.jupyter.widget-view+json": {
       "model_id": "fc78de8b5d5645589ba3a36dda053003",
       "version_major": 2,
       "version_minor": 0
      },
      "text/plain": [
       "Map:   0%|          | 0/12000 [00:00<?, ? examples/s]"
      ]
     },
     "metadata": {},
     "output_type": "display_data"
    },
    {
     "data": {
      "text/plain": [
       "DatasetDict({\n",
       "    train: Dataset({\n",
       "        features: ['text', 'label', 'input_ids', 'attention_mask'],\n",
       "        num_rows: 108000\n",
       "    })\n",
       "    test: Dataset({\n",
       "        features: ['text', 'label', 'input_ids', 'attention_mask'],\n",
       "        num_rows: 8000\n",
       "    })\n",
       "    validation: Dataset({\n",
       "        features: ['text', 'label', 'input_ids', 'attention_mask'],\n",
       "        num_rows: 12000\n",
       "    })\n",
       "})"
      ]
     },
     "execution_count": 17,
     "metadata": {},
     "output_type": "execute_result"
    }
   ],
   "source": [
    "tokenized_dataset = train_valid_test_dataset.map(preprocess_function, batched=True)\n",
    "tokenized_dataset\n",
    "\n",
    "tokenized_dataset_full = train_valid_test_dataset_full.map(preprocess_function, batched=True)\n",
    "tokenized_dataset_full"
   ]
  },
  {
   "cell_type": "markdown",
   "metadata": {},
   "source": [
    "### roberta-base\n"
   ]
  },
  {
   "cell_type": "code",
   "execution_count": 18,
   "metadata": {},
   "outputs": [
    {
     "name": "stderr",
     "output_type": "stream",
     "text": [
      "Some weights of BertForSequenceClassification were not initialized from the model checkpoint at google-bert/bert-base-uncased and are newly initialized: ['classifier.bias', 'classifier.weight']\n",
      "You should probably TRAIN this model on a down-stream task to be able to use it for predictions and inference.\n",
      "Some weights of BertForSequenceClassification were not initialized from the model checkpoint at google-bert/bert-base-uncased and are newly initialized: ['classifier.bias', 'classifier.weight']\n",
      "You should probably TRAIN this model on a down-stream task to be able to use it for predictions and inference.\n"
     ]
    }
   ],
   "source": [
    "from transformers import BertTokenizer, BertForSequenceClassification\n",
    "base_model = \"google-bert/bert-base-uncased\"\n",
    "\n",
    "tokenizer2 = BertTokenizer.from_pretrained(base_model)\n",
    "model_base = BertForSequenceClassification.from_pretrained(base_model)\n",
    "\n",
    "model_base2 = BertForSequenceClassification.from_pretrained(base_model)"
   ]
  },
  {
   "cell_type": "code",
   "execution_count": 19,
   "metadata": {},
   "outputs": [],
   "source": [
    "def preprocess_function2(sample):\n",
    "    return tokenizer2(sample[\"text\"], truncation=True)"
   ]
  },
  {
   "cell_type": "code",
   "execution_count": 20,
   "metadata": {},
   "outputs": [
    {
     "data": {
      "application/vnd.jupyter.widget-view+json": {
       "model_id": "0cc83d76466e4417842fbd92d0667fcd",
       "version_major": 2,
       "version_minor": 0
      },
      "text/plain": [
       "Map:   0%|          | 0/28800 [00:00<?, ? examples/s]"
      ]
     },
     "metadata": {},
     "output_type": "display_data"
    },
    {
     "data": {
      "application/vnd.jupyter.widget-view+json": {
       "model_id": "592345b41a6b409b9c1b032fbcb16d19",
       "version_major": 2,
       "version_minor": 0
      },
      "text/plain": [
       "Map:   0%|          | 0/8000 [00:00<?, ? examples/s]"
      ]
     },
     "metadata": {},
     "output_type": "display_data"
    },
    {
     "data": {
      "application/vnd.jupyter.widget-view+json": {
       "model_id": "e21edc8105f24e4ba7e3d24b8ad0f25a",
       "version_major": 2,
       "version_minor": 0
      },
      "text/plain": [
       "Map:   0%|          | 0/3200 [00:00<?, ? examples/s]"
      ]
     },
     "metadata": {},
     "output_type": "display_data"
    },
    {
     "data": {
      "application/vnd.jupyter.widget-view+json": {
       "model_id": "89d6d84b37c248489533c8816e01acfd",
       "version_major": 2,
       "version_minor": 0
      },
      "text/plain": [
       "Map:   0%|          | 0/108000 [00:00<?, ? examples/s]"
      ]
     },
     "metadata": {},
     "output_type": "display_data"
    },
    {
     "data": {
      "application/vnd.jupyter.widget-view+json": {
       "model_id": "ee1940fba9e7432d8ac16279d867398b",
       "version_major": 2,
       "version_minor": 0
      },
      "text/plain": [
       "Map:   0%|          | 0/8000 [00:00<?, ? examples/s]"
      ]
     },
     "metadata": {},
     "output_type": "display_data"
    },
    {
     "data": {
      "application/vnd.jupyter.widget-view+json": {
       "model_id": "9ff396eb0ada42828942dadcbe7f2a13",
       "version_major": 2,
       "version_minor": 0
      },
      "text/plain": [
       "Map:   0%|          | 0/12000 [00:00<?, ? examples/s]"
      ]
     },
     "metadata": {},
     "output_type": "display_data"
    },
    {
     "data": {
      "text/plain": [
       "DatasetDict({\n",
       "    train: Dataset({\n",
       "        features: ['text', 'label', 'input_ids', 'token_type_ids', 'attention_mask'],\n",
       "        num_rows: 108000\n",
       "    })\n",
       "    test: Dataset({\n",
       "        features: ['text', 'label', 'input_ids', 'token_type_ids', 'attention_mask'],\n",
       "        num_rows: 8000\n",
       "    })\n",
       "    validation: Dataset({\n",
       "        features: ['text', 'label', 'input_ids', 'token_type_ids', 'attention_mask'],\n",
       "        num_rows: 12000\n",
       "    })\n",
       "})"
      ]
     },
     "execution_count": 20,
     "metadata": {},
     "output_type": "execute_result"
    }
   ],
   "source": [
    "tokenized_dataset2 = train_valid_test_dataset.map(preprocess_function2, batched=True)\n",
    "tokenized_dataset2\n",
    "\n",
    "tokenized_dataset_full2 = train_valid_test_dataset_full.map(preprocess_function2, batched=True)\n",
    "tokenized_dataset_full2"
   ]
  },
  {
   "cell_type": "markdown",
   "metadata": {},
   "source": [
    "## Finetune the model"
   ]
  },
  {
   "cell_type": "code",
   "execution_count": 21,
   "metadata": {},
   "outputs": [],
   "source": [
    "metric = load(\"accuracy\")\n",
    "\n",
    "def compute_metrics(eval_pred):\n",
    "    print(eval_pred)\n",
    "    logits, labels = eval_pred\n",
    "    predictions = np.argmax(logits, axis=-1)\n",
    "    print(predictions)\n",
    "    predictions_converted = [label_converter[entry] for entry in predictions]\n",
    "    # print(predictions_converted)\n",
    "    return metric.compute(predictions=predictions, references=labels)\n",
    "\n",
    "training_args = TrainingArguments(\n",
    "    output_dir=\"./results\",\n",
    "    learning_rate=2e-5,\n",
    "    per_device_train_batch_size=6,\n",
    "    per_device_eval_batch_size=6,\n",
    "    num_train_epochs=10,\n",
    "    weight_decay=0.01,\n",
    "    evaluation_strategy=\"epoch\", # run validation at the end of each epoch\n",
    "    save_strategy=\"epoch\",\n",
    "    load_best_model_at_end=True,\n",
    "    gradient_accumulation_steps=10\n",
    ")\n",
    "\n",
    "data_collator = DataCollatorWithPadding(tokenizer=tokenizer)\n",
    "\n",
    "trainer = Trainer( # small dataset news model\n",
    "    model=model,\n",
    "    args=training_args,\n",
    "    train_dataset=tokenized_dataset[\"train\"],\n",
    "    eval_dataset=tokenized_dataset[\"validation\"],\n",
    "    tokenizer=tokenizer,\n",
    "    data_collator=data_collator,\n",
    "    compute_metrics=compute_metrics\n",
    ")\n",
    "\n",
    "trainer2 = Trainer( # large dataset news model\n",
    "    model=model2,\n",
    "    args=training_args,\n",
    "    train_dataset=tokenized_dataset_full[\"train\"],\n",
    "    eval_dataset=tokenized_dataset_full[\"validation\"],\n",
    "    tokenizer=tokenizer,\n",
    "    data_collator=data_collator,\n",
    "    compute_metrics=compute_metrics\n",
    ")\n",
    "\n"
   ]
  },
  {
   "cell_type": "code",
   "execution_count": 22,
   "metadata": {},
   "outputs": [],
   "source": [
    "data_collator2 = DataCollatorWithPadding(tokenizer=tokenizer2)\n",
    "\n",
    "trainer_base = Trainer( # small dataset base model\n",
    "    model=model_base,\n",
    "    args=training_args,\n",
    "    train_dataset=tokenized_dataset2[\"train\"],\n",
    "    eval_dataset=tokenized_dataset2[\"validation\"],\n",
    "    tokenizer=tokenizer2,\n",
    "    data_collator=data_collator2,\n",
    "    compute_metrics=compute_metrics\n",
    ")\n",
    "\n",
    "trainer_base2 = Trainer( # large dataset base model\n",
    "    model=model_base2,\n",
    "    args=training_args,\n",
    "    train_dataset=tokenized_dataset_full2[\"train\"],\n",
    "    eval_dataset=tokenized_dataset_full2[\"validation\"],\n",
    "    tokenizer=tokenizer2,\n",
    "    data_collator=data_collator2,\n",
    "    compute_metrics=compute_metrics\n",
    ")"
   ]
  },
  {
   "cell_type": "markdown",
   "metadata": {},
   "source": [
    "### Smaller Dataset News Model"
   ]
  },
  {
   "cell_type": "code",
   "execution_count": 24,
   "metadata": {},
   "outputs": [
    {
     "data": {
      "application/vnd.jupyter.widget-view+json": {
       "model_id": "aa956536a5ac4cb4a2521466842f507a",
       "version_major": 2,
       "version_minor": 0
      },
      "text/plain": [
       "  0%|          | 0/4800 [00:00<?, ?it/s]"
      ]
     },
     "metadata": {},
     "output_type": "display_data"
    },
    {
     "data": {
      "application/vnd.jupyter.widget-view+json": {
       "model_id": "58ef01dd87fd450bb1dc8aa3062d7283",
       "version_major": 2,
       "version_minor": 0
      },
      "text/plain": [
       "  0%|          | 0/534 [00:00<?, ?it/s]"
      ]
     },
     "metadata": {},
     "output_type": "display_data"
    },
    {
     "name": "stdout",
     "output_type": "stream",
     "text": [
      "<transformers.trainer_utils.EvalPrediction object at 0x7f06c045e150>\n",
      "[1 1 1 ... 1 2 3]\n",
      "{'eval_loss': 0.3145967721939087, 'eval_accuracy': 0.8975, 'eval_runtime': 7.0237, 'eval_samples_per_second': 455.602, 'eval_steps_per_second': 76.029, 'epoch': 1.0}\n",
      "{'loss': 0.4835, 'grad_norm': 4.527154445648193, 'learning_rate': 1.7916666666666667e-05, 'epoch': 1.04}\n"
     ]
    },
    {
     "data": {
      "application/vnd.jupyter.widget-view+json": {
       "model_id": "8c4cac1432794aabb495c5c0a76a0b9f",
       "version_major": 2,
       "version_minor": 0
      },
      "text/plain": [
       "  0%|          | 0/534 [00:00<?, ?it/s]"
      ]
     },
     "metadata": {},
     "output_type": "display_data"
    },
    {
     "name": "stdout",
     "output_type": "stream",
     "text": [
      "<transformers.trainer_utils.EvalPrediction object at 0x7f06c8092f60>\n",
      "[1 1 1 ... 1 2 3]\n",
      "{'eval_loss': 0.27328431606292725, 'eval_accuracy': 0.9090625, 'eval_runtime': 6.9703, 'eval_samples_per_second': 459.091, 'eval_steps_per_second': 76.611, 'epoch': 2.0}\n",
      "{'loss': 0.2769, 'grad_norm': 5.214335918426514, 'learning_rate': 1.5833333333333333e-05, 'epoch': 2.08}\n"
     ]
    },
    {
     "data": {
      "application/vnd.jupyter.widget-view+json": {
       "model_id": "784d8066acf94fe6a9f0ba638c68cc6c",
       "version_major": 2,
       "version_minor": 0
      },
      "text/plain": [
       "  0%|          | 0/534 [00:00<?, ?it/s]"
      ]
     },
     "metadata": {},
     "output_type": "display_data"
    },
    {
     "name": "stdout",
     "output_type": "stream",
     "text": [
      "<transformers.trainer_utils.EvalPrediction object at 0x7f06c81b6cc0>\n",
      "[1 1 1 ... 1 2 3]\n",
      "{'eval_loss': 0.25949645042419434, 'eval_accuracy': 0.9121875, 'eval_runtime': 6.9761, 'eval_samples_per_second': 458.706, 'eval_steps_per_second': 76.547, 'epoch': 3.0}\n",
      "{'loss': 0.2271, 'grad_norm': 4.036426544189453, 'learning_rate': 1.375e-05, 'epoch': 3.12}\n"
     ]
    },
    {
     "data": {
      "application/vnd.jupyter.widget-view+json": {
       "model_id": "4e3de12656da4d1c9e13dc82000cc398",
       "version_major": 2,
       "version_minor": 0
      },
      "text/plain": [
       "  0%|          | 0/534 [00:00<?, ?it/s]"
      ]
     },
     "metadata": {},
     "output_type": "display_data"
    },
    {
     "name": "stdout",
     "output_type": "stream",
     "text": [
      "<transformers.trainer_utils.EvalPrediction object at 0x7f06b07a3d10>\n",
      "[1 1 1 ... 1 2 3]\n",
      "{'eval_loss': 0.25443360209465027, 'eval_accuracy': 0.92, 'eval_runtime': 6.9731, 'eval_samples_per_second': 458.905, 'eval_steps_per_second': 76.58, 'epoch': 4.0}\n",
      "{'loss': 0.1906, 'grad_norm': 2.316467523574829, 'learning_rate': 1.1666666666666668e-05, 'epoch': 4.17}\n"
     ]
    },
    {
     "data": {
      "application/vnd.jupyter.widget-view+json": {
       "model_id": "f4519729a1af4fca8140f55b3c6f520c",
       "version_major": 2,
       "version_minor": 0
      },
      "text/plain": [
       "  0%|          | 0/534 [00:00<?, ?it/s]"
      ]
     },
     "metadata": {},
     "output_type": "display_data"
    },
    {
     "name": "stdout",
     "output_type": "stream",
     "text": [
      "<transformers.trainer_utils.EvalPrediction object at 0x7f06c81b4b00>\n",
      "[1 1 1 ... 1 2 3]\n",
      "{'eval_loss': 0.24537509679794312, 'eval_accuracy': 0.921875, 'eval_runtime': 6.9608, 'eval_samples_per_second': 459.718, 'eval_steps_per_second': 76.715, 'epoch': 5.0}\n",
      "{'loss': 0.1615, 'grad_norm': 2.0674397945404053, 'learning_rate': 9.583333333333335e-06, 'epoch': 5.21}\n"
     ]
    },
    {
     "data": {
      "application/vnd.jupyter.widget-view+json": {
       "model_id": "b862d79e5c0d462c806d5428a1a75306",
       "version_major": 2,
       "version_minor": 0
      },
      "text/plain": [
       "  0%|          | 0/534 [00:00<?, ?it/s]"
      ]
     },
     "metadata": {},
     "output_type": "display_data"
    },
    {
     "name": "stdout",
     "output_type": "stream",
     "text": [
      "<transformers.trainer_utils.EvalPrediction object at 0x7f06ca654470>\n",
      "[1 1 1 ... 1 2 3]\n",
      "{'eval_loss': 0.2718949615955353, 'eval_accuracy': 0.919375, 'eval_runtime': 6.9834, 'eval_samples_per_second': 458.233, 'eval_steps_per_second': 76.468, 'epoch': 6.0}\n",
      "{'loss': 0.1396, 'grad_norm': 4.370706081390381, 'learning_rate': 7.500000000000001e-06, 'epoch': 6.25}\n"
     ]
    },
    {
     "data": {
      "application/vnd.jupyter.widget-view+json": {
       "model_id": "56627b5975ee4ebfa44a88d9062c9a22",
       "version_major": 2,
       "version_minor": 0
      },
      "text/plain": [
       "  0%|          | 0/534 [00:00<?, ?it/s]"
      ]
     },
     "metadata": {},
     "output_type": "display_data"
    },
    {
     "name": "stdout",
     "output_type": "stream",
     "text": [
      "<transformers.trainer_utils.EvalPrediction object at 0x7f06c81b54f0>\n",
      "[1 1 1 ... 1 2 3]\n",
      "{'eval_loss': 0.27150416374206543, 'eval_accuracy': 0.9184375, 'eval_runtime': 7.0079, 'eval_samples_per_second': 456.628, 'eval_steps_per_second': 76.2, 'epoch': 7.0}\n",
      "{'loss': 0.1223, 'grad_norm': 0.7529225945472717, 'learning_rate': 5.416666666666667e-06, 'epoch': 7.29}\n"
     ]
    },
    {
     "data": {
      "application/vnd.jupyter.widget-view+json": {
       "model_id": "b5464ae4c42947c39319ce61029d8183",
       "version_major": 2,
       "version_minor": 0
      },
      "text/plain": [
       "  0%|          | 0/534 [00:00<?, ?it/s]"
      ]
     },
     "metadata": {},
     "output_type": "display_data"
    },
    {
     "name": "stdout",
     "output_type": "stream",
     "text": [
      "<transformers.trainer_utils.EvalPrediction object at 0x7f06b07a3e90>\n",
      "[1 1 1 ... 1 2 3]\n",
      "{'eval_loss': 0.27719825506210327, 'eval_accuracy': 0.9203125, 'eval_runtime': 6.9597, 'eval_samples_per_second': 459.787, 'eval_steps_per_second': 76.727, 'epoch': 8.0}\n",
      "{'loss': 0.1075, 'grad_norm': 4.658377170562744, 'learning_rate': 3.3333333333333333e-06, 'epoch': 8.33}\n"
     ]
    },
    {
     "data": {
      "application/vnd.jupyter.widget-view+json": {
       "model_id": "5a5bab33d5d54b1fb0c03e02a2d00bce",
       "version_major": 2,
       "version_minor": 0
      },
      "text/plain": [
       "  0%|          | 0/534 [00:00<?, ?it/s]"
      ]
     },
     "metadata": {},
     "output_type": "display_data"
    },
    {
     "name": "stdout",
     "output_type": "stream",
     "text": [
      "<transformers.trainer_utils.EvalPrediction object at 0x7f06b07a3e90>\n",
      "[1 1 1 ... 1 2 3]\n",
      "{'eval_loss': 0.27478307485580444, 'eval_accuracy': 0.9221875, 'eval_runtime': 7.0557, 'eval_samples_per_second': 453.532, 'eval_steps_per_second': 75.683, 'epoch': 9.0}\n",
      "{'loss': 0.1043, 'grad_norm': 3.6370699405670166, 'learning_rate': 1.25e-06, 'epoch': 9.38}\n"
     ]
    },
    {
     "data": {
      "application/vnd.jupyter.widget-view+json": {
       "model_id": "a5554c019c434eb8864be9436eaca531",
       "version_major": 2,
       "version_minor": 0
      },
      "text/plain": [
       "  0%|          | 0/534 [00:00<?, ?it/s]"
      ]
     },
     "metadata": {},
     "output_type": "display_data"
    },
    {
     "name": "stdout",
     "output_type": "stream",
     "text": [
      "<transformers.trainer_utils.EvalPrediction object at 0x7f06ca654470>\n",
      "[1 1 1 ... 1 2 3]\n",
      "{'eval_loss': 0.28248271346092224, 'eval_accuracy': 0.9221875, 'eval_runtime': 6.968, 'eval_samples_per_second': 459.241, 'eval_steps_per_second': 76.636, 'epoch': 10.0}\n",
      "{'train_runtime': 2262.1239, 'train_samples_per_second': 127.314, 'train_steps_per_second': 2.122, 'train_loss': 0.19490097403526307, 'epoch': 10.0}\n"
     ]
    },
    {
     "data": {
      "text/plain": [
       "TrainOutput(global_step=4800, training_loss=0.19490097403526307, metrics={'train_runtime': 2262.1239, 'train_samples_per_second': 127.314, 'train_steps_per_second': 2.122, 'total_flos': 1.0443961472848416e+16, 'train_loss': 0.19490097403526307, 'epoch': 10.0})"
      ]
     },
     "execution_count": 24,
     "metadata": {},
     "output_type": "execute_result"
    }
   ],
   "source": [
    "trainer.train()"
   ]
  },
  {
   "cell_type": "code",
   "execution_count": 25,
   "metadata": {},
   "outputs": [
    {
     "data": {
      "application/vnd.jupyter.widget-view+json": {
       "model_id": "1b7735b868274cbbb0d6c94df8d3e14e",
       "version_major": 2,
       "version_minor": 0
      },
      "text/plain": [
       "  0%|          | 0/534 [00:00<?, ?it/s]"
      ]
     },
     "metadata": {},
     "output_type": "display_data"
    },
    {
     "name": "stdout",
     "output_type": "stream",
     "text": [
      "<transformers.trainer_utils.EvalPrediction object at 0x7f06b11ab4a0>\n",
      "[1 1 1 ... 1 2 3]\n"
     ]
    },
    {
     "data": {
      "text/plain": [
       "{'eval_loss': 0.24537509679794312,\n",
       " 'eval_accuracy': 0.921875,\n",
       " 'eval_runtime': 6.9402,\n",
       " 'eval_samples_per_second': 461.085,\n",
       " 'eval_steps_per_second': 76.944,\n",
       " 'epoch': 10.0}"
      ]
     },
     "execution_count": 25,
     "metadata": {},
     "output_type": "execute_result"
    }
   ],
   "source": [
    "trainer.evaluate()"
   ]
  },
  {
   "cell_type": "code",
   "execution_count": 26,
   "metadata": {},
   "outputs": [
    {
     "data": {
      "application/vnd.jupyter.widget-view+json": {
       "model_id": "0540428a03bb4624841756fe684787a4",
       "version_major": 2,
       "version_minor": 0
      },
      "text/plain": [
       "  0%|          | 0/1334 [00:00<?, ?it/s]"
      ]
     },
     "metadata": {},
     "output_type": "display_data"
    },
    {
     "name": "stdout",
     "output_type": "stream",
     "text": [
      "<transformers.trainer_utils.EvalPrediction object at 0x7f06c81b4350>\n",
      "[2 1 0 ... 2 2 3]\n"
     ]
    },
    {
     "data": {
      "text/plain": [
       "PredictionOutput(predictions=array([[-0.3911206 , -2.4257195 ,  4.702227  , ..., -3.4704018 ,\n",
       "        -4.2600007 , -3.9073303 ],\n",
       "       [ 0.38407996,  8.108922  , -1.0991843 , ..., -1.6650501 ,\n",
       "        -2.1760325 , -1.6664637 ],\n",
       "       [ 4.538277  ,  2.1250982 ,  1.5230523 , ..., -4.521467  ,\n",
       "        -6.4184113 , -4.9977736 ],\n",
       "       ...,\n",
       "       [-0.6598732 , -2.2231424 ,  5.361693  , ..., -3.358114  ,\n",
       "        -4.2278843 , -3.7806873 ],\n",
       "       [-0.28191116, -2.1779912 ,  4.8610253 , ..., -3.6354954 ,\n",
       "        -4.500442  , -3.9720452 ],\n",
       "       [-0.67530483, -2.7302966 ,  3.2975795 , ..., -2.8901372 ,\n",
       "        -4.08897   , -3.6128337 ]], dtype=float32), label_ids=array([2, 1, 0, ..., 2, 2, 3]), metrics={'test_loss': 0.259279727935791, 'test_accuracy': 0.919625, 'test_runtime': 17.2497, 'test_samples_per_second': 463.776, 'test_steps_per_second': 77.335})"
      ]
     },
     "execution_count": 26,
     "metadata": {},
     "output_type": "execute_result"
    }
   ],
   "source": [
    "predictions = trainer.predict(test_dataset=tokenized_dataset[\"test\"])\n",
    "predictions"
   ]
  },
  {
   "cell_type": "code",
   "execution_count": 27,
   "metadata": {},
   "outputs": [
    {
     "name": "stdout",
     "output_type": "stream",
     "text": [
      "              precision    recall  f1-score   support\n",
      "\n",
      "           0       0.94      0.91      0.92      1943\n",
      "           1       0.97      0.98      0.98      1987\n",
      "           2       0.89      0.88      0.89      2049\n",
      "           3       0.88      0.90      0.89      2021\n",
      "\n",
      "    accuracy                           0.92      8000\n",
      "   macro avg       0.92      0.92      0.92      8000\n",
      "weighted avg       0.92      0.92      0.92      8000\n",
      "\n"
     ]
    }
   ],
   "source": [
    "print(classification_report(real_values, predictions.predictions.argmax(-1)))"
   ]
  },
  {
   "cell_type": "code",
   "execution_count": 28,
   "metadata": {},
   "outputs": [
    {
     "data": {
      "image/png": "[encoded data removed]",
      "text/plain": [
       "<Figure size 1000x700 with 2 Axes>"
      ]
     },
     "metadata": {},
     "output_type": "display_data"
    }
   ],
   "source": [
    "# The predictions are in a tuple, with the first element being the actual predictions\n",
    "predicted_labels = np.argmax(predictions[0], axis=1)\n",
    "\n",
    "# Assuming the labels in your dataset are stored in a 'label' column\n",
    "true_labels = [entry['label'] for entry in tokenized_dataset['test']]\n",
    "\n",
    "cm = confusion_matrix(true_labels, predicted_labels)\n",
    "\n",
    "# Plot the heatmap\n",
    "plt.figure(figsize=(10,7))\n",
    "sns.heatmap(cm, annot=True, fmt='d')\n",
    "plt.title('Confusion Matrix')\n",
    "plt.ylabel('Actual label')\n",
    "plt.xlabel('Predicted label')\n",
    "plt.show()"
   ]
  },
  {
   "cell_type": "markdown",
   "metadata": {},
   "source": [
    "### Full dataset News Model"
   ]
  },
  {
   "cell_type": "code",
   "execution_count": 29,
   "metadata": {},
   "outputs": [
    {
     "data": {
      "application/vnd.jupyter.widget-view+json": {
       "model_id": "0f828b2b96224deeb67e6f28c46546c6",
       "version_major": 2,
       "version_minor": 0
      },
      "text/plain": [
       "  0%|          | 0/18000 [00:00<?, ?it/s]"
      ]
     },
     "metadata": {},
     "output_type": "display_data"
    },
    {
     "name": "stdout",
     "output_type": "stream",
     "text": [
      "{'loss': 0.4742, 'grad_norm': 9.925399780273438, 'learning_rate': 1.9444444444444445e-05, 'epoch': 0.28}\n",
      "{'loss': 0.2842, 'grad_norm': 2.6114587783813477, 'learning_rate': 1.888888888888889e-05, 'epoch': 0.56}\n",
      "{'loss': 0.2515, 'grad_norm': 2.0606753826141357, 'learning_rate': 1.8333333333333333e-05, 'epoch': 0.83}\n"
     ]
    },
    {
     "data": {
      "application/vnd.jupyter.widget-view+json": {
       "model_id": "6e48702033eb41e8a580dcc6c6bef7d7",
       "version_major": 2,
       "version_minor": 0
      },
      "text/plain": [
       "  0%|          | 0/2000 [00:00<?, ?it/s]"
      ]
     },
     "metadata": {},
     "output_type": "display_data"
    },
    {
     "name": "stdout",
     "output_type": "stream",
     "text": [
      "<transformers.trainer_utils.EvalPrediction object at 0x7f06b3777dd0>\n",
      "[0 0 1 ... 0 1 1]\n",
      "{'eval_loss': 0.22478613257408142, 'eval_accuracy': 0.92275, 'eval_runtime': 27.7253, 'eval_samples_per_second': 432.817, 'eval_steps_per_second': 72.136, 'epoch': 1.0}\n",
      "{'loss': 0.2278, 'grad_norm': 2.6206347942352295, 'learning_rate': 1.7777777777777777e-05, 'epoch': 1.11}\n",
      "{'loss': 0.2041, 'grad_norm': 3.7973246574401855, 'learning_rate': 1.7222222222222224e-05, 'epoch': 1.39}\n",
      "{'loss': 0.1946, 'grad_norm': 2.341855049133301, 'learning_rate': 1.6666666666666667e-05, 'epoch': 1.67}\n",
      "{'loss': 0.1858, 'grad_norm': 2.4834282398223877, 'learning_rate': 1.6111111111111115e-05, 'epoch': 1.94}\n"
     ]
    },
    {
     "data": {
      "application/vnd.jupyter.widget-view+json": {
       "model_id": "1d7595b803404dd98f6e839c89de4cde",
       "version_major": 2,
       "version_minor": 0
      },
      "text/plain": [
       "  0%|          | 0/2000 [00:00<?, ?it/s]"
      ]
     },
     "metadata": {},
     "output_type": "display_data"
    },
    {
     "name": "stdout",
     "output_type": "stream",
     "text": [
      "<transformers.trainer_utils.EvalPrediction object at 0x7f06ca6a55e0>\n",
      "[0 0 1 ... 0 1 1]\n",
      "{'eval_loss': 0.19278617203235626, 'eval_accuracy': 0.9353333333333333, 'eval_runtime': 27.7148, 'eval_samples_per_second': 432.982, 'eval_steps_per_second': 72.164, 'epoch': 2.0}\n",
      "{'loss': 0.1689, 'grad_norm': 4.160470008850098, 'learning_rate': 1.555555555555556e-05, 'epoch': 2.22}\n",
      "{'loss': 0.1605, 'grad_norm': 1.9520241022109985, 'learning_rate': 1.5000000000000002e-05, 'epoch': 2.5}\n",
      "{'loss': 0.1578, 'grad_norm': 2.873629093170166, 'learning_rate': 1.4444444444444446e-05, 'epoch': 2.78}\n"
     ]
    },
    {
     "data": {
      "application/vnd.jupyter.widget-view+json": {
       "model_id": "98f95df8db3a4a0a88cc9350e1ec6cc5",
       "version_major": 2,
       "version_minor": 0
      },
      "text/plain": [
       "  0%|          | 0/2000 [00:00<?, ?it/s]"
      ]
     },
     "metadata": {},
     "output_type": "display_data"
    },
    {
     "name": "stdout",
     "output_type": "stream",
     "text": [
      "<transformers.trainer_utils.EvalPrediction object at 0x7f06b07682c0>\n",
      "[0 0 1 ... 0 1 1]\n",
      "{'eval_loss': 0.19250348210334778, 'eval_accuracy': 0.9378333333333333, 'eval_runtime': 27.6408, 'eval_samples_per_second': 434.141, 'eval_steps_per_second': 72.357, 'epoch': 3.0}\n",
      "{'loss': 0.1524, 'grad_norm': 3.4367072582244873, 'learning_rate': 1.388888888888889e-05, 'epoch': 3.06}\n",
      "{'loss': 0.1331, 'grad_norm': 4.1314849853515625, 'learning_rate': 1.3333333333333333e-05, 'epoch': 3.33}\n",
      "{'loss': 0.1369, 'grad_norm': 2.592914581298828, 'learning_rate': 1.2777777777777777e-05, 'epoch': 3.61}\n",
      "{'loss': 0.1365, 'grad_norm': 0.9097256064414978, 'learning_rate': 1.2222222222222224e-05, 'epoch': 3.89}\n"
     ]
    },
    {
     "data": {
      "application/vnd.jupyter.widget-view+json": {
       "model_id": "5338d2ec6d1b423f80f24250246cb75b",
       "version_major": 2,
       "version_minor": 0
      },
      "text/plain": [
       "  0%|          | 0/2000 [00:00<?, ?it/s]"
      ]
     },
     "metadata": {},
     "output_type": "display_data"
    },
    {
     "name": "stdout",
     "output_type": "stream",
     "text": [
      "<transformers.trainer_utils.EvalPrediction object at 0x7f06b07a3110>\n",
      "[0 0 1 ... 0 1 1]\n",
      "{'eval_loss': 0.1924833208322525, 'eval_accuracy': 0.94075, 'eval_runtime': 27.7078, 'eval_samples_per_second': 433.09, 'eval_steps_per_second': 72.182, 'epoch': 4.0}\n",
      "{'loss': 0.1244, 'grad_norm': 1.1409839391708374, 'learning_rate': 1.1666666666666668e-05, 'epoch': 4.17}\n",
      "{'loss': 0.1146, 'grad_norm': 3.600480079650879, 'learning_rate': 1.1111111111111113e-05, 'epoch': 4.44}\n",
      "{'loss': 0.1258, 'grad_norm': 2.500277519226074, 'learning_rate': 1.0555555555555557e-05, 'epoch': 4.72}\n",
      "{'loss': 0.1146, 'grad_norm': 0.8983669281005859, 'learning_rate': 1e-05, 'epoch': 5.0}\n"
     ]
    },
    {
     "data": {
      "application/vnd.jupyter.widget-view+json": {
       "model_id": "cebf2091c72046bcb63cc42c0df1640b",
       "version_major": 2,
       "version_minor": 0
      },
      "text/plain": [
       "  0%|          | 0/2000 [00:00<?, ?it/s]"
      ]
     },
     "metadata": {},
     "output_type": "display_data"
    },
    {
     "name": "stdout",
     "output_type": "stream",
     "text": [
      "<transformers.trainer_utils.EvalPrediction object at 0x7f06b07683e0>\n",
      "[0 0 1 ... 0 1 1]\n",
      "{'eval_loss': 0.19932617247104645, 'eval_accuracy': 0.94325, 'eval_runtime': 27.816, 'eval_samples_per_second': 431.406, 'eval_steps_per_second': 71.901, 'epoch': 5.0}\n",
      "{'loss': 0.0989, 'grad_norm': 3.8481571674346924, 'learning_rate': 9.444444444444445e-06, 'epoch': 5.28}\n",
      "{'loss': 0.1035, 'grad_norm': 3.7972283363342285, 'learning_rate': 8.888888888888888e-06, 'epoch': 5.56}\n",
      "{'loss': 0.1051, 'grad_norm': 3.3741044998168945, 'learning_rate': 8.333333333333334e-06, 'epoch': 5.83}\n"
     ]
    },
    {
     "data": {
      "application/vnd.jupyter.widget-view+json": {
       "model_id": "db6732f850094208ad05c891f483fe5e",
       "version_major": 2,
       "version_minor": 0
      },
      "text/plain": [
       "  0%|          | 0/2000 [00:00<?, ?it/s]"
      ]
     },
     "metadata": {},
     "output_type": "display_data"
    },
    {
     "name": "stdout",
     "output_type": "stream",
     "text": [
      "<transformers.trainer_utils.EvalPrediction object at 0x7f06b37a6b40>\n",
      "[0 0 1 ... 0 1 1]\n",
      "{'eval_loss': 0.20644690096378326, 'eval_accuracy': 0.9399166666666666, 'eval_runtime': 27.7073, 'eval_samples_per_second': 433.099, 'eval_steps_per_second': 72.183, 'epoch': 6.0}\n",
      "{'loss': 0.0959, 'grad_norm': 0.28443047404289246, 'learning_rate': 7.77777777777778e-06, 'epoch': 6.11}\n",
      "{'loss': 0.0862, 'grad_norm': 2.4784164428710938, 'learning_rate': 7.222222222222223e-06, 'epoch': 6.39}\n",
      "{'loss': 0.0859, 'grad_norm': 4.521542072296143, 'learning_rate': 6.666666666666667e-06, 'epoch': 6.67}\n",
      "{'loss': 0.0947, 'grad_norm': 3.1607565879821777, 'learning_rate': 6.111111111111112e-06, 'epoch': 6.94}\n"
     ]
    },
    {
     "data": {
      "application/vnd.jupyter.widget-view+json": {
       "model_id": "e851d3b72db346af92e23713283aba52",
       "version_major": 2,
       "version_minor": 0
      },
      "text/plain": [
       "  0%|          | 0/2000 [00:00<?, ?it/s]"
      ]
     },
     "metadata": {},
     "output_type": "display_data"
    },
    {
     "name": "stdout",
     "output_type": "stream",
     "text": [
      "<transformers.trainer_utils.EvalPrediction object at 0x7f06c045f770>\n",
      "[0 0 1 ... 0 1 1]\n",
      "{'eval_loss': 0.21243207156658173, 'eval_accuracy': 0.9396666666666667, 'eval_runtime': 27.7996, 'eval_samples_per_second': 431.661, 'eval_steps_per_second': 71.943, 'epoch': 7.0}\n",
      "{'loss': 0.0791, 'grad_norm': 1.799904465675354, 'learning_rate': 5.555555555555557e-06, 'epoch': 7.22}\n",
      "{'loss': 0.0811, 'grad_norm': 1.7573254108428955, 'learning_rate': 5e-06, 'epoch': 7.5}\n",
      "{'loss': 0.0782, 'grad_norm': 3.4496281147003174, 'learning_rate': 4.444444444444444e-06, 'epoch': 7.78}\n"
     ]
    },
    {
     "data": {
      "application/vnd.jupyter.widget-view+json": {
       "model_id": "ccec8c3070944defa339d15c0c3f84a9",
       "version_major": 2,
       "version_minor": 0
      },
      "text/plain": [
       "  0%|          | 0/2000 [00:00<?, ?it/s]"
      ]
     },
     "metadata": {},
     "output_type": "display_data"
    },
    {
     "name": "stdout",
     "output_type": "stream",
     "text": [
      "<transformers.trainer_utils.EvalPrediction object at 0x7f06c8010f20>\n",
      "[0 0 1 ... 0 1 1]\n",
      "{'eval_loss': 0.23268824815750122, 'eval_accuracy': 0.9396666666666667, 'eval_runtime': 27.7591, 'eval_samples_per_second': 432.291, 'eval_steps_per_second': 72.048, 'epoch': 8.0}\n",
      "{'loss': 0.0784, 'grad_norm': 5.066749572753906, 'learning_rate': 3.88888888888889e-06, 'epoch': 8.06}\n",
      "{'loss': 0.0716, 'grad_norm': 0.9043295383453369, 'learning_rate': 3.3333333333333333e-06, 'epoch': 8.33}\n",
      "{'loss': 0.0724, 'grad_norm': 1.5461845397949219, 'learning_rate': 2.7777777777777783e-06, 'epoch': 8.61}\n",
      "{'loss': 0.0725, 'grad_norm': 4.2904276847839355, 'learning_rate': 2.222222222222222e-06, 'epoch': 8.89}\n"
     ]
    },
    {
     "data": {
      "application/vnd.jupyter.widget-view+json": {
       "model_id": "9f8e6b2692f642878c2492b34fdf8c27",
       "version_major": 2,
       "version_minor": 0
      },
      "text/plain": [
       "  0%|          | 0/2000 [00:00<?, ?it/s]"
      ]
     },
     "metadata": {},
     "output_type": "display_data"
    },
    {
     "name": "stdout",
     "output_type": "stream",
     "text": [
      "<transformers.trainer_utils.EvalPrediction object at 0x7f06b37a7110>\n",
      "[0 0 1 ... 0 1 1]\n",
      "{'eval_loss': 0.23338429629802704, 'eval_accuracy': 0.938, 'eval_runtime': 27.7364, 'eval_samples_per_second': 432.644, 'eval_steps_per_second': 72.107, 'epoch': 9.0}\n",
      "{'loss': 0.0703, 'grad_norm': 2.3656833171844482, 'learning_rate': 1.6666666666666667e-06, 'epoch': 9.17}\n",
      "{'loss': 0.0675, 'grad_norm': 1.0994328260421753, 'learning_rate': 1.111111111111111e-06, 'epoch': 9.44}\n",
      "{'loss': 0.0673, 'grad_norm': 3.992600440979004, 'learning_rate': 5.555555555555555e-07, 'epoch': 9.72}\n",
      "{'loss': 0.0632, 'grad_norm': 3.7537856101989746, 'learning_rate': 0.0, 'epoch': 10.0}\n"
     ]
    },
    {
     "data": {
      "application/vnd.jupyter.widget-view+json": {
       "model_id": "39335f5aa7f84cf881f696ba391fa8cb",
       "version_major": 2,
       "version_minor": 0
      },
      "text/plain": [
       "  0%|          | 0/2000 [00:00<?, ?it/s]"
      ]
     },
     "metadata": {},
     "output_type": "display_data"
    },
    {
     "name": "stdout",
     "output_type": "stream",
     "text": [
      "<transformers.trainer_utils.EvalPrediction object at 0x7f06ca62c890>\n",
      "[0 0 1 ... 0 1 1]\n",
      "{'eval_loss': 0.2379753589630127, 'eval_accuracy': 0.9394166666666667, 'eval_runtime': 27.5705, 'eval_samples_per_second': 435.247, 'eval_steps_per_second': 72.541, 'epoch': 10.0}\n",
      "{'train_runtime': 9024.3306, 'train_samples_per_second': 119.676, 'train_steps_per_second': 1.995, 'train_loss': 0.13387812561459012, 'epoch': 10.0}\n"
     ]
    },
    {
     "data": {
      "text/plain": [
       "TrainOutput(global_step=18000, training_loss=0.13387812561459012, metrics={'train_runtime': 9024.3306, 'train_samples_per_second': 119.676, 'train_steps_per_second': 1.995, 'total_flos': 4.35656750945616e+16, 'train_loss': 0.13387812561459012, 'epoch': 10.0})"
      ]
     },
     "execution_count": 29,
     "metadata": {},
     "output_type": "execute_result"
    }
   ],
   "source": [
    "trainer2.train()"
   ]
  },
  {
   "cell_type": "code",
   "execution_count": 30,
   "metadata": {},
   "outputs": [
    {
     "data": {
      "application/vnd.jupyter.widget-view+json": {
       "model_id": "82cd29179ed0439c975ce88fe7951c3f",
       "version_major": 2,
       "version_minor": 0
      },
      "text/plain": [
       "  0%|          | 0/2000 [00:00<?, ?it/s]"
      ]
     },
     "metadata": {},
     "output_type": "display_data"
    },
    {
     "name": "stdout",
     "output_type": "stream",
     "text": [
      "<transformers.trainer_utils.EvalPrediction object at 0x7f06c8092cc0>\n",
      "[0 0 1 ... 0 1 1]\n"
     ]
    },
    {
     "data": {
      "text/plain": [
       "{'eval_loss': 0.1924833208322525,\n",
       " 'eval_accuracy': 0.94075,\n",
       " 'eval_runtime': 27.9002,\n",
       " 'eval_samples_per_second': 430.105,\n",
       " 'eval_steps_per_second': 71.684,\n",
       " 'epoch': 10.0}"
      ]
     },
     "execution_count": 30,
     "metadata": {},
     "output_type": "execute_result"
    }
   ],
   "source": [
    "trainer2.evaluate()"
   ]
  },
  {
   "cell_type": "code",
   "execution_count": 31,
   "metadata": {},
   "outputs": [
    {
     "data": {
      "application/vnd.jupyter.widget-view+json": {
       "model_id": "adbdb4e08cc3427d8c0c314c42a07cdb",
       "version_major": 2,
       "version_minor": 0
      },
      "text/plain": [
       "  0%|          | 0/1334 [00:00<?, ?it/s]"
      ]
     },
     "metadata": {},
     "output_type": "display_data"
    },
    {
     "name": "stdout",
     "output_type": "stream",
     "text": [
      "<transformers.trainer_utils.EvalPrediction object at 0x7f06b07e67e0>\n",
      "[2 1 0 ... 2 3 3]\n"
     ]
    },
    {
     "data": {
      "text/plain": [
       "PredictionOutput(predictions=array([[-1.0695013 , -2.5536616 ,  5.2586527 , ..., -6.0887194 ,\n",
       "        -6.9829693 , -6.53869   ],\n",
       "       [-0.8388935 ,  8.3347025 , -1.1192102 , ..., -2.527296  ,\n",
       "        -2.7162485 , -2.8433363 ],\n",
       "       [ 8.317964  , -1.1093439 , -0.1323076 , ..., -4.22545   ,\n",
       "        -4.4321613 , -4.024383  ],\n",
       "       ...,\n",
       "       [-1.185842  , -2.4264772 ,  5.927661  , ..., -5.0204043 ,\n",
       "        -6.609842  , -5.87755   ],\n",
       "       [-1.2121594 , -2.7981184 ,  3.5013788 , ..., -6.1638975 ,\n",
       "        -6.2733574 , -6.003157  ],\n",
       "       [ 0.28308743, -2.2719212 ,  2.0513415 , ..., -5.7982697 ,\n",
       "        -6.89287   , -6.2836    ]], dtype=float32), label_ids=array([2, 1, 0, ..., 2, 2, 3]), metrics={'test_loss': 0.16250135004520416, 'test_accuracy': 0.950375, 'test_runtime': 17.3218, 'test_samples_per_second': 461.846, 'test_steps_per_second': 77.013})"
      ]
     },
     "execution_count": 31,
     "metadata": {},
     "output_type": "execute_result"
    }
   ],
   "source": [
    "predictions = trainer2.predict(test_dataset=tokenized_dataset_full[\"test\"]) \n",
    "predictions"
   ]
  },
  {
   "cell_type": "code",
   "execution_count": 32,
   "metadata": {},
   "outputs": [
    {
     "name": "stdout",
     "output_type": "stream",
     "text": [
      "              precision    recall  f1-score   support\n",
      "\n",
      "           0       0.98      0.92      0.95      1943\n",
      "           1       0.98      1.00      0.99      1987\n",
      "           2       0.92      0.93      0.93      2049\n",
      "           3       0.93      0.95      0.94      2021\n",
      "           4       0.00      0.00      0.00         0\n",
      "           6       0.00      0.00      0.00         0\n",
      "\n",
      "    accuracy                           0.95      8000\n",
      "   macro avg       0.63      0.63      0.63      8000\n",
      "weighted avg       0.95      0.95      0.95      8000\n",
      "\n"
     ]
    },
    {
     "name": "stderr",
     "output_type": "stream",
     "text": [
      "/home/lucas/.local/lib/python3.12/site-packages/sklearn/metrics/_classification.py:1509: UndefinedMetricWarning: Recall is ill-defined and being set to 0.0 in labels with no true samples. Use `zero_division` parameter to control this behavior.\n",
      "  _warn_prf(average, modifier, f\"{metric.capitalize()} is\", len(result))\n",
      "/home/lucas/.local/lib/python3.12/site-packages/sklearn/metrics/_classification.py:1509: UndefinedMetricWarning: Recall is ill-defined and being set to 0.0 in labels with no true samples. Use `zero_division` parameter to control this behavior.\n",
      "  _warn_prf(average, modifier, f\"{metric.capitalize()} is\", len(result))\n",
      "/home/lucas/.local/lib/python3.12/site-packages/sklearn/metrics/_classification.py:1509: UndefinedMetricWarning: Recall is ill-defined and being set to 0.0 in labels with no true samples. Use `zero_division` parameter to control this behavior.\n",
      "  _warn_prf(average, modifier, f\"{metric.capitalize()} is\", len(result))\n"
     ]
    }
   ],
   "source": [
    "print(classification_report(real_values, predictions.predictions.argmax(-1)))"
   ]
  },
  {
   "cell_type": "code",
   "execution_count": 33,
   "metadata": {},
   "outputs": [
    {
     "data": {
      "image/png": "[encoded data removed]",
      "text/plain": [
       "<Figure size 1000x700 with 2 Axes>"
      ]
     },
     "metadata": {},
     "output_type": "display_data"
    }
   ],
   "source": [
    "# The predictions are in a tuple, with the first element being the actual predictions\n",
    "predicted_labels = np.argmax(predictions[0], axis=1)\n",
    "\n",
    "# Assuming the labels in your dataset are stored in a 'label' column\n",
    "true_labels = [entry['label'] for entry in tokenized_dataset_full['test']]\n",
    "\n",
    "cm = confusion_matrix(true_labels, predicted_labels)\n",
    "\n",
    "# Plot the heatmap\n",
    "plt.figure(figsize=(10,7))\n",
    "sns.heatmap(cm, annot=True, fmt='d')\n",
    "plt.title('Confusion Matrix')\n",
    "plt.ylabel('Actual label')\n",
    "plt.xlabel('Predicted label')\n",
    "plt.show()"
   ]
  },
  {
   "cell_type": "markdown",
   "metadata": {},
   "source": [
    "### Smaller Dataset Base Model"
   ]
  },
  {
   "cell_type": "code",
   "execution_count": 23,
   "metadata": {},
   "outputs": [
    {
     "data": {
      "application/vnd.jupyter.widget-view+json": {
       "model_id": "2f2965b1356e459dae49d2847499c6d4",
       "version_major": 2,
       "version_minor": 0
      },
      "text/plain": [
       "  0%|          | 0/4800 [00:00<?, ?it/s]"
      ]
     },
     "metadata": {},
     "output_type": "display_data"
    },
    {
     "name": "stderr",
     "output_type": "stream",
     "text": [
      "../aten/src/ATen/native/cuda/Loss.cu:250: nll_loss_forward_reduce_cuda_kernel_2d: block: [0,0,0], thread: [0,0,0] Assertion `t >= 0 && t < n_classes` failed.\n",
      "../aten/src/ATen/native/cuda/Loss.cu:250: nll_loss_forward_reduce_cuda_kernel_2d: block: [0,0,0], thread: [4,0,0] Assertion `t >= 0 && t < n_classes` failed.\n",
      "../aten/src/ATen/native/cuda/Loss.cu:250: nll_loss_forward_reduce_cuda_kernel_2d: block: [0,0,0], thread: [5,0,0] Assertion `t >= 0 && t < n_classes` failed.\n"
     ]
    },
    {
     "ename": "RuntimeError",
     "evalue": "CUDA error: device-side assert triggered\nCUDA kernel errors might be asynchronously reported at some other API call, so the stacktrace below might be incorrect.\nFor debugging consider passing CUDA_LAUNCH_BLOCKING=1.\nCompile with `TORCH_USE_CUDA_DSA` to enable device-side assertions.\n",
     "output_type": "error",
     "traceback": [
      "\u001b[0;31m---------------------------------------------------------------------------\u001b[0m",
      "\u001b[0;31mRuntimeError\u001b[0m                              Traceback (most recent call last)",
      "Cell \u001b[0;32mIn[23], line 1\u001b[0m\n\u001b[0;32m----> 1\u001b[0m \u001b[43mtrainer_base\u001b[49m\u001b[38;5;241;43m.\u001b[39;49m\u001b[43mtrain\u001b[49m\u001b[43m(\u001b[49m\u001b[43m)\u001b[49m\n",
      "File \u001b[0;32m~/.local/lib/python3.12/site-packages/transformers/trainer.py:1859\u001b[0m, in \u001b[0;36mTrainer.train\u001b[0;34m(self, resume_from_checkpoint, trial, ignore_keys_for_eval, **kwargs)\u001b[0m\n\u001b[1;32m   1857\u001b[0m         hf_hub_utils\u001b[38;5;241m.\u001b[39menable_progress_bars()\n\u001b[1;32m   1858\u001b[0m \u001b[38;5;28;01melse\u001b[39;00m:\n\u001b[0;32m-> 1859\u001b[0m     \u001b[38;5;28;01mreturn\u001b[39;00m \u001b[43minner_training_loop\u001b[49m\u001b[43m(\u001b[49m\n\u001b[1;32m   1860\u001b[0m \u001b[43m        \u001b[49m\u001b[43margs\u001b[49m\u001b[38;5;241;43m=\u001b[39;49m\u001b[43margs\u001b[49m\u001b[43m,\u001b[49m\n\u001b[1;32m   1861\u001b[0m \u001b[43m        \u001b[49m\u001b[43mresume_from_checkpoint\u001b[49m\u001b[38;5;241;43m=\u001b[39;49m\u001b[43mresume_from_checkpoint\u001b[49m\u001b[43m,\u001b[49m\n\u001b[1;32m   1862\u001b[0m \u001b[43m        \u001b[49m\u001b[43mtrial\u001b[49m\u001b[38;5;241;43m=\u001b[39;49m\u001b[43mtrial\u001b[49m\u001b[43m,\u001b[49m\n\u001b[1;32m   1863\u001b[0m \u001b[43m        \u001b[49m\u001b[43mignore_keys_for_eval\u001b[49m\u001b[38;5;241;43m=\u001b[39;49m\u001b[43mignore_keys_for_eval\u001b[49m\u001b[43m,\u001b[49m\n\u001b[1;32m   1864\u001b[0m \u001b[43m    \u001b[49m\u001b[43m)\u001b[49m\n",
      "File \u001b[0;32m~/.local/lib/python3.12/site-packages/transformers/trainer.py:2203\u001b[0m, in \u001b[0;36mTrainer._inner_training_loop\u001b[0;34m(self, batch_size, args, resume_from_checkpoint, trial, ignore_keys_for_eval)\u001b[0m\n\u001b[1;32m   2200\u001b[0m     \u001b[38;5;28mself\u001b[39m\u001b[38;5;241m.\u001b[39mcontrol \u001b[38;5;241m=\u001b[39m \u001b[38;5;28mself\u001b[39m\u001b[38;5;241m.\u001b[39mcallback_handler\u001b[38;5;241m.\u001b[39mon_step_begin(args, \u001b[38;5;28mself\u001b[39m\u001b[38;5;241m.\u001b[39mstate, \u001b[38;5;28mself\u001b[39m\u001b[38;5;241m.\u001b[39mcontrol)\n\u001b[1;32m   2202\u001b[0m \u001b[38;5;28;01mwith\u001b[39;00m \u001b[38;5;28mself\u001b[39m\u001b[38;5;241m.\u001b[39maccelerator\u001b[38;5;241m.\u001b[39maccumulate(model):\n\u001b[0;32m-> 2203\u001b[0m     tr_loss_step \u001b[38;5;241m=\u001b[39m \u001b[38;5;28;43mself\u001b[39;49m\u001b[38;5;241;43m.\u001b[39;49m\u001b[43mtraining_step\u001b[49m\u001b[43m(\u001b[49m\u001b[43mmodel\u001b[49m\u001b[43m,\u001b[49m\u001b[43m \u001b[49m\u001b[43minputs\u001b[49m\u001b[43m)\u001b[49m\n\u001b[1;32m   2205\u001b[0m \u001b[38;5;28;01mif\u001b[39;00m (\n\u001b[1;32m   2206\u001b[0m     args\u001b[38;5;241m.\u001b[39mlogging_nan_inf_filter\n\u001b[1;32m   2207\u001b[0m     \u001b[38;5;129;01mand\u001b[39;00m \u001b[38;5;129;01mnot\u001b[39;00m is_torch_xla_available()\n\u001b[1;32m   2208\u001b[0m     \u001b[38;5;129;01mand\u001b[39;00m (torch\u001b[38;5;241m.\u001b[39misnan(tr_loss_step) \u001b[38;5;129;01mor\u001b[39;00m torch\u001b[38;5;241m.\u001b[39misinf(tr_loss_step))\n\u001b[1;32m   2209\u001b[0m ):\n\u001b[1;32m   2210\u001b[0m     \u001b[38;5;66;03m# if loss is nan or inf simply add the average of previous logged losses\u001b[39;00m\n\u001b[1;32m   2211\u001b[0m     tr_loss \u001b[38;5;241m+\u001b[39m\u001b[38;5;241m=\u001b[39m tr_loss \u001b[38;5;241m/\u001b[39m (\u001b[38;5;241m1\u001b[39m \u001b[38;5;241m+\u001b[39m \u001b[38;5;28mself\u001b[39m\u001b[38;5;241m.\u001b[39mstate\u001b[38;5;241m.\u001b[39mglobal_step \u001b[38;5;241m-\u001b[39m \u001b[38;5;28mself\u001b[39m\u001b[38;5;241m.\u001b[39m_globalstep_last_logged)\n",
      "File \u001b[0;32m~/.local/lib/python3.12/site-packages/transformers/trainer.py:3147\u001b[0m, in \u001b[0;36mTrainer.training_step\u001b[0;34m(self, model, inputs)\u001b[0m\n\u001b[1;32m   3145\u001b[0m         scaled_loss\u001b[38;5;241m.\u001b[39mbackward()\n\u001b[1;32m   3146\u001b[0m \u001b[38;5;28;01melse\u001b[39;00m:\n\u001b[0;32m-> 3147\u001b[0m     \u001b[38;5;28;43mself\u001b[39;49m\u001b[38;5;241;43m.\u001b[39;49m\u001b[43maccelerator\u001b[49m\u001b[38;5;241;43m.\u001b[39;49m\u001b[43mbackward\u001b[49m\u001b[43m(\u001b[49m\u001b[43mloss\u001b[49m\u001b[43m)\u001b[49m\n\u001b[1;32m   3149\u001b[0m \u001b[38;5;28;01mreturn\u001b[39;00m loss\u001b[38;5;241m.\u001b[39mdetach() \u001b[38;5;241m/\u001b[39m \u001b[38;5;28mself\u001b[39m\u001b[38;5;241m.\u001b[39margs\u001b[38;5;241m.\u001b[39mgradient_accumulation_steps\n",
      "File \u001b[0;32m~/.local/lib/python3.12/site-packages/accelerate/accelerator.py:2013\u001b[0m, in \u001b[0;36mAccelerator.backward\u001b[0;34m(self, loss, **kwargs)\u001b[0m\n\u001b[1;32m   2011\u001b[0m     \u001b[38;5;28mself\u001b[39m\u001b[38;5;241m.\u001b[39mscaler\u001b[38;5;241m.\u001b[39mscale(loss)\u001b[38;5;241m.\u001b[39mbackward(\u001b[38;5;241m*\u001b[39m\u001b[38;5;241m*\u001b[39mkwargs)\n\u001b[1;32m   2012\u001b[0m \u001b[38;5;28;01melse\u001b[39;00m:\n\u001b[0;32m-> 2013\u001b[0m     \u001b[43mloss\u001b[49m\u001b[38;5;241;43m.\u001b[39;49m\u001b[43mbackward\u001b[49m\u001b[43m(\u001b[49m\u001b[38;5;241;43m*\u001b[39;49m\u001b[38;5;241;43m*\u001b[39;49m\u001b[43mkwargs\u001b[49m\u001b[43m)\u001b[49m\n",
      "File \u001b[0;32m~/.local/lib/python3.12/site-packages/torch/_tensor.py:525\u001b[0m, in \u001b[0;36mTensor.backward\u001b[0;34m(self, gradient, retain_graph, create_graph, inputs)\u001b[0m\n\u001b[1;32m    515\u001b[0m \u001b[38;5;28;01mif\u001b[39;00m has_torch_function_unary(\u001b[38;5;28mself\u001b[39m):\n\u001b[1;32m    516\u001b[0m     \u001b[38;5;28;01mreturn\u001b[39;00m handle_torch_function(\n\u001b[1;32m    517\u001b[0m         Tensor\u001b[38;5;241m.\u001b[39mbackward,\n\u001b[1;32m    518\u001b[0m         (\u001b[38;5;28mself\u001b[39m,),\n\u001b[0;32m   (...)\u001b[0m\n\u001b[1;32m    523\u001b[0m         inputs\u001b[38;5;241m=\u001b[39minputs,\n\u001b[1;32m    524\u001b[0m     )\n\u001b[0;32m--> 525\u001b[0m \u001b[43mtorch\u001b[49m\u001b[38;5;241;43m.\u001b[39;49m\u001b[43mautograd\u001b[49m\u001b[38;5;241;43m.\u001b[39;49m\u001b[43mbackward\u001b[49m\u001b[43m(\u001b[49m\n\u001b[1;32m    526\u001b[0m \u001b[43m    \u001b[49m\u001b[38;5;28;43mself\u001b[39;49m\u001b[43m,\u001b[49m\u001b[43m \u001b[49m\u001b[43mgradient\u001b[49m\u001b[43m,\u001b[49m\u001b[43m \u001b[49m\u001b[43mretain_graph\u001b[49m\u001b[43m,\u001b[49m\u001b[43m \u001b[49m\u001b[43mcreate_graph\u001b[49m\u001b[43m,\u001b[49m\u001b[43m \u001b[49m\u001b[43minputs\u001b[49m\u001b[38;5;241;43m=\u001b[39;49m\u001b[43minputs\u001b[49m\n\u001b[1;32m    527\u001b[0m \u001b[43m\u001b[49m\u001b[43m)\u001b[49m\n",
      "File \u001b[0;32m~/.local/lib/python3.12/site-packages/torch/autograd/__init__.py:260\u001b[0m, in \u001b[0;36mbackward\u001b[0;34m(tensors, grad_tensors, retain_graph, create_graph, grad_variables, inputs)\u001b[0m\n\u001b[1;32m    251\u001b[0m inputs \u001b[38;5;241m=\u001b[39m (\n\u001b[1;32m    252\u001b[0m     (inputs,)\n\u001b[1;32m    253\u001b[0m     \u001b[38;5;28;01mif\u001b[39;00m \u001b[38;5;28misinstance\u001b[39m(inputs, (torch\u001b[38;5;241m.\u001b[39mTensor, graph\u001b[38;5;241m.\u001b[39mGradientEdge))\n\u001b[0;32m   (...)\u001b[0m\n\u001b[1;32m    256\u001b[0m     \u001b[38;5;28;01melse\u001b[39;00m \u001b[38;5;28mtuple\u001b[39m()\n\u001b[1;32m    257\u001b[0m )\n\u001b[1;32m    259\u001b[0m grad_tensors_ \u001b[38;5;241m=\u001b[39m _tensor_or_tensors_to_tuple(grad_tensors, \u001b[38;5;28mlen\u001b[39m(tensors))\n\u001b[0;32m--> 260\u001b[0m grad_tensors_ \u001b[38;5;241m=\u001b[39m \u001b[43m_make_grads\u001b[49m\u001b[43m(\u001b[49m\u001b[43mtensors\u001b[49m\u001b[43m,\u001b[49m\u001b[43m \u001b[49m\u001b[43mgrad_tensors_\u001b[49m\u001b[43m,\u001b[49m\u001b[43m \u001b[49m\u001b[43mis_grads_batched\u001b[49m\u001b[38;5;241;43m=\u001b[39;49m\u001b[38;5;28;43;01mFalse\u001b[39;49;00m\u001b[43m)\u001b[49m\n\u001b[1;32m    261\u001b[0m \u001b[38;5;28;01mif\u001b[39;00m retain_graph \u001b[38;5;129;01mis\u001b[39;00m \u001b[38;5;28;01mNone\u001b[39;00m:\n\u001b[1;32m    262\u001b[0m     retain_graph \u001b[38;5;241m=\u001b[39m create_graph\n",
      "File \u001b[0;32m~/.local/lib/python3.12/site-packages/torch/autograd/__init__.py:143\u001b[0m, in \u001b[0;36m_make_grads\u001b[0;34m(outputs, grads, is_grads_batched)\u001b[0m\n\u001b[1;32m    137\u001b[0m         msg \u001b[38;5;241m=\u001b[39m (\n\u001b[1;32m    138\u001b[0m             \u001b[38;5;124m\"\u001b[39m\u001b[38;5;124mgrad can be implicitly created only for real scalar outputs\u001b[39m\u001b[38;5;124m\"\u001b[39m\n\u001b[1;32m    139\u001b[0m             \u001b[38;5;124mf\u001b[39m\u001b[38;5;124m\"\u001b[39m\u001b[38;5;124m but got \u001b[39m\u001b[38;5;132;01m{\u001b[39;00mout\u001b[38;5;241m.\u001b[39mdtype\u001b[38;5;132;01m}\u001b[39;00m\u001b[38;5;124m\"\u001b[39m\n\u001b[1;32m    140\u001b[0m         )\n\u001b[1;32m    141\u001b[0m         \u001b[38;5;28;01mraise\u001b[39;00m \u001b[38;5;167;01mRuntimeError\u001b[39;00m(msg)\n\u001b[1;32m    142\u001b[0m     new_grads\u001b[38;5;241m.\u001b[39mappend(\n\u001b[0;32m--> 143\u001b[0m         \u001b[43mtorch\u001b[49m\u001b[38;5;241;43m.\u001b[39;49m\u001b[43mones_like\u001b[49m\u001b[43m(\u001b[49m\u001b[43mout\u001b[49m\u001b[43m,\u001b[49m\u001b[43m \u001b[49m\u001b[43mmemory_format\u001b[49m\u001b[38;5;241;43m=\u001b[39;49m\u001b[43mtorch\u001b[49m\u001b[38;5;241;43m.\u001b[39;49m\u001b[43mpreserve_format\u001b[49m\u001b[43m)\u001b[49m\n\u001b[1;32m    144\u001b[0m     )\n\u001b[1;32m    145\u001b[0m \u001b[38;5;28;01melse\u001b[39;00m:\n\u001b[1;32m    146\u001b[0m     new_grads\u001b[38;5;241m.\u001b[39mappend(\u001b[38;5;28;01mNone\u001b[39;00m)\n",
      "\u001b[0;31mRuntimeError\u001b[0m: CUDA error: device-side assert triggered\nCUDA kernel errors might be asynchronously reported at some other API call, so the stacktrace below might be incorrect.\nFor debugging consider passing CUDA_LAUNCH_BLOCKING=1.\nCompile with `TORCH_USE_CUDA_DSA` to enable device-side assertions.\n"
     ]
    }
   ],
   "source": [
    "trainer_base.train()"
   ]
  },
  {
   "cell_type": "code",
   "execution_count": null,
   "metadata": {},
   "outputs": [],
   "source": [
    "trainer_base.evaluate()"
   ]
  },
  {
   "cell_type": "code",
   "execution_count": null,
   "metadata": {},
   "outputs": [],
   "source": [
    "predictions = trainer_base.predict(test_dataset=tokenized_dataset_full[\"test\"]) \n",
    "predictions"
   ]
  },
  {
   "cell_type": "code",
   "execution_count": null,
   "metadata": {},
   "outputs": [],
   "source": [
    "print(classification_report(real_values, predictions.predictions.argmax(-1)))"
   ]
  },
  {
   "cell_type": "code",
   "execution_count": null,
   "metadata": {},
   "outputs": [],
   "source": [
    "# The predictions are in a tuple, with the first element being the actual predictions\n",
    "predicted_labels = np.argmax(predictions[0], axis=1)\n",
    "\n",
    "# Assuming the labels in your dataset are stored in a 'label' column\n",
    "true_labels = [entry['label'] for entry in tokenized_dataset_full['test']]\n",
    "\n",
    "cm = confusion_matrix(true_labels, predicted_labels)\n",
    "\n",
    "# Plot the heatmap\n",
    "plt.figure(figsize=(10,7))\n",
    "sns.heatmap(cm, annot=True, fmt='d')\n",
    "plt.title('Confusion Matrix')\n",
    "plt.ylabel('Actual label')\n",
    "plt.xlabel('Predicted label')\n",
    "plt.show()"
   ]
  },
  {
   "cell_type": "markdown",
   "metadata": {},
   "source": [
    "### Full Dataset Base Model"
   ]
  },
  {
   "cell_type": "code",
   "execution_count": null,
   "metadata": {},
   "outputs": [],
   "source": [
    "trainer_base2.train()"
   ]
  },
  {
   "cell_type": "code",
   "execution_count": null,
   "metadata": {},
   "outputs": [],
   "source": [
    "trainer_base2.evaluate()"
   ]
  },
  {
   "cell_type": "code",
   "execution_count": null,
   "metadata": {},
   "outputs": [],
   "source": [
    "predictions = trainer_base2.predict(test_dataset=tokenized_dataset_full[\"test\"]) \n",
    "predictions"
   ]
  },
  {
   "cell_type": "code",
   "execution_count": null,
   "metadata": {},
   "outputs": [],
   "source": [
    "# The predictions are in a tuple, with the first element being the actual predictions\n",
    "predicted_labels = np.argmax(predictions[0], axis=1)\n",
    "\n",
    "# Assuming the labels in your dataset are stored in a 'label' column\n",
    "true_labels = [entry['label'] for entry in tokenized_dataset_full['test']]\n",
    "\n",
    "cm = confusion_matrix(true_labels, predicted_labels)\n",
    "\n",
    "# Plot the heatmap\n",
    "plt.figure(figsize=(10,7))\n",
    "sns.heatmap(cm, annot=True, fmt='d')\n",
    "plt.title('Confusion Matrix')\n",
    "plt.ylabel('Actual label')\n",
    "plt.xlabel('Predicted label')\n",
    "plt.show()"
   ]
  },
  {
   "cell_type": "markdown",
   "metadata": {},
   "source": [
    "## Domain Adaptation\n",
    "fabriceyhc/bert-base-uncased-yahoo_answers_topics"
   ]
  },
  {
   "cell_type": "code",
   "execution_count": null,
   "metadata": {},
   "outputs": [],
   "source": [
    "model_name = \"fabriceyhc/bert-base-uncased-yahoo_answers_topics\"\n",
    "# Load the model and tokenizer\n",
    "tokenizer = AutoTokenizer.from_pretrained(model_name)\n",
    "model = AutoModelForSequenceClassification.from_pretrained(model_name)\n",
    "\n",
    "model2 = AutoModelForSequenceClassification.from_pretrained(model_name)"
   ]
  },
  {
   "cell_type": "code",
   "execution_count": null,
   "metadata": {},
   "outputs": [],
   "source": [
    "def preprocess_function(sample):\n",
    "    return tokenizer(sample[\"text\"], truncation=True)"
   ]
  },
  {
   "cell_type": "code",
   "execution_count": null,
   "metadata": {},
   "outputs": [
    {
     "data": {
      "application/vnd.jupyter.widget-view+json": {
       "model_id": "803be32003ba40b3b371e14bb2f3ddf9",
       "version_major": 2,
       "version_minor": 0
      },
      "text/plain": [
       "Map:   0%|          | 0/28800 [00:00<?, ? examples/s]"
      ]
     },
     "metadata": {},
     "output_type": "display_data"
    },
    {
     "data": {
      "application/vnd.jupyter.widget-view+json": {
       "model_id": "1610e90545d34ff49e81978e7f0f6eab",
       "version_major": 2,
       "version_minor": 0
      },
      "text/plain": [
       "Map:   0%|          | 0/8000 [00:00<?, ? examples/s]"
      ]
     },
     "metadata": {},
     "output_type": "display_data"
    },
    {
     "data": {
      "application/vnd.jupyter.widget-view+json": {
       "model_id": "0af60c39ad804e05b44fe1a23fbda3cd",
       "version_major": 2,
       "version_minor": 0
      },
      "text/plain": [
       "Map:   0%|          | 0/3200 [00:00<?, ? examples/s]"
      ]
     },
     "metadata": {},
     "output_type": "display_data"
    },
    {
     "data": {
      "text/plain": [
       "DatasetDict({\n",
       "    train: Dataset({\n",
       "        features: ['text', 'label', 'input_ids', 'token_type_ids', 'attention_mask'],\n",
       "        num_rows: 28800\n",
       "    })\n",
       "    test: Dataset({\n",
       "        features: ['text', 'label', 'input_ids', 'token_type_ids', 'attention_mask'],\n",
       "        num_rows: 8000\n",
       "    })\n",
       "    validation: Dataset({\n",
       "        features: ['text', 'label', 'input_ids', 'token_type_ids', 'attention_mask'],\n",
       "        num_rows: 3200\n",
       "    })\n",
       "})"
      ]
     },
     "execution_count": 16,
     "metadata": {},
     "output_type": "execute_result"
    }
   ],
   "source": [
    "tokenized_dataset = train_valid_test_dataset.map(preprocess_function, batched=True)\n",
    "tokenized_dataset"
   ]
  },
  {
   "cell_type": "code",
   "execution_count": null,
   "metadata": {},
   "outputs": [],
   "source": [
    "metric = load(\"accuracy\")\n",
    "\n",
    "def compute_metrics(eval_pred):\n",
    "    print(eval_pred)\n",
    "    logits, labels = eval_pred\n",
    "    predictions = np.argmax(logits, axis=-1)\n",
    "    print(predictions)\n",
    "    predictions_converted = [label_converter[entry] for entry in predictions]\n",
    "    # print(predictions_converted)\n",
    "    return metric.compute(predictions=predictions, references=labels)\n",
    "\n",
    "training_args = TrainingArguments(\n",
    "    output_dir=\"./results-domain\",\n",
    "    learning_rate=2e-5,\n",
    "    per_device_train_batch_size=6,\n",
    "    per_device_eval_batch_size=6,\n",
    "    num_train_epochs=10,\n",
    "    weight_decay=0.01,\n",
    "    evaluation_strategy=\"epoch\", # run validation at the end of each epoch\n",
    "    save_strategy=\"epoch\",\n",
    "    load_best_model_at_end=True,\n",
    "    gradient_accumulation_steps=10\n",
    ")\n",
    "\n",
    "data_collator = DataCollatorWithPadding(tokenizer=tokenizer)\n",
    "\n",
    "trainer3 = Trainer(\n",
    "    model=model,\n",
    "    args=training_args,\n",
    "    train_dataset=tokenized_dataset[\"train\"],\n",
    "    eval_dataset=tokenized_dataset[\"validation\"],\n",
    "    tokenizer=tokenizer,\n",
    "    data_collator=data_collator,\n",
    "    compute_metrics=compute_metrics\n",
    ")"
   ]
  },
  {
   "cell_type": "code",
   "execution_count": null,
   "metadata": {},
   "outputs": [
    {
     "data": {
      "application/vnd.jupyter.widget-view+json": {
       "model_id": "4f4b34fd737846c5b69e7e19a01fdbae",
       "version_major": 2,
       "version_minor": 0
      },
      "text/plain": [
       "  0%|          | 0/4800 [00:00<?, ?it/s]"
      ]
     },
     "metadata": {},
     "output_type": "display_data"
    },
    {
     "data": {
      "application/vnd.jupyter.widget-view+json": {
       "model_id": "3fa81cf45608458ca4cd6b7a7e97c9cc",
       "version_major": 2,
       "version_minor": 0
      },
      "text/plain": [
       "  0%|          | 0/534 [00:00<?, ?it/s]"
      ]
     },
     "metadata": {},
     "output_type": "display_data"
    },
    {
     "name": "stdout",
     "output_type": "stream",
     "text": [
      "<transformers.trainer_utils.EvalPrediction object at 0x7ff34e2a8800>\n",
      "[0 1 3 ... 3 1 3]\n",
      "{'eval_loss': 0.21742577850818634, 'eval_accuracy': 0.923125, 'eval_runtime': 6.9209, 'eval_samples_per_second': 462.37, 'eval_steps_per_second': 77.158, 'epoch': 1.0}\n",
      "{'loss': 0.36, 'grad_norm': 5.903355598449707, 'learning_rate': 1.7916666666666667e-05, 'epoch': 1.04}\n"
     ]
    },
    {
     "data": {
      "application/vnd.jupyter.widget-view+json": {
       "model_id": "4d9cb1a230ca42f38a2fb8a9af7edb63",
       "version_major": 2,
       "version_minor": 0
      },
      "text/plain": [
       "  0%|          | 0/534 [00:00<?, ?it/s]"
      ]
     },
     "metadata": {},
     "output_type": "display_data"
    },
    {
     "name": "stdout",
     "output_type": "stream",
     "text": [
      "<transformers.trainer_utils.EvalPrediction object at 0x7ff34e29a660>\n",
      "[0 1 3 ... 3 1 2]\n",
      "{'eval_loss': 0.2065533995628357, 'eval_accuracy': 0.929375, 'eval_runtime': 6.9233, 'eval_samples_per_second': 462.208, 'eval_steps_per_second': 77.131, 'epoch': 2.0}\n",
      "{'loss': 0.17, 'grad_norm': 2.675908088684082, 'learning_rate': 1.5833333333333333e-05, 'epoch': 2.08}\n"
     ]
    },
    {
     "data": {
      "application/vnd.jupyter.widget-view+json": {
       "model_id": "7cf57560bd384a499167205157f0c0ea",
       "version_major": 2,
       "version_minor": 0
      },
      "text/plain": [
       "  0%|          | 0/534 [00:00<?, ?it/s]"
      ]
     },
     "metadata": {},
     "output_type": "display_data"
    },
    {
     "name": "stdout",
     "output_type": "stream",
     "text": [
      "<transformers.trainer_utils.EvalPrediction object at 0x7ff34e2a8800>\n",
      "[0 1 3 ... 3 1 2]\n",
      "{'eval_loss': 0.24816586077213287, 'eval_accuracy': 0.928125, 'eval_runtime': 6.8756, 'eval_samples_per_second': 465.414, 'eval_steps_per_second': 77.666, 'epoch': 3.0}\n",
      "{'loss': 0.1092, 'grad_norm': 1.5544408559799194, 'learning_rate': 1.375e-05, 'epoch': 3.12}\n"
     ]
    },
    {
     "data": {
      "application/vnd.jupyter.widget-view+json": {
       "model_id": "e470521af9494a59a2525c53137308da",
       "version_major": 2,
       "version_minor": 0
      },
      "text/plain": [
       "  0%|          | 0/534 [00:00<?, ?it/s]"
      ]
     },
     "metadata": {},
     "output_type": "display_data"
    },
    {
     "name": "stdout",
     "output_type": "stream",
     "text": [
      "<transformers.trainer_utils.EvalPrediction object at 0x7ff34e2a8800>\n",
      "[0 1 3 ... 3 1 3]\n",
      "{'eval_loss': 0.28295090794563293, 'eval_accuracy': 0.9259375, 'eval_runtime': 6.94, 'eval_samples_per_second': 461.092, 'eval_steps_per_second': 76.945, 'epoch': 4.0}\n",
      "{'loss': 0.0621, 'grad_norm': 0.2844797372817993, 'learning_rate': 1.1666666666666668e-05, 'epoch': 4.17}\n"
     ]
    },
    {
     "data": {
      "application/vnd.jupyter.widget-view+json": {
       "model_id": "9954594ba80f4629bab089ce371686cc",
       "version_major": 2,
       "version_minor": 0
      },
      "text/plain": [
       "  0%|          | 0/534 [00:00<?, ?it/s]"
      ]
     },
     "metadata": {},
     "output_type": "display_data"
    },
    {
     "name": "stdout",
     "output_type": "stream",
     "text": [
      "<transformers.trainer_utils.EvalPrediction object at 0x7ff34e2a8800>\n",
      "[0 1 3 ... 3 1 2]\n",
      "{'eval_loss': 0.3400699198246002, 'eval_accuracy': 0.9259375, 'eval_runtime': 6.8888, 'eval_samples_per_second': 464.525, 'eval_steps_per_second': 77.518, 'epoch': 5.0}\n",
      "{'loss': 0.0361, 'grad_norm': 0.4728167653083801, 'learning_rate': 9.583333333333335e-06, 'epoch': 5.21}\n"
     ]
    },
    {
     "data": {
      "application/vnd.jupyter.widget-view+json": {
       "model_id": "6ba838371ec04207885e1823e94b79b4",
       "version_major": 2,
       "version_minor": 0
      },
      "text/plain": [
       "  0%|          | 0/534 [00:00<?, ?it/s]"
      ]
     },
     "metadata": {},
     "output_type": "display_data"
    },
    {
     "name": "stdout",
     "output_type": "stream",
     "text": [
      "<transformers.trainer_utils.EvalPrediction object at 0x7ff35b54e990>\n",
      "[0 1 3 ... 3 1 2]\n",
      "{'eval_loss': 0.39228150248527527, 'eval_accuracy': 0.929375, 'eval_runtime': 6.9213, 'eval_samples_per_second': 462.338, 'eval_steps_per_second': 77.153, 'epoch': 6.0}\n",
      "{'loss': 0.0201, 'grad_norm': 7.8845415115356445, 'learning_rate': 7.500000000000001e-06, 'epoch': 6.25}\n"
     ]
    },
    {
     "data": {
      "application/vnd.jupyter.widget-view+json": {
       "model_id": "6f4b0e09b289445881edaf734c79fb0e",
       "version_major": 2,
       "version_minor": 0
      },
      "text/plain": [
       "  0%|          | 0/534 [00:00<?, ?it/s]"
      ]
     },
     "metadata": {},
     "output_type": "display_data"
    },
    {
     "name": "stdout",
     "output_type": "stream",
     "text": [
      "<transformers.trainer_utils.EvalPrediction object at 0x7ff34e2a8800>\n",
      "[0 1 3 ... 3 1 2]\n",
      "{'eval_loss': 0.473702609539032, 'eval_accuracy': 0.920625, 'eval_runtime': 6.8935, 'eval_samples_per_second': 464.209, 'eval_steps_per_second': 77.465, 'epoch': 7.0}\n",
      "{'loss': 0.0118, 'grad_norm': 5.136019229888916, 'learning_rate': 5.416666666666667e-06, 'epoch': 7.29}\n"
     ]
    },
    {
     "data": {
      "application/vnd.jupyter.widget-view+json": {
       "model_id": "2f3d5a0789ec40d9802d2104725422b0",
       "version_major": 2,
       "version_minor": 0
      },
      "text/plain": [
       "  0%|          | 0/534 [00:00<?, ?it/s]"
      ]
     },
     "metadata": {},
     "output_type": "display_data"
    },
    {
     "name": "stdout",
     "output_type": "stream",
     "text": [
      "<transformers.trainer_utils.EvalPrediction object at 0x7ff34e2a8800>\n",
      "[0 1 3 ... 3 1 2]\n",
      "{'eval_loss': 0.47052618861198425, 'eval_accuracy': 0.924375, 'eval_runtime': 6.9428, 'eval_samples_per_second': 460.912, 'eval_steps_per_second': 76.915, 'epoch': 8.0}\n",
      "{'loss': 0.0053, 'grad_norm': 0.007930993102490902, 'learning_rate': 3.3333333333333333e-06, 'epoch': 8.33}\n"
     ]
    },
    {
     "data": {
      "application/vnd.jupyter.widget-view+json": {
       "model_id": "9954b604c7604ba49d3891d17571d282",
       "version_major": 2,
       "version_minor": 0
      },
      "text/plain": [
       "  0%|          | 0/534 [00:00<?, ?it/s]"
      ]
     },
     "metadata": {},
     "output_type": "display_data"
    },
    {
     "name": "stdout",
     "output_type": "stream",
     "text": [
      "<transformers.trainer_utils.EvalPrediction object at 0x7ff35b5b5700>\n",
      "[0 1 3 ... 3 1 2]\n",
      "{'eval_loss': 0.48669007420539856, 'eval_accuracy': 0.92625, 'eval_runtime': 6.8873, 'eval_samples_per_second': 464.624, 'eval_steps_per_second': 77.534, 'epoch': 9.0}\n",
      "{'loss': 0.0045, 'grad_norm': 0.05511951446533203, 'learning_rate': 1.25e-06, 'epoch': 9.38}\n"
     ]
    },
    {
     "data": {
      "application/vnd.jupyter.widget-view+json": {
       "model_id": "6d2c7bd1c6624510882061bd146bf2a2",
       "version_major": 2,
       "version_minor": 0
      },
      "text/plain": [
       "  0%|          | 0/534 [00:00<?, ?it/s]"
      ]
     },
     "metadata": {},
     "output_type": "display_data"
    },
    {
     "name": "stdout",
     "output_type": "stream",
     "text": [
      "<transformers.trainer_utils.EvalPrediction object at 0x7ff35fe7c1a0>\n",
      "[0 1 3 ... 3 1 2]\n",
      "{'eval_loss': 0.49571990966796875, 'eval_accuracy': 0.9253125, 'eval_runtime': 6.912, 'eval_samples_per_second': 462.964, 'eval_steps_per_second': 77.257, 'epoch': 10.0}\n",
      "{'train_runtime': 2187.6544, 'train_samples_per_second': 131.648, 'train_steps_per_second': 2.194, 'train_loss': 0.08137987608710925, 'epoch': 10.0}\n"
     ]
    },
    {
     "data": {
      "text/plain": [
       "TrainOutput(global_step=4800, training_loss=0.08137987608710925, metrics={'train_runtime': 2187.6544, 'train_samples_per_second': 131.648, 'train_steps_per_second': 2.194, 'total_flos': 1.0202728301754912e+16, 'train_loss': 0.08137987608710925, 'epoch': 10.0})"
      ]
     },
     "execution_count": 18,
     "metadata": {},
     "output_type": "execute_result"
    }
   ],
   "source": [
    "trainer3.train()"
   ]
  },
  {
   "cell_type": "code",
   "execution_count": null,
   "metadata": {},
   "outputs": [
    {
     "data": {
      "application/vnd.jupyter.widget-view+json": {
       "model_id": "3d1c619477c04b8d918fb4e54ac07c68",
       "version_major": 2,
       "version_minor": 0
      },
      "text/plain": [
       "  0%|          | 0/534 [00:00<?, ?it/s]"
      ]
     },
     "metadata": {},
     "output_type": "display_data"
    },
    {
     "name": "stdout",
     "output_type": "stream",
     "text": [
      "<transformers.trainer_utils.EvalPrediction object at 0x7ff36951f470>\n",
      "[0 1 3 ... 3 1 2]\n"
     ]
    },
    {
     "data": {
      "text/plain": [
       "{'eval_loss': 0.2065533995628357,\n",
       " 'eval_accuracy': 0.929375,\n",
       " 'eval_runtime': 6.9064,\n",
       " 'eval_samples_per_second': 463.337,\n",
       " 'eval_steps_per_second': 77.319,\n",
       " 'epoch': 10.0}"
      ]
     },
     "execution_count": 19,
     "metadata": {},
     "output_type": "execute_result"
    }
   ],
   "source": [
    "trainer3.evaluate()"
   ]
  },
  {
   "cell_type": "code",
   "execution_count": null,
   "metadata": {},
   "outputs": [
    {
     "data": {
      "application/vnd.jupyter.widget-view+json": {
       "model_id": "004e893d69e34a00852593b019261592",
       "version_major": 2,
       "version_minor": 0
      },
      "text/plain": [
       "  0%|          | 0/1334 [00:00<?, ?it/s]"
      ]
     },
     "metadata": {},
     "output_type": "display_data"
    },
    {
     "name": "stdout",
     "output_type": "stream",
     "text": [
      "<transformers.trainer_utils.EvalPrediction object at 0x7ff33d5d99a0>\n",
      "[2 1 0 ... 2 2 3]\n"
     ]
    },
    {
     "data": {
      "text/plain": [
       "PredictionOutput(predictions=array([[ 0.25328532, -1.0758101 ,  5.8665304 , ..., -2.739812  ,\n",
       "        -2.7687647 , -2.3524551 ],\n",
       "       [ 0.63322246,  7.781567  , -0.2877586 , ..., -1.529082  ,\n",
       "        -2.095355  , -1.1481286 ],\n",
       "       [ 7.2837725 , -0.76884305, -0.02042841, ..., -1.6331748 ,\n",
       "        -1.7183628 , -0.6097688 ],\n",
       "       ...,\n",
       "       [ 0.21842286, -1.0997226 ,  5.7400165 , ..., -2.7615316 ,\n",
       "        -2.7218728 , -2.3803773 ],\n",
       "       [ 0.7957248 , -1.0080624 ,  6.4979997 , ..., -2.9433818 ,\n",
       "        -2.791173  , -2.187606  ],\n",
       "       [ 0.29826576, -1.5790974 ,  3.1420786 , ..., -1.6780468 ,\n",
       "        -2.8136857 , -2.33598   ]], dtype=float32), label_ids=array([2, 1, 0, ..., 2, 2, 3]), metrics={'test_loss': 0.21210025250911713, 'test_accuracy': 0.928, 'test_runtime': 17.0949, 'test_samples_per_second': 467.976, 'test_steps_per_second': 78.035})"
      ]
     },
     "execution_count": 25,
     "metadata": {},
     "output_type": "execute_result"
    }
   ],
   "source": [
    "predictions = trainer3.predict(test_dataset=tokenized_dataset[\"test\"])\n",
    "predictions"
   ]
  },
  {
   "cell_type": "code",
   "execution_count": null,
   "metadata": {},
   "outputs": [
    {
     "ename": "NameError",
     "evalue": "name 'real_values' is not defined",
     "output_type": "error",
     "traceback": [
      "\u001b[0;31m---------------------------------------------------------------------------\u001b[0m",
      "\u001b[0;31mNameError\u001b[0m                                 Traceback (most recent call last)",
      "Cell \u001b[0;32mIn[28], line 1\u001b[0m\n\u001b[0;32m----> 1\u001b[0m \u001b[38;5;28mprint\u001b[39m(classification_report(\u001b[43mreal_values\u001b[49m, predictions\u001b[38;5;241m.\u001b[39mpredictions\u001b[38;5;241m.\u001b[39margmax(\u001b[38;5;241m-\u001b[39m\u001b[38;5;241m1\u001b[39m)))\n",
      "\u001b[0;31mNameError\u001b[0m: name 'real_values' is not defined"
     ]
    }
   ],
   "source": [
    "print(classification_report(real_values, predictions.predictions.argmax(-1)))"
   ]
  },
  {
   "cell_type": "code",
   "execution_count": null,
   "metadata": {},
   "outputs": [],
   "source": [
    "# The predictions are in a tuple, with the first element being the actual predictions\n",
    "predicted_labels = np.argmax(predictions[0], axis=1)\n",
    "\n",
    "# Assuming the labels in your dataset are stored in a 'label' column\n",
    "true_labels = [entry['label'] for entry in tokenized_dataset['test']]\n",
    "\n",
    "cm = confusion_matrix(true_labels, predicted_labels)\n",
    "\n",
    "# Plot the heatmap\n",
    "plt.figure(figsize=(10,7))\n",
    "sns.heatmap(cm, annot=True, fmt='d')\n",
    "plt.title('Confusion Matrix')\n",
    "plt.ylabel('Actual label')\n",
    "plt.xlabel('Predicted label')\n",
    "plt.show()"
   ]
  },
  {
   "cell_type": "markdown",
   "metadata": {},
   "source": [
    "## Save the models"
   ]
  },
  {
   "cell_type": "code",
   "execution_count": null,
   "metadata": {},
   "outputs": [],
   "source": [
    "trainer.save_model()\n",
    "trainer3.save_model()"
   ]
  }
 ],
 "metadata": {
  "kernelspec": {
   "display_name": "myenv",
   "language": "python",
   "name": "python3"
  },
  "language_info": {
   "codemirror_mode": {
    "name": "ipython",
    "version": 3
   },
   "file_extension": ".py",
   "mimetype": "text/x-python",
   "name": "python",
   "nbconvert_exporter": "python",
   "pygments_lexer": "ipython3",
   "version": "3.12.3"
  }
 },
 "nbformat": 4,
 "nbformat_minor": 2
}
