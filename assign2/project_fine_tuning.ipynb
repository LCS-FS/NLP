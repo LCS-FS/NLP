{
 "cells": [
  {
   "cell_type": "markdown",
   "metadata": {},
   "source": [
    "# Dependencies"
   ]
  },
  {
   "cell_type": "code",
   "execution_count": 2,
   "metadata": {},
   "outputs": [
    {
     "name": "stderr",
     "output_type": "stream",
     "text": [
      "2024-05-22 18:33:05.783213: W tensorflow/compiler/tf2tensorrt/utils/py_utils.cc:38] TF-TRT Warning: Could not find TensorRT\n"
     ]
    }
   ],
   "source": [
    "import pandas as pd\n",
    "from datasets import Dataset, DatasetDict\n",
    "from transformers import pipeline\n",
    "from sklearn.metrics import classification_report, confusion_matrix, confusion_matrix, accuracy_score, precision_score, recall_score, f1_score\n",
    "import matplotlib.pyplot as plt\n",
    "import seaborn as sns\n",
    "from transformers import AutoTokenizer, AutoModelForSequenceClassification, TrainingArguments, Trainer, DataCollatorWithPadding, DataCollatorForLanguageModeling\n",
    "from evaluate import load\n",
    "import numpy as np"
   ]
  },
  {
   "cell_type": "markdown",
   "metadata": {},
   "source": [
    "# Import data"
   ]
  },
  {
   "cell_type": "code",
   "execution_count": 3,
   "metadata": {},
   "outputs": [
    {
     "data": {
      "text/html": [
       "<div>\n",
       "<style scoped>\n",
       "    .dataframe tbody tr th:only-of-type {\n",
       "        vertical-align: middle;\n",
       "    }\n",
       "\n",
       "    .dataframe tbody tr th {\n",
       "        vertical-align: top;\n",
       "    }\n",
       "\n",
       "    .dataframe thead th {\n",
       "        text-align: right;\n",
       "    }\n",
       "</style>\n",
       "<table border=\"1\" class=\"dataframe\">\n",
       "  <thead>\n",
       "    <tr style=\"text-align: right;\">\n",
       "      <th></th>\n",
       "      <th>text</th>\n",
       "      <th>label</th>\n",
       "    </tr>\n",
       "  </thead>\n",
       "  <tbody>\n",
       "    <tr>\n",
       "      <th>0</th>\n",
       "      <td>Explosion Rocks Baghdad Neighborhood BAGHDAD, ...</td>\n",
       "      <td>0</td>\n",
       "    </tr>\n",
       "    <tr>\n",
       "      <th>1</th>\n",
       "      <td>BBC reporters' log BBC correspondents record e...</td>\n",
       "      <td>0</td>\n",
       "    </tr>\n",
       "    <tr>\n",
       "      <th>2</th>\n",
       "      <td>Israel welcomes Rice nomination; Palestinians ...</td>\n",
       "      <td>0</td>\n",
       "    </tr>\n",
       "    <tr>\n",
       "      <th>3</th>\n",
       "      <td>Medical Journal Calls for a New Drug Watchdog ...</td>\n",
       "      <td>0</td>\n",
       "    </tr>\n",
       "    <tr>\n",
       "      <th>4</th>\n",
       "      <td>Militants Kidnap Relatives of Iraqi Minister-T...</td>\n",
       "      <td>0</td>\n",
       "    </tr>\n",
       "    <tr>\n",
       "      <th>...</th>\n",
       "      <td>...</td>\n",
       "      <td>...</td>\n",
       "    </tr>\n",
       "    <tr>\n",
       "      <th>39995</th>\n",
       "      <td>Microsoft Tests MSN Messenger 7.0 Updated chat...</td>\n",
       "      <td>3</td>\n",
       "    </tr>\n",
       "    <tr>\n",
       "      <th>39996</th>\n",
       "      <td>Vonage talks of 911 advancements In Rhode Isla...</td>\n",
       "      <td>3</td>\n",
       "    </tr>\n",
       "    <tr>\n",
       "      <th>39997</th>\n",
       "      <td>Exploring Venus: The Hothouse Planet Before sp...</td>\n",
       "      <td>3</td>\n",
       "    </tr>\n",
       "    <tr>\n",
       "      <th>39998</th>\n",
       "      <td>PayPal to Impose Fines for Breaking Bans  - On...</td>\n",
       "      <td>3</td>\n",
       "    </tr>\n",
       "    <tr>\n",
       "      <th>39999</th>\n",
       "      <td>Glaciers are flowing faster Ice is sliding off...</td>\n",
       "      <td>3</td>\n",
       "    </tr>\n",
       "  </tbody>\n",
       "</table>\n",
       "<p>40000 rows × 2 columns</p>\n",
       "</div>"
      ],
      "text/plain": [
       "                                                    text  label\n",
       "0      Explosion Rocks Baghdad Neighborhood BAGHDAD, ...      0\n",
       "1      BBC reporters' log BBC correspondents record e...      0\n",
       "2      Israel welcomes Rice nomination; Palestinians ...      0\n",
       "3      Medical Journal Calls for a New Drug Watchdog ...      0\n",
       "4      Militants Kidnap Relatives of Iraqi Minister-T...      0\n",
       "...                                                  ...    ...\n",
       "39995  Microsoft Tests MSN Messenger 7.0 Updated chat...      3\n",
       "39996  Vonage talks of 911 advancements In Rhode Isla...      3\n",
       "39997  Exploring Venus: The Hothouse Planet Before sp...      3\n",
       "39998  PayPal to Impose Fines for Breaking Bans  - On...      3\n",
       "39999  Glaciers are flowing faster Ice is sliding off...      3\n",
       "\n",
       "[40000 rows x 2 columns]"
      ]
     },
     "execution_count": 3,
     "metadata": {},
     "output_type": "execute_result"
    }
   ],
   "source": [
    "data = pd.read_csv(\"dataset/small_data_sample.csv\")\n",
    "data"
   ]
  },
  {
   "cell_type": "markdown",
   "metadata": {},
   "source": [
    "---"
   ]
  },
  {
   "cell_type": "code",
   "execution_count": 4,
   "metadata": {},
   "outputs": [
    {
     "data": {
      "text/html": [
       "<div>\n",
       "<style scoped>\n",
       "    .dataframe tbody tr th:only-of-type {\n",
       "        vertical-align: middle;\n",
       "    }\n",
       "\n",
       "    .dataframe tbody tr th {\n",
       "        vertical-align: top;\n",
       "    }\n",
       "\n",
       "    .dataframe thead th {\n",
       "        text-align: right;\n",
       "    }\n",
       "</style>\n",
       "<table border=\"1\" class=\"dataframe\">\n",
       "  <thead>\n",
       "    <tr style=\"text-align: right;\">\n",
       "      <th></th>\n",
       "      <th>text</th>\n",
       "      <th>label</th>\n",
       "    </tr>\n",
       "  </thead>\n",
       "  <tbody>\n",
       "    <tr>\n",
       "      <th>0</th>\n",
       "      <td>Wall St. Bears Claw Back Into the Black (Reute...</td>\n",
       "      <td>2</td>\n",
       "    </tr>\n",
       "    <tr>\n",
       "      <th>1</th>\n",
       "      <td>Carlyle Looks Toward Commercial Aerospace (Reu...</td>\n",
       "      <td>2</td>\n",
       "    </tr>\n",
       "    <tr>\n",
       "      <th>2</th>\n",
       "      <td>Oil and Economy Cloud Stocks' Outlook (Reuters...</td>\n",
       "      <td>2</td>\n",
       "    </tr>\n",
       "    <tr>\n",
       "      <th>3</th>\n",
       "      <td>Iraq Halts Oil Exports from Main Southern Pipe...</td>\n",
       "      <td>2</td>\n",
       "    </tr>\n",
       "    <tr>\n",
       "      <th>4</th>\n",
       "      <td>Oil prices soar to all-time record, posing new...</td>\n",
       "      <td>2</td>\n",
       "    </tr>\n",
       "    <tr>\n",
       "      <th>...</th>\n",
       "      <td>...</td>\n",
       "      <td>...</td>\n",
       "    </tr>\n",
       "    <tr>\n",
       "      <th>119995</th>\n",
       "      <td>Pakistan's Musharraf Says Won't Quit as Army C...</td>\n",
       "      <td>0</td>\n",
       "    </tr>\n",
       "    <tr>\n",
       "      <th>119996</th>\n",
       "      <td>Renteria signing a top-shelf deal Red Sox gene...</td>\n",
       "      <td>1</td>\n",
       "    </tr>\n",
       "    <tr>\n",
       "      <th>119997</th>\n",
       "      <td>Saban not going to Dolphins yet The Miami Dolp...</td>\n",
       "      <td>1</td>\n",
       "    </tr>\n",
       "    <tr>\n",
       "      <th>119998</th>\n",
       "      <td>Today's NFL games PITTSBURGH at NY GIANTS Time...</td>\n",
       "      <td>1</td>\n",
       "    </tr>\n",
       "    <tr>\n",
       "      <th>119999</th>\n",
       "      <td>Nets get Carter from Raptors INDIANAPOLIS -- A...</td>\n",
       "      <td>1</td>\n",
       "    </tr>\n",
       "  </tbody>\n",
       "</table>\n",
       "<p>120000 rows × 2 columns</p>\n",
       "</div>"
      ],
      "text/plain": [
       "                                                     text  label\n",
       "0       Wall St. Bears Claw Back Into the Black (Reute...      2\n",
       "1       Carlyle Looks Toward Commercial Aerospace (Reu...      2\n",
       "2       Oil and Economy Cloud Stocks' Outlook (Reuters...      2\n",
       "3       Iraq Halts Oil Exports from Main Southern Pipe...      2\n",
       "4       Oil prices soar to all-time record, posing new...      2\n",
       "...                                                   ...    ...\n",
       "119995  Pakistan's Musharraf Says Won't Quit as Army C...      0\n",
       "119996  Renteria signing a top-shelf deal Red Sox gene...      1\n",
       "119997  Saban not going to Dolphins yet The Miami Dolp...      1\n",
       "119998  Today's NFL games PITTSBURGH at NY GIANTS Time...      1\n",
       "119999  Nets get Carter from Raptors INDIANAPOLIS -- A...      1\n",
       "\n",
       "[120000 rows x 2 columns]"
      ]
     },
     "execution_count": 4,
     "metadata": {},
     "output_type": "execute_result"
    }
   ],
   "source": [
    "# full dataset\n",
    "data_full = pd.read_csv(\"dataset/training_data.csv\")\n",
    "data_full"
   ]
  },
  {
   "cell_type": "code",
   "execution_count": 5,
   "metadata": {},
   "outputs": [],
   "source": [
    "dataset_hf = Dataset.from_pandas(data)\n",
    "dataset_hf_full = Dataset.from_pandas(data_full)"
   ]
  },
  {
   "cell_type": "code",
   "execution_count": 6,
   "metadata": {},
   "outputs": [],
   "source": [
    "# 80% train + validation, 20% test\n",
    "train_test = dataset_hf.train_test_split(test_size=0.2, seed=42)\n",
    "# Split the 80% train+validation set in 90% train, 10% validation\n",
    "train_valid = train_test['train'].train_test_split(test_size=0.1)\n",
    "\n",
    "test_set = set([item['text'] for item in train_test['test']])\n",
    "# The remaining data will be the train and validation set\n",
    "train_valid_indices = list(set(range(len(dataset_hf_full))) - test_set)\n",
    "train_valid_set_full = dataset_hf_full.select(train_valid_indices)\n",
    "\n",
    "# Now you can split the train and validation set as before\n",
    "train_valid_full = train_valid_set_full.train_test_split(test_size=0.1)\n",
    "\n",
    "train_valid_test_dataset = DatasetDict({\n",
    "    'train': train_valid['train'],\n",
    "    'test': train_test['test'],\n",
    "    'validation': train_valid['test']\n",
    "})\n",
    "\n",
    "train_valid_test_dataset_full = DatasetDict({\n",
    "    'train': train_valid_full['train'],\n",
    "    'test': train_test['test'], # keep the same test set as the small dataset\n",
    "    'validation': train_valid_full['test']\n",
    "})\n"
   ]
  },
  {
   "cell_type": "code",
   "execution_count": 7,
   "metadata": {},
   "outputs": [
    {
     "data": {
      "text/plain": [
       "DatasetDict({\n",
       "    train: Dataset({\n",
       "        features: ['text', 'label'],\n",
       "        num_rows: 28800\n",
       "    })\n",
       "    test: Dataset({\n",
       "        features: ['text', 'label'],\n",
       "        num_rows: 8000\n",
       "    })\n",
       "    validation: Dataset({\n",
       "        features: ['text', 'label'],\n",
       "        num_rows: 3200\n",
       "    })\n",
       "})"
      ]
     },
     "execution_count": 7,
     "metadata": {},
     "output_type": "execute_result"
    }
   ],
   "source": [
    "train_valid_test_dataset"
   ]
  },
  {
   "cell_type": "code",
   "execution_count": 8,
   "metadata": {},
   "outputs": [
    {
     "data": {
      "text/plain": [
       "DatasetDict({\n",
       "    train: Dataset({\n",
       "        features: ['text', 'label'],\n",
       "        num_rows: 108000\n",
       "    })\n",
       "    test: Dataset({\n",
       "        features: ['text', 'label'],\n",
       "        num_rows: 8000\n",
       "    })\n",
       "    validation: Dataset({\n",
       "        features: ['text', 'label'],\n",
       "        num_rows: 12000\n",
       "    })\n",
       "})"
      ]
     },
     "execution_count": 8,
     "metadata": {},
     "output_type": "execute_result"
    }
   ],
   "source": [
    "train_valid_test_dataset_full"
   ]
  },
  {
   "cell_type": "markdown",
   "metadata": {},
   "source": [
    "---"
   ]
  },
  {
   "cell_type": "markdown",
   "metadata": {},
   "source": [
    "| Model Label | Model Label Value | -> | Data Label | Data Label Value |\n",
    "| -------- | -------- | -------- | -------- | -------- |\n",
    "| 0 | Sports | -> | 1 | Sports |\n",
    "| 1 | Arts, Culture, and Entertainment | -> | 0 | World |\n",
    "| 2 | Business and Finance | -> | 2 | Business |\n",
    "| 3 | Health and Wellness | -> | 0 | World |\n",
    "| 4 | Lifestyle and Fashion | -> | 0 | World |\n",
    "| 5 | Science and Technology | -> | 3 | Sci/Tech |\n",
    "| 6 | Politics | -> | 0 | World |\n",
    "| 7 | Crime | -> | 0 | World |"
   ]
  },
  {
   "cell_type": "code",
   "execution_count": 11,
   "metadata": {},
   "outputs": [],
   "source": [
    "model_name = \"dstefa/roberta-base_topic_classification_nyt_news\"\n",
    "\n",
    "predictions_dict = {\n",
    "    \"Sports\": 1,\n",
    "    \"Arts, Culture, and Entertainment\": 0,\n",
    "    \"Business and Finance\": 2,\n",
    "    \"Health and Wellness\": 0,\n",
    "    \"Lifestyle and Fashion\": 0,\n",
    "    \"Science and Technology\": 3,\n",
    "    \"Politics\": 0,\n",
    "    \"Crime\": 0\n",
    "}"
   ]
  },
  {
   "cell_type": "markdown",
   "metadata": {},
   "source": [
    "# Transformer Pipeline"
   ]
  },
  {
   "cell_type": "code",
   "execution_count": 13,
   "metadata": {},
   "outputs": [],
   "source": [
    "classifier = pipeline(model=model_name)"
   ]
  },
  {
   "cell_type": "code",
   "execution_count": 14,
   "metadata": {},
   "outputs": [],
   "source": [
    "real_values = [int(actual_label) for actual_label in train_valid_test_dataset['test']['label']]"
   ]
  },
  {
   "cell_type": "markdown",
   "metadata": {},
   "source": [
    "## smaller data set"
   ]
  },
  {
   "cell_type": "code",
   "execution_count": 44,
   "metadata": {},
   "outputs": [
    {
     "name": "stdout",
     "output_type": "stream",
     "text": [
      "              precision    recall  f1-score   support\n",
      "\n",
      "           0       0.77      0.80      0.79      1943\n",
      "           1       0.93      0.97      0.95      1987\n",
      "           2       0.58      0.93      0.71      2049\n",
      "           3       0.94      0.30      0.45      2021\n",
      "\n",
      "    accuracy                           0.75      8000\n",
      "   macro avg       0.81      0.75      0.72      8000\n",
      "weighted avg       0.80      0.75      0.72      8000\n",
      "\n"
     ]
    }
   ],
   "source": [
    "predictions = [classifier(row)[0]['label'] for row in train_valid_test_dataset['test']['text']]\n",
    "converted_predictions = [predictions_dict[entry] for entry in predictions]\n",
    "\n",
    "print(classification_report(real_values, converted_predictions))"
   ]
  },
  {
   "cell_type": "code",
   "execution_count": 45,
   "metadata": {},
   "outputs": [
    {
     "data": {
      "image/png": "[encoded data removed]",
      "text/plain": [
       "<Figure size 1000x700 with 2 Axes>"
      ]
     },
     "metadata": {},
     "output_type": "display_data"
    }
   ],
   "source": [
    "# Generate the confusion matrix\n",
    "cm = confusion_matrix(real_values, converted_predictions)\n",
    "\n",
    "# Plot the heatmap\n",
    "plt.figure(figsize=(10,7))\n",
    "sns.heatmap(cm, annot=True, fmt='d')\n",
    "plt.title('Confusion Matrix')\n",
    "plt.ylabel('Actual label')\n",
    "plt.xlabel('Predicted label')\n",
    "plt.show()"
   ]
  },
  {
   "cell_type": "markdown",
   "metadata": {},
   "source": [
    "# Fine-tuning "
   ]
  },
  {
   "cell_type": "markdown",
   "metadata": {},
   "source": [
    "## Tokenize dataset"
   ]
  },
  {
   "cell_type": "code",
   "execution_count": 20,
   "metadata": {},
   "outputs": [
    {
     "name": "stderr",
     "output_type": "stream",
     "text": [
      "Some weights of RobertaForSequenceClassification were not initialized from the model checkpoint at dstefa/roberta-base_topic_classification_nyt_news and are newly initialized because the shapes did not match:\n",
      "- classifier.out_proj.weight: found shape torch.Size([8, 768]) in the checkpoint and torch.Size([4, 768]) in the model instantiated\n",
      "- classifier.out_proj.bias: found shape torch.Size([8]) in the checkpoint and torch.Size([4]) in the model instantiated\n",
      "You should probably TRAIN this model on a down-stream task to be able to use it for predictions and inference.\n",
      "Some weights of RobertaForSequenceClassification were not initialized from the model checkpoint at dstefa/roberta-base_topic_classification_nyt_news and are newly initialized because the shapes did not match:\n",
      "- classifier.out_proj.weight: found shape torch.Size([8, 768]) in the checkpoint and torch.Size([4, 768]) in the model instantiated\n",
      "- classifier.out_proj.bias: found shape torch.Size([8]) in the checkpoint and torch.Size([4]) in the model instantiated\n",
      "You should probably TRAIN this model on a down-stream task to be able to use it for predictions and inference.\n"
     ]
    }
   ],
   "source": [
    "from transformers import AutoConfig\n",
    "\n",
    "config = AutoConfig.from_pretrained(model_name, num_labels=4)\n",
    "\n",
    "# Load the model and tokenizer\n",
    "tokenizer = AutoTokenizer.from_pretrained(model_name)\n",
    "model = AutoModelForSequenceClassification.from_pretrained(model_name, config=config, ignore_mismatched_sizes=True)\n",
    "\n",
    "model2 = AutoModelForSequenceClassification.from_pretrained(model_name, config=config, ignore_mismatched_sizes=True)"
   ]
  },
  {
   "cell_type": "code",
   "execution_count": 21,
   "metadata": {},
   "outputs": [],
   "source": [
    "def preprocess_function(sample):\n",
    "    return tokenizer(sample[\"text\"], truncation=True)"
   ]
  },
  {
   "cell_type": "code",
   "execution_count": 22,
   "metadata": {},
   "outputs": [
    {
     "data": {
      "application/vnd.jupyter.widget-view+json": {
       "model_id": "6f3e85c08db54f7d8e2ec7395c57997d",
       "version_major": 2,
       "version_minor": 0
      },
      "text/plain": [
       "Map:   0%|          | 0/28800 [00:00<?, ? examples/s]"
      ]
     },
     "metadata": {},
     "output_type": "display_data"
    },
    {
     "data": {
      "application/vnd.jupyter.widget-view+json": {
       "model_id": "9f1e86c7a4b74548b80a2e49615eec38",
       "version_major": 2,
       "version_minor": 0
      },
      "text/plain": [
       "Map:   0%|          | 0/8000 [00:00<?, ? examples/s]"
      ]
     },
     "metadata": {},
     "output_type": "display_data"
    },
    {
     "data": {
      "application/vnd.jupyter.widget-view+json": {
       "model_id": "36c01ab6dc7547979041d8c0dc915efc",
       "version_major": 2,
       "version_minor": 0
      },
      "text/plain": [
       "Map:   0%|          | 0/3200 [00:00<?, ? examples/s]"
      ]
     },
     "metadata": {},
     "output_type": "display_data"
    },
    {
     "data": {
      "application/vnd.jupyter.widget-view+json": {
       "model_id": "6201f7e1eb644f5c9f1eec4017e74873",
       "version_major": 2,
       "version_minor": 0
      },
      "text/plain": [
       "Map:   0%|          | 0/108000 [00:00<?, ? examples/s]"
      ]
     },
     "metadata": {},
     "output_type": "display_data"
    },
    {
     "data": {
      "application/vnd.jupyter.widget-view+json": {
       "model_id": "2b99bdf56a414f9683deed0d4ca08462",
       "version_major": 2,
       "version_minor": 0
      },
      "text/plain": [
       "Map:   0%|          | 0/8000 [00:00<?, ? examples/s]"
      ]
     },
     "metadata": {},
     "output_type": "display_data"
    },
    {
     "data": {
      "application/vnd.jupyter.widget-view+json": {
       "model_id": "d326b4b29f854ec78e77bfc84a045520",
       "version_major": 2,
       "version_minor": 0
      },
      "text/plain": [
       "Map:   0%|          | 0/12000 [00:00<?, ? examples/s]"
      ]
     },
     "metadata": {},
     "output_type": "display_data"
    },
    {
     "data": {
      "text/plain": [
       "DatasetDict({\n",
       "    train: Dataset({\n",
       "        features: ['text', 'label', 'input_ids', 'attention_mask'],\n",
       "        num_rows: 108000\n",
       "    })\n",
       "    test: Dataset({\n",
       "        features: ['text', 'label', 'input_ids', 'attention_mask'],\n",
       "        num_rows: 8000\n",
       "    })\n",
       "    validation: Dataset({\n",
       "        features: ['text', 'label', 'input_ids', 'attention_mask'],\n",
       "        num_rows: 12000\n",
       "    })\n",
       "})"
      ]
     },
     "execution_count": 22,
     "metadata": {},
     "output_type": "execute_result"
    }
   ],
   "source": [
    "tokenized_dataset = train_valid_test_dataset.map(preprocess_function, batched=True)\n",
    "tokenized_dataset\n",
    "\n",
    "tokenized_dataset_full = train_valid_test_dataset_full.map(preprocess_function, batched=True)\n",
    "tokenized_dataset_full"
   ]
  },
  {
   "cell_type": "markdown",
   "metadata": {},
   "source": [
    "### bert-base\n"
   ]
  },
  {
   "cell_type": "code",
   "execution_count": 23,
   "metadata": {},
   "outputs": [
    {
     "name": "stderr",
     "output_type": "stream",
     "text": [
      "Some weights of BertForSequenceClassification were not initialized from the model checkpoint at google-bert/bert-base-uncased and are newly initialized: ['classifier.bias', 'classifier.weight']\n",
      "You should probably TRAIN this model on a down-stream task to be able to use it for predictions and inference.\n",
      "Some weights of BertForSequenceClassification were not initialized from the model checkpoint at google-bert/bert-base-uncased and are newly initialized: ['classifier.bias', 'classifier.weight']\n",
      "You should probably TRAIN this model on a down-stream task to be able to use it for predictions and inference.\n"
     ]
    }
   ],
   "source": [
    "from transformers import BertTokenizer, BertForSequenceClassification\n",
    "base_model = \"google-bert/bert-base-uncased\"\n",
    "\n",
    "tokenizer2 = BertTokenizer.from_pretrained(base_model)\n",
    "model_base = BertForSequenceClassification.from_pretrained(base_model, num_labels=4)\n",
    "\n",
    "model_base2 = BertForSequenceClassification.from_pretrained(base_model, num_labels=4)"
   ]
  },
  {
   "cell_type": "code",
   "execution_count": 24,
   "metadata": {},
   "outputs": [],
   "source": [
    "def preprocess_function2(sample):\n",
    "    return tokenizer2(sample[\"text\"], truncation=True)"
   ]
  },
  {
   "cell_type": "code",
   "execution_count": 25,
   "metadata": {},
   "outputs": [
    {
     "data": {
      "application/vnd.jupyter.widget-view+json": {
       "model_id": "e6868edb77574b7288ef924f1f33f61c",
       "version_major": 2,
       "version_minor": 0
      },
      "text/plain": [
       "Map:   0%|          | 0/28800 [00:00<?, ? examples/s]"
      ]
     },
     "metadata": {},
     "output_type": "display_data"
    },
    {
     "data": {
      "application/vnd.jupyter.widget-view+json": {
       "model_id": "b020c87e4c7e42709cb2ea858860a736",
       "version_major": 2,
       "version_minor": 0
      },
      "text/plain": [
       "Map:   0%|          | 0/8000 [00:00<?, ? examples/s]"
      ]
     },
     "metadata": {},
     "output_type": "display_data"
    },
    {
     "data": {
      "application/vnd.jupyter.widget-view+json": {
       "model_id": "ddc65f6bcffe4bf59ae9db3af11f9ff9",
       "version_major": 2,
       "version_minor": 0
      },
      "text/plain": [
       "Map:   0%|          | 0/3200 [00:00<?, ? examples/s]"
      ]
     },
     "metadata": {},
     "output_type": "display_data"
    },
    {
     "data": {
      "application/vnd.jupyter.widget-view+json": {
       "model_id": "288ae256e2a443598eba9ecad5534a4f",
       "version_major": 2,
       "version_minor": 0
      },
      "text/plain": [
       "Map:   0%|          | 0/108000 [00:00<?, ? examples/s]"
      ]
     },
     "metadata": {},
     "output_type": "display_data"
    },
    {
     "data": {
      "application/vnd.jupyter.widget-view+json": {
       "model_id": "c2a0a87cf11f4882b616a5337368f702",
       "version_major": 2,
       "version_minor": 0
      },
      "text/plain": [
       "Map:   0%|          | 0/8000 [00:00<?, ? examples/s]"
      ]
     },
     "metadata": {},
     "output_type": "display_data"
    },
    {
     "data": {
      "application/vnd.jupyter.widget-view+json": {
       "model_id": "39b49b9ee98c4cef80bdbbb084e01d03",
       "version_major": 2,
       "version_minor": 0
      },
      "text/plain": [
       "Map:   0%|          | 0/12000 [00:00<?, ? examples/s]"
      ]
     },
     "metadata": {},
     "output_type": "display_data"
    },
    {
     "data": {
      "text/plain": [
       "DatasetDict({\n",
       "    train: Dataset({\n",
       "        features: ['text', 'label', 'input_ids', 'token_type_ids', 'attention_mask'],\n",
       "        num_rows: 108000\n",
       "    })\n",
       "    test: Dataset({\n",
       "        features: ['text', 'label', 'input_ids', 'token_type_ids', 'attention_mask'],\n",
       "        num_rows: 8000\n",
       "    })\n",
       "    validation: Dataset({\n",
       "        features: ['text', 'label', 'input_ids', 'token_type_ids', 'attention_mask'],\n",
       "        num_rows: 12000\n",
       "    })\n",
       "})"
      ]
     },
     "execution_count": 25,
     "metadata": {},
     "output_type": "execute_result"
    }
   ],
   "source": [
    "tokenized_dataset2 = train_valid_test_dataset.map(preprocess_function2, batched=True)\n",
    "tokenized_dataset2\n",
    "\n",
    "tokenized_dataset_full2 = train_valid_test_dataset_full.map(preprocess_function2, batched=True)\n",
    "tokenized_dataset_full2"
   ]
  },
  {
   "cell_type": "markdown",
   "metadata": {},
   "source": [
    "## Finetune the model"
   ]
  },
  {
   "cell_type": "code",
   "execution_count": 26,
   "metadata": {},
   "outputs": [],
   "source": [
    "metric = load(\"accuracy\")\n",
    "\n",
    "def compute_metrics(eval_pred):\n",
    "    logits, labels = eval_pred\n",
    "    predictions = np.argmax(logits, axis=-1)\n",
    "    return metric.compute(predictions=predictions, references=labels)\n",
    "\n",
    "training_args = TrainingArguments(\n",
    "    output_dir=\"./results\",\n",
    "    learning_rate=2e-5,\n",
    "    per_device_train_batch_size=6,\n",
    "    per_device_eval_batch_size=6,\n",
    "    num_train_epochs=10,\n",
    "    weight_decay=0.01,\n",
    "    evaluation_strategy=\"epoch\", # run validation at the end of each epoch\n",
    "    save_strategy=\"epoch\",\n",
    "    load_best_model_at_end=True,\n",
    "    warmup_steps=500,\n",
    "    gradient_accumulation_steps=10\n",
    ")\n",
    "\n",
    "data_collator = DataCollatorWithPadding(tokenizer=tokenizer)\n",
    "\n",
    "trainer = Trainer( # small dataset news model\n",
    "    model=model,\n",
    "    args=training_args,\n",
    "    train_dataset=tokenized_dataset[\"train\"],\n",
    "    eval_dataset=tokenized_dataset[\"validation\"],\n",
    "    tokenizer=tokenizer,\n",
    "    data_collator=data_collator,\n",
    "    compute_metrics=compute_metrics\n",
    ")\n",
    "\n",
    "trainer2 = Trainer( # large dataset news model\n",
    "    model=model2,\n",
    "    args=training_args,\n",
    "    train_dataset=tokenized_dataset_full[\"train\"],\n",
    "    eval_dataset=tokenized_dataset_full[\"validation\"],\n",
    "    tokenizer=tokenizer,\n",
    "    data_collator=data_collator,\n",
    "    compute_metrics=compute_metrics\n",
    ")\n",
    "\n"
   ]
  },
  {
   "cell_type": "code",
   "execution_count": 27,
   "metadata": {},
   "outputs": [],
   "source": [
    "data_collator2 = DataCollatorWithPadding(tokenizer=tokenizer2)\n",
    "\n",
    "trainer_base = Trainer( # small dataset base model\n",
    "    model=model_base,\n",
    "    args=training_args,\n",
    "    train_dataset=tokenized_dataset2[\"train\"],\n",
    "    eval_dataset=tokenized_dataset2[\"validation\"],\n",
    "    tokenizer=tokenizer2,\n",
    "    data_collator=data_collator2,\n",
    "    compute_metrics=compute_metrics\n",
    ")\n",
    "\n",
    "trainer_base2 = Trainer( # large dataset base model\n",
    "    model=model_base2,\n",
    "    args=training_args,\n",
    "    train_dataset=tokenized_dataset_full2[\"train\"],\n",
    "    eval_dataset=tokenized_dataset_full2[\"validation\"],\n",
    "    tokenizer=tokenizer2,\n",
    "    data_collator=data_collator2,\n",
    "    compute_metrics=compute_metrics\n",
    ")"
   ]
  },
  {
   "cell_type": "markdown",
   "metadata": {},
   "source": [
    "### Smaller Dataset News Model"
   ]
  },
  {
   "cell_type": "code",
   "execution_count": 28,
   "metadata": {},
   "outputs": [
    {
     "data": {
      "application/vnd.jupyter.widget-view+json": {
       "model_id": "5955c08439134d929fbace8b3583da05",
       "version_major": 2,
       "version_minor": 0
      },
      "text/plain": [
       "  0%|          | 0/4800 [00:00<?, ?it/s]"
      ]
     },
     "metadata": {},
     "output_type": "display_data"
    },
    {
     "data": {
      "application/vnd.jupyter.widget-view+json": {
       "model_id": "04c7d06911c84636830d4021755858ab",
       "version_major": 2,
       "version_minor": 0
      },
      "text/plain": [
       "  0%|          | 0/534 [00:00<?, ?it/s]"
      ]
     },
     "metadata": {},
     "output_type": "display_data"
    },
    {
     "name": "stdout",
     "output_type": "stream",
     "text": [
      "{'eval_loss': 0.38156014680862427, 'eval_accuracy': 0.8775, 'eval_runtime': 7.0831, 'eval_samples_per_second': 451.783, 'eval_steps_per_second': 75.391, 'epoch': 1.0}\n",
      "{'loss': 0.6821, 'grad_norm': 4.344639301300049, 'learning_rate': 2e-05, 'epoch': 1.04}\n"
     ]
    },
    {
     "data": {
      "application/vnd.jupyter.widget-view+json": {
       "model_id": "f8f5729f8e13483daf3944f59d0ce5c7",
       "version_major": 2,
       "version_minor": 0
      },
      "text/plain": [
       "  0%|          | 0/534 [00:00<?, ?it/s]"
      ]
     },
     "metadata": {},
     "output_type": "display_data"
    },
    {
     "name": "stdout",
     "output_type": "stream",
     "text": [
      "{'eval_loss': 0.30337440967559814, 'eval_accuracy': 0.895625, 'eval_runtime': 7.0576, 'eval_samples_per_second': 453.411, 'eval_steps_per_second': 75.663, 'epoch': 2.0}\n",
      "{'loss': 0.3204, 'grad_norm': 4.077905178070068, 'learning_rate': 1.7674418604651163e-05, 'epoch': 2.08}\n"
     ]
    },
    {
     "data": {
      "application/vnd.jupyter.widget-view+json": {
       "model_id": "58455c43f4dd4533960c8766e7167960",
       "version_major": 2,
       "version_minor": 0
      },
      "text/plain": [
       "  0%|          | 0/534 [00:00<?, ?it/s]"
      ]
     },
     "metadata": {},
     "output_type": "display_data"
    },
    {
     "name": "stdout",
     "output_type": "stream",
     "text": [
      "{'eval_loss': 0.2876150608062744, 'eval_accuracy': 0.8996875, 'eval_runtime': 6.9883, 'eval_samples_per_second': 457.906, 'eval_steps_per_second': 76.413, 'epoch': 3.0}\n",
      "{'loss': 0.2706, 'grad_norm': 3.096754789352417, 'learning_rate': 1.5348837209302328e-05, 'epoch': 3.12}\n"
     ]
    },
    {
     "data": {
      "application/vnd.jupyter.widget-view+json": {
       "model_id": "882e0892bbe444bcbef0b161d60d62a7",
       "version_major": 2,
       "version_minor": 0
      },
      "text/plain": [
       "  0%|          | 0/534 [00:00<?, ?it/s]"
      ]
     },
     "metadata": {},
     "output_type": "display_data"
    },
    {
     "name": "stdout",
     "output_type": "stream",
     "text": [
      "{'eval_loss': 0.27829307317733765, 'eval_accuracy': 0.90125, 'eval_runtime': 7.0898, 'eval_samples_per_second': 451.351, 'eval_steps_per_second': 75.319, 'epoch': 4.0}\n",
      "{'loss': 0.2382, 'grad_norm': 2.6091673374176025, 'learning_rate': 1.302325581395349e-05, 'epoch': 4.17}\n"
     ]
    },
    {
     "data": {
      "application/vnd.jupyter.widget-view+json": {
       "model_id": "85189fba3eab4328805fb4ddc9ba8d73",
       "version_major": 2,
       "version_minor": 0
      },
      "text/plain": [
       "  0%|          | 0/534 [00:00<?, ?it/s]"
      ]
     },
     "metadata": {},
     "output_type": "display_data"
    },
    {
     "name": "stdout",
     "output_type": "stream",
     "text": [
      "{'eval_loss': 0.2586192190647125, 'eval_accuracy': 0.91125, 'eval_runtime': 7.0463, 'eval_samples_per_second': 454.137, 'eval_steps_per_second': 75.784, 'epoch': 5.0}\n",
      "{'loss': 0.2056, 'grad_norm': 3.620535135269165, 'learning_rate': 1.0697674418604651e-05, 'epoch': 5.21}\n"
     ]
    },
    {
     "data": {
      "application/vnd.jupyter.widget-view+json": {
       "model_id": "ca998c4007bd4d8f95b9461bbf9c2277",
       "version_major": 2,
       "version_minor": 0
      },
      "text/plain": [
       "  0%|          | 0/534 [00:00<?, ?it/s]"
      ]
     },
     "metadata": {},
     "output_type": "display_data"
    },
    {
     "name": "stdout",
     "output_type": "stream",
     "text": [
      "{'eval_loss': 0.26807257533073425, 'eval_accuracy': 0.91, 'eval_runtime': 7.0199, 'eval_samples_per_second': 455.848, 'eval_steps_per_second': 76.07, 'epoch': 6.0}\n",
      "{'loss': 0.1758, 'grad_norm': 3.8868956565856934, 'learning_rate': 8.372093023255815e-06, 'epoch': 6.25}\n"
     ]
    },
    {
     "data": {
      "application/vnd.jupyter.widget-view+json": {
       "model_id": "e4ace566776348439d52b358304c0552",
       "version_major": 2,
       "version_minor": 0
      },
      "text/plain": [
       "  0%|          | 0/534 [00:00<?, ?it/s]"
      ]
     },
     "metadata": {},
     "output_type": "display_data"
    },
    {
     "name": "stdout",
     "output_type": "stream",
     "text": [
      "{'eval_loss': 0.25844332575798035, 'eval_accuracy': 0.9165625, 'eval_runtime': 6.9845, 'eval_samples_per_second': 458.156, 'eval_steps_per_second': 76.455, 'epoch': 7.0}\n",
      "{'loss': 0.1618, 'grad_norm': 4.214840888977051, 'learning_rate': 6.046511627906977e-06, 'epoch': 7.29}\n"
     ]
    },
    {
     "data": {
      "application/vnd.jupyter.widget-view+json": {
       "model_id": "f7e729dc33654d5683a10e903f5cbc2d",
       "version_major": 2,
       "version_minor": 0
      },
      "text/plain": [
       "  0%|          | 0/534 [00:00<?, ?it/s]"
      ]
     },
     "metadata": {},
     "output_type": "display_data"
    },
    {
     "name": "stdout",
     "output_type": "stream",
     "text": [
      "{'eval_loss': 0.26589491963386536, 'eval_accuracy': 0.91625, 'eval_runtime': 7.2051, 'eval_samples_per_second': 444.127, 'eval_steps_per_second': 74.114, 'epoch': 8.0}\n",
      "{'loss': 0.1501, 'grad_norm': 4.009562969207764, 'learning_rate': 3.72093023255814e-06, 'epoch': 8.33}\n"
     ]
    },
    {
     "data": {
      "application/vnd.jupyter.widget-view+json": {
       "model_id": "95c3bfcec8f349f489c9c54653247604",
       "version_major": 2,
       "version_minor": 0
      },
      "text/plain": [
       "  0%|          | 0/534 [00:00<?, ?it/s]"
      ]
     },
     "metadata": {},
     "output_type": "display_data"
    },
    {
     "name": "stdout",
     "output_type": "stream",
     "text": [
      "{'eval_loss': 0.27018609642982483, 'eval_accuracy': 0.9203125, 'eval_runtime': 7.3287, 'eval_samples_per_second': 436.642, 'eval_steps_per_second': 72.865, 'epoch': 9.0}\n",
      "{'loss': 0.1359, 'grad_norm': 4.3071770668029785, 'learning_rate': 1.3953488372093025e-06, 'epoch': 9.38}\n"
     ]
    },
    {
     "data": {
      "application/vnd.jupyter.widget-view+json": {
       "model_id": "de6205941b124bb791a33f4b2b9eb060",
       "version_major": 2,
       "version_minor": 0
      },
      "text/plain": [
       "  0%|          | 0/534 [00:00<?, ?it/s]"
      ]
     },
     "metadata": {},
     "output_type": "display_data"
    },
    {
     "name": "stdout",
     "output_type": "stream",
     "text": [
      "{'eval_loss': 0.2691148519515991, 'eval_accuracy': 0.920625, 'eval_runtime': 7.1154, 'eval_samples_per_second': 449.73, 'eval_steps_per_second': 75.049, 'epoch': 10.0}\n",
      "{'train_runtime': 2322.7554, 'train_samples_per_second': 123.991, 'train_steps_per_second': 2.067, 'train_loss': 0.25211546262105305, 'epoch': 10.0}\n"
     ]
    },
    {
     "data": {
      "text/plain": [
       "TrainOutput(global_step=4800, training_loss=0.25211546262105305, metrics={'train_runtime': 2322.7554, 'train_samples_per_second': 123.991, 'train_steps_per_second': 2.067, 'total_flos': 1.0454230260132048e+16, 'train_loss': 0.25211546262105305, 'epoch': 10.0})"
      ]
     },
     "execution_count": 28,
     "metadata": {},
     "output_type": "execute_result"
    }
   ],
   "source": [
    "trainer.train()"
   ]
  },
  {
   "cell_type": "code",
   "execution_count": 29,
   "metadata": {},
   "outputs": [
    {
     "data": {
      "application/vnd.jupyter.widget-view+json": {
       "model_id": "b2ac83763a8f42f79d97dd987d3919a3",
       "version_major": 2,
       "version_minor": 0
      },
      "text/plain": [
       "  0%|          | 0/534 [00:00<?, ?it/s]"
      ]
     },
     "metadata": {},
     "output_type": "display_data"
    },
    {
     "data": {
      "text/plain": [
       "{'eval_loss': 0.25844332575798035,\n",
       " 'eval_accuracy': 0.9165625,\n",
       " 'eval_runtime': 7.1502,\n",
       " 'eval_samples_per_second': 447.543,\n",
       " 'eval_steps_per_second': 74.684,\n",
       " 'epoch': 10.0}"
      ]
     },
     "execution_count": 29,
     "metadata": {},
     "output_type": "execute_result"
    }
   ],
   "source": [
    "trainer.evaluate()"
   ]
  },
  {
   "cell_type": "code",
   "execution_count": 30,
   "metadata": {},
   "outputs": [
    {
     "data": {
      "application/vnd.jupyter.widget-view+json": {
       "model_id": "9c421806b64342538bd45a5546e2d16e",
       "version_major": 2,
       "version_minor": 0
      },
      "text/plain": [
       "  0%|          | 0/1334 [00:00<?, ?it/s]"
      ]
     },
     "metadata": {},
     "output_type": "display_data"
    },
    {
     "data": {
      "text/plain": [
       "PredictionOutput(predictions=array([[-1.7863061 , -3.4984686 ,  2.1371365 ,  2.8544748 ],\n",
       "       [-0.14551464,  6.0697374 , -2.6656091 , -2.5060873 ],\n",
       "       [ 3.4675322 , -3.174677  , -0.8649777 , -1.1872451 ],\n",
       "       ...,\n",
       "       [-1.2502679 , -3.292356  ,  3.3321471 ,  1.2701902 ],\n",
       "       [-1.199192  , -4.342827  ,  3.29798   ,  2.1361816 ],\n",
       "       [-1.8744928 , -3.9181273 ,  0.9184387 ,  4.654617  ]],\n",
       "      dtype=float32), label_ids=array([2, 1, 0, ..., 2, 2, 3]), metrics={'test_loss': 0.27775922417640686, 'test_accuracy': 0.916375, 'test_runtime': 17.7499, 'test_samples_per_second': 450.707, 'test_steps_per_second': 75.155})"
      ]
     },
     "execution_count": 30,
     "metadata": {},
     "output_type": "execute_result"
    }
   ],
   "source": [
    "predictions = trainer.predict(test_dataset=tokenized_dataset[\"test\"])\n",
    "predictions"
   ]
  },
  {
   "cell_type": "code",
   "execution_count": 31,
   "metadata": {},
   "outputs": [
    {
     "name": "stdout",
     "output_type": "stream",
     "text": [
      "              precision    recall  f1-score   support\n",
      "\n",
      "           0       0.93      0.91      0.92      1943\n",
      "           1       0.97      0.98      0.98      1987\n",
      "           2       0.88      0.89      0.88      2049\n",
      "           3       0.89      0.89      0.89      2021\n",
      "\n",
      "    accuracy                           0.92      8000\n",
      "   macro avg       0.92      0.92      0.92      8000\n",
      "weighted avg       0.92      0.92      0.92      8000\n",
      "\n"
     ]
    }
   ],
   "source": [
    "print(classification_report(real_values, predictions.predictions.argmax(-1)))"
   ]
  },
  {
   "cell_type": "code",
   "execution_count": 32,
   "metadata": {},
   "outputs": [
    {
     "data": {
      "image/png": "[encoded data removed]",
      "text/plain": [
       "<Figure size 1000x700 with 2 Axes>"
      ]
     },
     "metadata": {},
     "output_type": "display_data"
    }
   ],
   "source": [
    "# The predictions are in a tuple, with the first element being the actual predictions\n",
    "predicted_labels = np.argmax(predictions[0], axis=1)\n",
    "\n",
    "# Assuming the labels in your dataset are stored in a 'label' column\n",
    "true_labels = [entry['label'] for entry in tokenized_dataset['test']]\n",
    "\n",
    "cm = confusion_matrix(true_labels, predicted_labels)\n",
    "\n",
    "# Plot the heatmap\n",
    "plt.figure(figsize=(10,7))\n",
    "sns.heatmap(cm, annot=True, fmt='d')\n",
    "plt.title('Confusion Matrix')\n",
    "plt.ylabel('Actual label')\n",
    "plt.xlabel('Predicted label')\n",
    "plt.show()"
   ]
  },
  {
   "cell_type": "markdown",
   "metadata": {},
   "source": [
    "### Full dataset News Model"
   ]
  },
  {
   "cell_type": "code",
   "execution_count": 60,
   "metadata": {},
   "outputs": [
    {
     "data": {
      "application/vnd.jupyter.widget-view+json": {
       "model_id": "cbef1e0584a4404d8543780d4f10cc3a",
       "version_major": 2,
       "version_minor": 0
      },
      "text/plain": [
       "  0%|          | 0/18000 [00:00<?, ?it/s]"
      ]
     },
     "metadata": {},
     "output_type": "display_data"
    },
    {
     "name": "stdout",
     "output_type": "stream",
     "text": [
      "{'loss': 1.3486, 'grad_norm': 4.0543341636657715, 'learning_rate': 2e-05, 'epoch': 0.28}\n",
      "{'loss': 0.3078, 'grad_norm': 2.769406318664551, 'learning_rate': 1.942857142857143e-05, 'epoch': 0.56}\n",
      "{'loss': 0.2668, 'grad_norm': 2.7219443321228027, 'learning_rate': 1.885714285714286e-05, 'epoch': 0.83}\n"
     ]
    },
    {
     "data": {
      "application/vnd.jupyter.widget-view+json": {
       "model_id": "12be1fb436f346388918cc890ba11755",
       "version_major": 2,
       "version_minor": 0
      },
      "text/plain": [
       "  0%|          | 0/2000 [00:00<?, ?it/s]"
      ]
     },
     "metadata": {},
     "output_type": "display_data"
    },
    {
     "name": "stdout",
     "output_type": "stream",
     "text": [
      "<transformers.trainer_utils.EvalPrediction object at 0x7fdca22919a0>\n",
      "[3 1 2 ... 0 3 0]\n",
      "{'eval_loss': 0.23026783764362335, 'eval_accuracy': 0.9213333333333333, 'eval_runtime': 27.7287, 'eval_samples_per_second': 432.765, 'eval_steps_per_second': 72.127, 'epoch': 1.0}\n",
      "{'loss': 0.236, 'grad_norm': 1.9959479570388794, 'learning_rate': 1.8285714285714288e-05, 'epoch': 1.11}\n",
      "{'loss': 0.2119, 'grad_norm': 5.409958362579346, 'learning_rate': 1.7714285714285717e-05, 'epoch': 1.39}\n",
      "{'loss': 0.1964, 'grad_norm': 1.8975847959518433, 'learning_rate': 1.7142857142857142e-05, 'epoch': 1.67}\n",
      "{'loss': 0.1947, 'grad_norm': 1.186200737953186, 'learning_rate': 1.6571428571428574e-05, 'epoch': 1.94}\n"
     ]
    },
    {
     "data": {
      "application/vnd.jupyter.widget-view+json": {
       "model_id": "7c7f34c4d0014e3d9baa90e269f6747f",
       "version_major": 2,
       "version_minor": 0
      },
      "text/plain": [
       "  0%|          | 0/2000 [00:00<?, ?it/s]"
      ]
     },
     "metadata": {},
     "output_type": "display_data"
    },
    {
     "name": "stdout",
     "output_type": "stream",
     "text": [
      "<transformers.trainer_utils.EvalPrediction object at 0x7fdca2296a80>\n",
      "[3 1 2 ... 0 3 0]\n",
      "{'eval_loss': 0.1947726309299469, 'eval_accuracy': 0.9341666666666667, 'eval_runtime': 27.7941, 'eval_samples_per_second': 431.746, 'eval_steps_per_second': 71.958, 'epoch': 2.0}\n",
      "{'loss': 0.1685, 'grad_norm': 3.067483901977539, 'learning_rate': 1.6000000000000003e-05, 'epoch': 2.22}\n",
      "{'loss': 0.1606, 'grad_norm': 2.0790045261383057, 'learning_rate': 1.542857142857143e-05, 'epoch': 2.5}\n",
      "{'loss': 0.1597, 'grad_norm': 1.5051677227020264, 'learning_rate': 1.4857142857142858e-05, 'epoch': 2.78}\n"
     ]
    },
    {
     "data": {
      "application/vnd.jupyter.widget-view+json": {
       "model_id": "aaf2c37cc18b4ab8b994c8bdaf76317b",
       "version_major": 2,
       "version_minor": 0
      },
      "text/plain": [
       "  0%|          | 0/2000 [00:00<?, ?it/s]"
      ]
     },
     "metadata": {},
     "output_type": "display_data"
    },
    {
     "name": "stdout",
     "output_type": "stream",
     "text": [
      "<transformers.trainer_utils.EvalPrediction object at 0x7fdca228ea20>\n",
      "[3 1 2 ... 0 3 0]\n",
      "{'eval_loss': 0.19185025990009308, 'eval_accuracy': 0.9378333333333333, 'eval_runtime': 27.7089, 'eval_samples_per_second': 433.074, 'eval_steps_per_second': 72.179, 'epoch': 3.0}\n",
      "{'loss': 0.1597, 'grad_norm': 2.8102164268493652, 'learning_rate': 1.4285714285714287e-05, 'epoch': 3.06}\n",
      "{'loss': 0.133, 'grad_norm': 0.965049684047699, 'learning_rate': 1.3714285714285716e-05, 'epoch': 3.33}\n",
      "{'loss': 0.1392, 'grad_norm': 4.215358734130859, 'learning_rate': 1.3142857142857145e-05, 'epoch': 3.61}\n",
      "{'loss': 0.1401, 'grad_norm': 2.5242369174957275, 'learning_rate': 1.2571428571428572e-05, 'epoch': 3.89}\n"
     ]
    },
    {
     "data": {
      "application/vnd.jupyter.widget-view+json": {
       "model_id": "1e347099952244eeaadd58595367a020",
       "version_major": 2,
       "version_minor": 0
      },
      "text/plain": [
       "  0%|          | 0/2000 [00:00<?, ?it/s]"
      ]
     },
     "metadata": {},
     "output_type": "display_data"
    },
    {
     "name": "stdout",
     "output_type": "stream",
     "text": [
      "<transformers.trainer_utils.EvalPrediction object at 0x7fdcbc6043b0>\n",
      "[3 1 2 ... 0 0 0]\n",
      "{'eval_loss': 0.1885594129562378, 'eval_accuracy': 0.9414166666666667, 'eval_runtime': 27.6807, 'eval_samples_per_second': 433.514, 'eval_steps_per_second': 72.252, 'epoch': 4.0}\n",
      "{'loss': 0.1256, 'grad_norm': 4.650853633880615, 'learning_rate': 1.2e-05, 'epoch': 4.17}\n",
      "{'loss': 0.1211, 'grad_norm': 1.0002690553665161, 'learning_rate': 1.1428571428571429e-05, 'epoch': 4.44}\n",
      "{'loss': 0.1184, 'grad_norm': 3.0167453289031982, 'learning_rate': 1.0857142857142858e-05, 'epoch': 4.72}\n",
      "{'loss': 0.1188, 'grad_norm': 4.487560272216797, 'learning_rate': 1.0285714285714285e-05, 'epoch': 5.0}\n"
     ]
    },
    {
     "data": {
      "application/vnd.jupyter.widget-view+json": {
       "model_id": "3dd5c75f18894803b869f10b1e7c2aa3",
       "version_major": 2,
       "version_minor": 0
      },
      "text/plain": [
       "  0%|          | 0/2000 [00:00<?, ?it/s]"
      ]
     },
     "metadata": {},
     "output_type": "display_data"
    },
    {
     "name": "stdout",
     "output_type": "stream",
     "text": [
      "<transformers.trainer_utils.EvalPrediction object at 0x7fdca2283050>\n",
      "[3 1 2 ... 0 0 0]\n",
      "{'eval_loss': 0.19318842887878418, 'eval_accuracy': 0.9393333333333334, 'eval_runtime': 27.7451, 'eval_samples_per_second': 432.509, 'eval_steps_per_second': 72.085, 'epoch': 5.0}\n",
      "{'loss': 0.1021, 'grad_norm': 6.594148635864258, 'learning_rate': 9.714285714285715e-06, 'epoch': 5.28}\n",
      "{'loss': 0.0976, 'grad_norm': 3.7710447311401367, 'learning_rate': 9.142857142857144e-06, 'epoch': 5.56}\n",
      "{'loss': 0.1025, 'grad_norm': 3.796311378479004, 'learning_rate': 8.571428571428571e-06, 'epoch': 5.83}\n"
     ]
    },
    {
     "data": {
      "application/vnd.jupyter.widget-view+json": {
       "model_id": "55922fc79e13480088f95e0ee1cde7b7",
       "version_major": 2,
       "version_minor": 0
      },
      "text/plain": [
       "  0%|          | 0/2000 [00:00<?, ?it/s]"
      ]
     },
     "metadata": {},
     "output_type": "display_data"
    },
    {
     "name": "stdout",
     "output_type": "stream",
     "text": [
      "<transformers.trainer_utils.EvalPrediction object at 0x7fdca2288e90>\n",
      "[3 1 2 ... 0 0 0]\n",
      "{'eval_loss': 0.19774378836154938, 'eval_accuracy': 0.9405833333333333, 'eval_runtime': 27.6841, 'eval_samples_per_second': 433.461, 'eval_steps_per_second': 72.244, 'epoch': 6.0}\n",
      "{'loss': 0.0977, 'grad_norm': 1.913049578666687, 'learning_rate': 8.000000000000001e-06, 'epoch': 6.11}\n",
      "{'loss': 0.0837, 'grad_norm': 6.017049312591553, 'learning_rate': 7.428571428571429e-06, 'epoch': 6.39}\n",
      "{'loss': 0.0885, 'grad_norm': 3.7752323150634766, 'learning_rate': 6.857142857142858e-06, 'epoch': 6.67}\n",
      "{'loss': 0.0873, 'grad_norm': 6.090293884277344, 'learning_rate': 6.285714285714286e-06, 'epoch': 6.94}\n"
     ]
    },
    {
     "data": {
      "application/vnd.jupyter.widget-view+json": {
       "model_id": "c4b80675d9e643e29c58daa88686b80d",
       "version_major": 2,
       "version_minor": 0
      },
      "text/plain": [
       "  0%|          | 0/2000 [00:00<?, ?it/s]"
      ]
     },
     "metadata": {},
     "output_type": "display_data"
    },
    {
     "name": "stdout",
     "output_type": "stream",
     "text": [
      "<transformers.trainer_utils.EvalPrediction object at 0x7fdca2288f80>\n",
      "[3 1 2 ... 0 3 0]\n",
      "{'eval_loss': 0.21088649332523346, 'eval_accuracy': 0.9406666666666667, 'eval_runtime': 27.7513, 'eval_samples_per_second': 432.413, 'eval_steps_per_second': 72.069, 'epoch': 7.0}\n",
      "{'loss': 0.0812, 'grad_norm': 3.6515941619873047, 'learning_rate': 5.7142857142857145e-06, 'epoch': 7.22}\n",
      "{'loss': 0.0796, 'grad_norm': 4.357108116149902, 'learning_rate': 5.142857142857142e-06, 'epoch': 7.5}\n",
      "{'loss': 0.0765, 'grad_norm': 3.269476890563965, 'learning_rate': 4.571428571428572e-06, 'epoch': 7.78}\n"
     ]
    },
    {
     "data": {
      "application/vnd.jupyter.widget-view+json": {
       "model_id": "686aa35b37f84fa99e9913f9a3bb5343",
       "version_major": 2,
       "version_minor": 0
      },
      "text/plain": [
       "  0%|          | 0/2000 [00:00<?, ?it/s]"
      ]
     },
     "metadata": {},
     "output_type": "display_data"
    },
    {
     "name": "stdout",
     "output_type": "stream",
     "text": [
      "<transformers.trainer_utils.EvalPrediction object at 0x7fdcbc6065d0>\n",
      "[3 1 2 ... 0 3 0]\n",
      "{'eval_loss': 0.22709618508815765, 'eval_accuracy': 0.9390833333333334, 'eval_runtime': 27.7106, 'eval_samples_per_second': 433.047, 'eval_steps_per_second': 72.175, 'epoch': 8.0}\n",
      "{'loss': 0.0789, 'grad_norm': 4.681549549102783, 'learning_rate': 4.000000000000001e-06, 'epoch': 8.06}\n",
      "{'loss': 0.0706, 'grad_norm': 7.761592864990234, 'learning_rate': 3.428571428571429e-06, 'epoch': 8.33}\n",
      "{'loss': 0.0699, 'grad_norm': 6.398200511932373, 'learning_rate': 2.8571428571428573e-06, 'epoch': 8.61}\n",
      "{'loss': 0.0703, 'grad_norm': 1.6681561470031738, 'learning_rate': 2.285714285714286e-06, 'epoch': 8.89}\n"
     ]
    },
    {
     "data": {
      "application/vnd.jupyter.widget-view+json": {
       "model_id": "88c4406551404577b86eb53fcc851924",
       "version_major": 2,
       "version_minor": 0
      },
      "text/plain": [
       "  0%|          | 0/2000 [00:00<?, ?it/s]"
      ]
     },
     "metadata": {},
     "output_type": "display_data"
    },
    {
     "name": "stdout",
     "output_type": "stream",
     "text": [
      "<transformers.trainer_utils.EvalPrediction object at 0x7fdcbc0cb140>\n",
      "[3 1 2 ... 0 0 0]\n",
      "{'eval_loss': 0.23520177602767944, 'eval_accuracy': 0.9410833333333334, 'eval_runtime': 27.6845, 'eval_samples_per_second': 433.455, 'eval_steps_per_second': 72.242, 'epoch': 9.0}\n",
      "{'loss': 0.0698, 'grad_norm': 1.1667768955230713, 'learning_rate': 1.7142857142857145e-06, 'epoch': 9.17}\n",
      "{'loss': 0.0659, 'grad_norm': 0.1548551470041275, 'learning_rate': 1.142857142857143e-06, 'epoch': 9.44}\n",
      "{'loss': 0.0617, 'grad_norm': 0.5195709466934204, 'learning_rate': 5.714285714285715e-07, 'epoch': 9.72}\n",
      "{'loss': 0.0663, 'grad_norm': 0.2926121652126312, 'learning_rate': 0.0, 'epoch': 10.0}\n"
     ]
    },
    {
     "data": {
      "application/vnd.jupyter.widget-view+json": {
       "model_id": "53c21763b0064fceab84a779a8688a26",
       "version_major": 2,
       "version_minor": 0
      },
      "text/plain": [
       "  0%|          | 0/2000 [00:00<?, ?it/s]"
      ]
     },
     "metadata": {},
     "output_type": "display_data"
    },
    {
     "name": "stdout",
     "output_type": "stream",
     "text": [
      "<transformers.trainer_utils.EvalPrediction object at 0x7fdca22880b0>\n",
      "[3 1 2 ... 0 0 0]\n",
      "{'eval_loss': 0.24124787747859955, 'eval_accuracy': 0.9401666666666667, 'eval_runtime': 27.7273, 'eval_samples_per_second': 432.786, 'eval_steps_per_second': 72.131, 'epoch': 10.0}\n",
      "{'train_runtime': 9037.214, 'train_samples_per_second': 119.506, 'train_steps_per_second': 1.992, 'train_loss': 0.159911922454834, 'epoch': 10.0}\n"
     ]
    },
    {
     "data": {
      "text/plain": [
       "TrainOutput(global_step=18000, training_loss=0.159911922454834, metrics={'train_runtime': 9037.214, 'train_samples_per_second': 119.506, 'train_steps_per_second': 1.992, 'total_flos': 4.355998295580634e+16, 'train_loss': 0.159911922454834, 'epoch': 10.0})"
      ]
     },
     "execution_count": 60,
     "metadata": {},
     "output_type": "execute_result"
    }
   ],
   "source": [
    "trainer2.train()"
   ]
  },
  {
   "cell_type": "code",
   "execution_count": 61,
   "metadata": {},
   "outputs": [
    {
     "data": {
      "application/vnd.jupyter.widget-view+json": {
       "model_id": "a3fa64411be14323bed056a99e6f73b4",
       "version_major": 2,
       "version_minor": 0
      },
      "text/plain": [
       "  0%|          | 0/2000 [00:00<?, ?it/s]"
      ]
     },
     "metadata": {},
     "output_type": "display_data"
    },
    {
     "name": "stdout",
     "output_type": "stream",
     "text": [
      "<transformers.trainer_utils.EvalPrediction object at 0x7fdca228a5d0>\n",
      "[3 1 2 ... 0 0 0]\n"
     ]
    },
    {
     "data": {
      "text/plain": [
       "{'eval_loss': 0.1885594129562378,\n",
       " 'eval_accuracy': 0.9414166666666667,\n",
       " 'eval_runtime': 27.9712,\n",
       " 'eval_samples_per_second': 429.013,\n",
       " 'eval_steps_per_second': 71.502,\n",
       " 'epoch': 10.0}"
      ]
     },
     "execution_count": 61,
     "metadata": {},
     "output_type": "execute_result"
    }
   ],
   "source": [
    "trainer2.evaluate()"
   ]
  },
  {
   "cell_type": "code",
   "execution_count": 62,
   "metadata": {},
   "outputs": [
    {
     "data": {
      "application/vnd.jupyter.widget-view+json": {
       "model_id": "ae75127538d940928ee68829c2a5d6e0",
       "version_major": 2,
       "version_minor": 0
      },
      "text/plain": [
       "  0%|          | 0/1334 [00:00<?, ?it/s]"
      ]
     },
     "metadata": {},
     "output_type": "display_data"
    },
    {
     "name": "stdout",
     "output_type": "stream",
     "text": [
      "<transformers.trainer_utils.EvalPrediction object at 0x7fdcb71b9ca0>\n",
      "[2 1 0 ... 2 2 3]\n"
     ]
    },
    {
     "data": {
      "text/plain": [
       "PredictionOutput(predictions=array([[-1.3077205 , -2.488156  ,  5.632537  , ..., -5.5920386 ,\n",
       "        -5.926387  , -5.2232747 ],\n",
       "       [-0.83510643,  8.362249  , -1.0488099 , ..., -2.5486825 ,\n",
       "        -2.4558644 , -2.302037  ],\n",
       "       [ 8.440915  , -0.61925155, -0.3011011 , ..., -3.426317  ,\n",
       "        -2.986429  , -2.8495562 ],\n",
       "       ...,\n",
       "       [-1.5143442 , -2.4725685 ,  5.8904667 , ..., -4.774564  ,\n",
       "        -5.6198525 , -4.801662  ],\n",
       "       [-1.085486  , -2.293069  ,  5.6437597 , ..., -5.557938  ,\n",
       "        -6.1752324 , -5.356084  ],\n",
       "       [-0.31360173, -2.8119004 ,  3.2106338 , ..., -5.625933  ,\n",
       "        -5.699813  , -5.1639075 ]], dtype=float32), label_ids=array([2, 1, 0, ..., 2, 2, 3]), metrics={'test_loss': 0.16803228855133057, 'test_accuracy': 0.95025, 'test_runtime': 17.29, 'test_samples_per_second': 462.696, 'test_steps_per_second': 77.155})"
      ]
     },
     "execution_count": 62,
     "metadata": {},
     "output_type": "execute_result"
    }
   ],
   "source": [
    "predictions = trainer2.predict(test_dataset=tokenized_dataset_full[\"test\"]) \n",
    "predictions"
   ]
  },
  {
   "cell_type": "code",
   "execution_count": 63,
   "metadata": {},
   "outputs": [
    {
     "name": "stdout",
     "output_type": "stream",
     "text": [
      "              precision    recall  f1-score   support\n",
      "\n",
      "           0       0.98      0.91      0.95      1943\n",
      "           1       0.98      0.99      0.99      1987\n",
      "           2       0.90      0.95      0.92      2049\n",
      "           3       0.94      0.95      0.94      2021\n",
      "\n",
      "    accuracy                           0.95      8000\n",
      "   macro avg       0.95      0.95      0.95      8000\n",
      "weighted avg       0.95      0.95      0.95      8000\n",
      "\n"
     ]
    }
   ],
   "source": [
    "print(classification_report(real_values, predictions.predictions.argmax(-1)))"
   ]
  },
  {
   "cell_type": "code",
   "execution_count": 64,
   "metadata": {},
   "outputs": [
    {
     "data": {
      "image/png": "[encoded data removed]",
      "text/plain": [
       "<Figure size 1000x700 with 2 Axes>"
      ]
     },
     "metadata": {},
     "output_type": "display_data"
    }
   ],
   "source": [
    "# The predictions are in a tuple, with the first element being the actual predictions\n",
    "predicted_labels = np.argmax(predictions[0], axis=1)\n",
    "\n",
    "# Assuming the labels in your dataset are stored in a 'label' column\n",
    "true_labels = [entry['label'] for entry in tokenized_dataset_full['test']]\n",
    "\n",
    "cm = confusion_matrix(true_labels, predicted_labels)\n",
    "\n",
    "# Plot the heatmap\n",
    "plt.figure(figsize=(10,7))\n",
    "sns.heatmap(cm, annot=True, fmt='d')\n",
    "plt.title('Confusion Matrix')\n",
    "plt.ylabel('Actual label')\n",
    "plt.xlabel('Predicted label')\n",
    "plt.show()"
   ]
  },
  {
   "cell_type": "markdown",
   "metadata": {},
   "source": [
    "### Smaller Dataset Base Model"
   ]
  },
  {
   "cell_type": "code",
   "execution_count": 23,
   "metadata": {},
   "outputs": [
    {
     "data": {
      "application/vnd.jupyter.widget-view+json": {
       "model_id": "89a76e691ca94da78989dbc99e078a99",
       "version_major": 2,
       "version_minor": 0
      },
      "text/plain": [
       "  0%|          | 0/4800 [00:00<?, ?it/s]"
      ]
     },
     "metadata": {},
     "output_type": "display_data"
    },
    {
     "data": {
      "application/vnd.jupyter.widget-view+json": {
       "model_id": "cfc7efdf8fea4357958d4d55e677ec4f",
       "version_major": 2,
       "version_minor": 0
      },
      "text/plain": [
       "  0%|          | 0/534 [00:00<?, ?it/s]"
      ]
     },
     "metadata": {},
     "output_type": "display_data"
    },
    {
     "name": "stdout",
     "output_type": "stream",
     "text": [
      "<transformers.trainer_utils.EvalPrediction object at 0x7fe350316ed0>\n",
      "[1 2 2 ... 0 3 2]\n",
      "{'eval_loss': 0.24625921249389648, 'eval_accuracy': 0.915625, 'eval_runtime': 6.9631, 'eval_samples_per_second': 459.568, 'eval_steps_per_second': 76.69, 'epoch': 1.0}\n",
      "{'loss': 0.5909, 'grad_norm': 4.414299011230469, 'learning_rate': 2e-05, 'epoch': 1.04}\n"
     ]
    },
    {
     "data": {
      "application/vnd.jupyter.widget-view+json": {
       "model_id": "daa2ad3c182e459cb500ed88ea7317b2",
       "version_major": 2,
       "version_minor": 0
      },
      "text/plain": [
       "  0%|          | 0/534 [00:00<?, ?it/s]"
      ]
     },
     "metadata": {},
     "output_type": "display_data"
    },
    {
     "name": "stdout",
     "output_type": "stream",
     "text": [
      "<transformers.trainer_utils.EvalPrediction object at 0x7fe3544cb1d0>\n",
      "[1 2 0 ... 0 3 2]\n",
      "{'eval_loss': 0.21620780229568481, 'eval_accuracy': 0.9275, 'eval_runtime': 6.9794, 'eval_samples_per_second': 458.492, 'eval_steps_per_second': 76.511, 'epoch': 2.0}\n",
      "{'loss': 0.207, 'grad_norm': 3.61602520942688, 'learning_rate': 1.7674418604651163e-05, 'epoch': 2.08}\n"
     ]
    },
    {
     "data": {
      "application/vnd.jupyter.widget-view+json": {
       "model_id": "abcfb00bdecd40b687ac64699625aefd",
       "version_major": 2,
       "version_minor": 0
      },
      "text/plain": [
       "  0%|          | 0/534 [00:00<?, ?it/s]"
      ]
     },
     "metadata": {},
     "output_type": "display_data"
    },
    {
     "name": "stdout",
     "output_type": "stream",
     "text": [
      "<transformers.trainer_utils.EvalPrediction object at 0x7fe35026d970>\n",
      "[1 2 0 ... 0 3 2]\n",
      "{'eval_loss': 0.21218152344226837, 'eval_accuracy': 0.9303125, 'eval_runtime': 6.9844, 'eval_samples_per_second': 458.166, 'eval_steps_per_second': 76.457, 'epoch': 3.0}\n",
      "{'loss': 0.1322, 'grad_norm': 3.137737512588501, 'learning_rate': 1.5348837209302328e-05, 'epoch': 3.12}\n"
     ]
    },
    {
     "data": {
      "application/vnd.jupyter.widget-view+json": {
       "model_id": "9165d66216c24419b5c12665a554cfa9",
       "version_major": 2,
       "version_minor": 0
      },
      "text/plain": [
       "  0%|          | 0/534 [00:00<?, ?it/s]"
      ]
     },
     "metadata": {},
     "output_type": "display_data"
    },
    {
     "name": "stdout",
     "output_type": "stream",
     "text": [
      "<transformers.trainer_utils.EvalPrediction object at 0x7fe3502c3260>\n",
      "[1 2 0 ... 0 3 2]\n",
      "{'eval_loss': 0.2426385134458542, 'eval_accuracy': 0.9284375, 'eval_runtime': 7.3542, 'eval_samples_per_second': 435.127, 'eval_steps_per_second': 72.612, 'epoch': 4.0}\n",
      "{'loss': 0.0838, 'grad_norm': 0.8672248721122742, 'learning_rate': 1.302325581395349e-05, 'epoch': 4.17}\n"
     ]
    },
    {
     "data": {
      "application/vnd.jupyter.widget-view+json": {
       "model_id": "06eba75b47204215bac0fc938d5c7a9f",
       "version_major": 2,
       "version_minor": 0
      },
      "text/plain": [
       "  0%|          | 0/534 [00:00<?, ?it/s]"
      ]
     },
     "metadata": {},
     "output_type": "display_data"
    },
    {
     "name": "stdout",
     "output_type": "stream",
     "text": [
      "<transformers.trainer_utils.EvalPrediction object at 0x7fe348270c80>\n",
      "[1 2 0 ... 0 3 2]\n",
      "{'eval_loss': 0.28978127241134644, 'eval_accuracy': 0.9303125, 'eval_runtime': 6.9676, 'eval_samples_per_second': 459.268, 'eval_steps_per_second': 76.64, 'epoch': 5.0}\n",
      "{'loss': 0.0485, 'grad_norm': 0.49633026123046875, 'learning_rate': 1.0697674418604651e-05, 'epoch': 5.21}\n"
     ]
    },
    {
     "data": {
      "application/vnd.jupyter.widget-view+json": {
       "model_id": "3f4f05b6c0da44bab2ad561a893f8756",
       "version_major": 2,
       "version_minor": 0
      },
      "text/plain": [
       "  0%|          | 0/534 [00:00<?, ?it/s]"
      ]
     },
     "metadata": {},
     "output_type": "display_data"
    },
    {
     "name": "stdout",
     "output_type": "stream",
     "text": [
      "<transformers.trainer_utils.EvalPrediction object at 0x7fe343fc3ec0>\n",
      "[1 2 0 ... 0 3 2]\n",
      "{'eval_loss': 0.32130539417266846, 'eval_accuracy': 0.926875, 'eval_runtime': 6.9238, 'eval_samples_per_second': 462.175, 'eval_steps_per_second': 77.125, 'epoch': 6.0}\n",
      "{'loss': 0.0283, 'grad_norm': 0.18165044486522675, 'learning_rate': 8.372093023255815e-06, 'epoch': 6.25}\n"
     ]
    },
    {
     "data": {
      "application/vnd.jupyter.widget-view+json": {
       "model_id": "536739ad00d6471f976e1432682678a5",
       "version_major": 2,
       "version_minor": 0
      },
      "text/plain": [
       "  0%|          | 0/534 [00:00<?, ?it/s]"
      ]
     },
     "metadata": {},
     "output_type": "display_data"
    },
    {
     "name": "stdout",
     "output_type": "stream",
     "text": [
      "<transformers.trainer_utils.EvalPrediction object at 0x7fe34350c980>\n",
      "[1 2 0 ... 0 3 2]\n",
      "{'eval_loss': 0.3739451467990875, 'eval_accuracy': 0.931875, 'eval_runtime': 7.0136, 'eval_samples_per_second': 456.254, 'eval_steps_per_second': 76.137, 'epoch': 7.0}\n",
      "{'loss': 0.0158, 'grad_norm': 0.3700321912765503, 'learning_rate': 6.046511627906977e-06, 'epoch': 7.29}\n"
     ]
    },
    {
     "data": {
      "application/vnd.jupyter.widget-view+json": {
       "model_id": "e635f742f5584962a23c62e73ea80e1f",
       "version_major": 2,
       "version_minor": 0
      },
      "text/plain": [
       "  0%|          | 0/534 [00:00<?, ?it/s]"
      ]
     },
     "metadata": {},
     "output_type": "display_data"
    },
    {
     "name": "stdout",
     "output_type": "stream",
     "text": [
      "<transformers.trainer_utils.EvalPrediction object at 0x7fe343fd3f50>\n",
      "[1 2 0 ... 0 3 2]\n",
      "{'eval_loss': 0.3963286578655243, 'eval_accuracy': 0.9321875, 'eval_runtime': 7.0028, 'eval_samples_per_second': 456.96, 'eval_steps_per_second': 76.255, 'epoch': 8.0}\n",
      "{'loss': 0.0094, 'grad_norm': 0.04757335036993027, 'learning_rate': 3.72093023255814e-06, 'epoch': 8.33}\n"
     ]
    },
    {
     "data": {
      "application/vnd.jupyter.widget-view+json": {
       "model_id": "81e63cbdd42c4e4d82d17060582444c9",
       "version_major": 2,
       "version_minor": 0
      },
      "text/plain": [
       "  0%|          | 0/534 [00:00<?, ?it/s]"
      ]
     },
     "metadata": {},
     "output_type": "display_data"
    },
    {
     "name": "stdout",
     "output_type": "stream",
     "text": [
      "<transformers.trainer_utils.EvalPrediction object at 0x7fe34350e9f0>\n",
      "[1 2 0 ... 0 3 2]\n",
      "{'eval_loss': 0.41409242153167725, 'eval_accuracy': 0.933125, 'eval_runtime': 6.9762, 'eval_samples_per_second': 458.703, 'eval_steps_per_second': 76.546, 'epoch': 9.0}\n",
      "{'loss': 0.0053, 'grad_norm': 0.43811535835266113, 'learning_rate': 1.3953488372093025e-06, 'epoch': 9.38}\n"
     ]
    },
    {
     "data": {
      "application/vnd.jupyter.widget-view+json": {
       "model_id": "3c5e2a5b21e94ccfbdd479e4292ff223",
       "version_major": 2,
       "version_minor": 0
      },
      "text/plain": [
       "  0%|          | 0/534 [00:00<?, ?it/s]"
      ]
     },
     "metadata": {},
     "output_type": "display_data"
    },
    {
     "name": "stdout",
     "output_type": "stream",
     "text": [
      "<transformers.trainer_utils.EvalPrediction object at 0x7fe3544e8da0>\n",
      "[1 2 0 ... 0 3 2]\n",
      "{'eval_loss': 0.42439568042755127, 'eval_accuracy': 0.930625, 'eval_runtime': 6.9697, 'eval_samples_per_second': 459.131, 'eval_steps_per_second': 76.617, 'epoch': 10.0}\n",
      "{'train_runtime': 2188.8052, 'train_samples_per_second': 131.579, 'train_steps_per_second': 2.193, 'train_loss': 0.11711986951529979, 'epoch': 10.0}\n"
     ]
    },
    {
     "data": {
      "text/plain": [
       "TrainOutput(global_step=4800, training_loss=0.11711986951529979, metrics={'train_runtime': 2188.8052, 'train_samples_per_second': 131.579, 'train_steps_per_second': 2.193, 'total_flos': 1.0180693656229824e+16, 'train_loss': 0.11711986951529979, 'epoch': 10.0})"
      ]
     },
     "execution_count": 23,
     "metadata": {},
     "output_type": "execute_result"
    }
   ],
   "source": [
    "trainer_base.train()"
   ]
  },
  {
   "cell_type": "code",
   "execution_count": 24,
   "metadata": {},
   "outputs": [
    {
     "data": {
      "application/vnd.jupyter.widget-view+json": {
       "model_id": "209f3055a51940088107406f4d455775",
       "version_major": 2,
       "version_minor": 0
      },
      "text/plain": [
       "  0%|          | 0/534 [00:00<?, ?it/s]"
      ]
     },
     "metadata": {},
     "output_type": "display_data"
    },
    {
     "name": "stdout",
     "output_type": "stream",
     "text": [
      "<transformers.trainer_utils.EvalPrediction object at 0x7fe35026d5e0>\n",
      "[1 2 0 ... 0 3 2]\n"
     ]
    },
    {
     "data": {
      "text/plain": [
       "{'eval_loss': 0.21218152344226837,\n",
       " 'eval_accuracy': 0.9303125,\n",
       " 'eval_runtime': 6.9918,\n",
       " 'eval_samples_per_second': 457.676,\n",
       " 'eval_steps_per_second': 76.375,\n",
       " 'epoch': 10.0}"
      ]
     },
     "execution_count": 24,
     "metadata": {},
     "output_type": "execute_result"
    }
   ],
   "source": [
    "trainer_base.evaluate()"
   ]
  },
  {
   "cell_type": "code",
   "execution_count": 25,
   "metadata": {},
   "outputs": [
    {
     "data": {
      "application/vnd.jupyter.widget-view+json": {
       "model_id": "1f098eb0b096496a9de62ec095105ab7",
       "version_major": 2,
       "version_minor": 0
      },
      "text/plain": [
       "  0%|          | 0/1334 [00:00<?, ?it/s]"
      ]
     },
     "metadata": {},
     "output_type": "display_data"
    },
    {
     "name": "stdout",
     "output_type": "stream",
     "text": [
      "<transformers.trainer_utils.EvalPrediction object at 0x7fe348373dd0>\n",
      "[2 1 0 ... 2 2 3]\n"
     ]
    },
    {
     "data": {
      "text/plain": [
       "PredictionOutput(predictions=array([[-2.2851095 , -4.191293  ,  3.4161284 ,  2.337224  ],\n",
       "       [-1.4670528 ,  5.8472714 , -1.6657337 , -2.5639844 ],\n",
       "       [ 5.336409  , -1.7878407 , -1.6124113 , -1.1047304 ],\n",
       "       ...,\n",
       "       [-2.094648  , -3.6452894 ,  3.8828843 ,  1.3159493 ],\n",
       "       [-1.8826246 , -4.19586   ,  3.4947524 ,  1.8860195 ],\n",
       "       [-1.5807675 , -3.356244  , -0.53441423,  4.845016  ]],\n",
       "      dtype=float32), label_ids=array([2, 1, 0, ..., 2, 2, 3]), metrics={'test_loss': 0.21936379373073578, 'test_accuracy': 0.929125, 'test_runtime': 17.1708, 'test_samples_per_second': 465.907, 'test_steps_per_second': 77.69})"
      ]
     },
     "execution_count": 25,
     "metadata": {},
     "output_type": "execute_result"
    }
   ],
   "source": [
    "predictions = trainer_base.predict(test_dataset=tokenized_dataset2[\"test\"]) \n",
    "predictions"
   ]
  },
  {
   "cell_type": "code",
   "execution_count": 26,
   "metadata": {},
   "outputs": [
    {
     "name": "stdout",
     "output_type": "stream",
     "text": [
      "              precision    recall  f1-score   support\n",
      "\n",
      "           0       0.93      0.94      0.93      1943\n",
      "           1       0.98      0.99      0.98      1987\n",
      "           2       0.92      0.86      0.89      2049\n",
      "           3       0.89      0.93      0.91      2021\n",
      "\n",
      "    accuracy                           0.93      8000\n",
      "   macro avg       0.93      0.93      0.93      8000\n",
      "weighted avg       0.93      0.93      0.93      8000\n",
      "\n"
     ]
    }
   ],
   "source": [
    "print(classification_report(real_values, predictions.predictions.argmax(-1)))"
   ]
  },
  {
   "cell_type": "code",
   "execution_count": 27,
   "metadata": {},
   "outputs": [
    {
     "data": {
      "image/png": "[encoded data removed]",
      "text/plain": [
       "<Figure size 1000x700 with 2 Axes>"
      ]
     },
     "metadata": {},
     "output_type": "display_data"
    }
   ],
   "source": [
    "# The predictions are in a tuple, with the first element being the actual predictions\n",
    "predicted_labels = np.argmax(predictions[0], axis=1)\n",
    "\n",
    "# Assuming the labels in your dataset are stored in a 'label' column\n",
    "true_labels = [entry['label'] for entry in tokenized_dataset_full['test']]\n",
    "\n",
    "cm = confusion_matrix(true_labels, predicted_labels)\n",
    "\n",
    "# Plot the heatmap\n",
    "plt.figure(figsize=(10,7))\n",
    "sns.heatmap(cm, annot=True, fmt='d')\n",
    "plt.title('Confusion Matrix')\n",
    "plt.ylabel('Actual label')\n",
    "plt.xlabel('Predicted label')\n",
    "plt.show()"
   ]
  },
  {
   "cell_type": "markdown",
   "metadata": {},
   "source": [
    "### Full Dataset Base Model"
   ]
  },
  {
   "cell_type": "code",
   "execution_count": 28,
   "metadata": {},
   "outputs": [
    {
     "data": {
      "application/vnd.jupyter.widget-view+json": {
       "model_id": "b10954ef5e444eee855086a4fb0d2432",
       "version_major": 2,
       "version_minor": 0
      },
      "text/plain": [
       "  0%|          | 0/18000 [00:00<?, ?it/s]"
      ]
     },
     "metadata": {},
     "output_type": "display_data"
    },
    {
     "name": "stdout",
     "output_type": "stream",
     "text": [
      "{'loss': 0.6078, 'grad_norm': 5.150796890258789, 'learning_rate': 2e-05, 'epoch': 0.28}\n",
      "{'loss': 0.2255, 'grad_norm': 2.7863829135894775, 'learning_rate': 1.942857142857143e-05, 'epoch': 0.56}\n",
      "{'loss': 0.1943, 'grad_norm': 4.195194721221924, 'learning_rate': 1.885714285714286e-05, 'epoch': 0.83}\n"
     ]
    },
    {
     "data": {
      "application/vnd.jupyter.widget-view+json": {
       "model_id": "7f20ab38bd22449097088be0f5ba8633",
       "version_major": 2,
       "version_minor": 0
      },
      "text/plain": [
       "  0%|          | 0/2000 [00:00<?, ?it/s]"
      ]
     },
     "metadata": {},
     "output_type": "display_data"
    },
    {
     "name": "stdout",
     "output_type": "stream",
     "text": [
      "<transformers.trainer_utils.EvalPrediction object at 0x7fe343521400>\n",
      "[0 1 0 ... 0 3 1]\n",
      "{'eval_loss': 0.16386942565441132, 'eval_accuracy': 0.9465833333333333, 'eval_runtime': 27.1557, 'eval_samples_per_second': 441.896, 'eval_steps_per_second': 73.649, 'epoch': 1.0}\n",
      "{'loss': 0.1689, 'grad_norm': 3.0805060863494873, 'learning_rate': 1.8285714285714288e-05, 'epoch': 1.11}\n",
      "{'loss': 0.1431, 'grad_norm': 5.694614410400391, 'learning_rate': 1.7714285714285717e-05, 'epoch': 1.39}\n",
      "{'loss': 0.1391, 'grad_norm': 6.494790077209473, 'learning_rate': 1.7142857142857142e-05, 'epoch': 1.67}\n",
      "{'loss': 0.1343, 'grad_norm': 1.6032133102416992, 'learning_rate': 1.6571428571428574e-05, 'epoch': 1.94}\n"
     ]
    },
    {
     "data": {
      "application/vnd.jupyter.widget-view+json": {
       "model_id": "3a4bfd51c0714e95be628d17f6e0c2ba",
       "version_major": 2,
       "version_minor": 0
      },
      "text/plain": [
       "  0%|          | 0/2000 [00:00<?, ?it/s]"
      ]
     },
     "metadata": {},
     "output_type": "display_data"
    },
    {
     "name": "stdout",
     "output_type": "stream",
     "text": [
      "<transformers.trainer_utils.EvalPrediction object at 0x7fe3483733e0>\n",
      "[0 1 0 ... 0 3 1]\n",
      "{'eval_loss': 0.15320275723934174, 'eval_accuracy': 0.9488333333333333, 'eval_runtime': 27.1386, 'eval_samples_per_second': 442.174, 'eval_steps_per_second': 73.696, 'epoch': 2.0}\n",
      "{'loss': 0.1076, 'grad_norm': 2.3550024032592773, 'learning_rate': 1.6000000000000003e-05, 'epoch': 2.22}\n",
      "{'loss': 0.0994, 'grad_norm': 4.868354797363281, 'learning_rate': 1.542857142857143e-05, 'epoch': 2.5}\n",
      "{'loss': 0.0897, 'grad_norm': 1.2645851373672485, 'learning_rate': 1.4857142857142858e-05, 'epoch': 2.78}\n"
     ]
    },
    {
     "data": {
      "application/vnd.jupyter.widget-view+json": {
       "model_id": "35d2bc12a6c841ca8b5dae4c2dbfd333",
       "version_major": 2,
       "version_minor": 0
      },
      "text/plain": [
       "  0%|          | 0/2000 [00:00<?, ?it/s]"
      ]
     },
     "metadata": {},
     "output_type": "display_data"
    },
    {
     "name": "stdout",
     "output_type": "stream",
     "text": [
      "<transformers.trainer_utils.EvalPrediction object at 0x7fe343fd0e90>\n",
      "[0 1 0 ... 0 3 1]\n",
      "{'eval_loss': 0.17746122181415558, 'eval_accuracy': 0.9491666666666667, 'eval_runtime': 28.5696, 'eval_samples_per_second': 420.027, 'eval_steps_per_second': 70.004, 'epoch': 3.0}\n",
      "{'loss': 0.0856, 'grad_norm': 2.8638391494750977, 'learning_rate': 1.4285714285714287e-05, 'epoch': 3.06}\n",
      "{'loss': 0.0618, 'grad_norm': 5.021137237548828, 'learning_rate': 1.3714285714285716e-05, 'epoch': 3.33}\n",
      "{'loss': 0.067, 'grad_norm': 2.7675583362579346, 'learning_rate': 1.3142857142857145e-05, 'epoch': 3.61}\n",
      "{'loss': 0.0643, 'grad_norm': 0.04598624259233475, 'learning_rate': 1.2571428571428572e-05, 'epoch': 3.89}\n"
     ]
    },
    {
     "data": {
      "application/vnd.jupyter.widget-view+json": {
       "model_id": "5f4336e4dbbd411da4a4f15f5d6057c6",
       "version_major": 2,
       "version_minor": 0
      },
      "text/plain": [
       "  0%|          | 0/2000 [00:00<?, ?it/s]"
      ]
     },
     "metadata": {},
     "output_type": "display_data"
    },
    {
     "name": "stdout",
     "output_type": "stream",
     "text": [
      "<transformers.trainer_utils.EvalPrediction object at 0x7fe343521eb0>\n",
      "[0 1 0 ... 0 3 1]\n",
      "{'eval_loss': 0.20513391494750977, 'eval_accuracy': 0.9459166666666666, 'eval_runtime': 28.4511, 'eval_samples_per_second': 421.776, 'eval_steps_per_second': 70.296, 'epoch': 4.0}\n",
      "{'loss': 0.0471, 'grad_norm': 2.159874677658081, 'learning_rate': 1.2e-05, 'epoch': 4.17}\n",
      "{'loss': 0.0376, 'grad_norm': 1.5393471717834473, 'learning_rate': 1.1428571428571429e-05, 'epoch': 4.44}\n",
      "{'loss': 0.04, 'grad_norm': 6.443142890930176, 'learning_rate': 1.0857142857142858e-05, 'epoch': 4.72}\n",
      "{'loss': 0.0455, 'grad_norm': 0.3200826942920685, 'learning_rate': 1.0285714285714285e-05, 'epoch': 5.0}\n"
     ]
    },
    {
     "data": {
      "application/vnd.jupyter.widget-view+json": {
       "model_id": "9296fc38f07d4ac196e7d18287a93f17",
       "version_major": 2,
       "version_minor": 0
      },
      "text/plain": [
       "  0%|          | 0/2000 [00:00<?, ?it/s]"
      ]
     },
     "metadata": {},
     "output_type": "display_data"
    },
    {
     "name": "stdout",
     "output_type": "stream",
     "text": [
      "<transformers.trainer_utils.EvalPrediction object at 0x7fe4ad5f2c30>\n",
      "[0 1 0 ... 0 3 1]\n",
      "{'eval_loss': 0.24554142355918884, 'eval_accuracy': 0.9475, 'eval_runtime': 28.4627, 'eval_samples_per_second': 421.604, 'eval_steps_per_second': 70.267, 'epoch': 5.0}\n",
      "{'loss': 0.023, 'grad_norm': 2.2293102741241455, 'learning_rate': 9.714285714285715e-06, 'epoch': 5.28}\n",
      "{'loss': 0.0275, 'grad_norm': 0.9552038311958313, 'learning_rate': 9.142857142857144e-06, 'epoch': 5.56}\n",
      "{'loss': 0.0289, 'grad_norm': 0.01760118640959263, 'learning_rate': 8.571428571428571e-06, 'epoch': 5.83}\n"
     ]
    },
    {
     "data": {
      "application/vnd.jupyter.widget-view+json": {
       "model_id": "5648036bf0744d739f19d300f0eaef26",
       "version_major": 2,
       "version_minor": 0
      },
      "text/plain": [
       "  0%|          | 0/2000 [00:00<?, ?it/s]"
      ]
     },
     "metadata": {},
     "output_type": "display_data"
    },
    {
     "name": "stdout",
     "output_type": "stream",
     "text": [
      "<transformers.trainer_utils.EvalPrediction object at 0x7fe3435c4620>\n",
      "[0 1 0 ... 0 3 1]\n",
      "{'eval_loss': 0.2865809202194214, 'eval_accuracy': 0.94675, 'eval_runtime': 28.4832, 'eval_samples_per_second': 421.301, 'eval_steps_per_second': 70.217, 'epoch': 6.0}\n",
      "{'loss': 0.0232, 'grad_norm': 0.9904390573501587, 'learning_rate': 8.000000000000001e-06, 'epoch': 6.11}\n",
      "{'loss': 0.0139, 'grad_norm': 14.774932861328125, 'learning_rate': 7.428571428571429e-06, 'epoch': 6.39}\n",
      "{'loss': 0.0184, 'grad_norm': 0.16236329078674316, 'learning_rate': 6.857142857142858e-06, 'epoch': 6.67}\n",
      "{'loss': 0.019, 'grad_norm': 3.843973159790039, 'learning_rate': 6.285714285714286e-06, 'epoch': 6.94}\n"
     ]
    },
    {
     "data": {
      "application/vnd.jupyter.widget-view+json": {
       "model_id": "4e2e4ba1957a45f68fe8ff62e9df30b0",
       "version_major": 2,
       "version_minor": 0
      },
      "text/plain": [
       "  0%|          | 0/2000 [00:00<?, ?it/s]"
      ]
     },
     "metadata": {},
     "output_type": "display_data"
    },
    {
     "name": "stdout",
     "output_type": "stream",
     "text": [
      "<transformers.trainer_utils.EvalPrediction object at 0x7fe3544c9340>\n",
      "[0 1 0 ... 0 3 1]\n",
      "{'eval_loss': 0.29700055718421936, 'eval_accuracy': 0.9454166666666667, 'eval_runtime': 28.4238, 'eval_samples_per_second': 422.182, 'eval_steps_per_second': 70.364, 'epoch': 7.0}\n",
      "{'loss': 0.0128, 'grad_norm': 0.015182258561253548, 'learning_rate': 5.7142857142857145e-06, 'epoch': 7.22}\n",
      "{'loss': 0.0128, 'grad_norm': 3.083203077316284, 'learning_rate': 5.142857142857142e-06, 'epoch': 7.5}\n",
      "{'loss': 0.0123, 'grad_norm': 2.5126218795776367, 'learning_rate': 4.571428571428572e-06, 'epoch': 7.78}\n"
     ]
    },
    {
     "data": {
      "application/vnd.jupyter.widget-view+json": {
       "model_id": "bd2022d5fa644c8ab7e7e7ebd9e8e8f1",
       "version_major": 2,
       "version_minor": 0
      },
      "text/plain": [
       "  0%|          | 0/2000 [00:00<?, ?it/s]"
      ]
     },
     "metadata": {},
     "output_type": "display_data"
    },
    {
     "name": "stdout",
     "output_type": "stream",
     "text": [
      "<transformers.trainer_utils.EvalPrediction object at 0x7fe35024b500>\n",
      "[0 1 0 ... 0 3 1]\n",
      "{'eval_loss': 0.3413599729537964, 'eval_accuracy': 0.94475, 'eval_runtime': 28.4661, 'eval_samples_per_second': 421.554, 'eval_steps_per_second': 70.259, 'epoch': 8.0}\n",
      "{'loss': 0.0108, 'grad_norm': 9.858368873596191, 'learning_rate': 4.000000000000001e-06, 'epoch': 8.06}\n",
      "{'loss': 0.0071, 'grad_norm': 0.007261401042342186, 'learning_rate': 3.428571428571429e-06, 'epoch': 8.33}\n",
      "{'loss': 0.0098, 'grad_norm': 13.920758247375488, 'learning_rate': 2.8571428571428573e-06, 'epoch': 8.61}\n",
      "{'loss': 0.0071, 'grad_norm': 0.015554862096905708, 'learning_rate': 2.285714285714286e-06, 'epoch': 8.89}\n"
     ]
    },
    {
     "data": {
      "application/vnd.jupyter.widget-view+json": {
       "model_id": "298347ddfabd4866a96d82b7000f0621",
       "version_major": 2,
       "version_minor": 0
      },
      "text/plain": [
       "  0%|          | 0/2000 [00:00<?, ?it/s]"
      ]
     },
     "metadata": {},
     "output_type": "display_data"
    },
    {
     "name": "stdout",
     "output_type": "stream",
     "text": [
      "<transformers.trainer_utils.EvalPrediction object at 0x7fe343520d40>\n",
      "[0 1 0 ... 0 3 1]\n",
      "{'eval_loss': 0.35324856638908386, 'eval_accuracy': 0.9445833333333333, 'eval_runtime': 30.6898, 'eval_samples_per_second': 391.009, 'eval_steps_per_second': 65.168, 'epoch': 9.0}\n",
      "{'loss': 0.0073, 'grad_norm': 0.025177249684929848, 'learning_rate': 1.7142857142857145e-06, 'epoch': 9.17}\n",
      "{'loss': 0.0055, 'grad_norm': 0.00795388501137495, 'learning_rate': 1.142857142857143e-06, 'epoch': 9.44}\n",
      "{'loss': 0.0043, 'grad_norm': 0.03480492904782295, 'learning_rate': 5.714285714285715e-07, 'epoch': 9.72}\n",
      "{'loss': 0.0047, 'grad_norm': 0.08840975165367126, 'learning_rate': 0.0, 'epoch': 10.0}\n"
     ]
    },
    {
     "data": {
      "application/vnd.jupyter.widget-view+json": {
       "model_id": "010d6aa6c3c54d24b45a16fcf7e2e883",
       "version_major": 2,
       "version_minor": 0
      },
      "text/plain": [
       "  0%|          | 0/2000 [00:00<?, ?it/s]"
      ]
     },
     "metadata": {},
     "output_type": "display_data"
    },
    {
     "name": "stdout",
     "output_type": "stream",
     "text": [
      "<transformers.trainer_utils.EvalPrediction object at 0x7fe343fc30b0>\n",
      "[0 1 0 ... 0 3 1]\n",
      "{'eval_loss': 0.36816588044166565, 'eval_accuracy': 0.9456666666666667, 'eval_runtime': 29.6945, 'eval_samples_per_second': 404.115, 'eval_steps_per_second': 67.353, 'epoch': 10.0}\n",
      "{'train_runtime': 8761.3935, 'train_samples_per_second': 123.268, 'train_steps_per_second': 2.054, 'train_loss': 0.07241007512145572, 'epoch': 10.0}\n"
     ]
    },
    {
     "data": {
      "text/plain": [
       "TrainOutput(global_step=18000, training_loss=0.07241007512145572, metrics={'train_runtime': 8761.3935, 'train_samples_per_second': 123.268, 'train_steps_per_second': 2.054, 'total_flos': 4.310505264840091e+16, 'train_loss': 0.07241007512145572, 'epoch': 10.0})"
      ]
     },
     "execution_count": 28,
     "metadata": {},
     "output_type": "execute_result"
    }
   ],
   "source": [
    "trainer_base2.train()"
   ]
  },
  {
   "cell_type": "code",
   "execution_count": 29,
   "metadata": {},
   "outputs": [
    {
     "data": {
      "application/vnd.jupyter.widget-view+json": {
       "model_id": "479d493d299a4307ac76c83e5ecab62c",
       "version_major": 2,
       "version_minor": 0
      },
      "text/plain": [
       "  0%|          | 0/2000 [00:00<?, ?it/s]"
      ]
     },
     "metadata": {},
     "output_type": "display_data"
    },
    {
     "name": "stdout",
     "output_type": "stream",
     "text": [
      "<transformers.trainer_utils.EvalPrediction object at 0x7fe4ad5f1e20>\n",
      "[0 1 0 ... 0 3 1]\n"
     ]
    },
    {
     "data": {
      "text/plain": [
       "{'eval_loss': 0.15320275723934174,\n",
       " 'eval_accuracy': 0.9488333333333333,\n",
       " 'eval_runtime': 29.5592,\n",
       " 'eval_samples_per_second': 405.965,\n",
       " 'eval_steps_per_second': 67.661,\n",
       " 'epoch': 10.0}"
      ]
     },
     "execution_count": 29,
     "metadata": {},
     "output_type": "execute_result"
    }
   ],
   "source": [
    "trainer_base2.evaluate()"
   ]
  },
  {
   "cell_type": "code",
   "execution_count": 30,
   "metadata": {},
   "outputs": [
    {
     "data": {
      "application/vnd.jupyter.widget-view+json": {
       "model_id": "66e7b19f175e4effa7cb1f8d168b1b09",
       "version_major": 2,
       "version_minor": 0
      },
      "text/plain": [
       "  0%|          | 0/1334 [00:00<?, ?it/s]"
      ]
     },
     "metadata": {},
     "output_type": "display_data"
    },
    {
     "name": "stdout",
     "output_type": "stream",
     "text": [
      "<transformers.trainer_utils.EvalPrediction object at 0x7fe35026d580>\n",
      "[2 1 0 ... 2 2 3]\n"
     ]
    },
    {
     "data": {
      "text/plain": [
       "PredictionOutput(predictions=array([[-2.5423956 , -3.0884962 ,  4.3865175 ,  1.6100146 ],\n",
       "       [-0.8968657 ,  6.9950275 , -2.1679425 , -2.5087392 ],\n",
       "       [ 4.901221  , -2.3245776 , -1.9817361 , -1.9158008 ],\n",
       "       ...,\n",
       "       [-2.4485288 , -2.607163  ,  4.793782  ,  0.74461323],\n",
       "       [-2.3475943 , -3.2123978 ,  4.4204826 ,  1.3702734 ],\n",
       "       [-1.1570982 , -4.186769  ,  0.43497297,  4.3110857 ]],\n",
       "      dtype=float32), label_ids=array([2, 1, 0, ..., 2, 2, 3]), metrics={'test_loss': 0.12433288246393204, 'test_accuracy': 0.95825, 'test_runtime': 17.9659, 'test_samples_per_second': 445.288, 'test_steps_per_second': 74.252})"
      ]
     },
     "execution_count": 30,
     "metadata": {},
     "output_type": "execute_result"
    }
   ],
   "source": [
    "predictions = trainer_base2.predict(test_dataset=tokenized_dataset_full2[\"test\"]) \n",
    "predictions"
   ]
  },
  {
   "cell_type": "code",
   "execution_count": 33,
   "metadata": {},
   "outputs": [
    {
     "name": "stdout",
     "output_type": "stream",
     "text": [
      "              precision    recall  f1-score   support\n",
      "\n",
      "           0       0.98      0.93      0.96      1943\n",
      "           1       0.99      0.99      0.99      1987\n",
      "           2       0.93      0.95      0.94      2049\n",
      "           3       0.94      0.96      0.95      2021\n",
      "\n",
      "    accuracy                           0.96      8000\n",
      "   macro avg       0.96      0.96      0.96      8000\n",
      "weighted avg       0.96      0.96      0.96      8000\n",
      "\n"
     ]
    }
   ],
   "source": [
    "print(classification_report(real_values, predictions.predictions.argmax(-1)))"
   ]
  },
  {
   "cell_type": "code",
   "execution_count": 31,
   "metadata": {},
   "outputs": [
    {
     "data": {
      "image/png": "[encoded data removed]",
      "text/plain": [
       "<Figure size 1000x700 with 2 Axes>"
      ]
     },
     "metadata": {},
     "output_type": "display_data"
    }
   ],
   "source": [
    "# The predictions are in a tuple, with the first element being the actual predictions\n",
    "predicted_labels = np.argmax(predictions[0], axis=1)\n",
    "\n",
    "# Assuming the labels in your dataset are stored in a 'label' column\n",
    "true_labels = [entry['label'] for entry in tokenized_dataset_full['test']]\n",
    "\n",
    "cm = confusion_matrix(true_labels, predicted_labels)\n",
    "\n",
    "# Plot the heatmap\n",
    "plt.figure(figsize=(10,7))\n",
    "sns.heatmap(cm, annot=True, fmt='d')\n",
    "plt.title('Confusion Matrix')\n",
    "plt.ylabel('Actual label')\n",
    "plt.xlabel('Predicted label')\n",
    "plt.show()"
   ]
  },
  {
   "cell_type": "markdown",
   "metadata": {},
   "source": [
    "# Domain Adaptation\n",
    "distilbert/distilbert-base-uncased"
   ]
  },
  {
   "cell_type": "code",
   "execution_count": 23,
   "metadata": {},
   "outputs": [],
   "source": [
    "from transformers import DistilBertForMaskedLM, DistilBertTokenizer, DistilBertForSequenceClassification\n",
    "\n",
    "# DistilBert for MLM\n",
    "model_mlm = DistilBertForMaskedLM.from_pretrained(\"distilbert/distilbert-base-uncased\")\n",
    "distilbert_mlm_tokenizer = DistilBertTokenizer.from_pretrained(\"distilbert/distilbert-base-uncased\")\n",
    "\n",
    "def preprocess_function_mlm(sample):\n",
    "    return distilbert_mlm_tokenizer(sample[\"text\"], truncation=True)"
   ]
  },
  {
   "cell_type": "code",
   "execution_count": 24,
   "metadata": {},
   "outputs": [
    {
     "data": {
      "application/vnd.jupyter.widget-view+json": {
       "model_id": "7bfdd3726192485aad95c37a66d84914",
       "version_major": 2,
       "version_minor": 0
      },
      "text/plain": [
       "Map:   0%|          | 0/108000 [00:00<?, ? examples/s]"
      ]
     },
     "metadata": {},
     "output_type": "display_data"
    },
    {
     "data": {
      "application/vnd.jupyter.widget-view+json": {
       "model_id": "13043e8546664519a60731b3b9189bc1",
       "version_major": 2,
       "version_minor": 0
      },
      "text/plain": [
       "Map:   0%|          | 0/8000 [00:00<?, ? examples/s]"
      ]
     },
     "metadata": {},
     "output_type": "display_data"
    },
    {
     "data": {
      "application/vnd.jupyter.widget-view+json": {
       "model_id": "6b63f77bd95741a881ac2f189ee5099f",
       "version_major": 2,
       "version_minor": 0
      },
      "text/plain": [
       "Map:   0%|          | 0/12000 [00:00<?, ? examples/s]"
      ]
     },
     "metadata": {},
     "output_type": "display_data"
    },
    {
     "data": {
      "text/plain": [
       "DatasetDict({\n",
       "    train: Dataset({\n",
       "        features: ['text', 'input_ids', 'attention_mask'],\n",
       "        num_rows: 108000\n",
       "    })\n",
       "    test: Dataset({\n",
       "        features: ['text', 'input_ids', 'attention_mask'],\n",
       "        num_rows: 8000\n",
       "    })\n",
       "    validation: Dataset({\n",
       "        features: ['text', 'input_ids', 'attention_mask'],\n",
       "        num_rows: 12000\n",
       "    })\n",
       "})"
      ]
     },
     "execution_count": 24,
     "metadata": {},
     "output_type": "execute_result"
    }
   ],
   "source": [
    "tokenized_dataset_mlm = train_valid_test_dataset_full.map(preprocess_function_mlm, batched=True)\n",
    "tokenized_dataset_mlm = tokenized_dataset_mlm.remove_columns('label')\n",
    "tokenized_dataset_mlm"
   ]
  },
  {
   "cell_type": "code",
   "execution_count": 25,
   "metadata": {},
   "outputs": [],
   "source": [
    "import math\n",
    "\n",
    "def compute_metrics_2(eval_pred):\n",
    "    # measure perplexity\n",
    "    logits, labels = eval_pred\n",
    "    loss = logits.loss\n",
    "    return f\"perplexity: {math.exp(loss):.2f}\"\n",
    "\n",
    "training_args2 = TrainingArguments(\n",
    "    output_dir=\"./results-mlm\",\n",
    "    learning_rate=2e-5,\n",
    "    per_device_train_batch_size=4,\n",
    "    per_device_eval_batch_size=4,\n",
    "    num_train_epochs=3,\n",
    "    weight_decay=0.01,\n",
    "    evaluation_strategy=\"no\", \n",
    "    save_strategy=\"epoch\",\n",
    "    gradient_accumulation_steps=24,\n",
    "    fp16=True\n",
    ")\n",
    "\n",
    "data_collator_2 = DataCollatorForLanguageModeling(tokenizer=distilbert_mlm_tokenizer)\n",
    "\n",
    "trainer_mlm = Trainer( # small dataset news model\n",
    "    model=model_mlm,\n",
    "    args=training_args2,\n",
    "    train_dataset=tokenized_dataset_mlm[\"train\"],\n",
    "    eval_dataset=tokenized_dataset_mlm[\"validation\"],\n",
    "    tokenizer=distilbert_mlm_tokenizer,\n",
    "    data_collator=data_collator_2,\n",
    "    compute_metrics=compute_metrics_2\n",
    ")"
   ]
  },
  {
   "cell_type": "code",
   "execution_count": 26,
   "metadata": {},
   "outputs": [
    {
     "data": {
      "application/vnd.jupyter.widget-view+json": {
       "model_id": "176d0980ddfb4022baf54b283c4e0192",
       "version_major": 2,
       "version_minor": 0
      },
      "text/plain": [
       "  0%|          | 0/3375 [00:00<?, ?it/s]"
      ]
     },
     "metadata": {},
     "output_type": "display_data"
    },
    {
     "name": "stdout",
     "output_type": "stream",
     "text": [
      "{'loss': 2.4959, 'grad_norm': 5.052735328674316, 'learning_rate': 1.7037037037037038e-05, 'epoch': 0.44}\n",
      "{'loss': 2.2393, 'grad_norm': 4.868165493011475, 'learning_rate': 1.4074074074074075e-05, 'epoch': 0.89}\n",
      "{'loss': 2.1334, 'grad_norm': 4.971591472625732, 'learning_rate': 1.1111111111111113e-05, 'epoch': 1.33}\n",
      "{'loss': 2.0958, 'grad_norm': 4.903554916381836, 'learning_rate': 8.148148148148148e-06, 'epoch': 1.78}\n",
      "{'loss': 2.0666, 'grad_norm': 5.150866985321045, 'learning_rate': 5.185185185185185e-06, 'epoch': 2.22}\n",
      "{'loss': 2.0384, 'grad_norm': 5.215346813201904, 'learning_rate': 2.222222222222222e-06, 'epoch': 2.67}\n",
      "{'train_runtime': 2115.9625, 'train_samples_per_second': 153.122, 'train_steps_per_second': 1.595, 'train_loss': 2.1635726996527778, 'epoch': 3.0}\n"
     ]
    },
    {
     "data": {
      "text/plain": [
       "TrainOutput(global_step=3375, training_loss=2.1635726996527778, metrics={'train_runtime': 2115.9625, 'train_samples_per_second': 153.122, 'train_steps_per_second': 1.595, 'total_flos': 5992339032426960.0, 'train_loss': 2.1635726996527778, 'epoch': 3.0})"
      ]
     },
     "execution_count": 26,
     "metadata": {},
     "output_type": "execute_result"
    }
   ],
   "source": [
    "trainer_mlm.train()"
   ]
  },
  {
   "cell_type": "code",
   "execution_count": 27,
   "metadata": {},
   "outputs": [],
   "source": [
    "trainer_mlm.save_model(\"distilbert_mlm\")"
   ]
  },
  {
   "cell_type": "markdown",
   "metadata": {},
   "source": [
    "Load it and use it for classification\n"
   ]
  },
  {
   "cell_type": "code",
   "execution_count": 28,
   "metadata": {},
   "outputs": [
    {
     "name": "stderr",
     "output_type": "stream",
     "text": [
      "Some weights of DistilBertForSequenceClassification were not initialized from the model checkpoint at distilbert_mlm and are newly initialized: ['classifier.bias', 'classifier.weight', 'pre_classifier.bias', 'pre_classifier.weight']\n",
      "You should probably TRAIN this model on a down-stream task to be able to use it for predictions and inference.\n"
     ]
    }
   ],
   "source": [
    "distilbert_fine_tune = DistilBertForSequenceClassification.from_pretrained(\"distilbert_mlm\", num_labels=4)\n",
    "distilbert_classification_tokenizer = DistilBertTokenizer.from_pretrained(\"distilbert_mlm\")"
   ]
  },
  {
   "cell_type": "code",
   "execution_count": 29,
   "metadata": {},
   "outputs": [
    {
     "data": {
      "application/vnd.jupyter.widget-view+json": {
       "model_id": "4e130348fa854a90a8ca4f3b1c9765e6",
       "version_major": 2,
       "version_minor": 0
      },
      "text/plain": [
       "Map:   0%|          | 0/28800 [00:00<?, ? examples/s]"
      ]
     },
     "metadata": {},
     "output_type": "display_data"
    },
    {
     "data": {
      "application/vnd.jupyter.widget-view+json": {
       "model_id": "6538545f3e5745da8a5791e2f169c9eb",
       "version_major": 2,
       "version_minor": 0
      },
      "text/plain": [
       "Map:   0%|          | 0/8000 [00:00<?, ? examples/s]"
      ]
     },
     "metadata": {},
     "output_type": "display_data"
    },
    {
     "data": {
      "application/vnd.jupyter.widget-view+json": {
       "model_id": "8b9cae1579064a709e2c87eaae282b13",
       "version_major": 2,
       "version_minor": 0
      },
      "text/plain": [
       "Map:   0%|          | 0/3200 [00:00<?, ? examples/s]"
      ]
     },
     "metadata": {},
     "output_type": "display_data"
    },
    {
     "data": {
      "text/plain": [
       "DatasetDict({\n",
       "    train: Dataset({\n",
       "        features: ['text', 'label', 'input_ids', 'attention_mask'],\n",
       "        num_rows: 28800\n",
       "    })\n",
       "    test: Dataset({\n",
       "        features: ['text', 'label', 'input_ids', 'attention_mask'],\n",
       "        num_rows: 8000\n",
       "    })\n",
       "    validation: Dataset({\n",
       "        features: ['text', 'label', 'input_ids', 'attention_mask'],\n",
       "        num_rows: 3200\n",
       "    })\n",
       "})"
      ]
     },
     "execution_count": 29,
     "metadata": {},
     "output_type": "execute_result"
    }
   ],
   "source": [
    "def preprocess_function_domain(sample):\n",
    "    return distilbert_classification_tokenizer(sample[\"text\"], truncation=True)\n",
    "\n",
    "tokenized_dataset_domain = train_valid_test_dataset.map(preprocess_function_domain, batched=True)\n",
    "tokenized_dataset_domain"
   ]
  },
  {
   "cell_type": "code",
   "execution_count": 33,
   "metadata": {},
   "outputs": [],
   "source": [
    "trainer_fine_tuned = Trainer(\n",
    "    model=distilbert_fine_tune,\n",
    "    args=training_args,\n",
    "    train_dataset=tokenized_dataset_domain[\"train\"],\n",
    "    eval_dataset=tokenized_dataset_domain[\"validation\"],\n",
    "    tokenizer=distilbert_classification_tokenizer,\n",
    "    data_collator=data_collator,\n",
    "    compute_metrics=compute_metrics\n",
    ")"
   ]
  },
  {
   "cell_type": "code",
   "execution_count": 34,
   "metadata": {},
   "outputs": [
    {
     "data": {
      "application/vnd.jupyter.widget-view+json": {
       "model_id": "132d9a3c6397441aaf0cf6294275668e",
       "version_major": 2,
       "version_minor": 0
      },
      "text/plain": [
       "  0%|          | 0/4800 [00:00<?, ?it/s]"
      ]
     },
     "metadata": {},
     "output_type": "display_data"
    },
    {
     "data": {
      "application/vnd.jupyter.widget-view+json": {
       "model_id": "2cc070ad9021441aa49e0eb4b4236f7d",
       "version_major": 2,
       "version_minor": 0
      },
      "text/plain": [
       "  0%|          | 0/534 [00:00<?, ?it/s]"
      ]
     },
     "metadata": {},
     "output_type": "display_data"
    },
    {
     "name": "stdout",
     "output_type": "stream",
     "text": [
      "{'eval_loss': 0.24839971959590912, 'eval_accuracy': 0.9190625, 'eval_runtime': 3.6143, 'eval_samples_per_second': 885.379, 'eval_steps_per_second': 147.748, 'epoch': 1.0}\n",
      "{'loss': 0.2649, 'grad_norm': 2.6252405643463135, 'learning_rate': 1.9960000000000002e-05, 'epoch': 1.04}\n"
     ]
    },
    {
     "data": {
      "application/vnd.jupyter.widget-view+json": {
       "model_id": "1a4c8c64ebaf446abc8e7668b12c0906",
       "version_major": 2,
       "version_minor": 0
      },
      "text/plain": [
       "  0%|          | 0/534 [00:00<?, ?it/s]"
      ]
     },
     "metadata": {},
     "output_type": "display_data"
    },
    {
     "name": "stdout",
     "output_type": "stream",
     "text": [
      "{'eval_loss': 0.22025151550769806, 'eval_accuracy': 0.9278125, 'eval_runtime': 3.6404, 'eval_samples_per_second': 879.015, 'eval_steps_per_second': 146.686, 'epoch': 2.0}\n",
      "{'loss': 0.1917, 'grad_norm': 4.845029354095459, 'learning_rate': 1.7679069767441862e-05, 'epoch': 2.08}\n"
     ]
    },
    {
     "data": {
      "application/vnd.jupyter.widget-view+json": {
       "model_id": "8c947ef4e18e4e5d8a26fc0cf49c358e",
       "version_major": 2,
       "version_minor": 0
      },
      "text/plain": [
       "  0%|          | 0/534 [00:00<?, ?it/s]"
      ]
     },
     "metadata": {},
     "output_type": "display_data"
    },
    {
     "name": "stdout",
     "output_type": "stream",
     "text": [
      "{'eval_loss': 0.2310299277305603, 'eval_accuracy': 0.9278125, 'eval_runtime': 3.6304, 'eval_samples_per_second': 881.444, 'eval_steps_per_second': 147.091, 'epoch': 3.0}\n",
      "{'loss': 0.1312, 'grad_norm': 1.0556790828704834, 'learning_rate': 1.5353488372093024e-05, 'epoch': 3.12}\n"
     ]
    },
    {
     "data": {
      "application/vnd.jupyter.widget-view+json": {
       "model_id": "250734ffa8144277ad60d14652b9beca",
       "version_major": 2,
       "version_minor": 0
      },
      "text/plain": [
       "  0%|          | 0/534 [00:00<?, ?it/s]"
      ]
     },
     "metadata": {},
     "output_type": "display_data"
    },
    {
     "name": "stdout",
     "output_type": "stream",
     "text": [
      "{'eval_loss': 0.2464945912361145, 'eval_accuracy': 0.9303125, 'eval_runtime': 3.6276, 'eval_samples_per_second': 882.119, 'eval_steps_per_second': 147.204, 'epoch': 4.0}\n",
      "{'loss': 0.0891, 'grad_norm': 3.782160520553589, 'learning_rate': 1.3027906976744187e-05, 'epoch': 4.17}\n"
     ]
    },
    {
     "data": {
      "application/vnd.jupyter.widget-view+json": {
       "model_id": "7a1b41d646504bec8e3e148f5b0351ae",
       "version_major": 2,
       "version_minor": 0
      },
      "text/plain": [
       "  0%|          | 0/534 [00:00<?, ?it/s]"
      ]
     },
     "metadata": {},
     "output_type": "display_data"
    },
    {
     "name": "stdout",
     "output_type": "stream",
     "text": [
      "{'eval_loss': 0.2945106029510498, 'eval_accuracy': 0.926875, 'eval_runtime': 3.6515, 'eval_samples_per_second': 876.356, 'eval_steps_per_second': 146.242, 'epoch': 5.0}\n",
      "{'loss': 0.0564, 'grad_norm': 3.9247395992279053, 'learning_rate': 1.070232558139535e-05, 'epoch': 5.21}\n"
     ]
    },
    {
     "data": {
      "application/vnd.jupyter.widget-view+json": {
       "model_id": "e6f3edfb9e194f679d636d22da80f8b5",
       "version_major": 2,
       "version_minor": 0
      },
      "text/plain": [
       "  0%|          | 0/534 [00:00<?, ?it/s]"
      ]
     },
     "metadata": {},
     "output_type": "display_data"
    },
    {
     "name": "stdout",
     "output_type": "stream",
     "text": [
      "{'eval_loss': 0.3417752981185913, 'eval_accuracy': 0.9259375, 'eval_runtime': 3.6054, 'eval_samples_per_second': 887.547, 'eval_steps_per_second': 148.109, 'epoch': 6.0}\n",
      "{'loss': 0.0406, 'grad_norm': 0.7319496870040894, 'learning_rate': 8.38139534883721e-06, 'epoch': 6.25}\n"
     ]
    },
    {
     "data": {
      "application/vnd.jupyter.widget-view+json": {
       "model_id": "d5b1f793aa364c5db38d1386c97f8d0c",
       "version_major": 2,
       "version_minor": 0
      },
      "text/plain": [
       "  0%|          | 0/534 [00:00<?, ?it/s]"
      ]
     },
     "metadata": {},
     "output_type": "display_data"
    },
    {
     "name": "stdout",
     "output_type": "stream",
     "text": [
      "{'eval_loss': 0.35803139209747314, 'eval_accuracy': 0.928125, 'eval_runtime': 3.6265, 'eval_samples_per_second': 882.4, 'eval_steps_per_second': 147.251, 'epoch': 7.0}\n",
      "{'loss': 0.023, 'grad_norm': 0.15548914670944214, 'learning_rate': 6.055813953488373e-06, 'epoch': 7.29}\n"
     ]
    },
    {
     "data": {
      "application/vnd.jupyter.widget-view+json": {
       "model_id": "5f2dfb8cdfdf4822b3ed205b3cf5e0e9",
       "version_major": 2,
       "version_minor": 0
      },
      "text/plain": [
       "  0%|          | 0/534 [00:00<?, ?it/s]"
      ]
     },
     "metadata": {},
     "output_type": "display_data"
    },
    {
     "name": "stdout",
     "output_type": "stream",
     "text": [
      "{'eval_loss': 0.3853132724761963, 'eval_accuracy': 0.930625, 'eval_runtime': 3.6613, 'eval_samples_per_second': 874.003, 'eval_steps_per_second': 145.849, 'epoch': 8.0}\n",
      "{'loss': 0.0158, 'grad_norm': 2.0293023586273193, 'learning_rate': 3.7302325581395356e-06, 'epoch': 8.33}\n"
     ]
    },
    {
     "data": {
      "application/vnd.jupyter.widget-view+json": {
       "model_id": "81e90cad8ad34b90a69b41a05dd84023",
       "version_major": 2,
       "version_minor": 0
      },
      "text/plain": [
       "  0%|          | 0/534 [00:00<?, ?it/s]"
      ]
     },
     "metadata": {},
     "output_type": "display_data"
    },
    {
     "name": "stdout",
     "output_type": "stream",
     "text": [
      "{'eval_loss': 0.3965699076652527, 'eval_accuracy': 0.9278125, 'eval_runtime': 3.6529, 'eval_samples_per_second': 876.021, 'eval_steps_per_second': 146.186, 'epoch': 9.0}\n",
      "{'loss': 0.0132, 'grad_norm': 0.6659380793571472, 'learning_rate': 1.4046511627906978e-06, 'epoch': 9.38}\n"
     ]
    },
    {
     "data": {
      "application/vnd.jupyter.widget-view+json": {
       "model_id": "0413dce4f64b4f08aff1b64b9395bac0",
       "version_major": 2,
       "version_minor": 0
      },
      "text/plain": [
       "  0%|          | 0/534 [00:00<?, ?it/s]"
      ]
     },
     "metadata": {},
     "output_type": "display_data"
    },
    {
     "name": "stdout",
     "output_type": "stream",
     "text": [
      "{'eval_loss': 0.398041307926178, 'eval_accuracy': 0.92875, 'eval_runtime': 3.6439, 'eval_samples_per_second': 878.185, 'eval_steps_per_second': 146.547, 'epoch': 10.0}\n",
      "{'train_runtime': 1005.4969, 'train_samples_per_second': 286.426, 'train_steps_per_second': 4.774, 'train_loss': 0.08657851348320643, 'epoch': 10.0}\n"
     ]
    },
    {
     "data": {
      "text/plain": [
       "TrainOutput(global_step=4800, training_loss=0.08657851348320643, metrics={'train_runtime': 1005.4969, 'train_samples_per_second': 286.426, 'train_steps_per_second': 4.774, 'total_flos': 5129594358961968.0, 'train_loss': 0.08657851348320643, 'epoch': 10.0})"
      ]
     },
     "execution_count": 34,
     "metadata": {},
     "output_type": "execute_result"
    }
   ],
   "source": [
    "trainer_fine_tuned.train()"
   ]
  },
  {
   "cell_type": "code",
   "execution_count": 35,
   "metadata": {},
   "outputs": [
    {
     "data": {
      "application/vnd.jupyter.widget-view+json": {
       "model_id": "f48eabf3423a4cc5b0b52f909e3dc2bb",
       "version_major": 2,
       "version_minor": 0
      },
      "text/plain": [
       "  0%|          | 0/534 [00:00<?, ?it/s]"
      ]
     },
     "metadata": {},
     "output_type": "display_data"
    },
    {
     "data": {
      "text/plain": [
       "{'eval_loss': 0.22025151550769806,\n",
       " 'eval_accuracy': 0.9278125,\n",
       " 'eval_runtime': 3.6592,\n",
       " 'eval_samples_per_second': 874.511,\n",
       " 'eval_steps_per_second': 145.934,\n",
       " 'epoch': 10.0}"
      ]
     },
     "execution_count": 35,
     "metadata": {},
     "output_type": "execute_result"
    }
   ],
   "source": [
    "trainer_fine_tuned.evaluate()"
   ]
  },
  {
   "cell_type": "code",
   "execution_count": 36,
   "metadata": {},
   "outputs": [
    {
     "data": {
      "application/vnd.jupyter.widget-view+json": {
       "model_id": "e812ef5202ad4e56bcb0e72e4cf8ea8e",
       "version_major": 2,
       "version_minor": 0
      },
      "text/plain": [
       "  0%|          | 0/1334 [00:00<?, ?it/s]"
      ]
     },
     "metadata": {},
     "output_type": "display_data"
    },
    {
     "data": {
      "text/plain": [
       "PredictionOutput(predictions=array([[-2.265625  , -3.2792969 ,  2.9394531 ,  1.5625    ],\n",
       "       [-1.2255859 ,  5.3242188 , -2.2441406 , -2.1484375 ],\n",
       "       [ 3.9609375 , -1.9970703 , -1.6591797 , -0.9316406 ],\n",
       "       ...,\n",
       "       [-2.3300781 , -3.1835938 ,  3.1542969 ,  1.3603516 ],\n",
       "       [-1.8378906 , -3.2617188 ,  3.4628906 ,  0.6796875 ],\n",
       "       [-1.9394531 , -3.3925781 ,  0.02378845,  3.8613281 ]],\n",
       "      dtype=float32), label_ids=array([2, 1, 0, ..., 2, 2, 3]), metrics={'test_loss': 0.20775140821933746, 'test_accuracy': 0.929625, 'test_runtime': 9.0278, 'test_samples_per_second': 886.152, 'test_steps_per_second': 147.766})"
      ]
     },
     "execution_count": 36,
     "metadata": {},
     "output_type": "execute_result"
    }
   ],
   "source": [
    "predictions = trainer_fine_tuned.predict(test_dataset=tokenized_dataset_domain[\"test\"]) \n",
    "predictions"
   ]
  },
  {
   "cell_type": "code",
   "execution_count": 37,
   "metadata": {},
   "outputs": [
    {
     "name": "stdout",
     "output_type": "stream",
     "text": [
      "              precision    recall  f1-score   support\n",
      "\n",
      "           0       0.94      0.92      0.93      1943\n",
      "           1       0.98      0.98      0.98      1987\n",
      "           2       0.92      0.88      0.90      2049\n",
      "           3       0.87      0.94      0.91      2021\n",
      "\n",
      "    accuracy                           0.93      8000\n",
      "   macro avg       0.93      0.93      0.93      8000\n",
      "weighted avg       0.93      0.93      0.93      8000\n",
      "\n"
     ]
    }
   ],
   "source": [
    "print(classification_report(real_values, predictions.predictions.argmax(-1)))"
   ]
  },
  {
   "cell_type": "code",
   "execution_count": 38,
   "metadata": {},
   "outputs": [
    {
     "data": {
      "image/png": "[encoded data removed]",
      "text/plain": [
       "<Figure size 1000x700 with 2 Axes>"
      ]
     },
     "metadata": {},
     "output_type": "display_data"
    }
   ],
   "source": [
    "# The predictions are in a tuple, with the first element being the actual predictions\n",
    "predicted_labels = np.argmax(predictions[0], axis=1)\n",
    "\n",
    "# Assuming the labels in your dataset are stored in a 'label' column\n",
    "true_labels = [entry['label'] for entry in tokenized_dataset_full['test']]\n",
    "\n",
    "cm = confusion_matrix(true_labels, predicted_labels)\n",
    "\n",
    "# Plot the heatmap\n",
    "plt.figure(figsize=(10,7))\n",
    "sns.heatmap(cm, annot=True, fmt='d')\n",
    "plt.title('Confusion Matrix')\n",
    "plt.ylabel('Actual label')\n",
    "plt.xlabel('Predicted label')\n",
    "plt.show()"
   ]
  },
  {
   "cell_type": "markdown",
   "metadata": {},
   "source": [
    "# Save the models"
   ]
  },
  {
   "cell_type": "code",
   "execution_count": 39,
   "metadata": {},
   "outputs": [],
   "source": [
    "trainer.save_model()\n",
    "trainer2.save_model()\n",
    "trainer_base.save_model()\n",
    "trainer_base2.save_model()\n",
    "trainer_mlm.save_model()\n",
    "trainer_fine_tuned.save_model()"
   ]
  }
 ],
 "metadata": {
  "kernelspec": {
   "display_name": "myenv",
   "language": "python",
   "name": "python3"
  },
  "language_info": {
   "codemirror_mode": {
    "name": "ipython",
    "version": 3
   },
   "file_extension": ".py",
   "mimetype": "text/x-python",
   "name": "python",
   "nbconvert_exporter": "python",
   "pygments_lexer": "ipython3",
   "version": "3.12.3"
  }
 },
 "nbformat": 4,
 "nbformat_minor": 2
}
